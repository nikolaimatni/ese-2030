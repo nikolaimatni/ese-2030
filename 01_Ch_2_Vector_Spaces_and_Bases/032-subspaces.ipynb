{
 "cells": [
  {
   "cell_type": "markdown",
   "id": "fd7554ca-5ac4-4958-b713-648e3fd54114",
   "metadata": {
    "editable": true,
    "slideshow": {
     "slide_type": ""
    },
    "tags": []
   },
   "source": [
    "---\n",
    "title: 2.2 Subspaces\n",
    "subject: Vector Spaces and Bases\n",
    "subtitle: A vector space inside a vector space\n",
    "short_title: 2.2 Subspaces\n",
    "authors:\n",
    "  - name: Nikolai Matni\n",
    "    affiliations:\n",
    "      - Dept. of Electrical and Systems Engineering\n",
    "      - University of Pennsylvania\n",
    "    email: nmatni@seas.upenn.edu\n",
    "license: CC-BY-4.0\n",
    "keywords: subspaces, closure\n",
    "math:\n",
    "  '\\vv': '\\mathbf{#1}'\n",
    "  '\\bm': '\\begin{bmatrix}'\n",
    "  '\\em': '\\end{bmatrix}'\n",
    "  '\\R': '\\mathbb{R}'\n",
    "---"
   ]
  },
  {
   "cell_type": "markdown",
   "id": "7cc1a707-4f3c-4f9e-b70e-8e7a7c5d5376",
   "metadata": {},
   "source": [
    "[![Binder](https://mybinder.org/badge_logo.svg)](https://mybinder.org/v2/gh/nikolaimatni/ese-2030/HEAD?labpath=/01_Vector_Spaces_and_Bases/032-subspaces.ipynb)\n",
    "\n",
    "{doc}`Lecture notes <../lecture_notes/Lecture 03 - Vector Spaces 1_ Definitions, Subspaces, Span, Linear Independence, Basis, and Dimension.pdf>`"
   ]
  },
  {
   "cell_type": "markdown",
   "id": "a46f522d-2995-412b-92cf-9ff085526b18",
   "metadata": {},
   "source": [
    "## Reading\n",
    "\n",
    "Material related to this page, as well as additional exercises, can be found in ALA Ch. 2.2 and LAA 4.1."
   ]
  },
  {
   "cell_type": "markdown",
   "id": "d276bcc3-237d-4cda-8bf0-39285b0a09f3",
   "metadata": {},
   "source": [
    "## Learning Objectives\n",
    "\n",
    "By the end of this page, you should know:\n",
    "- what are subspaces\n",
    "- closure under addition and scalar multiplication\n",
    "- examples of subspaces and subsets that are not subspaces"
   ]
  },
  {
   "cell_type": "markdown",
   "id": "170438e7",
   "metadata": {},
   "source": [
    "## Defining subspaces\n",
    "\n",
    "An appropriate subset of vectors from a larger vector space arise a lot in real life applications and analysing such a smaller set will be useful for us. Such space of vectors living \"inside\" another vector spaces are called subspaces.\n",
    "\n",
    ":::{prf:definition} Subspace\n",
    ":label: sub_def\n",
    "A subspace of a vector space $V$ is a subset $W \\subset V$ that is a vector space in its own right — under the same operations of vector addition and scalar multiplication, and the same zero element.\n",
    ":::\n",
    "\n",
    "One simple way to check if a subset $W \\subset V$ of a vector space $V$ is a subsapce:\n",
    "1. $W$ needs to be non-empty\n",
    "2. $W$ should satisfy\n",
    "   \\begin{equation}\n",
    "   \\label{closure_eqn}\n",
    "   c \\vv v + d \\vv w \\in W,\n",
    "   \\end{equation}\n",
    "   for any vectors $\\vv v, \\vv w \\in W$ and any scalar $c, d \\in \\mathbb{R}$. Subspaces are said to be _closed under addition and scalar multiplication_ because they satisfy [](#closure_eqn)."
   ]
  },
  {
   "cell_type": "markdown",
   "id": "af7f5403-8949-4fd6-92ed-30b6de0894b5",
   "metadata": {},
   "source": [
    ":::{prf:example} Subspaces in $\\mathbb{R}^3$\n",
    ":label:R3_ex1\n",
    "\n",
    "1. The trivial subspace $W = \\{\\vv 0\\}$ that contains only the $\\vv 0$ vector. We can check that $c \\vv 0 + d \\vv 0 = \\vv 0 \\in W$ for any scalar $c, d \\in \\mathbb{R}$. This subspace $W$ is commonly referred to as a _point_ at zero.\n",
    "2. The entire space $\\mathbb{R}^3$: clearly $c \\vv v + d \\vv w \\in \\mathbb{R}^3$ for any vectors $\\vv v, \\vv w \\in \\mathbb{R}^3$ and any scalar $c, d \\in \\mathbb{R}$.\n",
    "3. The set of all vectors of the form $\\bm v \\\\ 2v \\\\ 3v \\em$. We pick two vectors $\\vv v = \\bm v \\\\ 2v \\\\ 3v \\em, \\vv w = \\bm w \\\\ 2w \\\\ 3w \\em$ and two scalars $c d \\in \\mathbb{R}$. Then,\n",
    "   $$\n",
    "   c \\vv v + d \\vv w = \\bm cv+dw \\\\ 2cv + 2dw \\\\ 3cv + 3dw \\em = \\bm cv+dw \\\\ 2(cv + dw) \\\\ 3(cv + dw) \\em = \\bm x \\\\ 2x \\\\ 3x \\em, \\ x = cv+dw \n",
    "   $$\n",
    "   is also in our set. This subspace is a _line_ parallel to $\\bm 1 \\\\ 2 \\\\ 3\\em$ (stretched or shrunk by $v$).\n",
    "4.  The set of all vectors of the form $\\bm x \\\\ y \\\\ 0 \\em$. We pick two vectors $\\vv v = \\bm x \\\\ y \\\\ 0 \\em, \\vv w = \\bm \\hat{x} \\\\ \\hat{y} \\\\ 0 \\em$ and two scalars $c d \\in \\mathbb{R}$. Then,\n",
    "   $$\n",
    "   c \\vv v + d \\vv w = \\bm cx+d\\hat{x} \\\\ cy + d\\hat{y} \\\\ 0 \\em = \\bm \\tilde{x} \\\\ \\tilde{y} \\\\ 0 \\em, \\ \\tilde{x} = cx+d\\hat{x}, \\tilde{y} = cy + d\\hat{y} \n",
    "   $$\n",
    "   is also in our set. This subspace the _xy-plane_.\n",
    "\n",
    "In general, subspaces of $\\mathbb{R}^3$ are one of the above four types: a _point_, a _line_, a _plane_, or all of $\\mathbb{R}^3$.\n",
    "\n",
    "```{warning}\n",
    "Lines and planes not passing through the origin are **not** subspaces. Any subspace of $\\mathbb{R}^3$ should go through the origin.\n",
    "```\n",
    ":::"
   ]
  },
  {
   "cell_type": "markdown",
   "id": "e26bdb53-3bb2-4dd6-94e3-b17d4b294785",
   "metadata": {
    "editable": true,
    "slideshow": {
     "slide_type": ""
    },
    "tags": []
   },
   "source": [
    ":::{prf:example} Subsets of $\\mathbb{R}^3$ that are **not** subspaces\n",
    ":label:R3_ex2\n",
    "\n",
    "1. The set of all vectors of the form $\\bm x \\\\ y \\\\ 1 \\em$, because $\\vv 0$ is not in this set.\n",
    "2. The non-negative orthant $\\theta^{+} = \\{x \\geq 0, y \\geq 0, z \\geq 0\\}$. For any $\\vv x \\in \\theta^{+}, -\\vv x \\notin \\theta^{+}$. Hence, $\\theta^{+}$ is not closed under scalar multiplication.\n",
    "3. The unit sphere $\\mathcal{S}^2 = \\{x^2 + y^2 + z^2 = 1\\}$ because $\\vv 0 \\notin \\mathcal{S}^2$. In general, curved surfaces like the paraboloid ${P = \\{z = x^2 + y^2\\}}$ are not subspaces. Think about connecting two points by a straight line and relate to the closure property. \n",
    ":::"
   ]
  },
  {
   "cell_type": "markdown",
   "id": "fed8844c-73fe-4b07-b153-ddd09659c72c",
   "metadata": {},
   "source": [
    ":::{prf:example} Subspaces of discrete time signals\n",
    ":label:subspace-ex3\n",
    "\n",
    "Here, our base vector space is $\\mathbb S$, the space of all doubly infinite signals $\\{y_k\\} = (..., y_{-2}, y_{-1}, y_0, y_1, y_2 ...)$.\n",
    "\n",
    "1. The set $\\mathbb{S}_{0:T}$ that are zero for all indices except $k = \\{ 0, 1, 2, ..., T\\}$: if $\\{ y_k \\}, \\{z_k\\} \\in \\mathbb S_{0:T}$ then $c\\{y_k\\} + d\\{z_k\\} = \\{cy_k + dz_k\\}$ is also zero for all indices not in $\\{0, 1, ..., T\\}$ for any $c, d, \\in \\mathbb R$.\n",
    "\n",
    "2. The set $\\Sigma_0$ of signals that sum to zero, i.e., $\\{y_k\\} \\in \\Sigma_0$ if and only if \n",
    "\n",
    "\\begin{align*}\n",
    "    \\sum_{k = -\\infty}^{\\infty}{y_k} = 0\n",
    "\\end{align*}\n",
    "\n",
    "To check this, we compute the sum of $c\\{y_k\\} + d\\{z_k\\} = \\{cy_k + dz_k\\}$:\n",
    "\n",
    "\\begin{align*}\n",
    "    \\sum_{k = -\\infty}^{\\infty}{cy_k + dz_k} &= c\\sum_{k = -\\infty}^{\\infty}{y_k} + d\\sum_{k = -\\infty}^{\\infty}{z_k} \\\\\n",
    "    &= c\\cdot 0 + d\\cdot 0 \\tag{since $\\sum y_k = \\sum z_k = 0 $}\\\\\n",
    "    &= 0 \n",
    "\\end{align*}\n",
    "\n",
    ":::"
   ]
  },
  {
   "cell_type": "markdown",
   "id": "5c276074-315d-409e-a636-d88d8a208e44",
   "metadata": {},
   "source": [
    ":::{prf:example} Subspaces of matrices\n",
    ":label:subspace-ex4\n",
    "\n",
    "The following are easily verified to be subspaces of $\\mathbb R^{m \\times n}$.\n",
    "\n",
    "1. The space $\\text{Sym}^n$ of symmetric matrices, i.e. $n \\times n$ matrices $M$ satisfying $m_{ij} = m_{ji}$ for all $i, j = 1, ..., n$. For example, $\\text{Sym}^2$ re matrices of the form \n",
    "\n",
    "\\begin{align*}\n",
    "    M = \\bm a& b \\\\ b & c \\em\n",
    "\\end{align*}\n",
    "\n",
    "2. The space of diagonal matrices, i.e., $n \\times n$ matrices $M$ with $m_{ij} = 0$ if $i \\neq j$.\n",
    "\n",
    "3. The space of upper triangular matrices and the space of lower triangular matrices are both subspaces.\n",
    "\n",
    ":::"
   ]
  },
  {
   "cell_type": "markdown",
   "id": "ddecbbf0",
   "metadata": {},
   "source": [
    ":::{prf:example} Subspaces of function space $\\mathcal F(I)$\n",
    ":label:subspace-ex5\n",
    "\n",
    "Here our base space is $\\mathcal F(I)$, the space of real-valued functions defined on the interval $I$.\n",
    "\n",
    "1. $P^{(n)}$ the space of polynomials (of degree at most $n$), defined over $I$. The $0$ function is in $P^{(n)}$, and $P^{(n)}$ is a vector space contained in $\\mathcal F(I)$.\n",
    "\n",
    "2. The spcae $C^0(I)$ of all continuous functions defined on $I$. Showing closure of this space relies on knowing that if $f(x)$ and $g(x)$ are continous, then so is $cf(x) + dg(x)$ for any $c, d\\in \\mathbb{R}$, something you may have seen in Math 1400/1410.\n",
    ":::"
   ]
  },
  {
   "cell_type": "markdown",
   "id": "918abc5f-b2c1-47f1-b852-18c6b97f87af",
   "metadata": {},
   "source": [
    "[![Binder](https://mybinder.org/badge_logo.svg)](https://mybinder.org/v2/gh/nikolaimatni/ese-2030/HEAD?labpath=/01_Vector_Spaces_and_Bases/032-subspaces.ipynb)"
   ]
  },
  {
   "cell_type": "code",
   "execution_count": null,
   "id": "74442f05-b322-4e70-8e62-ccb51701fd09",
   "metadata": {},
   "outputs": [],
   "source": []
  }
 ],
 "metadata": {
  "jupytext": {
   "cell_metadata_filter": "-all",
   "main_language": "python"
  },
  "kernelspec": {
   "display_name": "Python 3 (ipykernel)",
   "language": "python",
   "name": "python3"
  },
  "language_info": {
   "codemirror_mode": {
    "name": "ipython",
    "version": 3
   },
   "file_extension": ".py",
   "mimetype": "text/x-python",
   "name": "python",
   "nbconvert_exporter": "python",
   "pygments_lexer": "ipython3",
   "version": "3.12.3"
  }
 },
 "nbformat": 4,
 "nbformat_minor": 5
}
