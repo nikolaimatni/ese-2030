{
 "cells": [
  {
   "cell_type": "markdown",
   "id": "fd7554ca-5ac4-4958-b713-648e3fd54114",
   "metadata": {
    "editable": true,
    "slideshow": {
     "slide_type": ""
    },
    "tags": []
   },
   "source": [
    "---\n",
    "title: 2.1 Real Vector Spaces\n",
    "subject: Vector Spaces and Bases\n",
    "subtitle: Vectors! Vectors! Vectors Everywhere!\n",
    "short_title: 2.1 Real vector spaces\n",
    "authors:\n",
    "  - name: Nikolai Matni\n",
    "    affiliations:\n",
    "      - Dept. of Electrical and Systems Engineering\n",
    "      - University of Pennsylvania\n",
    "    email: nmatni@seas.upenn.edu\n",
    "license: CC-BY-4.0\n",
    "keywords: vector spaces, addition and scaling, axioms\n",
    "math:\n",
    "  '\\vv': '\\mathbf{#1}'\n",
    "  '\\bm': '\\begin{bmatrix}'\n",
    "  '\\em': '\\end{bmatrix}'\n",
    "  '\\R': '\\mathbb{R}'\n",
    "---"
   ]
  },
  {
   "cell_type": "markdown",
   "id": "ea9a947c-b710-4a55-9ba7-42779a516120",
   "metadata": {},
   "source": [
    "[![Binder](https://mybinder.org/badge_logo.svg)](https://mybinder.org/v2/gh/nikolaimatni/ese-2030/HEAD?labpath=/01_Ch_2_Vector_Spaces_and_Bases/031-vector_spaces.ipynb)\n",
    "\n",
    "{doc}`Lecture notes <../lecture_notes/Lecture 03 - Vector Spaces 1_ Definitions, Subspaces, Span, Linear Independence, Basis, and Dimension.pdf>`"
   ]
  },
  {
   "cell_type": "markdown",
   "id": "a46f522d-2995-412b-92cf-9ff085526b18",
   "metadata": {},
   "source": [
    "## Reading\n",
    "\n",
    "Material related to this page, as well as additional exercises, can be found in ALA Ch. 2.1 and LAA 4.1."
   ]
  },
  {
   "cell_type": "markdown",
   "id": "d276bcc3-237d-4cda-8bf0-39285b0a09f3",
   "metadata": {},
   "source": [
    "## Learning Objectives\n",
    "\n",
    "By the end of this page, you should know:\n",
    "- the definition of a vector space\n",
    "- examples of different vector spaces\n",
    "- how to add and scale vectors"
   ]
  },
  {
   "cell_type": "markdown",
   "id": "170438e7",
   "metadata": {},
   "source": [
    "## Abstraction\n",
    "\n",
    "A theme in mathematics is recognizing that seemingly unrelated settings, objects, or models, all share common properties.  By viewing them at the _right level of abstraction_, they can all be reasoned about together in the same way.  _This is a very powerful way of thinking!_  This chapter will introduce the abstract notion of a _vector space_ which unifies the seemignly disparate spaces of ordinary vectors, spaces of functions (such as polynomials, exponentials, and trigonometric functions), spaces of matrices, (infinite dimensional) linear operators (we will only briefly encounter these later in the course), and more under a common conceptual framework.\n",
    "\n",
    "For many of you, this will be your first foray into \"abstraction,\" and it will take some time and effort to get used to these ideas.  A good strategy is to make sure that you understand what the new concepts we introduce mean in the context of ordinary Euclidean space, and then work through how they might apply in more abstract spaces, like the space of polyomials, vector valued sampled signals over an interval, or symmetric matrices (yes, we will see that these are all examples of vector spaces!)."
   ]
  },
  {
   "cell_type": "markdown",
   "id": "af7f5403-8949-4fd6-92ed-30b6de0894b5",
   "metadata": {},
   "source": [
    "## Real Vector Spaces\n",
    "We've so far relied on certain simple and intuitive algebraic properties of how matrices and vectors can be added together and scaled.  We'll try to formalize these ideas and then abstract/genearlize them next.\n",
    "\n",
    "Let us consider the space of all $n \\times 1$ real-values vectors, denoted by $\\mathbb{R}^n$. Adding two vectors $\\vv v, \\vv w \\in \\mathbb{R}^n$ can be viewed geometrically through a parallelogram, and multiplication by a scalar $c \\in \\mathbb{R}$ is stretching/shrinking the vector by factor $c$.\n",
    "\n",
    ":::{figure}../figures/03-vec_add_scale.jpg\n",
    ":label:vec_add_scale\n",
    ":alt: Addition and scaling of vectors\n",
    ":width: 500px\n",
    ":align: center\n",
    ":::\n",
    "\n",
    "We aim to abstract the above properties so that we can add and scale generic \"vectors\" living in a \"vector space\". \n",
    "\n",
    ":::{prf:definition} Vector Space Operations\n",
    ":label: vec_space_op\n",
    "A _vector space_ is a set $V$ equipped with two operations:\n",
    "1. Addition: adding any pair of vectors $ \\vv v, \\vv w \\in V$ produces another vector $\\vv v + \\vv w \\in V$,\n",
    "2. Scalar Multiplication: multiplying a vector $\\vv v \\in V$ by a scalar $c \\in \\mathbb{R}$ produces a vector $c \\vv v \\in V$.\n",
    "\n",
    "These are subject to the following axioms, valid for all $\\vv u, \\vv v, \\vv w \\in V$ and all scalars $c, d \\in \\mathbb{R}$:\n",
    "(vec_space_ax)=\n",
    "1. Commutativity of Addition: $\\vv v + \\vv w = \\vv w + \\vv v$.\n",
    "2. Associativity of Addition: $\\vv u + (\\vv v + \\vv w) = (\\vv u + \\vv v) + \\vv w$.\n",
    "3. Additive Identity: There is a zero element $\\vv 0 \\in V$ satisfying $\\vv v + \\vv 0 = \\vv v = \\vv 0 + \\vv v$.\n",
    "4. Additive Inverse: For each $\\vv v \\in V$ there is an element $− \\vv v \\in V$ such that\n",
    "$\\vv v + (− \\vv v) = \\vv 0 = (− \\vv v) + \\vv v$.\n",
    "5. Distributivity: $( c +  d) \\vv v = (c \\vv v) + (d \\vv v)$, and $c (\\vv v + \\vv w) = (c \\vv v) + (c \\vv w)$.\n",
    "6. Associativity of Scalar Multiplication: $c (d \\vv v) = (c d) \\vv v$.\n",
    "7. Unit for Scalar Multiplication: the scalar $1 \\in \\mathbb{R}$ satisﬁes $1 \\vv v =\\vv v$.\n",
    ":::\n",
    "\n",
    "The two operations just tell us that if we start with vectors $\\vv v, \\vv w \\in V$ and real scalars $c, d \\in \\R$, we are free to add scaled versions together and we will stay in the vector space $V$, i.e., $c\\vv v + d \\vv w \\in V$ for any choices of $c, d \\in \\R$ and  $\\vv v, \\vv w \\in V$.  The axioms that follow are a formalization of the properties we expect addition and multiplication to follow: these are true for ordinary numbers and ordinary vectors, and we want them to hold for _generic vectors_ too.  We will work through some familiar (and some not so familiar) examples soon, but we first highlight some additonal important properties that can be deduced from the [axioms](#vec_space_ax) above.\n",
    "\n",
    ":::{note} Properties\n",
    ":label: vec_space_prop\n",
    "1. The $\\vv 0$ vector in [axiom](#vec_space_ax) 3. is unique.\n",
    "2. The additive inverse $-\\vv v$ in [axiom](#vec_space_ax) 4., called the _negative of $\\vv v$_ is unique.\n",
    "3. $0 \\vv v = \\vv 0$ ($0$ is a scalar, $\\vv 0$ is a vector).\n",
    "4. $-1 \\vv v = -\\vv v$.\n",
    "5. $c \\vv 0 = \\vv 0$ for any $c \\in \\mathbb{R}$.\n",
    "6. If $c \\vv v = \\vv 0$, then either $c=0$ or $\\vv v = \\vv 0$.\n",
    ":::\n",
    "\n",
    "Notice that these are all properties that obviously hold for ordinary numbers and ordinary vectors.  The above says that these \"rules\" should also hold in our new abstract vector spaces."
   ]
  },
  {
   "cell_type": "markdown",
   "id": "3b7618b1-97c9-4576-8c76-6a388a8b0e09",
   "metadata": {},
   "source": [
    ":::{prf:example} Eucledian Space $\\mathbb{R}^n$\n",
    ":label:Rn_ex1\n",
    "\n",
    "$\\mathbb{R}^n$ is the space of $n \\times 1$ column vectors with addition and scalar multiplication defined as usual:\n",
    "$$\n",
    "\\vv v = \\bm v_1 \\\\ v_2 \\\\ \\vdots \\\\ v_n \\em, \\vv w = \\bm w_1 \\\\ w_2 \\\\ \\vdots \\\\ w_n \\em, \\vv v + \\vv w = \\bm v_1 + w_1 \\\\ v_2 + w_2 \\\\ \\vdots \\\\ v_n + w_n \\em, c \\vv v = \\bm c v_1 \\\\ c v _2 \\\\ \\vdots \\\\ c v_n\\em, \n",
    "$$\n",
    "and the zero vector $\\vv 0$ given as expected by \n",
    "$$\\vv 0 = \\bm 0 \\\\ 0 \\\\ \\vdots \\\\ 0 \\em$$\n",
    ":::\n",
    "\n",
    "```{tip}\n",
    "Whenever you find yourself confused about vector spaces, try to imagine a familiar space like $\\R^3$.  We are using the same geometeric ideas, but now the \"arrows\" represent generic objects, or _vectors_, that we want to combine via addition and scaling.\n",
    "```"
   ]
  },
  {
   "cell_type": "markdown",
   "id": "e26bdb53-3bb2-4dd6-94e3-b17d4b294785",
   "metadata": {
    "editable": true,
    "slideshow": {
     "slide_type": ""
    },
    "tags": []
   },
   "source": [
    ":::{prf:example}Real $m \\times n$ Matrices $\\mathbb{R}^{m \\times n}$\n",
    ":label:Rmn_ex2\n",
    "A new but not so different example is the space of $m \\times n$ matrices, denoted by $\\R^{m \\times n}$ (the superscript denotes the matrix dimension).\n",
    "$\\mathbb{R}^{m \\times n}$ forms a _vector space_ under matrix additon and scalar multiplication. Here the $O$ \"vector\" is the matrix of all zeros $O \\in \\mathbb{R}^{m \\times n}$.\n",
    "\n",
    "```{warning}\n",
    "[Matrix-matrix multiplication](../00_Ch_1_Linear_Algebraic_Systems/022-linsys-matvec.ipynb#batch) is **not** a vector space operation. Vector spaces only allow scalar multiplication.\n",
    "```\n",
    "\n",
    "```{note}\n",
    "The vector space $\\mathbb{R}^n$ is really $\\mathbb{R}^{n \\times 1}$, the space of $n \\times 1$ matrices. Hence, the [Eucledian space](#Rn_ex1) is a special case of the space of [Real matrices](#Rmn_ex2).\n",
    "```\n",
    ":::"
   ]
  },
  {
   "cell_type": "markdown",
   "id": "fed8844c-73fe-4b07-b153-ddd09659c72c",
   "metadata": {},
   "source": [
    "::::{prf:example}Sampled Functions over an Interval\n",
    ":label:fns_ex3\n",
    "\n",
    "In digital signal processing and applications such as communication, we work with sampled versions of the functions $f(t)$ over the time interval $[0, 1]$ so that we can store them on a computer. This is obtained by sampling $f(t)$ at times $\\{0, \\tau, 2\\tau, \\ldots, T\\tau = 1\\}$, where $\\tau$ is the sampling period, and $\\frac{1}{\\tau} = T$ is the number of samples taken over $[0, 1]$ (we assume that $\\tau$ is chosen so that $T$ is an integer).\n",
    ":::{figure}../figures/03-function_sampled.jpg\n",
    ":alt: Sampled function\n",
    ":width: 300px\n",
    ":align: center\n",
    ":::\n",
    "This gives a [vector](#Rn_ex1) of size $T+1$:\n",
    "$$\n",
    "\\vv f = \\bm f(0) \\\\ f(\\tau) \\\\ f(2\\tau) \\\\ \\vdots \\\\ f(T\\tau) \\em.\n",
    "$$\n",
    "So even though we started with a function defined over a continuous interval, after sampling it we end up with an ordinary vector of size $T+1$.\n",
    "Hence, adding and scaling sampled functions is done in exactly the same way as in [](#Rn_ex1), but now the vectors $\\vv f$ and $\\vv g$ are interpreted as being samples from underlying functions $f(t)$ and $g(t)$. Sampling the zero function $z(t) = 0$ gives the usual $\\vv 0$ vector. \n",
    "\n",
    "In summary, the space of functions sampled at the **same $T+1$ time points** over an interval is not only a vector space, but is in fact $\\mathbb{R}^{T + 1}$!\n",
    "\n",
    "::::"
   ]
  },
  {
   "cell_type": "markdown",
   "id": "5c276074-315d-409e-a636-d88d8a208e44",
   "metadata": {},
   "source": [
    ":::{prf:example}Doubly Infinite Sequences of Numbers $\\mathbb{S}$\n",
    ":label:inf_seq_ex4\n",
    "\n",
    "Let $\\mathbb{S}$ be the space of all _doubly infinite sequences of numbers_:\n",
    "\\begin{equation}\n",
    "\\label{ex4_eqn}\n",
    "\\{y_k\\} := \\{\\ldots, y_{-2}, y_{-1}, y_0, y_1, y_2, \\ldots\\}.\n",
    "\\end{equation}\n",
    "The sequences [](#ex4_eqn) can be interpreted as a signal sampled over an undefined interval, which appears in areas such as control theory, signal processing, biology, optics. \n",
    "```{note}\n",
    "$\\mathbb{S}$ is also known as the _space of discrete time signals_.\n",
    "```\n",
    "If define\n",
    "1. addition as $\\{y_k\\} + \\{z_k\\} = \\{y_k + z_k\\}$ (element-wise), and\n",
    "2. scalar multiplication as $c\\{y_k\\} = \\{cy_k\\}$ (scale each entry),\n",
    "then the vector space axioms can be verified exactly as we dif for $\\R^n$.\n",
    "\n",
    "This is our first example of a vector space where the vectors are \"not just an arrow in $\\R^n$.\"  In fact, each vector $\\{y_k\\} \\in \\mathbb{S}$ has infinitely many elements! \n",
    " Nevertheless, we can still think of each vector $\\{y_k\\}\\in \\mathbb{S}$ as an \"arrow\" that adds and scales as shown in [](#vec_add_scale).\n",
    "\n",
    ":::\n"
   ]
  },
  {
   "cell_type": "markdown",
   "id": "7c9d85a0-a4be-4d75-abbc-9feca6236838",
   "metadata": {},
   "source": [
    ":::{prf:example}Real Polynomials of Degree $\\leq n$: $P^{(n)}$\n",
    ":label:poly_ex5\n",
    "\n",
    "Let's venture further into unfamiliar territory!  \n",
    "\n",
    "Consider the space\n",
    "\n",
    "\\begin{equation}\n",
    "\\label{eqn_ex5}\n",
    "P^{(n)} = \\{p(x) = a_nx^n + a_{n-1}x^{n-1} + \\ldots + a_1x +  a_0\\}\n",
    "\\end{equation}\n",
    "consisting of all real polynomials of degree $\\leq n$. The polynomial coefficients $a_n, a_{n-1}, \\ldots, a_1, a_0$ can be any real numbers. For example, $P^{(1)} = \\{p(x) = a_1x + a_0\\}$ is the set of all linear polynomials, since given any linear equation $q(x) = mx + b$, setting $a_1 = m$ and $a_0 = b$ shows that $q(x) \\in P^{(1)}$. Under the usual definitions of polynomial addition and scalar multiplication:\n",
    "1. Addition:\n",
    "   \\begin{equation}\n",
    "   \\label{poly_add}\n",
    "   p(x) &= a_nx^n + a_{n-1}x^{n-1} + \\ldots + a_1x +  a_0, \\\\ q(x) &= b_nx^n + b_{n-1}x^{n-1} + \\ldots + b_1x +  b_0, \\\\\n",
    "   p(x) + q(x) &= (a_n+b_n)x^n + (a_{n-1}+b_{n-1})x^{n-1} + \\ldots + (a_{1}+b_{1})x +  (a_0+b_0), \\\\\n",
    "   p(x) + q(x) &= d_nx^n + d_{n-1}x^{n-1} + \\ldots + d_{1}x +  d_0, \\\\ d_i &= a_i + b_i\n",
    "   \\end{equation}\n",
    "2. Scalar multiplication:\n",
    "   \\begin{equation}\n",
    "   \\label{poly_scalec}\n",
    "   cp(x) &= ca_nx^n + ca_{n-1}x^{n-1} + \\ldots + ca_1x +  ca_0, \\\\\n",
    "   cp(x) &= \\tilde{a}_{n} x^n + \\tilde{a}_{n-1} x^{n-1} + \\ldots + \\tilde{a}_1 x + \\tilde{a}_0, \\\\\n",
    "   \\tilde{a}_i &= ca_i\n",
    "   \\end{equation}\n",
    "$P^{(n)}$ is a vector space.  The [vector space axioms](#vec_space_ax) can be checked to be satisfied because we addition and scaling is accomplished done by adding/scaling coefficients entrywise.\n",
    "\n",
    "```{note}\n",
    "Addition and scaling of polynomials is very similar to how we add and scale ordinary vectors. This is not a coincidence at all! We will see why later! \n",
    "```\n",
    "\n",
    "We still need to define the zero vector here.  In this case, it is the zero polynomial satisfying $a_n = a_{n-1} = \\ldots = a_1 = a_0 = 0$. Vectors in $P^{(n)}$ are _polynomial functions_ and you should think of them as \"arrows\", similar to ordinary vectors, living in the space of polynomials. \n",
    "\n",
    "```{warning} $n-$degree Polynomials\n",
    "The space of $n-$degree polynomials is **not** a vector space. For example, consider $p(x) = x^2 + 1$ and $q(x) = -x^2 + x$, both of degree $2$, but $p(x) + q(x) = x + 1$ that has degree 1! Hence, $P^{(n)}$ is defined as polynomials of degree $\\leq n$ so that we do not go out of the space when we add elements.\n",
    "```\n",
    "\n",
    "```{warning}\n",
    "A scalar $c \\in \\mathbb{R}$ and the constant polynomial $a_0 \\in P^{(n)}$ are different objects, even though they look similar! You should think of $a_0$ as an \"arrow\" in $P^{(n)}$ rather than as a scalar. \n",
    "```\n",
    "\n",
    ":::\n"
   ]
  },
  {
   "cell_type": "markdown",
   "id": "e1f65f6b-f37e-4636-9c8a-ae463b8aee23",
   "metadata": {},
   "source": [
    ":::{prf:example}Real Valued Functions over an Interval $\\mathcal{F}(I)$\n",
    ":label:func_ex6\n",
    "Our last example will be the most abstract example of a vector space we see today, and our first example of a _function space_.  Let $I \\subset \\mathbb{R}$ be an interval (a common choice is $[0, 1]$, the closed interval from $0$ to $1$). The _function space_ $\\mathcal{F}(I)$ is defined as the vector space whose elements are all real-valued function $f(x)$ defined for all $x \\in I$. The operations are\n",
    "\n",
    "1. Addition in the usual way $(f+g)(x) = f(x) + g(x)$ for all $x \\in I$\n",
    "2. Scalar multiplication $(cf)(x) = c f(x)$\n",
    "\n",
    "```{note}\n",
    "$(f+g)$ denotes the new function obtained by adding $f$ and $g$. We define the value of $f+g$ at $x \\in I$ by ${(f+g)(x) = f(x) + g(x)}$. The vector elements here are $f+g, f, g$, while the variable $x$ is not related to the vector space. The variable $x$ is used only to define how $f+g$ is computed from $f$ and $g$. A useful trick is to not write out the argument $x$ when performing vector space operations.   \n",
    "```\n",
    "\n",
    "#### Example\n",
    "\n",
    "Let $f(x) = 1  +\\sin(2x)$ and $g(x) = 2 + 0.5x$ and set $I = [0, 1]$. Then, $f, g \\in \\mathcal{F}(I)$. To compute $f+g$,\n",
    "\\begin{equation}\n",
    "\\label{func_ex}\n",
    "(f+g)(x) &= f(x) + g(x), \\\\\n",
    "&= 1 + \\sin(2x) + 2 + 0.5x, \\\\\n",
    "(f+g)(x) &= 3 + 0.5x + \\sin(2x)\n",
    "\\end{equation}\n",
    "From [](#func_ex), the function $f+g$ is defined for all $x \\in [0, 1]$. Hence, $f+g \\in \\mathcal{F}(I)$.\n",
    "\n",
    "```{tip} \n",
    "If the above discussion is confusing, pretend that we are using sampled version $\\vv f$ and $\\vv g$ of $f(t)$ and $g(t)$, respectively, but with very very (in fact infinitely) dense sampling. Adding $\\vv f + \\vv g$ gives me a new vector, just like adding $f + g$ gives me a new function.\n",
    "```\n",
    ":::\n"
   ]
  },
  {
   "cell_type": "markdown",
   "id": "ea24a160-262e-4660-a436-bbd52b488ac1",
   "metadata": {},
   "source": [
    "[![Binder](https://mybinder.org/badge_logo.svg)](https://mybinder.org/v2/gh/nikolaimatni/ese-2030/HEAD?labpath=/01_Ch_2_Vector_Spaces_and_Bases/031-vector_spaces.ipynb)"
   ]
  }
 ],
 "metadata": {
  "jupytext": {
   "cell_metadata_filter": "-all",
   "main_language": "python"
  },
  "kernelspec": {
   "display_name": "Python 3 (ipykernel)",
   "language": "python",
   "name": "python3"
  },
  "language_info": {
   "codemirror_mode": {
    "name": "ipython",
    "version": 3
   },
   "file_extension": ".py",
   "mimetype": "text/x-python",
   "name": "python",
   "nbconvert_exporter": "python",
   "pygments_lexer": "ipython3",
   "version": "3.8.19"
  }
 },
 "nbformat": 4,
 "nbformat_minor": 5
}
