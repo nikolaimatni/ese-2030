{
 "cells": [
  {
   "cell_type": "markdown",
   "id": "fd7554ca-5ac4-4958-b713-648e3fd54114",
   "metadata": {
    "editable": true,
    "slideshow": {
     "slide_type": ""
    },
    "tags": []
   },
   "source": [
    "---\n",
    "title: \"2.7 Case Study: Network Flows Revisited\"\n",
    "subject: Vector Spaces and Bases\n",
    "subtitle: linear algebra in electric circuits\n",
    "short_title: \"2.7 Case Study: Network Flows\"\n",
    "authors:\n",
    "  - name: Nikolai Matni\n",
    "    affiliations:\n",
    "      - Dept. of Electrical and Systems Engineering\n",
    "      - University of Pennsylvania\n",
    "    email: nmatni@seas.upenn.edu\n",
    "license: CC-BY-4.0\n",
    "keywords: nodes, edges, Kirchoff's law\n",
    "math:\n",
    "  '\\vv': '\\mathbf{#1}'\n",
    "  '\\bm': '\\begin{bmatrix}'\n",
    "  '\\em': '\\end{bmatrix}'\n",
    "  '\\R': '\\mathbb{R}'\n",
    "---"
   ]
  },
  {
   "cell_type": "markdown",
   "id": "32164906-4a16-4c63-a6e4-380f298aebd4",
   "metadata": {},
   "source": [
    "[![Binder](https://mybinder.org/badge_logo.svg)](https://mybinder.org/v2/gh/nikolaimatni/ese-2030/HEAD?labpath=/01_Ch_2_Vector_Spaces_and_Bases/037-network.ipynb)\n",
    "\n",
    "{doc}`Lecture notes <../lecture_notes/Lecture 04 - The Fundamental Matrix Subspaces (Kernel, Image, CoKernel, CoImage), Fundamental Theorem of Linear Algebra, and a brief interlude on the Matrix Transpose.pdf>`"
   ]
  },
  {
   "cell_type": "markdown",
   "id": "a46f522d-2995-412b-92cf-9ff085526b18",
   "metadata": {},
   "source": [
    "## Reading\n",
    "\n",
    "Material related to this page, as well as additional exercises, can be found in ALA Ch. 1.6."
   ]
  },
  {
   "cell_type": "markdown",
   "id": "d276bcc3-237d-4cda-8bf0-39285b0a09f3",
   "metadata": {},
   "source": [
    "## Learning Objectives\n",
    "\n",
    "By the end of this page, you should know:\n",
    "- how to represent flows in networks as matrices\n",
    "- the sources and sinks in a network\n",
    "- the relationship of flow conservation to linear systems"
   ]
  },
  {
   "cell_type": "markdown",
   "id": "a1b52c01-f3b4-4b43-baeb-f97bc73802a8",
   "metadata": {},
   "source": [
    "## Incidence Matrix\n",
    "\n",
    "Consider the directed graph below with $4$ nodes and $5$ edges\n",
    "\n",
    ":::{figure}../figures/03-network.jpg\n",
    ":label:network\n",
    ":alt: Network\n",
    ":width: 350px\n",
    ":align: center\n",
    ":::\n",
    "\n",
    "We can associate an incidence matrix $A$ with this [graph](#network). Each row corresponds to a node, and each column to an edge, with\n",
    "\\begin{equation}\n",
    "\\label{inc}\n",
    "a_{ij} =\n",
    "\\begin{cases}\n",
    "1 & \\textrm{if edge} \\ j \\ \\textrm{points \\textbf{to} node} \\ i  \\\\\n",
    "-1 & \\textrm{if edge} \\ j \\ \\textrm{points \\textbf{from} node} \\ i \n",
    "\\end{cases}.\n",
    "\\end{equation}\n",
    "For [](#network), $A \\in \\mathbb{R}^{4 \\times 5}$, and\n",
    "\\begin{equation}\n",
    "\\label{inc_A}\n",
    "A &= \\bm \n",
    "-1 & -1 & 0 & 0 & 0 \\\\\n",
    "1 & 0 & -1 & -1 & 0 \\\\\n",
    "0 & 1 & 1 & 0 & -1 \\\\\n",
    "0 & 0 & 0 & 1 & 1 \n",
    "\\em\n",
    "\\end{equation}\n",
    "\n",
    "By considering the four fundamental subspaces (Row, Column, Null and Left Null Space) of $A$, we can completely understand the properties of our network flow problem. The incidence flow can be represented in code using numpy as follows:"
   ]
  },
  {
   "cell_type": "code",
   "execution_count": 37,
   "id": "2584c5ba-30e8-46b3-aff5-ba29d13cc4f1",
   "metadata": {},
   "outputs": [],
   "source": [
    "import numpy as np\n",
    "A = np.array([\n",
    "    [-1, -1, 0, 0, 0],\n",
    "    [1, 0, -1, -1, 0],\n",
    "    [0, 1, 1, 0, -1],\n",
    "    [0, 0, 0, 1, 1]\n",
    "])"
   ]
  },
  {
   "cell_type": "markdown",
   "id": "d52741b0-3bf7-4b39-bbd8-021b03a6aa42",
   "metadata": {},
   "source": [
    "## The Current Law\n",
    "\n",
    "First, we define the source vector $\\vv s = \\bm s \\\\ 0 \\\\ 0 \\\\ -s \\em$, which captures external flows entering (positive entries) the network referred to as _sources_, and flows leaving (negative entries) the network known as _sinks_. We make sure $\\vv 1^{\\top} \\vv s = 0$. \n",
    "\n",
    "The flow conservation equations say that flows entering a node must equal flows leaving a node, which can be written as\n",
    "\\begin{equation}\n",
    "\\label{flow_conserve}\n",
    "A \\vv f + \\vv s = \\vv 0 \\ \\textrm{or} \\ A \\vv f = - \\vv s, \n",
    "\\end{equation}\n",
    "where $\\vv f = \\bm f_1 \\\\ f_2 \\\\ f_3 \\\\ f_4 \\\\ f_5 \\em \\in \\mathbb{R}^{5}$ is the vector of edge flows. The solution set to [](#flow_conserve) characterizes all flows compatible with the network and the source vector $\\vv s$.\n",
    "\n",
    "From [this theorem](./035-kernel_image.ipynb#soln_thm), we see that $A \\vv f = - \\vv s$ has a solution if and only if $\\vv s \\in $Col$(A)$. Let's try to understand when this might be true by computing a basis for Col$(A)$.\n",
    "\n",
    "From [](#inc_A), we notice that \n",
    "1. columns 1, 2 and 3 are **not independent**: column 3 = column 2 - column 1.\n",
    "2. columns 3, 4 and 5 are **not independent**: column 5 = column 4 - column 3 = column 4 - column2 + column 1\n",
    "\n",
    "However, we have that columns 1, 2  and 4 are **independent**! Since we can represent columns 3 and 5 in terms of columns 1, 2  and 4; columns 1, 2 and 4 span Col$(A)$. We conclude that columns 1, 2 and 4 form a basis for Col$(A)$, and dim(Col$(A)) = 3$. \n",
    "\n",
    "Now, let's take a closer look at [](#network): edges $1, 2$ and $3$ form a **loop** in the graph, while edges $3, 4$ and $5$ form another **loop**. In contrast, edges $1, 2$ and $4$ form a tree, which has no loops! This tells us that the edges of any tree in our graph gives us independent columns! \n",
    "\n",
    "So we now check if $\\vv s \\in$Col$(A)$ using columns $1, 2 $ and $4$.\n",
    "\\begin{equation}\n",
    "\\label{col_A}\n",
    "&\\bm -1 & -1 & 0 \\\\ 1 & 0 & -1 \\\\ 0 & 1 & 0 \\\\ 0 & 0 & 1\\em\n",
    "\\bm f_1 \\\\ f_2 \\\\ f_4\\em &= \\bm -s \\\\ 0 \\\\ 0 \\\\ s\\em \\\\\n",
    "\\Rightarrow &-f_1 - f_2 &= -s \\\\\n",
    "& f_1 - f_4 &= 0 \\\\\n",
    "& f_2 &= 0\\\\\n",
    "& f_4 &= s\n",
    "\\end{equation}\n",
    "which has solution $f_1 = f_4 = s$ and $f_2 = 0$. Therefore, one possible network flow is given by\n",
    "$$f^* = \\bm s \\\\ 0 \\\\ 0 \\\\ s \\\\ 0\\em.$$\n",
    "This corresponds to putting the flow on edges $1$ and $4$ as shown below. \n",
    ":::{figure}../figures/03-network_flow.jpg\n",
    ":label:network_flow\n",
    ":alt: Network Flow\n",
    ":width: 350px\n",
    ":align: center\n",
    ":::\n",
    "\n",
    "For any value of $s$, this solution can be represented in code using the following vector. Let's verify that it is a solution. "
   ]
  },
  {
   "cell_type": "code",
   "execution_count": 38,
   "id": "33d737c1-bd7c-4afb-b357-8047a7b11822",
   "metadata": {},
   "outputs": [
    {
     "name": "stdout",
     "output_type": "stream",
     "text": [
      "[-4  0  0  4]\n"
     ]
    }
   ],
   "source": [
    "s = 4\n",
    "f_star = np.array([s, 0, 0, s, 0])\n",
    "\n",
    "print(A@f_star)"
   ]
  },
  {
   "cell_type": "markdown",
   "id": "359742b1-efbe-491d-8807-eacbb6a03f43",
   "metadata": {},
   "source": [
    "There are other ways to distribute the flow to satisfy $A \\vv f = -\\vv s$. That's where the null space of $A$ comes in!\n",
    "\n",
    "Let's look at Null$A$. This is the solution set to $A \\vv f = \\vv 0$, which captures flow conservation in the absence of external sources. This corresponds to **(flow in) - (flow out) = 0** at each node: this is called _Kirchoff's current law in electric circuits_.\n",
    "\n",
    "We already noticed that column 3= column 2 - column 1. Hence, one solution to $A \\vv f = \\vv 0$ is $\\vv f_1 = \\bm -1 \\\\ 1 \\\\ -1 \\\\ 0 \\\\ 0\\em$ (verify for yourself), which corresponds to going around the $1 \\to 3 \\to 2$ loop! Similarly, column 5 = column 4- column 3, giving $\\vv f_2 = \\bm 0 \\\\ 0 \\\\ -1 \\\\ 1 \\\\ -1\\em$, corresponding to the $3 \\to 4 \\to 5$ loop! $\\vv f_1$ and $\\vv f_2$ are linearly independent, and we know that \n",
    "$$\n",
    "\\textrm{dim(Null}(A)) = 5 \\ (\\textrm{our variables} \\ \\vv f \\ \\textrm{live in} \\ \\mathbb{R}^5)  - \\textrm{dim(Col}(A)) = 5 - 3 = 2\n",
    "$$\n",
    "Hence, $\\vv f_1$ and $\\vv f_2$ form a basis! \n",
    "\n",
    "From [this theorem](./035-kernel_image.ipynb#soln_thm), we can therefore write the general solution to $A \\vv f = -\\vv s$ as\n",
    "\\begin{equation}\n",
    "\\label{gen_soln}\n",
    "\\vv f = \\vv f^* + c_1 \\vv f_1 + c_2 \\vv f_2.\n",
    "\\end{equation}\n",
    "The elements $\\vv n \\in $Null$(A)$ are called _circulations_ (why?).\n",
    "\n",
    "Using this expression for the null space, any network flow for the network in [](#network) may be represented in code for arbitrary $c_1$ and $c_2$ as follows."
   ]
  },
  {
   "cell_type": "code",
   "execution_count": 39,
   "id": "27400402-2766-4cfa-a18b-7bba5f286282",
   "metadata": {},
   "outputs": [
    {
     "name": "stdout",
     "output_type": "stream",
     "text": [
      "[ 3  1 -5  8 -4]\n"
     ]
    }
   ],
   "source": [
    "f_1 = np.array([-1, 1, -1, 0, 0])\n",
    "f_2 = np.array([0, 0, -1, 1, -1])\n",
    "\n",
    "c = np.array([1, 4])\n",
    "f = f_star + c[0]*f_1 + c[1]*f_2\n",
    "print(f)"
   ]
  },
  {
   "cell_type": "markdown",
   "id": "dc5f4f1d-5b54-47d8-98ac-c01ff6680fce",
   "metadata": {},
   "source": [
    "## The Voltage Law\n",
    "\n",
    "\n",
    "Now, instead of flows, let's discuss about potential differences, or voltages, across nodes.\n",
    ":::{figure}../figures/03-network_volt.jpg\n",
    ":label:network_volt\n",
    ":alt: Network Voltage\n",
    ":width: 350px\n",
    ":align: center\n",
    ":::\n",
    "Solving $A^{\\top} \\vv x = \\vv v$ tells us what potentials we need to put on the nodes to achieve the desired voltages. For example, the first row of $A^{\\top} \\vv x = \\vv v$ is $-x_1 + x_2 = v_1$. This is _Kirchoff's Voltage Law_!\n",
    "\n",
    "Let's start with Null$(A^{\\top})$, which we find by setting $\\vv v = \\vv 0$.\n",
    "\\begin{equation}\n",
    "\\label{volt_eqn}\n",
    "A^{\\top} \\vv x = \\vv 0 \\Rightarrow x_1 = x_2 \\ (\\textrm{first row}), \\ x_1 = x_3 \\ (\\textrm{second row}), \\ x_2 = x_4 \\ (\\textrm{fourth row}) \\Rightarrow x_1 = x_2 = x_3 = x_4 = c.\n",
    "\\end{equation}\n",
    "From [](#volt_eqn), Null$(A^{\\top})$ is a line in $\\mathbb{R}^4$ spanned by $\\vv 1 = \\bm 1 \\\\ 1 \\\\ 1 \\\\ 1\\em$. The rank of $A$ must be $4 - 1 = 3$, which we saw was true above! This implies that we can increase the voltage across all nodes by the same amount, and achieve the same voltage drop between nodes. Makes sense!\n",
    "\n",
    "The row space of $A$ is the column space of $A^{\\top}$. There must be $3$ independent columns of $A^{\\top}$ (since rank = 3). So, let's try to find them by inspection. The first three columns of $A^{\\top}$ are\n",
    "\\begin{equation}\n",
    "\\label{volt_col}\n",
    "\\vv v_1 = \\bm -1 \\\\ -1 \\\\ 0 \\\\ 0 \\\\ 0 \\em, \\ \n",
    "\\vv v_2 = \\bm 1 \\\\ 0 \\\\ -1 \\\\ -1 \\\\ 0 \\em, \\\n",
    "\\vv v_3 = \\bm 0 \\\\ 1 \\\\ 1 \\\\ 0 \\\\ -1 \\em\n",
    "\\end{equation}\n",
    "which can be verified to to be linearly independent. Therefore, only voltage configurations $\\vv v$ lying in span$\\{\\vv v_1, \\vv v_2, \\vv v_3\\}$ can be encoded on this [graph](#network_volt). Therefore, for any $x_1$, $x_2$, and $x_3$, voltage configurations $x_1 \\vv v_1 + x_2 \\vv v_2 + x_3 \\vv v_3$ are valid. Such configurations can be represented in code as follows. \n"
   ]
  },
  {
   "cell_type": "code",
   "execution_count": 41,
   "id": "f69dd373-3b60-43ce-9f1c-b1762456b095",
   "metadata": {},
   "outputs": [
    {
     "name": "stdout",
     "output_type": "stream",
     "text": [
      "[ 2.5  0.5 -2.  -3.  -1. ]\n"
     ]
    }
   ],
   "source": [
    "v_1 = np.array([-1, -1, 0, 0 ,0])\n",
    "v_2 = np.array([1, 0, -1, -1, 0])\n",
    "v_3 = np.array([0, 1, 1, 0, -1])\n",
    "x = np.array([.5, 3, 1])\n",
    "\n",
    "v = x[0]*v_1 + x[1]*v_2 + x[2]*v_3\n",
    "print(v)"
   ]
  },
  {
   "cell_type": "markdown",
   "id": "419d5d43-f0fb-41b7-bf2c-0427220a182d",
   "metadata": {},
   "source": [
    ":::{exercise} Can you interpret what the below statement means physically?\n",
    ":label:challenge\n",
    "$$\n",
    "\\vv v \\in \\textrm{Col}(A^{\\top}) \\ \\textrm{if and only if} \\ \\vv f_1^{\\top} \\vv v = \\vv 0 \\ \\textrm{and} \\ \\vv f_2^{\\top} \\vv v = \\vv 0,\n",
    "$$\n",
    "where $\\vv f_1$ and $\\vv f_2$ are the basis elements for Null$(A)$?\n",
    "\n",
    "```{solution} challenge\n",
    ":class: dropdown \n",
    "The basis elements $\\vv f_1$ and $\\vv f_2$ encode _loops_ in the graph. This says that $\\vv v$ is a valid voltage profile if and only if summing voltages along a loop equals zero. This is another way of stating Kirchoff's Voltage law. \n",
    ":::\n",
    "\n",
    "We will understand where the statement in [](#challenge) comes from in the next couple of lectures! "
   ]
  },
  {
   "cell_type": "markdown",
   "id": "c23418a8-5898-4562-a4b1-6226d4bdda1e",
   "metadata": {},
   "source": [
    "[![Binder](https://mybinder.org/badge_logo.svg)](https://mybinder.org/v2/gh/nikolaimatni/ese-2030/HEAD?labpath=/01_Ch_2_Vector_Spaces_and_Bases/037-network.ipynb)\n"
   ]
  },
  {
   "cell_type": "markdown",
   "id": "25c29d9c-6de2-414b-9f4b-e4169b42d35a",
   "metadata": {},
   "source": [
    "Using the current and voltage laws above, let's try to compute the currents in a circuit consisting of a current source and several resistors. In particular, we will consider the below circuit:\n",
    "```{image} circuit_diagram.png\n",
    ":alt: circuit_diagram\n",
    ":width: 350px\n",
    ":align: center\n",
    "```\n",
    "We can verify that the above circuit conforms to the network flow depicted in [](#network) by letting $I_S = s$, and $I_1, I_2, I_3, I_4, I_5 = f_1, f_2, f_3, f_4, f_5$. By the current law, we know that the currents must satisfy \n",
    "$$\n",
    "\\mathbf{i} = \\bm I_1 \\\\ I_2 \\\\ I_3 \\\\ I_4 \\\\ I_5 \\em = \\mathbf{f}_\\star + c_1 \\mathbf{f}_1 + c_2 \\mathbf{f}_2,\n",
    "$$\n",
    "for some numbers $c_1$ and $c_2$. Ohm's law allows us to relate the current between two nodes and the voltage drop between two nodes as $V_i = I_i R_i $, where $R_i$ is the resistance of edge $i$. We may therefore write\n",
    "$$\n",
    "\\mathbf{v} = \\bm V_1 \\\\ V_2 \\\\ V_3 \\\\ V_4 \\\\ V_5 \\em = \\bm R_1 I_1 \\\\ R_2 I_2 \\\\ R_3 I_3 \\\\ R_4 I_4 \\\\ R_5 I_5 \\em = R \\mathbf{i},\n",
    "$$\n",
    "where $R = \\mathsf{diag}(R_1, R_2, R_3, R_4, R_5)$.\n",
    "\n",
    "By the voltage law, $V_1, V_2, V_3, V_4, V_5$ is a consistent profile only if there exists some $x_1, x_2, x_3$ such that \n",
    "$$\n",
    "    x_1 \\mathbf{v}_1 + x_2 \\mathbf{v}_2 + x_3 \\mathbf{v}_3 = \\mathbf{v} = R \\mathbf{i} = R (\\mathbf{f}_\\star + c_1 \\mathbf{f}_1 + c_2 \\mathbf{f}_2). \n",
    "$$\n",
    "Moving the terms involving $c_1$ and $c_2$ to the left side, we find that we must have\n",
    "$$\n",
    "    x_1 \\mathbf{v}_1 + x_2 \\mathbf{v}_2 + x_3 \\mathbf{v}_3 - c_1 R \\mathbf{f}_1 - c_2 R \\mathbf{f}_2  = R \\mathbf{i} = R \\mathbf{f}_\\star \n",
    "$$\n",
    "The left hand side may be expressed as a matrix, leading to the equation\n",
    "$$\n",
    "    \\bm \\vv v_1 & \\vv v_2 & \\vv v_3 & -R \\vv f_1 & -R \\vv f_2 \\em \\bm x_1 \\\\ x_2 \\\\ x_3 \\\\ c_1 \\\\ c_2 \\em = R \\mathbf{f}_\\star. \n",
    "$$\n",
    "\n",
    "We may verify that for positive $R_1, R_2, R_3, R_4, R_5$, the vectors $\\vv v_1$, $\\vv v_2$, $\\vv v_3$, $R \\vv f_1$, $R \\vv f_2$ are linearly independent. Therefore, we may invert the matrix $\\bm \\vv v_1 & \\vv v_2 & \\vv v_3 & -R \\vv f_1 & -R \\vv f_2 \\em$ to solve the above equation, from which we find that \n",
    "$$ \n",
    "    \\bm x_1 \\\\ x_2 \\\\ x_3 \\\\ c_1 \\\\ c_2 \\em = \\bm \\vv v_1 & \\vv v_2 & \\vv v_3 & R \\vv f_1 & R \\vv f_2 \\em^{-1} R \\mathbf{f}_\\star. \n",
    "$$\n",
    "\n",
    "Let's try out some different resistances and check that the resulting current profiles make sense. "
   ]
  },
  {
   "cell_type": "code",
   "execution_count": 35,
   "id": "39859316-7b21-4533-a60f-650b014e4617",
   "metadata": {},
   "outputs": [
    {
     "name": "stdout",
     "output_type": "stream",
     "text": [
      "currents:  [2.0000000e+00 2.0000000e+00 4.4408921e-16 2.0000000e+00 2.0000000e+00]\n",
      "voltages: [2.0000000e+01 2.0000000e+01 4.4408921e-15 2.0000000e+01 2.0000000e+01]\n"
     ]
    }
   ],
   "source": [
    "R = np.diag([10, 10, 10, 10, 10])\n",
    "\n",
    "stacked_matrix = np.stack([v_1, v_2, v_3, -R@f_1, -R@f_2], axis=1)\n",
    "solution = np.linalg.inv(stacked_matrix)@R@f_star\n",
    "\n",
    "x_1 = solution[0]; x_2 = solution[1]; x_3 = solution[2]; c_1 = solution[3]; c_2 = solution[4]\n",
    "\n",
    "currents = f_star + c_1*f_1 + c_2*f_2\n",
    "voltages = R@currents\n",
    "\n",
    "print('currents: ', currents)\n",
    "print('voltages:' , voltages)"
   ]
  },
  {
   "cell_type": "markdown",
   "id": "5a8667ce-6346-4b39-8fdd-19df3cfcc5e1",
   "metadata": {},
   "source": [
    "Does the above solution make sense? When all resistances are equal, the two branches of the circuit are equally appealing, so the current is split evenly. Let's try a different resistance profile."
   ]
  },
  {
   "cell_type": "code",
   "execution_count": 42,
   "id": "58c1f347-efe3-4518-a639-5d9328bdd23d",
   "metadata": {},
   "outputs": [
    {
     "name": "stdout",
     "output_type": "stream",
     "text": [
      "currents:  [ 0.45714286  3.54285714 -1.02857143  1.48571429  2.51428571]\n",
      "voltages: [ 45.71428571  35.42857143 -10.28571429  14.85714286  25.14285714]\n"
     ]
    }
   ],
   "source": [
    "R = np.diag([100, 10, 10, 10, 10])\n",
    "\n",
    "stacked_matrix = np.stack([v_1, v_2, v_3, -R@f_1, -R@f_2], axis=1)\n",
    "solution = np.linalg.inv(stacked_matrix)@R@f_star\n",
    "\n",
    "x_1 = solution[0]; x_2 = solution[1]; x_3 = solution[2]; c_1 = solution[3]; c_2 = solution[4]\n",
    "\n",
    "currents = f_star + c_1*f_1 + c_2*f_2\n",
    "voltages = R@currents\n",
    "\n",
    "print('currents: ', currents)\n",
    "print('voltages:' , voltages)"
   ]
  },
  {
   "cell_type": "markdown",
   "id": "e4f23760-1676-4c09-afe8-1af4c96a4130",
   "metadata": {},
   "source": [
    "Now that the resistance $R_1$ is higher, the second path is prefereable. Therefore, a higher portion of the current flows through the second path. After bypassing the high resistance, some of the current reverts to the first path by flowing from node three to node two. "
   ]
  }
 ],
 "metadata": {
  "jupytext": {
   "cell_metadata_filter": "-all",
   "main_language": "python"
  },
  "kernelspec": {
   "display_name": "Python 3 (ipykernel)",
   "language": "python",
   "name": "python3"
  },
  "language_info": {
   "codemirror_mode": {
    "name": "ipython",
    "version": 3
   },
   "file_extension": ".py",
   "mimetype": "text/x-python",
   "name": "python",
   "nbconvert_exporter": "python",
   "pygments_lexer": "ipython3",
   "version": "3.12.4"
  }
 },
 "nbformat": 4,
 "nbformat_minor": 5
}
