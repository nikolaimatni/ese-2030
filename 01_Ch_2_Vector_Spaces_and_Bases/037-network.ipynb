{
 "cells": [
  {
   "cell_type": "markdown",
   "id": "fd7554ca-5ac4-4958-b713-648e3fd54114",
   "metadata": {
    "editable": true,
    "slideshow": {
     "slide_type": ""
    },
    "tags": []
   },
   "source": [
    "---\n",
    "title: \"2.7 Case Study: Network Flows Revisited\"\n",
    "subject: Vector Spaces and Bases\n",
    "subtitle: linear algebra in electric circuits\n",
    "short_title: \"2.7 Case Study: Network Flows\"\n",
    "authors:\n",
    "  - name: Nikolai Matni\n",
    "    affiliations:\n",
    "      - Dept. of Electrical and Systems Engineering\n",
    "      - University of Pennsylvania\n",
    "    email: nmatni@seas.upenn.edu\n",
    "license: CC-BY-4.0\n",
    "keywords: nodes, edges, Kirchoff's law\n",
    "math:\n",
    "  '\\vv': '\\mathbf{#1}'\n",
    "  '\\bm': '\\begin{bmatrix}'\n",
    "  '\\em': '\\end{bmatrix}'\n",
    "  '\\R': '\\mathbb{R}'\n",
    "---"
   ]
  },
  {
   "cell_type": "markdown",
   "id": "32164906-4a16-4c63-a6e4-380f298aebd4",
   "metadata": {},
   "source": [
    "[![Binder](https://mybinder.org/badge_logo.svg)](https://mybinder.org/v2/gh/nikolaimatni/ese-2030/HEAD?labpath=/01_Ch_2_Vector_Spaces_and_Bases/037-network.ipynb)\n",
    "\n",
    "{doc}`Lecture notes <../lecture_notes/Lecture 04 - The Fundamental Matrix Subspaces (Kernel, Image, CoKernel, CoImage), Fundamental Theorem of Linear Algebra, and a brief interlude on the Matrix Transpose.pdf>`"
   ]
  },
  {
   "cell_type": "markdown",
   "id": "a46f522d-2995-412b-92cf-9ff085526b18",
   "metadata": {},
   "source": [
    "## Reading\n",
    "\n",
    "Material related to this page, as well as additional exercises, can be found in ALA Ch. 1.6."
   ]
  },
  {
   "cell_type": "markdown",
   "id": "d276bcc3-237d-4cda-8bf0-39285b0a09f3",
   "metadata": {},
   "source": [
    "## Learning Objectives\n",
    "\n",
    "By the end of this page, you should know:\n",
    "- how to represent flows in networks as matrices\n",
    "- the sources and sinks in a network\n",
    "- the relationship of flow conservation to linear systems"
   ]
  },
  {
   "cell_type": "markdown",
   "id": "a1b52c01-f3b4-4b43-baeb-f97bc73802a8",
   "metadata": {},
   "source": [
    "## Incidence Matrix\n",
    "\n",
    "Consider the directed graph below with $4$ nodes and $5$ edges\n",
    "\n",
    ":::{figure}../figures/03-network.jpg\n",
    ":label:network\n",
    ":alt: Network\n",
    ":width: 350px\n",
    ":align: center\n",
    ":::\n",
    "\n",
    "We can associate an incidence matrix $A$ with this [graph](#network). Each row corresponds to a node, and each column to an edge, with\n",
    "\\begin{equation}\n",
    "\\label{inc}\n",
    "a_{ij} =\n",
    "\\begin{cases}\n",
    "1 & \\textrm{if edge} \\ j \\ \\textrm{points \\textbf{to} node} \\ i  \\\\\n",
    "-1 & \\textrm{if edge} \\ j \\ \\textrm{points \\textbf{from} node} \\ i \n",
    "\\end{cases}.\n",
    "\\end{equation}\n",
    "For [](#network), $A \\in \\mathbb{R}^{4 \\times 5}$, and\n",
    "\\begin{equation}\n",
    "\\label{inc_A}\n",
    "A &= \\bm \n",
    "-1 & -1 & 0 & 0 & 0 \\\\\n",
    "1 & 0 & -1 & -1 & 0 \\\\\n",
    "0 & 1 & 1 & 0 & -1 \\\\\n",
    "0 & 0 & 0 & 1 & 1 \n",
    "\\em\n",
    "\\end{equation}\n",
    "\n",
    "By considering the four fundamental subspaces (Row, Column, Null and Left Null Space) of $A$, we can completely understand the properties of our network flow problem."
   ]
  },
  {
   "cell_type": "markdown",
   "id": "d52741b0-3bf7-4b39-bbd8-021b03a6aa42",
   "metadata": {},
   "source": [
    "## The Current Law\n",
    "\n",
    "First, we define the source vector $\\vv s = \\bm s \\\\ 0 \\\\ 0 \\\\ -s \\em$, which captures external flows entering (positive entries) the network referred to as _sources_, and flows leaving (negative entries) the network known as _sinks_. We make sure $\\vv 1^{\\top} \\vv s = 0$. \n",
    "\n",
    "The flow conservation equations say that flows entering a node must equal flows leaving a node, which can be written as\n",
    "\\begin{equation}\n",
    "\\label{flow_conserve}\n",
    "A \\vv f + \\vv s = \\vv 0 \\ \\textrm{or} \\ A \\vv f = - \\vv s, \n",
    "\\end{equation}\n",
    "where $\\vv f = \\bm f_1 \\\\ f_2 \\\\ f_3 \\\\ f_4 \\\\ f_5 \\em \\in \\mathbb{R}^{5}$ is the vector of edge flows. If we assume that $s_1$ and $s_4$ is given to us (they often are), then the solution set to [](#flow_conserve) characterizes all flows compatible with the network and the source vector $\\vv s$.\n",
    "\n",
    "From [this theorem](./035-kernel_image.ipynb), we see that $A \\vv f = - \\vv s$ has a solution if and only if $\\vv s \\in $Col$(A)$. Let's try to understand when this might be true by computing a basis for Col$(A)$.\n",
    "\n",
    "From [](#inc_A), we notice that \n",
    "1. columns 1, 2 and 3 are **not independent**: column 3 = column 2 - column 1.\n",
    "2. columns 3, 4 and 5 are **not independent**: column 5 = column 4 - column 3 = column 4 - column2 + column 1\n",
    "\n",
    "However, we have that columns 1, 2  and 4 are **independent**! Since we can represent columns 3 and 5 in terms of columns 1, 2  and 4; columns 1, 2 and 4 span Col$(A)$. We conclude that columns 1, 2 and 4 form a basis for Col$(A)$, and dim(Col$(A)) = 3$. \n",
    "\n",
    "Now, let's take a closer look at [](#network): edges $1, 2$ and $3$ form a **loop** in the graph, while edges $3, 4$ and $5$ form another **loop**. In contrast, edges $1, 2$ and $4$ form a tree, which has no loops! This tells us that the edges of any tree in our graph gives us independent columns! \n",
    "\n",
    "We check if $\\vv s \\in$Col$(A)$ using columns $1, 2 $ and $4$.\n",
    "\\begin{equation}\n",
    "\\label{col_A}\n",
    "\\bm -1 & -1 & 0 \\\\ 1 & 0 & -1 \\\\ 0 & 1 & 0 \\\\ 0 & 0 & 1\\em\n",
    "\\bm f_1 \\\\ f_2 \\\\ f_4\\em = \\bm -s \\\\ 0 \\\\ 0 \\\\ s\\em, \\\\\n",
    "\\Rightarrow \n",
    "-f_1 - f_2 &= -s \\\\\n",
    "f_1 - f_4 &= 0\\\\\n",
    "f_2 &= 0\\\\\n",
    "f_4 &= s, \\\\\n",
    "\\Rightarrow \\vv f^* = \\bm s \\\\ 0 \\\\ 0 \\\\ s \\\\ 0\\em,\n",
    "\\end{equation}\n",
    "which has solution $f_1 = f_4 = s$ and $f_2 = 0$. This corresponds to putting the flow on edges $1$ and $4$ as shown below. \n",
    ":::{figure}../figures/03-network_flow.jpg\n",
    ":label:network_flow\n",
    ":alt: Network Flow\n",
    ":width: 350px\n",
    ":align: center\n",
    ":::\n",
    "There are other ways to distribute the flow S to satisfy $A \\vv f = -\\vv s$, which can be seen using the Null Space of $A$. The solution set to $A \\vv f = \\vv 0$ captures flow conservation in the absence of external sources. This corresponds to **(flow in) - (flow out) = 0** at each node: this is called _Kirchoff's current law in electric circuits_.\n",
    "\n",
    "We already noticed that column 3= column 2 - column 1. Hence, the solution to $A \\vv f = \\vv 0$ is $\\vv f_1 = \\bm -1 \\\\ 1 \\\\ -1 \\\\ 0 \\\\ 0\\em$ (verify for yourself), which corresponds to going around the $1, 3, 2$ loop! Similarly, column 5 = column 4- column 3, giving $\\vv f_2 = \\bm 0 \\\\ 0 \\\\ -1 \\\\ 1 \\\\ -1\\em$, corresponding to the $3, 5, 4$ loop! $\\vv f_1$ and $\\vv f_2$ are linearly independent, and we know that dim(Null$(A)) = 5 - $dim(Col($A)) = 5 - 3 = 2$. Hence, $\\vv f_1$ and $\\vv f_2$ form a basis! \n",
    "\n",
    "From [this theorem](#./035-kernel_image.ipynb#soln_thm), we can therefore write the general solution to $A \\vv f = -\\vv s$ as\n",
    "\\begin{equation}\n",
    "\\label{gen_soln}\n",
    "\\vv f = \\vv f^* + c_1 \\vv f_1 + c_2 \\vv f_2.\n",
    "\\end{equation}\n",
    "The elements $\\vv n \\in $Null$(A)$ are called _circulations_ (why?).\n"
   ]
  },
  {
   "cell_type": "markdown",
   "id": "dc5f4f1d-5b54-47d8-98ac-c01ff6680fce",
   "metadata": {},
   "source": [
    "## The Voltage Law\n",
    "\n",
    "\n",
    "Instead of flows, let's discuss about potential differences, or voltages, across nodes.\n",
    ":::{figure}../figures/03-network_volt.jpg\n",
    ":label:network_volt\n",
    ":alt: Network Voltage\n",
    ":width: 350px\n",
    ":align: center\n",
    ":::\n",
    "Solving $A^{\\top} \\vv x = \\vv v$ tells us what potentials we need to put on the nodes to achieve the desired voltages. For example, the first row of $A^{\\top} \\vv x = \\vv v$ is $-x_1 + x_2 = v_1$. This is _Kirchoff's Voltage Law_!\n",
    "\n",
    "Let's start with Null$(A^{\\top})$, which we find by setting $\\vv v = \\vv 0$.\n",
    "\\begin{equation}\n",
    "\\label{volt_eqn}\n",
    "A \\vv x = \\vv 0 \\Rightarrow x_1 = x_2 \\ (\\textrm{first row}), \\ x_1 = x_3 \\ (\\textrm{second row}), \\ x_2 = x_4 \\ (\\textrm{fourth row}) \\Rightarrow x_1 = x_2 = x_3 = x_4 = c.\n",
    "\\end{equation}\n",
    "From [](#volt_eqn), Null$(A^{\\top})$ is a line in $\\mathbb{R}^4$ spanned by $\\vv 1 = \\bm 1 \\\\ 1 \\\\ 1 \\\\ 1\\em$. The rank of $A$ must be $4 - 1 = 3$, which we saw was true above!\n",
    "\n",
    "The row space of $A$ is the column space of $A^{\\top}$. There must be $3$ independent columns of $A^{\\top}$ (since rank = 3). So, let's try to find them by inspection. The first three columns of $A^{\\top}$ are\n",
    "\\begin{equation}\n",
    "\\label{volt_col}\n",
    "\\vv v_1 = \\bm -1 \\\\ -1 \\\\ 0 \\\\ 0 \\\\ 0 \\em, \\ \n",
    "\\vv v_2 = \\bm 1 \\\\ 0 \\\\ -1 \\\\ -1 \\\\ 0 \\em, \\\n",
    "\\vv v_3 = \\bm 0 \\\\ 1 \\\\ 1 \\\\ 0 \\\\ -1 \\em\n",
    "\\end{equation}\n",
    "which can be verified to to be linearly independent. Therefore, voltage configuration $\\vv v$ lying in span$\\{\\vv v_1, \\vv v_2, \\vv v_3\\}$ can be encoded in this [graph](#network_volt).\n",
    "\n",
    ":::{exercise} Can you interpret what the below statement means physically?\n",
    ":label:challenge\n",
    "$$\n",
    "\\vv v \\in \\textrm{Col}(A^{\\top}) \\ \\textrm{if and only if} \\ \\vv f_1^{\\top} \\vv v = \\vv 0 \\ \\textrm{and} \\ \\vv f_2^{\\top} \\vv v = \\vv 0.\n",
    "$$\n",
    "\n",
    "```{solution} challenge\n",
    ":class: dropdown \n",
    "The basis elements $\\vv f_1$ and $\\vv f_2$ encode _loops_ in the graph. This says that $\\vv v$ is a valid voltage profile if and only if summing voltages along a loop equals zero. This is another way of stating Kirchoff's Voltage law. \n",
    ":::\n",
    "\n",
    "We will understand where the statement in [](#challenge) comes from in the next couple of lectures! "
   ]
  },
  {
   "cell_type": "markdown",
   "id": "c23418a8-5898-4562-a4b1-6226d4bdda1e",
   "metadata": {},
   "source": [
    "[![Binder](https://mybinder.org/badge_logo.svg)](https://mybinder.org/v2/gh/nikolaimatni/ese-2030/HEAD?labpath=/01_Ch_2_Vector_Spaces_and_Bases/037-network.ipynb)\n"
   ]
  }
 ],
 "metadata": {
  "jupytext": {
   "cell_metadata_filter": "-all",
   "main_language": "python"
  },
  "kernelspec": {
   "display_name": "Python 3 (ipykernel)",
   "language": "python",
   "name": "python3"
  },
  "language_info": {
   "codemirror_mode": {
    "name": "ipython",
    "version": 3
   },
   "file_extension": ".py",
   "mimetype": "text/x-python",
   "name": "python",
   "nbconvert_exporter": "python",
   "pygments_lexer": "ipython3",
   "version": "3.8.19"
  }
 },
 "nbformat": 4,
 "nbformat_minor": 5
}
