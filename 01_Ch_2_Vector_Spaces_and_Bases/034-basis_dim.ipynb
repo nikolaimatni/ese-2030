{
 "cells": [
  {
   "cell_type": "markdown",
   "id": "fd7554ca-5ac4-4958-b713-648e3fd54114",
   "metadata": {
    "editable": true,
    "slideshow": {
     "slide_type": ""
    },
    "tags": []
   },
   "source": [
    "---\n",
    "title: 2.4 Basis and Dimension\n",
    "subject: Vector Spaces and Bases\n",
    "subtitle: How many directions are there\n",
    "short_title: 2.4 Basis and Dimension\n",
    "authors:\n",
    "  - name: Nikolai Matni\n",
    "    affiliations:\n",
    "      - Dept. of Electrical and Systems Engineering\n",
    "      - University of Pennsylvania\n",
    "    email: nmatni@seas.upenn.edu\n",
    "license: CC-BY-4.0\n",
    "keywords: subspaces, closure\n",
    "math:\n",
    "  '\\vv': '\\mathbf{#1}'\n",
    "  '\\bm': '\\begin{bmatrix}'\n",
    "  '\\em': '\\end{bmatrix}'\n",
    "  '\\R': '\\mathbb{R}'\n",
    "---"
   ]
  },
  {
   "cell_type": "markdown",
   "id": "cf0fa359-af56-4928-96f9-698c1e167549",
   "metadata": {},
   "source": [
    "[![Binder](https://mybinder.org/badge_logo.svg)](https://mybinder.org/v2/gh/nikolaimatni/ese-2030/HEAD?labpath=/01_Ch_2_Vector_Spaces_and_Bases/034-basis_dim.ipynb)\n",
    "\n",
    "{doc}`Lecture notes <../lecture_notes/Lecture 03 - Vector Spaces 1_ Definitions, Subspaces, Span, Linear Independence, Basis, and Dimension.pdf>`"
   ]
  },
  {
   "cell_type": "markdown",
   "id": "a46f522d-2995-412b-92cf-9ff085526b18",
   "metadata": {},
   "source": [
    "## Reading\n",
    "\n",
    "Material related to this page, as well as additional exercises, can be found in ALA Ch. 2.4 and LAA 4.3-4.5."
   ]
  },
  {
   "cell_type": "markdown",
   "id": "d276bcc3-237d-4cda-8bf0-39285b0a09f3",
   "metadata": {},
   "source": [
    "## Learning Objectives\n",
    "\n",
    "By the end of this page, you should know:\n",
    "- a basis of a vector space\n",
    "- the dimension of a vector space\n",
    "- a coordinate system for generic vector spaces"
   ]
  },
  {
   "cell_type": "markdown",
   "id": "95553d95-0888-448b-a55f-3147b14b90c4",
   "metadata": {},
   "source": [
    "## Basis\n",
    "\n",
    "\n",
    "The previous section was admittedly quite abstract, but it was necessary to get us to the extremely practical notion of a _basis of a vector space_. This section is where the magic happens: we will show that any $n$ _dimensional_ vector space doesn't just look like, but \"behaves the same\" as $\\mathbb{R}^n$. \n",
    "\n",
    ":::{prf:definition} Basis\n",
    ":label: basis_defn\n",
    "A basis of a vector space $V$ is a ﬁnite collection of elements $\\vv v_1 ,\\ldots, \\vv v_n \\in\n",
    "V$ that\n",
    "1. [spans](./033-span_lin_ind.ipynb#ln_comb) $V$, and \n",
    "2. is [linearly independent](./033-span_lin_ind.ipynb#lin_dep).\n",
    ":::\n",
    "\n",
    "Another way of thinking about a basis is we are looking for the smallest collection of vectors that allows us to express any vector $\\vv v \\in V$ as a linear combination from our collection.\n",
    "\n",
    ":::{prf:example}\n",
    ":label:basis_eg\n",
    "\n",
    "The _standard_ basis of $\\mathbb{R}^n$ consists of the $n$ vectors\n",
    "\\begin{equation}\n",
    "\\label{stand_basis}\n",
    "\\vv e_1 = \\bm 1 \\\\ 0 \\\\ 0 \\\\ \\vdots \\\\ 0\\em,\n",
    "\\vv e_2 = \\bm 0 \\\\ 1 \\\\ 0 \\\\ \\vdots \\\\ 0\\em, \\ldots, \n",
    "\\vv e_n = \\bm 0 \\\\ 0 \\\\ \\vdots \\\\ 0 \\\\ 1\\em\n",
    "\\end{equation}\n",
    "The vectors in [](#stand_basis) clearly span $\\mathbb{R}^n$: $\\vv x = x_1 \\vv e_1 + x_2 \\vv e_2 + \\ldots + x_n \\vv e_n$ and are linearly independent.\n",
    "\n",
    "\n",
    "```{note}\n",
    "That we need $n$ vectors to define a basis of $\\mathbb{R}^n$ is no coincidence, in fact any basis of $\\mathbb{R}^n$ consists of exactly $n$ vectors.\n",
    "```\n",
    "\n",
    ":::\n",
    "\n",
    ":::{prf:example}\n",
    ":label:basis_eg_2\n",
    "\n",
    "The set $S = \\{1, x, x^2, \\ldots, x^n\\}$ is a basis for [$P^{(n)}$](./031-vector_spaces#poly_ex5): the space of polynomials of degree $\\leq n$. This is called the _standard basis for $P^{(n)}$_.\n",
    "\n",
    "```{note}\n",
    "Notice that $P^{(n)}$ can have upto $n+1$ terms ($a_0, a_1x, \\ldots ,a_nx^n$), and that its basis $S$ also has $n+1$ terms. This is not a coincidence!\n",
    "```\n",
    ":::\n",
    "\n",
    ":::{prf:definition} Dimension\n",
    ":label: dim_defn\n",
    "Suppose a vector space $V$ has a basis composed of $n$ elements $\\vv v_1 ,\\ldots, \\vv v_n$. Then, any other basis for $V$ also has the same number of elements $n$ in it. This number is called the _dimension_ of $V$, written as dim$(V) = n$. \n",
    ":::\n",
    "\n",
    ":::{prf:example}\n",
    ":label:dim_eg\n",
    "\n",
    "Both $\\mathbb{R}^n$ and $P^{(n-1)}$ have dimension $n$. Note that dim$(P^{(n)})=n+1$ because of the constant term $a_0$ in $p(x) = a_0 + a_1x + \\ldots + a_nx^n$.\n",
    ":::"
   ]
  },
  {
   "cell_type": "markdown",
   "id": "164f0b5b-29a4-4499-8cf9-f1b676e685d5",
   "metadata": {},
   "source": [
    "## Coordinate System\n",
    "\n",
    "An important reason for specifying a basis for a vector space $V$ is to impose a _coordinate system_ on $V$. This section will show that if if dim$(V) = n$, that is, if the basis has $n$ elements, then the coordinate system makes $V$ behave exactly like $\\mathbb{R}^n$!\n",
    "\n",
    "```{prf:theorem}\n",
    ":label:thm_coord\n",
    "Let $\\vv v_1 ,\\ldots, \\vv v_n$ be a basis for a vector space $V$. Then, for each $\\vv v \\in V$, there exists a **unique** set of coefficients $c_1, \\ldots, c_n$ such that\n",
    "\\begin{equation}\n",
    "\\label{thm_coord_eqn}\n",
    "\\vv v = c_1 \\vv v_1 + c_2 \\vv v_2 + \\ldots + c_n \\vv v_n\n",
    "\\end{equation}\n",
    ":::{prf:proof} Proof of [](#thm_coord)\n",
    ":label: proof-thm_coord\n",
    ":class: dropdown\n",
    "Since $\\vv v_1 ,\\ldots, \\vv v_n$ is a basis for $V$, there exists at least one set of coefficients such that [](#thm_coord_eqn) holds. Suppose $\\vv v$ also has the representation\n",
    "\\begin{equation}\n",
    "\\label{proof_coord_eqn}\n",
    "\\vv v = d_1 \\vv v_1 + d_2 \\vv v_2 + \\ldots + d_n \\vv v_n,\n",
    "\\end{equation}\n",
    "then,\n",
    "\\begin{equation}\n",
    "\\label{proof_coord_eqn_1}\n",
    "\\vv 0 = \\vv v - \\vv v = (d_1 - c_1)\\vv v_1 + (d_2 - c_2)\\vv v_2 + \\ldots + (d_n - c_n)\\vv v_n.\n",
    "\\end{equation}\n",
    "However, since $\\vv v_1 ,\\ldots, \\vv v_n$ forms a basis, they are linearly dependent, meaning [](#proof_coord_eqn) is only satisfied for $d_i - c_i = 0 \\Leftrightarrow d_i = c_i$ for $ = 1, 2, \\ldots, n$.\n",
    ":::\n",
    "```\n",
    "\n",
    ":::{prf:definition} Coordinates\n",
    ":label: coord_defn\n",
    "For a given basis $B = \\{\\vv v_1 ,\\ldots, \\vv v_n\\}$ of a vector space $V$, we can therefore define the vector $\\vv c \\in \\mathbb{R}^n$ as the _coordinates_ for $\\vv x$ relative to $B$ by the weights in its representation:\n",
    "\\begin{equation}\n",
    "\\label{coord_def}\n",
    "\\vv c = \\bm c_1 \\\\ c_2 \\\\ \\vdots \\\\ c_n\\em,  \\ \\textrm{with} \\ \\vv x = c_1 \\vv v_1 + c_2 \\vv v_2 + \\ldots + c_n \\vv v_n.\n",
    "\\end{equation}\n",
    ":::"
   ]
  },
  {
   "cell_type": "markdown",
   "id": "ecc72ec6",
   "metadata": {},
   "source": [
    ":::{prf:example} Change of basis\n",
    ":label:change_of_basis-ex1\n",
    "\n",
    "Consider the standard basis $B = \\{ \\vv e_1, \\vv e_2\\}$ for $\\mathbb R^2$. Then we have $\\bm x_1 \\\\x_2 \\em = x_1 \\vv e_1 + x_2 \\vv e_2$, and so the $B$-coordinates of $\\vv x$ are $x_1$ and $x_2$, as expected.\n",
    "\n",
    "What if we instead use he basis $B' = \\left\\{ \\bm 1\\\\1 \\em, \\bm 1\\\\-1 \\em \\right\\}$? We need to find coordinates $c_1$ and $c_2$ such that \n",
    "\n",
    "\\begin{align*}\n",
    "    c_1\\bm 1 \\\\ 1\\em + c_2 \\bm 1\\\\ -1\\em = \\bm c_1 + c_2 \\\\ c_1 - c_2 \\em = \\bm x_1 \\\\ x_2 \\em\n",
    "\\end{align*}\n",
    "\n",
    "This linear system has a solution (it must!), and it is $c_1 = \\frac{x_1 + x_2}{2}, c_1 = \\frac{x_1 - x_2}{2}$. In the coordinate system defined by $B'$, the coordinates for $\\bm x_1\\\\x_2 \\em$ are $\\frac\n",
    " 1 2 \\bm x_1 + x_2 \\\\ x_1 - x_2 \\em$. \n",
    " \n",
    "Moving from basis $B$ to $B'$ is called a __change of basis__. Can you pose this as finding the solution to $A \\vv c = \\vv x$?\n",
    "\n",
    ":::"
   ]
  },
  {
   "cell_type": "markdown",
   "id": "3c9d29d5",
   "metadata": {},
   "source": [
    ":::{prf:example} Isomorphic vector spaces\n",
    ":label:isomorphisms-ex1\n",
    "\n",
    "Let $B = \\{ 1, x, x^2, x^3 \\}$ be the standard basis for $P^{(3)}$. A typical element $p(x) \\in P^{(3)}$ has the form $p(x) = a_0 + a_1x + a_2x^2 + a_3x^3$.\n",
    "\n",
    "We can read off the coordinates of $p(x)$ with respect to $B$, which we encode in the vector $\\vv p$:\n",
    "\n",
    "\\begin{align*}\n",
    "\\vv p = \\bm a_0 \\\\ a_1 \\\\ a_2 \\\\ a_3 \\em\n",
    "\\end{align*}\n",
    "\n",
    "Notice that $\\vv p$ lives in $\\mathbb R^4$! Notice even further that the coefficients of the sum of polynomials:\n",
    "\n",
    "\\begin{align*}\n",
    "    p(x) = a_0 + a_1x + a_2x^2 + a_3x^3, \\quad q(x) = b_0 + b_1x + b_2x^2 + b_3x^3\\\\\n",
    "    p(x) + q(x) = (a_0 + b_0) + (a_1 + b_1)x + (a_2 + b_2)x^2 + (a_3 + b_3)x^3\n",
    "\\end{align*}\n",
    "\n",
    "can be obtained by adding their $B$-coordinate vectors in $\\mathbb R^4$:\n",
    "\n",
    "\\begin{align*}\n",
    "    \\vv p + \\vv q = \\bm a_0\\\\a_1\\\\a_2\\\\a_3 \\em + \\bm b_0\\\\b_1\\\\b_2\\\\b_3 \\em = \\bm a_2 + b_0 \\\\ a_1 + b_1 \\\\ a_2 + b_2 \\\\ a_3 + b_3 \\em\n",
    "\\end{align*}\n",
    "\n",
    "You should check that the same connection between $cp(x)$ and $c\\vv p$ also holds. By setting a suitable coordiante system (via a basis), working with elements of $P^{(3)}$, which are polynomial functions, can be turned into working with ordinary vectors in $\\mathbb{R}^4$!\n",
    "\n",
    "The idea of going back and forth between the vector spaces is captured in terms of a **vector space isomorphism**. We do not yet have all of the tools needed to define this rigorously, but for now, we will interpret it as meaning that **every vector space calculation in $V$ is accurately reproduced in $W$, and vice versa**.\n",
    "\n",
    "In the above example, we used that $P^{(3)}$ and $\\mathbb R^4$ **are isomorphic**, so we can add and scale either the polynomials directly, or work with their coefficient vectors in $\\mathbb R^4$. Even though they are closely related, **they are not the same thing**. Rather $P^{(3)}$ and $\\mathbb R^4$ are different ways of representing polynomials of degree $\\leq 3$, connected via the chosen basis $B = \\{ 1, x, x^2 ,x^3\\}$.\n",
    "\n",
    ":::"
   ]
  },
  {
   "cell_type": "markdown",
   "id": "32ca80df-af8d-40fc-af5a-d3f0c5452f58",
   "metadata": {},
   "source": [
    "[![Binder](https://mybinder.org/badge_logo.svg)](https://mybinder.org/v2/gh/nikolaimatni/ese-2030/HEAD?labpath=/01_Ch_2_Vector_Spaces_and_Bases/034-basis_dim.ipynb)"
   ]
  },
  {
   "cell_type": "code",
   "execution_count": null,
   "id": "cce286fc-b514-44df-a92a-d17e829905f6",
   "metadata": {},
   "outputs": [],
   "source": []
  }
 ],
 "metadata": {
  "jupytext": {
   "cell_metadata_filter": "-all",
   "main_language": "python"
  },
  "kernelspec": {
   "display_name": "Python 3 (ipykernel)",
   "language": "python",
   "name": "python3"
  },
  "language_info": {
   "codemirror_mode": {
    "name": "ipython",
    "version": 3
   },
   "file_extension": ".py",
   "mimetype": "text/x-python",
   "name": "python",
   "nbconvert_exporter": "python",
   "pygments_lexer": "ipython3",
   "version": "3.8.19"
  }
 },
 "nbformat": 4,
 "nbformat_minor": 5
}
