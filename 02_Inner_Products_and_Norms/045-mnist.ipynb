{
 "cells": [
  {
   "cell_type": "markdown",
   "metadata": {},
   "source": [
    "---\n",
    "title: Case Study - Handwritten Digit Recognition with K-Means\n",
    "subject: Inner Products and Norms\n",
    "subtitle: \n",
    "short_title: Case Study - Handwritten Digit Recognition with K-Means\n",
    "authors:\n",
    "  - name: Nikolai Matni\n",
    "    affiliations:\n",
    "      - Dept. of Electrical and Systems Engineering\n",
    "      - University of Pennsylvania\n",
    "    email: nmatni@seas.upenn.edu\n",
    "license: CC-BY-4.0\n",
    "keywords: K-Means, Clustering, MNIST\n",
    "math:\n",
    "  '\\vv': '\\mathbf{#1}'\n",
    "  '\\bm': '\\begin{bmatrix}'\n",
    "  '\\em': '\\end{bmatrix}'\n",
    "  '\\R': '\\mathbb{R}'\n",
    "---"
   ]
  },
  {
   "cell_type": "markdown",
   "metadata": {},
   "source": [
    "In this case study, we're going to apply the [k-means algorithm](#k-means-alg) to a dataset consisting of 60000 handwritten digits. \n",
    "\n",
    "# The MNIST Dataset\n",
    "\n",
    "The MNIST dataset, created by Yann Lecun, is a dataset consisting on 60000 handwritten digits, which are represented by $28 \\times 28$ pixel black and white images. A few examples of images from the dataset are below:\n",
    "\n",
    "![25 images from MNIST](../figures/04-mnist_sample.png)\n",
    "\n",
    "\n"
   ]
  }
 ],
 "metadata": {
  "kernelspec": {
   "display_name": "Python 3 (ipykernel)",
   "language": "python",
   "name": "python3"
  },
  "language_info": {
   "codemirror_mode": {
    "name": "ipython",
    "version": 3
   },
   "file_extension": ".py",
   "mimetype": "text/x-python",
   "name": "python",
   "nbconvert_exporter": "python",
   "pygments_lexer": "ipython3",
   "version": "3.12.2"
  }
 },
 "nbformat": 4,
 "nbformat_minor": 4
}
