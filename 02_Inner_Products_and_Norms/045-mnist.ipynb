{
 "cells": [
  {
   "cell_type": "markdown",
   "metadata": {},
   "source": [
    "---\n",
    "title: \"Case Study: Handwritten Digit Recognition with K-Means\"\n",
    "subject: Inner Products and Norms\n",
    "subtitle: \n",
    "short_title: \"Case Study: Handwritten Digit Recognition with K-Means\"\n",
    "authors:\n",
    "  - name: Nikolai Matni\n",
    "    affiliations:\n",
    "      - Dept. of Electrical and Systems Engineering\n",
    "      - University of Pennsylvania\n",
    "    email: nmatni@seas.upenn.edu\n",
    "license: CC-BY-4.0\n",
    "keywords: K-Means, Clustering, MNIST\n",
    "math:\n",
    "  '\\vv': '\\mathbf{#1}'\n",
    "  '\\bm': '\\begin{bmatrix}'\n",
    "  '\\em': '\\end{bmatrix}'\n",
    "  '\\R': '\\mathbb{R}'\n",
    "---"
   ]
  },
  {
   "cell_type": "markdown",
   "metadata": {},
   "source": [
    "K-means falls into the category of *unsupervised machine learning* algorithms, or algorithms which take a dataset and output patterns from that dataset. K-means, being a clustering algorithm, extracts clusters from a dataset of vectors. This is in contrast to *supervised machine learning* algorithms, which take a dataset consisting of input-output pairs, and try to learn a function mapping inputs to outputs.\n",
    "\n",
    "In this case study, we're going to apply the [k-means algorithm](#k-means-alg) to a dataset consisting of 1797 handwritten digits. Our objective is to identify groups of similar digits. To that end, we will:\n",
    "\n",
    "* use k-means to group these digits into 20 clusters,\n",
    "\n",
    "* visualize the clustering representatives,\n",
    "\n",
    "* measure how well k-means clustered different digits,\n",
    "\n",
    "* measure which pairs of digits k-means did well/poor in differentiating.\n",
    "\n",
    "# The UCI-Test Dataset\n",
    "\n",
    "The UCI-Test dataset is a dataset consisting of 1797 handwritten digits, which are represented by $8 \\times 8$ pixel greyscale images. A few examples of images from the dataset are below:\n",
    "\n",
    "![25 images from UCI-Test](../figures/04-mnist_sample.png)\n",
    "\n",
    "Although not pictured above, the UCI-Test dataset is actually a labeled dataset, which means it contains input-output pairs (where the inputs are the images and the outputs are what digit an image represents). We can load the dataset, which conveniently comes with the ```scikit-learn``` library, as follows:"
   ]
  },
  {
   "cell_type": "code",
   "execution_count": 49,
   "metadata": {},
   "outputs": [
    {
     "name": "stdout",
     "output_type": "stream",
     "text": [
      "(1797, 64)\n",
      "(1797,)\n"
     ]
    }
   ],
   "source": [
    "from sklearn.datasets import load_digits\n",
    "digits = load_digits()\n",
    "print(digits.data.shape)\n",
    "print(digits.target.shape)"
   ]
  },
  {
   "cell_type": "markdown",
   "metadata": {},
   "source": [
    "The ```digits.data``` variable is an 1797-by-64 matrix representing a collection of 1797 8-by-8 images; each column of this matrix has 64 entries and represents a \"flattened\" 8-by-8 image (where each block of 8 entries represents a column of the image).\n",
    "\n",
    "The ```digits.target``` variable is a vector with 1797 entries representing the human-given labels (an integer from 0 to 9) of the corresponding image. For example, ```digits.target[0]``` is the digit value of ```digits.data[0, :]```."
   ]
  },
  {
   "cell_type": "markdown",
   "metadata": {},
   "source": [
    "# Clustering the Images with K-Means\n",
    "\n",
    "K-means, as an unsupervised learning algorithm, does not require knowledge of the labels. Instead of learning to predict whether an image is a zero, one, two, etc. (which requires knowledge of the labels), k-means groups similar images together, and hence only needs the ```digits.data``` variable.\n",
    "\n",
    "The clustering can be performed with the ```scikit-learn``` library, as we did in the previous section. Notice that we chose to use 20 clusters, even though there are only 10 digits; in practice, the number of clusters is often unknown."
   ]
  },
  {
   "cell_type": "code",
   "execution_count": 50,
   "metadata": {},
   "outputs": [
    {
     "data": {
      "text/plain": [
       "(20, 64)"
      ]
     },
     "execution_count": 50,
     "metadata": {},
     "output_type": "execute_result"
    }
   ],
   "source": [
    "from sklearn.cluster import KMeans\n",
    "kmeans = KMeans(n_clusters=20, random_state=10)\n",
    "clusters = kmeans.fit_predict(digits.data)\n",
    "kmeans.cluster_centers_.shape"
   ]
  },
  {
   "cell_type": "markdown",
   "metadata": {},
   "source": [
    "The result is 20 clusters in 64 dimensions. Notice that the cluster centers themselves are 64-dimensional points, and can themselves be interpreted as the \"typical\" digit within the cluster.\n",
    "\n",
    "## Visualizing cluster centers\n",
    "\n",
    "Let's see what these cluster centers look like:"
   ]
  },
  {
   "cell_type": "code",
   "execution_count": 51,
   "metadata": {},
   "outputs": [
    {
     "data": {
      "image/png": "[encoded data removed]",
      "text/plain": [
       "<Figure size 800x300 with 20 Axes>"
      ]
     },
     "metadata": {},
     "output_type": "display_data"
    }
   ],
   "source": [
    "import matplotlib.pyplot as plt\n",
    "fig, ax = plt.subplots(2, 10, figsize=(8, 3))\n",
    "centers = kmeans.cluster_centers_.reshape(20, 8, 8)\n",
    "for axi, center in zip(ax.flat, centers):\n",
    "    axi.set(xticks=[], yticks=[])\n",
    "    axi.imshow(center, interpolation='nearest', cmap=plt.cm.binary)"
   ]
  },
  {
   "cell_type": "markdown",
   "metadata": {},
   "source": [
    "We see that *even without the labels*, k-means is able to find clusters whose centers are recognizable digits, with perhaps the exception of 1 and 8.\n",
    "\n",
    "## Labeling the cluster centers\n",
    "\n",
    "We emphasize that k-means *does not* know the true identity of each cluster, because it was never given the labels. We can fix this by matching each learned cluster with the true labels found in them. In this example, we choose to match each cluster to the label it contains the most of (remember that the labels are given in ```digits.target```):"
   ]
  },
  {
   "cell_type": "code",
   "execution_count": 52,
   "metadata": {},
   "outputs": [],
   "source": [
    "import numpy as np\n",
    "from scipy.stats import mode\n",
    "labels = np.zeros_like(clusters)\n",
    "for i in range(20):\n",
    "    mask = (clusters == i)\n",
    "    labels[mask] = mode(digits.target[mask])[0]"
   ]
  },
  {
   "cell_type": "markdown",
   "metadata": {},
   "source": [
    "## Checking accuracy and forming a confusion matrix\n",
    "\n",
    "Now we can check how accurate our unsupervised clustering was in finding similar digits within the data. The "
   ]
  },
  {
   "cell_type": "code",
   "execution_count": 53,
   "metadata": {},
   "outputs": [
    {
     "data": {
      "text/plain": [
       "0.9098497495826378"
      ]
     },
     "execution_count": 53,
     "metadata": {},
     "output_type": "execute_result"
    }
   ],
   "source": [
    "from sklearn.metrics import accuracy_score\n",
    "accuracy_score(digits.target, labels)"
   ]
  }
 ],
 "metadata": {
  "kernelspec": {
   "display_name": "Python 3 (ipykernel)",
   "language": "python",
   "name": "python3"
  },
  "language_info": {
   "codemirror_mode": {
    "name": "ipython",
    "version": 3
   },
   "file_extension": ".py",
   "mimetype": "text/x-python",
   "name": "python",
   "nbconvert_exporter": "python",
   "pygments_lexer": "ipython3",
   "version": "3.12.2"
  }
 },
 "nbformat": 4,
 "nbformat_minor": 4
}
