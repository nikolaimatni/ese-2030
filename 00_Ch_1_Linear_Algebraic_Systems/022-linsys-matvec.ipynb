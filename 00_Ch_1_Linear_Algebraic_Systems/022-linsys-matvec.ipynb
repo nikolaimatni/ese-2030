{
 "cells": [
  {
   "cell_type": "markdown",
   "id": "fd7554ca-5ac4-4958-b713-648e3fd54114",
   "metadata": {
    "editable": true,
    "slideshow": {
     "slide_type": ""
    },
    "tags": []
   },
   "source": [
    "---\n",
    "title: 1.3 Matrices and Vectors\n",
    "subject:  Linear Algebraic Systems\n",
    "subtitle: The building blocks of linear algebra\n",
    "short_title: 1.3 Matrices and Vectors\n",
    "authors:\n",
    "  - name: Nikolai Matni\n",
    "    affiliations:\n",
    "      - Dept. of Electrical and Systems Engineering\n",
    "      - University of Pennsylvania\n",
    "    email: nmatni@seas.upenn.edu\n",
    "license: CC-BY-4.0\n",
    "keywords: matrices, vectors, matrix arithmetic, matrix multiplication\n",
    "math:\n",
    "  '\\vv': '\\mathbf{#1}'\n",
    "  '\\bm': '\\begin{bmatrix}'\n",
    "  '\\em': '\\end{bmatrix}'\n",
    "  '\\R': '\\mathbb{R}'\n",
    "---"
   ]
  },
  {
   "cell_type": "markdown",
   "id": "c5f536fc-e789-41e2-a59b-04fc3d792922",
   "metadata": {},
   "source": [
    "[![Binder](https://mybinder.org/badge_logo.svg)](https://mybinder.org/v2/gh/nikolaimatni/ese-2030/HEAD?labpath=/00_Ch_1_Linear_Algebraic_Systems/022-linsys-matvec.ipynb)\n",
    "\n",
    "{doc}`Lecture notes <../lecture_notes/Lecture 01 - Systems of linear equations, vectors, matrices, Gauss Elimination and LU-factorization.pdf>`"
   ]
  },
  {
   "cell_type": "markdown",
   "id": "efca8556-3e7f-4f1c-b466-04f0e14b12e5",
   "metadata": {},
   "source": [
    "## Reading\n",
    "Material related to this page, as well as additional exercises, can be found in ALA Ch. 1.2, LAA Ch 2.1, and ILA Ch. 2.4.  These notes are mostly based on ALA Ch 1.2 and LAA Ch 2.1."
   ]
  },
  {
   "cell_type": "markdown",
   "id": "170438e7",
   "metadata": {},
   "source": [
    "## Learning Objectives\n",
    "\n",
    "By the end of this page, you should know:\n",
    "- what matrices and vectors are\n",
    "- what arithmetic operations are allowed when working with matrices and vectors\n",
    "- how to perform arithmetic operations on matrices and vectors\n",
    "- how to represent linear system of equations using matrices and vectors\n",
    "\n",
    "## What's New from Math 1410\n",
    "A lot of this page is reviewing mechanics that you've arleady seen in Math 1410.  If you feel like you remember all of this material well and just want to skip to the new stuff, here are some shortcuts:\n",
    "- Matrix-vector multiplication as a [linear combination of columns](#mat-vec-new)\n",
    "- Matrix-matrix multiplication as [batch matrix-vector multiplication](#batch)\n",
    "- [Linear systems in matrix vector notation](mat-vec-linsys)"
   ]
  },
  {
   "cell_type": "markdown",
   "id": "ebd6aeff-4ad9-42b7-9fb4-a82ada3e07b6",
   "metadata": {
    "editable": true,
    "slideshow": {
     "slide_type": ""
    },
    "tags": []
   },
   "source": [
    "## Matrices and Vectors\n",
    "A _matrix_ is a rectangular array of numbers.  For example\n",
    "\\begin{equation}\n",
    "\\begin{bmatrix} 1 & 0 & 3 \\\\ -2 & 4 & 1 \\end{bmatrix}, \\quad \\begin{bmatrix} \\pi & 0 \\\\ e & \\frac{1}{2} \\\\ -1 & 0.83 \\\\ \\sqrt{5} & -\\frac{4}{7} \\end{bmatrix}, \\quad \\begin{bmatrix} 0 & 0 & 0 \\end{bmatrix}\n",
    "\\end{equation}\n",
    "are all examples of matrices.  We use the notation\n",
    "\\begin{equation}\n",
    "\\label{matrix}\n",
    "A = \n",
    "\\begin{bmatrix} \n",
    "a_{11} & a_{12} & \\cdots & a_{1n} \\\\\n",
    "a_{21} & a_{22} & \\cdots & a_{2n} \\\\\n",
    "\\vdots & \\vdots & \\ddots & \\vdots \\\\\n",
    "a_{m1} & a_{m2} & \\cdots & a_{mn}\n",
    "\\end{bmatrix}\n",
    "\\end{equation}\n",
    "for a generic matrix $A$ of size $m \\times n$ (read \"$m$ by $n$\"), where $m$ denotes the number of _rows_ in $A$ and $n$ denotes the number of _columns_[^cols].  Therefore, the preceding examples of matrices have respective sizes $2 \\times 3$, $4 \\times 2$, and $1 \\times 3$.  A matrix is _square_ if $m=n$, i.e., it has the same number of rows as columns.  A _column vector_ is an $m \\times 1$ matrix, while a _row vector_ is a $1 \\times n$ matrix.  While these might seem like they are the same thing, they very much are not!  Column vectors end up playing a much more important role in our story, and so whenever we just say \"vector\" we will always mean a column vector.  A $1 \\times 1$ matrix, which has a single entry, is both a column and row vector, and as we'll see later, behaves like an ordinary _scalar_ number.\n",
    "\n",
    "The number that lies in the $i$th row and $j$th column of $A$ is called the $(i,j)$ _entry_ of $A$, and is denoted by $a_{ij}$.  The row index always appears first and the column index second.  Each column of $A$ is a $m \\times 1$ vector, which we denote by $\\vv a_1, \\dots \\vv a_n$. It will often be convenient to write a matrix in terms of its columns:\n",
    "```{math}\n",
    ":label: colmat\n",
    "A = \\begin{bmatrix} \\vv a_1 & \\vv a_2 & \\cdots & \\vv a_n \\end{bmatrix}\n",
    "```\n",
    "```{note}\n",
    "We will consistently use bold face lower case letters to denote vectors, and ordinary capital letters to denote matrices.\n",
    "```\n",
    "[^cols]: It is not a coincidence that $n$ is also the letter that we used for the number of unknowns in a [linear equation](./021-linsys-gauss.ipynb#lin-eq)! \n",
    "\n",
    "#### Python Break! Constructing Matrices and Vectors in NumPY\n",
    "[NumPy](https://numpy.org/) is a standard scientific computing module in the Python programming language, and is widely used in the engineering, data science, and financial industries.  Throughout these notes, we will provide you with NumPy code snippets that implement the mathematical concepts we introduce.  The purpose of these are twofold.  First, you will have coding exercises on the problem sets, and these snippets give you examples of the syntax needed to implement concepts from class.  Second, they let you see the math \"come to life.\"  While we are starting with some pretty basic ideas now, we'll soon be able to do some really interesting things with a few lines of code.  A great way to get intuition about mathematical objects is to paly with them in code.  You can do this by clicking the button below[^button], which will launch an interactive version of this notebook where you can modify code to see what changes in the output.  You are _strongly encouraged_ to do this!\n",
    "\n",
    "NumPy uses data structures called [NumPy Arrays](https://numpy.org/doc/stable/reference/generated/numpy.array.html) to represent matrices and vectors.  Accessing elements of a matrix is done using zero indexing: see this [page](https://numpy.org/doc/stable/user/basics.indexing.html) for examples.\n",
    "\n",
    "[![Binder](https://mybinder.org/badge_logo.svg)](https://mybinder.org/v2/gh/nikolaimatni/ese-2030/HEAD?labpath=/00_Ch_1_Linear_Algebraic_Systems/022-linsys-matvec.ipynb)\n",
    "[^button]: Also found at the top and bottom of each page!"
   ]
  },
  {
   "cell_type": "code",
   "execution_count": 14,
   "id": "d860eeea-d52d-4322-b5f1-64bdc7fbed63",
   "metadata": {},
   "outputs": [
    {
     "name": "stdout",
     "output_type": "stream",
     "text": [
      "A= [[1 2 3]\n",
      " [4 5 6]]\n",
      "(2, 3)\n",
      "A23 = 6\n",
      "b = [[ 0 -1  1  3]]\n",
      "first two elements of b = [ 0 -1]\n",
      "c = [[0]\n",
      " [1]\n",
      " [2]]\n"
     ]
    }
   ],
   "source": [
    "# Constructing matrices and vectors\n",
    "import numpy as np\n",
    "\n",
    "# Create a 2x3 matrix A\n",
    "A = np.array([[1, 2, 3],\n",
    "             [4, 5, 6]])\n",
    "print(f'A= {A}')\n",
    "\n",
    "# We can check the size of an array by accessing its shape field\n",
    "print(A.shape)\n",
    "\n",
    "# Print 2,3 element of A (note the zero indexing means we access [1,2] element of array!)\n",
    "print(f'A23 = {A[1,2]}')\n",
    "\n",
    "# Create a 1x4 row-vector b\n",
    "b = np.array([[0, -1, 1, 3]])\n",
    "print(f'b = {b}')\n",
    "\n",
    "# Print first two elements of b\n",
    "print(f'first two elements of b = {b[0,0:2]}')\n",
    "\n",
    "# a Create a 3x1 column-vector c\n",
    "c = np.array([[0],\n",
    "              [1],\n",
    "              [2]])\n",
    "\n",
    "print(f'c = {c}')"
   ]
  },
  {
   "cell_type": "markdown",
   "id": "f95b067c-cc53-48ca-8792-103f7ecf485a",
   "metadata": {},
   "source": [
    "## Matrix Arithmetic\n",
    "\n",
    "Matrix arithmetic involves three basic operations: _matrix addition_, _scalar multiplication_, and _matrix multiplication_. \n",
    "\n",
    "### Matrix Addition\n",
    "First we define _addition_ of matrices.  You are allowed to add two matrices only if they are of the _same size_, and matrix addition is performed entry-wise.  For example\n",
    "$$\n",
    "\\bm 1 & 2 \\\\ -1 & 0\\em + \\bm 3 & -5 \\\\ 2 & 1 \\em = \\bm 4 & -3 \\\\ 1 & 1 \\em.\n",
    "$$\n",
    "More generally, if $A$ and $B$ are $m \\times n$ matrices, then their sum $C = A+ B$ is the $m \\times n$ matrix whose entries are given by $c_{ij} = a_{ij} + b_{ij}$ for $i=1,\\dots,m$ and $j=1,\\dots,n$.  When defined, matrix addition behaves just like ordinary addition. It is\n",
    "1. commutative: $A + B = B + A$, and\n",
    "2. associative: $A + (B + C) = (A+ B) + C = A + B + C$.\n",
    "\n",
    "````{exercise}  Matrix addition\n",
    ":label: matrix-addition-ex1\n",
    "\n",
    "For (a)-(e), we are given some matrices. If they can be added together, then find their sum. Otherwise, indicate that they can't be added.\n",
    "\n",
    "a. $\\begin{bmatrix} 1 & 2 \\\\ -1 & 0 \\end{bmatrix}$ and $\\begin{bmatrix} 3 & -5 \\\\ 2 & 1 \\end{bmatrix}$\n",
    "\n",
    "b. $\\begin{bmatrix} 5 \\end{bmatrix}$ and $\\begin{bmatrix} -3 \\end{bmatrix}$\n",
    "\n",
    "c. $\\begin{bmatrix} 1&2\\\\3&4\\\\5&6 \\end{bmatrix}$ and $\\begin{bmatrix} 2&4\\\\6&8\\\\10&12 \\end{bmatrix}$\n",
    "\n",
    "d. $\\begin{bmatrix} 1 & 2 \\end{bmatrix}$ and $\\begin{bmatrix} 1\\\\3 \\end{bmatrix}$\n",
    "\n",
    "e. $\\begin{bmatrix} 1\\\\2 \\end{bmatrix}$ and $\\begin{bmatrix} 1\\\\3 \\end{bmatrix}$ and $\\begin{bmatrix} 2\\\\5 \\end{bmatrix}$\n",
    "\n",
    "```{solution} matrix-addition-ex1\n",
    ":class: dropdown\n",
    "\n",
    "a. $\\begin{bmatrix} 1 & 2 \\\\ -1 & 0 \\end{bmatrix} + \\begin{bmatrix} 3 & -5 \\\\ 2 & 1 \\end{bmatrix} = \\bm 1+3&2-5\\\\-1+2&0+1 \\em = \\bm 4&-3\\\\1&1 \\em$\n",
    "\n",
    "b. $\\begin{bmatrix} 5 \\end{bmatrix} + \\begin{bmatrix} -3 \\end{bmatrix} = \\bm 5 -3 \\em = \\bm -2 \\em$\n",
    "\n",
    "c. $\\begin{bmatrix} 1&2\\\\3&4\\\\5&6 \\end{bmatrix} + \\begin{bmatrix} 2&4\\\\6&8\\\\10&12 \\end{bmatrix} = \\bm 1 + 2 & 2 + 4\\\\ 3 + 6 & 4 + 8\\\\5 + 10& 6 + 12 \\em = \\bm 3&6\\\\9&12\\\\15&18 \\em$\n",
    "\n",
    "d. They can't be added. The left matrix is a 1-by-2 matrix, whereas the right matrix is a 2-by-1 matrix, meaning they have different dimensions. \n",
    "\n",
    "e. $\\begin{bmatrix} 1\\\\2 \\end{bmatrix} + \\begin{bmatrix} 1\\\\3 \\end{bmatrix} + \\begin{bmatrix} 2\\\\5 \\end{bmatrix} = \\bm 1 + 1 + 2 \\\\ 2 + 3 + 5 \\em = \\bm 4 \\\\ 10 \\em$\n",
    "\n",
    "```\n",
    "````"
   ]
  },
  {
   "cell_type": "markdown",
   "id": "3cd0ed6b-6113-4ea9-a599-d7b0fd86fd3e",
   "metadata": {},
   "source": [
    "#### Python Break!"
   ]
  },
  {
   "cell_type": "code",
   "execution_count": 16,
   "id": "96992cbb",
   "metadata": {},
   "outputs": [
    {
     "name": "stdout",
     "output_type": "stream",
     "text": [
      "A + B = [[ 3  6  9]\n",
      " [12 15 18]]\n",
      "Adding incompatible matrices in python does something strainge! A + vec = [[0 0 6]\n",
      " [3 3 9]]\n"
     ]
    }
   ],
   "source": [
    "## Matrix addition\n",
    "\n",
    "# Create two 2x3 matrices A and B\n",
    "A = np.array([[1, 2, 3],\n",
    "             [4, 5, 6]])\n",
    "\n",
    "B = np.array([[2, 4, 6],\n",
    "             [8, 10, 12]])\n",
    "\n",
    "#Add them together\n",
    "add = A + B # adding two matrices\n",
    "print(f'A + B = {add}')\n",
    "\n",
    "# this is a 1-D array of size 3 in python, which is different than the column-vector c created above\n",
    "vec = np.array([-1, -2, 3]) \n",
    "# notice the difference how 1-D arrays add to 2-D arrays in python. # Try A+c and observe what happens\n",
    "add_vec = A + vec \n",
    "print(f'Adding incompatible matrices in python does something strainge! A + vec = {add_vec}')"
   ]
  },
  {
   "cell_type": "markdown",
   "id": "87d9db14-cb47-4734-89f6-51c613d04667",
   "metadata": {},
   "source": [
    "```{caution}\n",
    "NumPy lets you add (and multiply) incompatibly sized matrices/vectors via [broadcasting](https://numpy.org/doc/stable/user/basics.broadcasting.html).  This can be a very convenient tool to write simpler, cleaner code, if used properly, but it can also lead to very difficult to identify bugs.  For this class, you shouldn't need to use broadcasting, so always be sure to check the dimensions of arrays when adding or multiplying them.\n",
    "```\n",
    "\n",
    "### Scalar Multiplication\n",
    "A _scalar_ is a fancy name for an ordinary number.  For now, we restrict ourselves to scalars, vectors, and matrices with _real_ entries, but we will eventually extend these ideas to complex numbers and matrices with complex entries.  Although technically not the same thing, we will treat the $1 \\times 1$ matrix $[c]$ and the scalar $c \\in \\R$ as a scalar,[^notation] that is to say as an ordinary number, so we will drop the brackets. _Scalar multiplication_ takes a scalar $c$ and an $m \\times n$ matrix $A$ an computes the $m \\times n$ matrix $B = cA$ by multiplying each entry of $A$ by $c$.  For example:\n",
    "$$\n",
    "c = 3, \\quad A = \\bm 1 & 2 \\\\ -1 & 0 \\em, \\quad cA = 3\\bm 1 & 2 \\\\ -1 & 0 \\em=\\bm 3 & 6 \\\\ -3 & 0\\em.\n",
    "$$\n",
    "In general, if $B = cA$, then $b_{ij}=ca_{ij}$ for each entry $i=1,\\dots,m$ and $j=1,\\dots,n$.\n",
    "\n",
    "[^notation]: Remember that we write $x \\in S$ to mean that the element $x$ lives in the set $S$.  In this example, $c \\in \\R$ means that the element $c$ lives in the real line $\\R$, and hence $c$ is a scalar.\n",
    "\n",
    "````{exercise}  Scalar multiplication\n",
    ":label: scalar-multiplication-ex1\n",
    "\n",
    "For (a)-(e), compute the scalar-matrix product.\n",
    "\n",
    "a. $5\\bm 1 & 2 \\\\ 3 & 4\\em$\n",
    "\n",
    "b. $0\\bm 1 & 1 \\\\ 2 & 3 \\em$\n",
    "\n",
    "c. $\\frac 1 2 \\bm 2 & 4 \\\\ 6 & 5 \\em$\n",
    "\n",
    "d. $\\sqrt 2 \\bm 1 & \\sqrt 2 \\\\ 0 & \\pi \\em$\n",
    "\n",
    "e. $i \\bm 1 & i \\\\ -i & -1 \\em$ where $i = \\sqrt{-1}$\n",
    "\n",
    "```{solution} scalar-multiplication-ex1\n",
    ":class: dropdown\n",
    "\n",
    "a. $5\\bm 1 & 2 \\\\ 3 & 4\\em = \\bm 5\\cdot 1 & 5\\cdot 2 \\\\ 5\\cdot 3 & 5\\cdot 4\\em = \\bm 5 & 10 \\\\ 15 & 20\\em$\n",
    "\n",
    "b. $0\\bm 1 & 1 \\\\ 2 & 3 \\em = \\bm 0\\cdot 1 & 0\\cdot 1 \\\\ 0\\cdot 2 & 0\\cdot 3 \\em = \\bm 0 & 0\\\\ 0 & 0\\em$\n",
    "\n",
    "c. $\\frac 1 2 \\bm 2 & 4 \\\\ 6 & 5 \\em = \\bm 2/2 & 4/2 \\\\ 6/2 & 5/2 \\em = \\bm 1 & 2 \\\\ 3 & 5/2 \\em$\n",
    "\n",
    "d. $\\sqrt 2 \\bm 1 & \\sqrt 2 \\\\ 0 & \\pi \\em$\n",
    "\n",
    "e. $i \\bm 1 & i \\\\ -i & -1 \\em = \\bm i\\cdot 1 & i\\cdot i \\\\i \\cdot -1 & i \\cdot -i \\em= \\bm i & -1 \\\\1 & -i \\em$\n",
    "\n",
    "```\n",
    "````"
   ]
  },
  {
   "cell_type": "markdown",
   "id": "0d2969e6-1d93-484e-9620-e3352156e7aa",
   "metadata": {},
   "source": [
    "#### Python Break!"
   ]
  },
  {
   "cell_type": "code",
   "execution_count": 21,
   "id": "f99a5225",
   "metadata": {},
   "outputs": [
    {
     "name": "stdout",
     "output_type": "stream",
     "text": [
      "A = [[1 2 3]\n",
      " [4 5 6]],\n",
      " c=3,\n",
      " cA = [[ 3  6  9]\n",
      " [12 15 18]]\n"
     ]
    }
   ],
   "source": [
    "# scalar multiplication\n",
    "scalar = 3\n",
    "scalar_mult = scalar*A\n",
    "print(f'A = {A},\\n c={scalar},\\n cA = {scalar_mult}')"
   ]
  },
  {
   "cell_type": "markdown",
   "id": "866251b7-96fb-4b8c-b989-a756a17df879",
   "metadata": {},
   "source": [
    "## Matrix Multiplication Warmup\n",
    "\n",
    "We first look at multiplying a row vector with a column vector and use this as the base to multiply two matrices. Let $\\vv a$ be a $1 \\times n$ row vector and $\\vv x$ be a $n \\times 1$ column vector. The product $\\vv a \\vv x$ is defined as\n",
    "\n",
    "\\begin{equation}\n",
    "\\label{row_col_mul}\n",
    "\\vv a \\vv x = \\begin{bmatrix} a_1 & a_2 & \\cdots & a_n\\end{bmatrix}\n",
    "\\begin{bmatrix}\n",
    "x_1 \\\\ x_2 \\\\ \\vdots \\\\ x_n\n",
    "\\end{bmatrix} = a_1x_1 + a_2x_2 + \\cdots a_nx_n = \\sum_{k=1}^n a_kx_k\n",
    "\\end{equation}\n",
    "\n",
    "\n",
    "````{exercise}  Vector products\n",
    ":label: vector_prod_ex\n",
    "\n",
    "For (a)-(b), multiply the two vectors. \n",
    "\n",
    "a. $ \\bm 3 & 3\\em, \\bm 1 \\\\ 2\\em$ \n",
    "\n",
    "b. $\\bm 1 & \\sqrt 2 \\em, \\bm 2 \\\\ \\sqrt 2 \\em$ \n",
    "\n",
    "```{solution} vector_prod_ex\n",
    ":class: dropdown \n",
    "\n",
    "a. $\\bm 3 & 3\\em \\bm 1 \\\\ 2\\em = 3*1 + 3*2 = 9$ \n",
    "\n",
    "b. $\\bm 1 & \\sqrt 2 \\em \\bm 2 \\\\ \\sqrt 2 \\em = 1*2 + \\sqrt 2 * \\sqrt 2 = 4$ \n",
    "``` \n",
    "````\n"
   ]
  },
  {
   "cell_type": "markdown",
   "id": "c804a2db-8a0e-4074-be7d-64c95fbb18c5",
   "metadata": {},
   "source": [
    "#### Python Break!"
   ]
  },
  {
   "cell_type": "code",
   "execution_count": 19,
   "id": "5f06a5f3-f65d-4581-9f35-0c8415a0d9ca",
   "metadata": {},
   "outputs": [
    {
     "name": "stdout",
     "output_type": "stream",
     "text": [
      "b = [[ 0 -1  1  3]],\n",
      " b_c = [[ 1]\n",
      " [ 2]\n",
      " [-1]\n",
      " [ 2]],\n",
      "  b x b_c = [[3]]\n"
     ]
    }
   ],
   "source": [
    "# vector products\n",
    "b_c = np.array([[1], [2], [-1], [2]])\n",
    "product = b @ b_c # multipying row-vector b with column-vector b_c\n",
    "print(f'b = {b},\\n b_c = {b_c},\\n  b x b_c = {product}')"
   ]
  },
  {
   "cell_type": "markdown",
   "id": "1b416bf2-d8eb-4391-a41f-22ce1c10ecb5",
   "metadata": {},
   "source": [
    "## Matrix-Matrix Multiplication\n",
    "\n",
    "We can multiply two matrices $A, B$ if and only if they have compatible sizes. For example, to compute the product $C = AB$, $A$ must have the same number of columns as the number of rows in $B$. If $A$ is an $m \\times n$ matrix and $B$ is an $n \\times p$ matrix, then $C = AB$ is an $m \\times p$ matrix, where each element is defined by\n",
    "$$\n",
    "c_{ij} = \\sum_{k=1}^na_{ik}b_{kj} \n",
    "$$\n",
    "The $(i, j)^{th}$ entry of $C$ is the vector product of the $i^{th}$ row of $A$ and $j^{th}$ column of $B$. \n",
    "\n",
    "### Matrix-Vector Multiplication\n",
    "An important special case of matrix-matrix multiplication is _matrix-vector products_. Let $A$ be an $m \\times n$ matrix and $\\vv x$ be an $n \\times 1$ column vector. Then, the matrix-vector product $\\vv b = A \\vv x$ is an $m\\times 1$ column vector, where the entries of $\\vv b$ are\n",
    "$$\n",
    "b_{i} = \\sum_{k=1}^na_{ik}x_{i} \n",
    "$$\n",
    "```{note}\n",
    "Since $\\vv b$ and $\\vv x$ are column vectors, we only have the first index $i$ since the second index $j$ is always $1$.\n",
    "```\n",
    "\n",
    "(mat-vec-new)=\n",
    "```{important} Matrix-vector multiplication as linear combinations of columns\n",
    "An alternative expression for the matrix-vector product $A\\vv x$ can be obtained in terms of a weighted sum of the columns of $A$ with weights given by the entries of $\\vv x$.  More precisely, if we let $\\vv a_1, \\vv a_2, \\cdots, \\vv a_n$ to be the columns of $A$ so that \n",
    "$$\n",
    "A = \\bm \\vv a_1 & \\vv a_2 & \\cdots & \\vv a_n \\em,\n",
    "$$\n",
    "then, another formula for $\\vv b = A \\vv x$ is\n",
    "$$\n",
    "\\vv b = x_1 \\vv a_1 + x_2 \\vv a_2 + \\cdots + x_n \\vv a_n,\n",
    "$$\n",
    "that is, $\\vv b$ is computed by adding the columns of $A$ weighted by the entries of $\\vv x$. This will be useful later when we discuss about the _column span of a matrix_ $A$.   \n",
    "```\n",
    "\n",
    "(batch)= \n",
    "```{important} Matrix-matrix multiplication as batch matrix-vector multiplication\n",
    "Another convenient way of computing matrix products $C = AB$ is given in terms of matrix-vector products between $A$ and the columnbs $\\vv b_i$ of $B$.\n",
    "If A is an $m \\times n$ matrix, and if $B$ is an $n \\times p$ matrix with columns $\\vv b_1,\\dots,\\vv b_p$, then the matrix product $AB$ is then the $m \\times p$ matrix whose columns are $A\\vv b_1, A\\vv b_2,\\dots, A\\vv b_p$, that is,\n",
    ":::math\n",
    "C = AB = A\\bm \\vv b_1 & \\vv b_2 & \\cdots & \\vv b_p\\em = \\bm A\\vv b_1 & A\\vv b_2 & \\cdots & A\\vv b_p\\em.\n",
    ":::\n",
    "\n",
    "The $k^{th}$ column of $C$ is the matrix-vector product of $A$ and the $k^{th}$ column of $B$, and so we can think of the matrix-matrix product as conducting $p$ matrix-vector products as a _batch_ in parallel.\n",
    "```"
   ]
  },
  {
   "cell_type": "markdown",
   "id": "2d2ae69a",
   "metadata": {},
   "source": [
    "````{exercise}  Matrix Multiplication\n",
    ":label: matrix-multiplication-ex1 \n",
    "\n",
    "For (a)-(c), compute the expressions if they exist; otherwise, indicate that the product doesn't exist.\n",
    "\n",
    "$A = \\bm 1 & 1 \\\\ 1 & 0 \\em, B = \\bm 2 & 4 & 1 \\\\ 0 & 3 & -1 \\em, \\vv x = \\bm 13\\\\ 8 \\\\ 2\\em, \\vv y = \\bm 1 & 2\\em$\n",
    "\n",
    "a.  $AB, BA$\n",
    "\n",
    "b.  $B \\vv x$\n",
    "\n",
    "c.  $\\vv y B, \\vv y B \\vv x$\n",
    "\n",
    "```{solution} matrix-multiplication-ex1 \n",
    ":class: dropdown \n",
    "\n",
    "a. $ BA$  does not exist, since sizes $2 \\times 3$ and $2 \\times 2$ do not match. \n",
    " $$\n",
    " AB = \\bm 1 & 1 \\\\ 1 & 0 \\em \\bm 2 & 4 & 1 \\\\ 0 & 3 & -1 \\em  = \\bm 1*2 + 1*0 & 1*4 + 1*3 & 1*1 + 1*-1\\\\ 1*2 + 0*0 & 1*4 + 0*3 & 1*1 + 0*-1\\em = \\bm 2 & 7 & 0 \\\\ 2 & 4 & 1 \\em\n",
    " $$\n",
    "\n",
    "b. $\n",
    "\\bm 2 & 4 & 1 \\\\ 0 & 3 & -1 \\em\\bm 13\\\\ 8 \\\\ 2\\em = 13\\bm 2 \\\\ 0 \\em + 8\\bm 4 \\\\ 3\\em + 2\\bm 1 \\\\ -1 \\em= \\bm 60 \\\\ 22 \\em\n",
    "$\n",
    "\n",
    "c. $\\vv y B = \\bm 1 & 2\\em \\bm 2 & 4 & 1 \\\\ 0 & 3 & -1 \\em = 1\\bm 2 & 4 & 1 \\em + 2 \\bm 0 & 3 & -1 \\em = \\bm 2 & 10 & -1 \\em $\n",
    "$$\n",
    "\\vv y B \\vv x = \\bm 2 & 10 & -1 \\em \\bm 13\\\\ 8 \\\\ 2\\em = 2*13 + 10*8 + -1*2 = 104\n",
    "$$\n",
    "\n",
    "``` \n",
    "````"
   ]
  },
  {
   "cell_type": "markdown",
   "id": "c00e6bb7-e40d-42c6-967a-f36005a28c6a",
   "metadata": {},
   "source": [
    "#### Python Break!"
   ]
  },
  {
   "cell_type": "code",
   "execution_count": 32,
   "id": "dce266e0-5211-4d76-98db-aa1215562d0e",
   "metadata": {},
   "outputs": [
    {
     "name": "stdout",
     "output_type": "stream",
     "text": [
      "\n",
      "AB: \n",
      " [[2 7 0]\n",
      " [2 4 1]] \n",
      "Bx: \n",
      " [60 22] \n",
      "yB: \n",
      " [ 2 10 -1] \n",
      "yBx: \n",
      " 104\n"
     ]
    }
   ],
   "source": [
    "# Code implementing solutions to Exercise 4\n",
    "A = np.array([[1, 1],\n",
    "              [1, 0]])\n",
    "B = np.array([[2, 4, 1],\n",
    "              [0, 3, -1]])\n",
    "x = np.array([13, 8, 2])\n",
    "y = np.array([1, 2])\n",
    "\n",
    "a_r = A@B\n",
    "b_r = B@x\n",
    "c_r = y@B\n",
    "c_r1 = y@B@x\n",
    "print(\"\\nAB: \\n\", a_r, \"\\nBx: \\n\", b_r, \"\\nyB: \\n\", c_r, \"\\nyBx: \\n\", c_r1)"
   ]
  },
  {
   "cell_type": "markdown",
   "id": "b206d244-c6de-45b2-b9d7-3d791112cfba",
   "metadata": {},
   "source": [
    "```{warning}\n",
    "NumPy has some quirks when it comes to column and row vectors: 1-d vectors like `x` and `y` in the example above can behave as either a row vector (as in `y @ B`) or a column vector (as in `B @ x`) depending on how you use them.  Without getting into too much detail as to why, this ends up being much more convenient than treating column vectors as $n \\times 1$ arrays and row vectors as $1 \\times n$ arrays.  Instead, they are just arrays of dimension $n$.  This is just one of those \"rough edges\" of NumPy that you have to get comfortable with!\n",
    "```"
   ]
  },
  {
   "cell_type": "markdown",
   "id": "877c5599-0fb8-402b-be3a-1d992e7251b3",
   "metadata": {},
   "source": [
    "## Special Matrices\n",
    "\n",
    "```{prf:definition}\n",
    ":label: identity\n",
    "The _identity matrix $I = I_m$_ is the $m \\times m$ matrix\n",
    "$$\n",
    "I_m = \\bm \n",
    "1 & 0 & 0 & \\cdots & 0 & 0 \\\\\n",
    "0 & 1 & 0 & \\cdots & 0 & 0 \\\\\n",
    "0 & 0 & 1 & \\cdots & 0 & 0 \\\\\n",
    "\\vdots & \\vdots & \\vdots & \\ddots & \\vdots & \\vdots \\\\\n",
    "0 & 0 & 0 & \\cdots & 1 & 0 \\\\\n",
    "0 & 0 & 0 & \\cdots & 0 & 1\n",
    "\\em.\n",
    "$$\n",
    "The entries along the _main diagonal_ which runs from top left to bottom right are all equal to 1 ($I_{ii} = 1$), and all other entries are equal to 0 $I_{ij} = 0$ for all $i \\neq j$.  The identify matrix satisfies $IA = AI = A$. The $I$ that multiplies $A$ to the left and right might be of different sizes if $A$ is not square.\n",
    "```\n",
    "\n",
    "```{prf:definition}\n",
    ":label: zero\n",
    "The _zero matrix $O = O_{m \\times n}$_ is the $m \\times n$ matrix where all the entries is zero. The zero matrix satisfies $OA = AO = O$ with appropriate dimensions for $O$.\n",
    "```"
   ]
  },
  {
   "cell_type": "markdown",
   "id": "0380915e-ae35-4fca-b073-2373c14b0e89",
   "metadata": {},
   "source": [
    "#### Python Break! Built in NumPy functions\n",
    "NumPy has built in functions for constructing special matrices such as the [identity]() and all [zeros](https://numpy.org/doc/stable/reference/generated/numpy.zeros.html) matrix.  Other special matrices include the all [ones](https://numpy.org/doc/stable/reference/generated/numpy.ones.html) matrix and [Vandermonde](https://numpy.org/doc/stable/reference/generated/numpy.vander.html) matrices (which you'll see in your homework set)."
   ]
  },
  {
   "cell_type": "code",
   "execution_count": 31,
   "id": "2d7a7523-52f4-4003-a739-a37c877e5bc8",
   "metadata": {},
   "outputs": [
    {
     "name": "stdout",
     "output_type": "stream",
     "text": [
      "I_2 = [[1. 0.]\n",
      " [0. 1.]]\n",
      "I_3 = [[1. 0. 0.]\n",
      " [0. 1. 0.]\n",
      " [0. 0. 1.]]\n",
      "O_23 = [[0. 0. 0.]\n",
      " [0. 0. 0.]]\n",
      "ones_54 = [[1. 1. 1. 1.]\n",
      " [1. 1. 1. 1.]\n",
      " [1. 1. 1. 1.]\n",
      " [1. 1. 1. 1.]\n",
      " [1. 1. 1. 1.]]\n"
     ]
    }
   ],
   "source": [
    "# Identity matrices\n",
    "I2 = np.eye(2)\n",
    "I3 = np.eye(3)\n",
    "print(f'I_2 = {I2}')\n",
    "print(f'I_3 = {I3}')\n",
    "\n",
    "# Zero matrix\n",
    "O23 = np.zeros((2,3))\n",
    "print(f'O_23 = {O23}')\n",
    "\n",
    "# Ones matrix\n",
    "ones_54 = np.ones((5,4))\n",
    "print(f'ones_54 = {ones_54}')"
   ]
  },
  {
   "cell_type": "markdown",
   "id": "045c9f90-daa5-4059-b19d-f4010471fc9e",
   "metadata": {},
   "source": [
    "```{note}\n",
    "The arguments to `np.ones` and `np.zeros` are [tuples](https://docs.python.org/3/tutorial/datastructures.html#tuples-and-sequences) of the form `(num_rows,num_cols)`.  This leads to initially odd looking expressions with double brackets, and you might be wondering why can't I just write `np.ones(5,4)` instread of `np.ones((5,4))`.  The reason is that the first argument of these functions is a `shape` tuple, and so we need to group the size of the dimensions (in our case number of rows and number of columns) into a single \"object\": we do that by putting them within brackets.  So while `np.ones((5,4))` tells python to make me a 5 x 4 all ones matrix, `np.ones(5,4)` tells python to make me an all ones 1-d array with 5 entries, and specifies the second function argument (`dtype` in this case) to be set to 4.  This latter expression does not make sense, and so python will send an error.  When using built in functions, it's always helpful to take a look at the documentation page to see what kinds of arguments (tuples, lists, etc.) the function expects.\n",
    "```"
   ]
  },
  {
   "cell_type": "markdown",
   "id": "76cd21ab-7c7f-46f4-8661-2f785447a958",
   "metadata": {},
   "source": [
    "## Matrix Arithmetic Rules\n",
    "Summarized below are the rules for how you can combine matrix addition, scalar multiplication, and matrix-matrix multiplication.  These are properties you should have seen in Math 1410, so we will not go over them in detail, but it is important to keep these in mind as we progress through the semester.  The big thing to remember is that matrix-matrix multiplication comes with more rules than traditional scalar multiplication.\n",
    "\n",
    "```{image} ../figures/02-matrix_arithmetic.png\n",
    ":label: mat_ar_rules\n",
    ":alt: Matrix arithmetic rules!\n",
    ":width: 600px\n",
    ":align: center\n",
    "```\n",
    "\n",
    "```{warning} Matrix Multiplication is *NOT* Commutative\n",
    "The left-to-right order in matrix products is critical because $AB$ and $BA$ are usually not the same.  In fact, unless $A$ and $B$ are both square matrices, only one of $AB$ or $BA$ will even be defined.  Given what we've seen so far, this shouldn't be surprising: the columns of $AB$ are linear combinations of the columns of $A$, whereas the columns of $BA$ are constructed from the columns of $B$.  We emphasize the position of the factors in the product $AB$ by saying $A$ is _right-multiplied_ by $B$ or that $B$ is _left-multiplied_ by $A$.  If $AB=BA$, we say that $A$ and $B$ _commute_ with each other.\n",
    "```\n",
    "\n",
    "```{warning} Cancellation Laws *DO NOT* hold\n",
    "If $AB = AC$, then it is _not_ true in genereal that $B=C$.\n",
    "```\n",
    "```{warning} $AB=0$\n",
    "If the product $AB$ is the zero matrix, you _cannot_ conclude in general that either $A=0$ or $B=0$.\n",
    "```\n",
    "\n",
    "```{tip} Sizes\n",
    "In matrix multiplication $A_{\\color{green}{m} \\times \\color{red}{n}} B_{\\color{red}{n} \\times \\color{green}{p}} = C_{\\color{green}{m \\times p}}$, the inner dimension $\\color{red}{n}$ must match and cancel each other, while the outer dimensions $\\color{green}{m, p}$ survive.\n",
    "```"
   ]
  },
  {
   "cell_type": "markdown",
   "id": "25b3f3a3",
   "metadata": {},
   "source": [
    "```{prf:example} Matrix Multiplication Cautions\n",
    "\n",
    "1. Here, we'll give some examples of when matrices don't commute:\n",
    "\n",
    "\\begin{align*}\n",
    "\\bm 1 & 2 \\\\3 & 4 \\em \\bm 2 & 0 \\\\1 & 2 \\em \n",
    "= \\bm  4 &4 \\\\10& 8\\em\n",
    "\\neq \n",
    "\\bm  2 &4 \\\\ 7&  10 \\em= \n",
    "\\bm 2 & 0 \\\\ 1 & 2 \\em \\bm 1 & 2 \\\\ 3 & 4\\em\n",
    "\\end{align*}\n",
    "\n",
    "It can also be the case that only one of the products exists. For example, the column vector $(0, 1, 2)$ and the row vector $\\bm 3 &4\\em$.\n",
    "\n",
    "As an additional exercise, can you think of some specific examples of when matrices *do* commute? For example, $AB = BA$ if $A = I$ or $B = I$.\n",
    "\n",
    "2. Here, we'll give an example of when the cancellation law doesn't hold (i.e., $AB = AC$ *does not* in general imply that $B = C$):\n",
    "\n",
    "\\begin{align*}\n",
    "    \\bm 0 & 1 \\\\ 0 & 1 \\em \\bm 0 & 1 \\\\ 0 & 1 \\em = \\bm 0 & 1 \\\\ 0 & 1 \\em\n",
    "\\end{align*}\n",
    "\n",
    "and \n",
    "\n",
    "\\begin{align*}\n",
    "    \\bm 0 & 1 \\\\ 0 & 1 \\em\\bm 1 & 0 \\\\ 0 & 1 \\em  = \\bm 0 & 1 \\\\ 0 & 1 \\em\n",
    "\\end{align*}\n",
    "\n",
    "but of course,\n",
    "\n",
    "\\begin{align*}\n",
    "    \\bm 1 & 0 \\\\ 0 & 1 \\em \\neq \\bm 0 & 1 \\\\ 0 & 1 \\em \n",
    "\\end{align*}\n",
    "\n",
    "3. Here, we'll show that the product of 2 nonzero matrices can be zero:\n",
    "\n",
    "\\begin{align*}\n",
    "    \\bm 0& 1 \\\\ 0 & 0\\em^2 = \\bm 0& 1 \\\\ 0 & 0\\em\\bm 0& 1 \\\\ 0 & 0\\em = \\bm 0& 0 \\\\ 0 & 0\\em\n",
    "\\end{align*}\n",
    "\n",
    "\n",
    "```"
   ]
  },
  {
   "cell_type": "markdown",
   "id": "a5132587-59ce-487e-8352-86e812944156",
   "metadata": {
    "editable": true,
    "slideshow": {
     "slide_type": ""
    },
    "tags": []
   },
   "source": [
    "(mat-vec-linsys)=\n",
    "## Linear Systems in Matrix-Vector Notation\n",
    "Let's use our new matrix-vector tools to compactly write out systems of linear equations.  Recall that a general linear system of $m$ equations in $n$ unknowns takes the form\n",
    "\\begin{equation}\n",
    "\\label{gen-linsys}\n",
    "\\begin{array}{cccl}\n",
    "a_{11} x_1 + a_{12} x_2 +& \\cdots &+ a_{1n} x_n  = & b_1,\\\\\n",
    "a_{21} x_1 + a_{22} x_2 +& \\cdots &+ a_{2n} x_n  = & b_2,\\\\\n",
    "\\vdots & \\vdots && \\vdots \\\\\n",
    "a_{m1} x_1 + a_{m2} x_2 +& \\cdots &+ a_{mn} x_n  = & b_m,\\\\\n",
    "\\end{array}\n",
    "\\end{equation}\n",
    "which we rewrite compactly as\n",
    "```{math}\n",
    ":label: matvec-eq\n",
    "A \\vv x = \\vv b.\n",
    "```\n",
    "Equation [](#matvec-eq) is composed of three basic ingredients: the $m \\times n$ _coefficient matrix_ $A$, with entries $a_{ij}$ as in [](#matrix), the column vector $\\vv x = \\begin{bmatrix} x_1 \\\\ x_2 \\\\ \\vdots \\\\ x_n\\end{bmatrix}$ containing the _unknowns_ or _variables_ and the column vector $\\vv b = \\begin{bmatrix} b_1 \\\\ b_2 \\\\ \\vdots \\\\ b_m \\end{bmatrix}$ containing the _right-hand sides_.  As you can see, it is a bit unwieldy to write column vectors inline, and so we will often equivalently write them as $\\vv x = (x_1, x_2, \\cdots, x_n)$ and $\\vv b = (b_1, b_2, \\cdots, b_m)$ instead.\n",
    "\n",
    "```{warning}\n",
    "Both $(1,2,3)$ and $\\begin{bmatrix} 1 \\\\ 2 \\\\ 3 \\end{bmatrix}$ represent the same $3 \\times 1$ column vector.  However, $\\begin{bmatrix} 1 & 2 & 3 \\end{bmatrix}$ is a _different_ $1 \\times 3$ row vector!  $(1,2,3)$ is understood to be a column vector because of the round brackets and the commas, whereas $\\begin{bmatrix} 1 & 2 & 3 \\end{bmatrix}$ is understood to be a row vector because of the square brackets and no commas.  It's a bit tricky, but you'll get used to it in no time!\n",
    "```\n",
    "\n",
    "Revisiting linear system [](./021-linsys-gauss.ipynb#simple-linsys00), we see that the coefficient matrix $A$, the unknown vector $\\vv x$, and the right hand side vector $\\vv b$ can be read off as\n",
    "$$\n",
    "A = \\begin{bmatrix} 1 & 2 & 1 \\\\\n",
    "2 & 6 & 1 \\\\\n",
    "1 & 1 & 4 \\end{bmatrix}, \\quad \\vv x = \\begin{bmatrix} x_1 \\\\ x_2 \\\\ x_3 \\end{bmatrix}, \\quad \\vv b = \\begin{bmatrix} 2 \\\\ 7 \\\\ 3 \\end{bmatrix}.\n",
    "$$\n",
    "\n",
    "An important observatoion is that if a variable doesn't appear in an equation, then the corresponding matrix entry is 0.  For example, the following (admittedly silly) system of 2 equations in 2 unknowns\n",
    "\\begin{eqnarray}\n",
    "x + y &= 2\\\\\n",
    "y & = 1\n",
    "\\end{eqnarray}\n",
    "becomes\n",
    "\\begin{equation}\n",
    "\\begin{bmatrix} 1 & 1 \\\\ 0 & 1 \\end{bmatrix}\\begin{bmatrix} x \\\\ y \\end{bmatrix} = \\begin{bmatrix} 2 \\\\ 1\\end{bmatrix}.\n",
    "\\end{equation}\n"
   ]
  },
  {
   "cell_type": "markdown",
   "id": "3a3f89a9",
   "metadata": {},
   "source": [
    "````{exercise}  Writing linear systems in matrix-vector notation\n",
    ":label: matrix-vector-notation-ex1 \n",
    "\n",
    "Write the following system of linear equations in matrix-vector notation:\n",
    "\n",
    "\\begin{align*}\n",
    "2x + 3y - z + 4w &= 10 \\\\\n",
    "3x - 2y + 5z - w &= 5 \\\\\n",
    "x + 4y - 3z + 2w &= -3 \\\\\n",
    "\\end{align*}\n",
    "\n",
    "```{solution} matrix-vector-notation-ex1 \n",
    ":class: dropdown \n",
    "\n",
    "The corresponding linear system is:\n",
    "\n",
    "\\begin{align*}\n",
    "    \\bm 2 & 3 & -1 & 4 \\\\3 & -2 & 5 & -1 \\\\1 & 4 & -3 & 2 \\\\ \\em\\bm x \\\\y \\\\z \\\\w \\\\\\em =\\bm 10 \\\\5 \\\\-3 \\\\\\em\n",
    "\\end{align*}\n",
    "\n",
    "``` \n",
    "````"
   ]
  },
  {
   "cell_type": "markdown",
   "id": "63328456-9e9a-451c-89db-87f6948b1771",
   "metadata": {},
   "source": [
    "[![Binder](https://mybinder.org/badge_logo.svg)](https://mybinder.org/v2/gh/nikolaimatni/ese-2030/HEAD?labpath=/00_Ch_1_Linear_Algebraic_Systems/022-linsys-matvec.ipynb)"
   ]
  }
 ],
 "metadata": {
  "jupytext": {
   "cell_metadata_filter": "-all",
   "main_language": "python"
  },
  "kernelspec": {
   "display_name": "Python 3 (ipykernel)",
   "language": "python",
   "name": "python3"
  },
  "language_info": {
   "codemirror_mode": {
    "name": "ipython",
    "version": 3
   },
   "file_extension": ".py",
   "mimetype": "text/x-python",
   "name": "python",
   "nbconvert_exporter": "python",
   "pygments_lexer": "ipython3",
   "version": "3.8.19"
  }
 },
 "nbformat": 4,
 "nbformat_minor": 5
}
