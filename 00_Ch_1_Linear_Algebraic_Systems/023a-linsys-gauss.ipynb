{
 "cells": [
  {
   "cell_type": "markdown",
   "id": "fd7554ca-5ac4-4958-b713-648e3fd54114",
   "metadata": {
    "editable": true,
    "slideshow": {
     "slide_type": ""
    },
    "tags": []
   },
   "source": [
    "---\n",
    "title: 1.4 Gaussian Elimination Revisited\n",
    "subject:  Linear Algebraic Systems\n",
    "subtitle: Gaussian Elimination as Matrix Factorization\n",
    "short_title: 1.4 Gaussian Elimination using Matrices\n",
    "authors:\n",
    "  - name: Nikolai Matni\n",
    "    affiliations:\n",
    "      - Dept. of Electrical and Systems Engineering\n",
    "      - University of Pennsylvania\n",
    "    email: nmatni@seas.upenn.edu\n",
    "license: CC-BY-4.0\n",
    "keywords: Gaussian Elimination, pivots, algorithm using matrices\n",
    "math:\n",
    "  '\\vv': '\\mathbf{#1}'\n",
    "  '\\bm': '\\begin{bmatrix}'\n",
    "  '\\em': '\\end{bmatrix}'\n",
    "  '\\R': '\\mathbb{R}'\n",
    "---"
   ]
  },
  {
   "cell_type": "markdown",
   "id": "697aea0b-2cea-4387-8ad4-220fe138867f",
   "metadata": {},
   "source": [
    "[![Binder](https://mybinder.org/badge_logo.svg)](https://mybinder.org/v2/gh/nikolaimatni/ese-2030/HEAD?labpath=/00_Ch_1_Linear_Algebraic_Systems/023a-linsys-gauss.ipynb)\n",
    "\n",
    "{doc}`Lecture notes <../lecture_notes/Lecture 01 - Systems of linear equations, vectors, matrices, Gauss Elimination and LU-factorization.pdf>`"
   ]
  },
  {
   "cell_type": "markdown",
   "id": "efca8556-3e7f-4f1c-b466-04f0e14b12e5",
   "metadata": {},
   "source": [
    "## Reading\n",
    "Material related to this page, as well as additional exercises, can be found in LAA Ch. 2.5, ALA Ch 1.3, and ILA Ch. 2.6.  This page is mostly based on ALA Ch 1.3."
   ]
  },
  {
   "cell_type": "markdown",
   "id": "170438e7",
   "metadata": {},
   "source": [
    "## Learning Objectives\n",
    "\n",
    "By the end of this page, you should know:\n",
    "- how to use Gaussian elimination to solve linear systems $A\\vv x = \\vv b$ when $A$ is a regular matrix\n",
    "- what pivots in a matrix are\n",
    "- algorithms to solve _large_ systems of linear equations using Gaussian elimination and back substitution"
   ]
  },
  {
   "cell_type": "markdown",
   "id": "d879682d-4501-4189-8832-9889262efa99",
   "metadata": {
    "editable": true,
    "slideshow": {
     "slide_type": ""
    },
    "tags": []
   },
   "source": [
    "## Gaussian Elimination: Regular Case\n",
    "With basic matrix arithmetic operations in our toolkit, we will develop a systematic method for solving linear systems of equations.  For a linear system $A\\vv x = \\vv b$, with $A$ an $m\\times n$ coefficient matrix, $\\vv x$ an $n \\times 1$ unknowns vector, and $\\vv b$ an $m \\times 1$ right hand side vector, we define the _augmented matrix_:\n",
    "```{math}\n",
    ":label: augmat\n",
    "M = \\left[\\begin{array}{c|c} A & \\vv b \\end{array}\\right]\n",
    "=\\left[ \\begin{array}{cccc|c} \n",
    "a_{11} & a_{12} & \\cdots & a_{1n} & b_1 \\\\\n",
    "a_{21} & a_{22} & \\cdots & a_{2n} & b_2 \\\\\n",
    "\\vdots & \\vdots & \\ddots & \\vdots & \\vdots \\\\\n",
    "a_{m1} & a_{m2} & \\cdots & a_{mn} & b_m \\end{array}\\right],\n",
    "```\n",
    "which is an $m \\times (n+1)$ matrix obtained by tacking the right-hand side vector $\\vv b$ onto the right of the coefficient matrix $A$.  The extra vertical line is just to remind us that the last column of this matrix plays a special role.  For example, the augmented matrix for our [example system](./021-linsys-gauss.ipynb#simple-linsys) is\n",
    "\\begin{equation}\n",
    "\\label{augmat-ex}\n",
    "M = \\left[ \\begin{array}{ccc|c} 1 & 2 & 1 & 2\\\\ 2 & 6 & 1 & 7 \\\\ 1 & 1 & 4 & 3 \\end{array}\\right]\n",
    "\\end{equation}\n",
    "Note that it is simple to go back and forth between the original linear system and the augmented matrix, but since operations on equations also affect their right-hand sides, it is convenient to keep track of everything together using the augmented matrix.\n",
    "\n",
    "For the time being, we will concentrate our efforst on linear systems that have the same number, $n$, of equations as unknowns.  The associated coefficient matrix $A$ is square of size $n \\times n$, and the corresponding augmented matrix $M = [ A \\, | \\, \\vv b]$ then has size $n \\times (n+1)$.\n",
    "\n",
    "We start with a simple observation connecting [Linear System Operation \\#1](./021-linsys-gauss.ipynb#linop1) to its equivalent matrix operation\n",
    "(rowop1)=\n",
    "```{prf:observation} Elementary Row Operation \\#1\n",
    ":label: rowop1\n",
    "Adding a scalar multiple of one row of the augmented matrix to another row is the equivalent of adding a multiple of one equation to another in the system of linear equations it defines.  As such, this does not change the solution set and leads to an equivalent augmented matrix.\n",
    "```\n",
    "\n",
    "For example, when solving our [example system](./021-linsys-gauss.ipynb#simple-linsys), our first step was to subtract two times the first equation from the second.  This is equivalently done by subtracting two times the first row of the augmented matrix [](#augmat-ex) from the second row:\n",
    "$$\n",
    "-2\\bm 1 & 2 & 1 & 2 \\em + \\bm 2 & 6 & 1 & 7 \\em = \\bm 0 & 2 & -1 & 3\\em.\n",
    "$$\n",
    "We recognize this as the second row of the modified augmented matrix\n",
    "\\begin{equation}\n",
    "\\label{pivot1}\n",
    "\\left[ \\begin{array}{ccc|c} 1 & 2 & 1 & 2\\\\ 0 & 2 & -1 & 3\\\\ 1 & 1 & 4 & 3 \\end{array}\\right],\n",
    "\\end{equation}\n",
    "that corresponds to the [first equivalent example system](./021-linsys-gauss.ipynb#simple-linsys0).  When elementary row operation \\#1 is performed, it is critical that the result replaces the row being added to and _not_ the row being multiplied by the scalar.  Notice that the elimination of a variable in an equation, in this case the first variable in the second equation, amounts to making its entry in the coefficient matrix equal to zero.\n",
    "\n",
    "### Pivots\n",
    "```{image} ../figures/02-pivot.gif\n",
    ":alt: Pivot!\n",
    ":width: 500px\n",
    ":align: center\n",
    "```\n",
    "We will call the $(1,1)$ entry of the coefficient matrix the _first pivot_.  The precise definition of a pivot will become clear as we continue, but one key requirement is that _a pivot must always be nonzero_.  Eliminating the first variable $x_1$ from the second and third equations is the same as making all of the matrix entries in the column below the pivot equal to zero.  We have already done this with the $(2,1)$ entry in [](#pivot1).  To make the $(3,1)$ entry equal to zero, we subtract the first from from the last row, resulting in the augmented matrix\n",
    "\\begin{equation}\n",
    "\\label{pivot2}\n",
    "\\left[ \\begin{array}{ccc|c} 1 & 2 & 1 & 2\\\\ 0 & 2 & -1 & 3\\\\ 0 & -1 & 3 & 1 \\end{array}\\right],\n",
    "\\end{equation}\n",
    "which we again recognize as the corresponding to the [second equivalent example system](./021-linsys-gauss.ipynb#simple-linsys1).  The _second pivot_ is the $(2,2)$ entry of this matrix, which is $2$, and is the coefficient of the second variable $x_2$ in the second equation.  Again, the pivot must be nonzero.  We use the [](#rowop1) of adding $1/2$ of the second row to the third row to make the entry below the second pivot equal to 0, resulting in the augmented matrix\n",
    "\\begin{equation}\n",
    "\\label{pivot3}\n",
    "\\left[ \\begin{array}{ccc|c} 1 & 2 & 1 & 2\\\\ 0 & 2 & -1 & 3\\\\ 0 & 0 & \\frac{5}{2} & \\frac{5}{2} \\end{array}\\right],\n",
    "\\end{equation}\n",
    "that corresponds to the [triangular system equivalent to our example system](./021-linsys-gauss.ipynb#simple-linsys2).  We write the final augmented matrix as\n",
    "$$\n",
    "N = [U \\, | \\, \\vv c], \\quad \\text{where} \\quad U = \\bm 1 & 2 & 1 \\\\ 0 & 2 & -1 \\\\ 0 & 0 & \\frac{5}{2}\\em, \\quad \\vv c = \\bm 2 \\\\ 3 \\\\ \\frac{5}{2} \\em.\n",
    "$$\n",
    "\n",
    "The corresponding linear system can be written as $U\\vv x = \\vv c$.  A special feature of this system is that the coefficient matrix $U$ is _upper triangular_[^upper], which means that all entries below the main diagonal are zero, i.e., $u_{ij}=0$ whenever $i>j$.  The three nonzero entries on its diagonal, $1$, $2$, and $5/2$, including the last one in the $(3,3)$ slot, are the three pivots.  Once the system has been reduced to this triangular form, we can easily solve it via Back Substitution.\n",
    "\n",
    "[^upper]: It's convention we used the symbol $U$ to remind ourselves that the matrix is upper triangular.\n",
    "\n",
    "What we just described is an algorithm for solving a linear system of $n$ equations in $n$ unknowns, and is known as _regular Gaussian Elimination_.  We'll call a square matrix $A$ _regular_ if the algorithm successfully reduces it to the upper triangular form $U$ with all nonzero pivots on the diagonal.  If this fails to happen, i.e., if a pivot appearing on the diagonal is zero, then the matrix is not regular.  We then use the pivot row to make all entries lying in the column below the pivot equal to zero through elementary row operations.  The solution is then found by applying Back Substitution to the resulting system.  We present both of these algorithms in _pseudocode_ and _python code_ below.\n",
    "\n",
    ":::{prf:algorithm} Regular Gaussian Elimination (Pseudo-code)\n",
    ":label: reg-ge\n",
    "\n",
    "**Inputs** Augmented matrix $M = [ A \\, | \\, \\vv b]$\n",
    "\n",
    "**Output** Equivalent upper triangular form $M = [U \\, | \\, \\vv c]$ if $A$ is regular, \"$A$ is not regular\" token otherwise\n",
    "\n",
    "for $j=1$ to $n$:\\\n",
    "$\\quad$ if $m_{jj}=0$:\\\n",
    "$\\quad \\quad$ **return** \"$A$ is not regular\"\\\n",
    "$\\quad$ else for $i= j + 1$ to $n$:\\\n",
    "$\\quad \\quad$ set $l_{ij}\\leftarrow m_{ij}/m_{jj}$\\\n",
    "$\\quad \\quad$ add $-l_{ij}$ times row $j$ of $M$ to row $i$ of $M$\\\n",
    "**return** $M = [U \\, | \\, \\vv c]$ \n",
    ":::\n",
    "Here we use what are called _in place updates_, meaning that the same letter $M$ (with entries $m_{ij}$) denotes the current augmented matrix at each stage in the computation.  We initialize with $M=[A \\, | \\, \\vv b]$, and output (assuming $A$ is regular) the upper triangular equivalent augmented matrix $M = [U \\, | \\, \\vv c]$, where $U$ is the upper triangular matrix with diagonal entries the pivots, and $\\vv c$ is the resulting vector of the right-hand sides of the triangular system $U\\vv x = \\vv c$.  \n",
    "\n",
    "#### Python Break!\n",
    "Here's what this looks like implemented as a function in NumPy.  You should be able to map the code below to the pseudo-code above."
   ]
  },
  {
   "cell_type": "code",
   "execution_count": 17,
   "id": "ec362be8-2692-4fd1-94f8-aa9410c2eaa5",
   "metadata": {},
   "outputs": [
    {
     "name": "stdout",
     "output_type": "stream",
     "text": [
      "[[ 1.   2.   1.   2. ]\n",
      " [ 0.   2.  -1.   3. ]\n",
      " [ 0.   0.   2.5  2.5]]\n"
     ]
    }
   ],
   "source": [
    "import numpy as np\n",
    "\n",
    "def GaussElim(A, b):\n",
    "    n = A.shape[0] # number of rows of A = number of equations\n",
    "    M = np.hstack((A, b.reshape((n,1)))) # build the augmented matrix by horizontally stacking A and b.\n",
    "    \n",
    "    # Gaussian elimination\n",
    "    for j in range(n):\n",
    "        if M[j, j] == 0:\n",
    "            print(\"A is not regular\")\n",
    "            break\n",
    "        else:\n",
    "            for i in range(j+1, n):\n",
    "                scalar = M[i, j]/M[j, j]\n",
    "                M[i, :] = M[i, :] - scalar*M[j, :]\n",
    "    \n",
    "    # return the matrix M = [U | c] in upper triangular form\n",
    "    return M        \n",
    "\n",
    "# Let's test our function\n",
    "A = np.array([[1., 2., 1.],\n",
    "              [2., 6., 1.],\n",
    "              [1., 1., 4.]])\n",
    "\n",
    "b = np.array([2, 7, 3])\n",
    "\n",
    "M = GaussElim(A,b)\n",
    "print(M)"
   ]
  },
  {
   "cell_type": "markdown",
   "id": "c21af857-c884-4756-99a7-a3a38387fa64",
   "metadata": {
    "editable": true,
    "slideshow": {
     "slide_type": ""
    },
    "tags": []
   },
   "source": [
    "```{caution}\n",
    "You might be wondering we we added periods at the end of each number when we defined `A` and `b`.  This is to tell Python that we want the numbers to be treated as _floats_ rather than _integers_.  This hasn't been an issue up until now because we haven't implemented code that involves division.  If we did not put those periods at the end, Python would round every operation to the nearest integer, because it assumes this is what we wanted.  This can lead to unexpected results and _very tough to catch bugs_.\n",
    "```"
   ]
  },
  {
   "cell_type": "code",
   "execution_count": 19,
   "id": "b8fdcb1e-e68c-47aa-817f-a8924e21f4a6",
   "metadata": {},
   "outputs": [
    {
     "name": "stdout",
     "output_type": "stream",
     "text": [
      "[[0.  0.  0.  0. ]\n",
      " [0.  0.  0.  0. ]\n",
      " [0.  0.  0.5 0.5]]\n"
     ]
    }
   ],
   "source": [
    "# The importance of a period!\n",
    "Aint = np.array([[1, 2, 1],\n",
    "              [2, 6, 1],\n",
    "              [1, 1, 4]])\n",
    "bint = np.array([2, 7, 3])\n",
    "\n",
    "newM = GaussElim(Aint,bint)\n",
    "print(M-newM) # these are different!"
   ]
  },
  {
   "cell_type": "markdown",
   "id": "3992c339-2048-4cf5-bfd1-de4315ab2d82",
   "metadata": {
    "editable": true,
    "slideshow": {
     "slide_type": ""
    },
    "tags": []
   },
   "source": [
    "Next, let's take a look at the pseudocode for Back Substitution.\n",
    ":::{prf:algorithm} Back Substitution\n",
    ":label: back-sub\n",
    "\n",
    "**Inputs** Triangular form augmented matrix $M = [U \\, | \\, \\vv c]$.  $U$ is assumed to have nonzero diagonals $u_{ii}\\neq 0$.\n",
    "\n",
    "**Output** Solution $\\vv x$ to $U\\vv x = \\vv c$.\n",
    "\n",
    "set $x_n\\leftarrow c_n/u_{nn}$\\\n",
    "for $i=n-1$ to $1$: (decrementing by $-1$ at each iteration)\\\n",
    "$\\quad$ set $x_i \\leftarrow \\frac{1}{u_{ii}}\\left(c_i-\\displaystyle\\sum_{j=i+1}^{n}u_{ij}x_j\\right)$\\\n",
    "**return** solution $\\vv x$\n",
    ":::\n",
    "\n",
    "Here's what this looks like implemented as a function in NumPy.  You should be able to map the code below to the pseudo-code above."
   ]
  },
  {
   "cell_type": "code",
   "execution_count": 20,
   "id": "c2434708-ed5b-4978-ac3f-160ba1aed508",
   "metadata": {},
   "outputs": [
    {
     "name": "stdout",
     "output_type": "stream",
     "text": [
      "[-3.  2.  1.]\n"
     ]
    }
   ],
   "source": [
    "def back_substitution(M):\n",
    "    # We assume M = [U|c] has U in upper triangular form\n",
    "    # Better software engineering practices would call for us to check this before proceeding but we\n",
    "    # focus on the math here\n",
    "    \n",
    "    n = M.shape[0] # number of rows of M = number of equations = number of unknowns for square A\n",
    "    x = np.zeros((n,)) # set up an all zeros array x to be populated with the solution\n",
    "    \n",
    "    x[n-1] = M[n-1, -1]/M[n-1, n-1] # -1 is the last index of the particular axis in a python array\n",
    "    for i in range(n-2, -1, -1): # range(a, b, c) returns the list [a, a+c ,a+2c, ..., b] \n",
    "        x[i] = (M[i, -1] - np.sum(M[i, i+1:-1]*x[i+1:]))/M[i, i] # * is elementwise multiplication of arrays\n",
    "    \n",
    "    return x\n",
    "\n",
    "# Let's test out our code using M from above: it gives us the right answer!\n",
    "x = back_substitution(M)\n",
    "print(x)"
   ]
  },
  {
   "cell_type": "markdown",
   "id": "ab3be385-f5ed-45b4-9f2e-2962f7a445f0",
   "metadata": {},
   "source": [
    "Now let's put the two functions together to define a `solve` function that takes in a matrix `A` and a right hand side `b` and returns a solution `x` such that `A@x = b`."
   ]
  },
  {
   "cell_type": "code",
   "execution_count": 22,
   "id": "10c86335-9671-42ea-b6d8-414db64ad71c",
   "metadata": {},
   "outputs": [
    {
     "name": "stdout",
     "output_type": "stream",
     "text": [
      "x = [-3.  2.  1.]\n",
      " A @ x - b = [0. 0. 0.]\n"
     ]
    }
   ],
   "source": [
    "def solve(A,b):\n",
    "    M = GaussElim(A,b)\n",
    "    x = back_substitution(M)\n",
    "    return x\n",
    "\n",
    "x = solve(A,b)\n",
    "\n",
    "print(f'x = {x}\\n A @ x - b = {A @ x - b}')\n"
   ]
  },
  {
   "cell_type": "markdown",
   "id": "c6746a76-78aa-42fd-b3ac-322ad879d1ae",
   "metadata": {},
   "source": [
    "### Worked Examples"
   ]
  },
  {
   "cell_type": "markdown",
   "id": "6ceffd52-56eb-4625-8fbc-e4696a69e3f4",
   "metadata": {},
   "source": [
    "````{exercise}  Regular Gaussian elimination and backsubstitution\n",
    ":label: row-reduce-ex1\n",
    "\n",
    "For the following system, write its augmented matrix. By hand, execute the regular Gaussian elimination algorithm; if the algorithm succeeds, then solve the system via backsubstitution on the upper triangular form augmented matrix.\n",
    "\n",
    "\\begin{align*}\n",
    "    2x + y - z &= 8\\\\\n",
    "    -3x - y + 2z &= -11\\\\\n",
    "    -2x + y + 2z &= -3\n",
    "\\end{align*}\n",
    "\n",
    "```{solution} row-reduce-ex1\n",
    ":class: dropdown\n",
    "\n",
    "The augmented matrix is:\n",
    "\n",
    "\\begin{align*}\n",
    "    \\left[ \\begin{array}{ccc|c}\n",
    "        2 & 1 & -1 & 8 \\\\\n",
    "        -3 & -1 & 2 & -11 \\\\\n",
    "        -2 & 1 & 2 & -3\n",
    "    \\end{array} \\right]\n",
    "\\end{align*}\n",
    "\n",
    "Our first pivot is the element in position (1, 1), which is 2, which is nonzero. Let's use the first row to eliminate the first elements in rows 2 and 3, by doing $R_2 \\gets R_2 + (3/2)R_1$ and $R_3 \\gets R_3 + R_1$ (where $R_i$ denotes the ith row of the augmented matrix). Doing this gives us the equivalent augmented matrix:\n",
    "\n",
    "\\begin{align*}\n",
    "    \\left[ \\begin{array}{ccc|c}\n",
    "        2 & 1 & -1 & 8 \\\\\n",
    "        0 & 1/2 & 1/2 & 1 \\\\\n",
    "        0 & 2 & 1 & 5\n",
    "    \\end{array} \\right]\n",
    "\\end{align*}\n",
    "\n",
    "Our second pivot is the element in position (2, 2), which is $1/2$, which is nonzero. Using the second row to eliminate the second element in row 3, we get:\n",
    "\n",
    "\\begin{align*}\n",
    "    \\left[ \\begin{array}{ccc|c}\n",
    "        2 & 1 & -1 & 8 \\\\\n",
    "        0 & 1/2 & 1/2 & 1 \\\\\n",
    "        0 & 0 & -1 & 1\n",
    "    \\end{array} \\right]\n",
    "\\end{align*}\n",
    "\n",
    "The third and last pivot is $-1$, which is nonzezro, meaning the regular Gaussian elimination algorithm succeeded.\n",
    "\n",
    "Now, let's solve for $x$, $y$, and $z$ using backsubstitution. Starting from the last row:\n",
    "\n",
    "* The last row $\\left[ \\begin{array}{ccc|c}\n",
    "        0 & 0 & -1 & 1\n",
    "    \\end{array} \\right]$ tells us that $-z = 1$, in other words, $z = -1$.\n",
    "\n",
    "* The second to last row tells us $y/2 + z/2 = 1$. Since we know $z = -1$, we have $y/2 -1/2 = 1$, meaning $y = 3$.\n",
    "\n",
    "* The final row tells us that $2x + y - z = 8$. Since we know $z = -1$ and $y = 3$, we find that $x = 2$.\n",
    "\n",
    "So our final answer is $(x, y, z) = (2, 3, -1)$.\n",
    "\n",
    "\n",
    "```\n",
    "````"
   ]
  },
  {
   "cell_type": "markdown",
   "id": "65a31ff3",
   "metadata": {},
   "source": [
    "````{exercise}  Regular Gaussian elimination and backsubstitution (cont.)\n",
    ":label: row-reduce-ex2\n",
    "For the following system, write its augmented matrix. By hand, execute the regular Gaussian elimination algorithm. Show how the algorithm fails for this system.\n",
    "\n",
    "\\begin{align*}\n",
    "    x + 2y + 3z &= 6\\\\\n",
    "    2x + 4y + 6z &= 12\\\\\n",
    "    x + y + z &= 3\n",
    "\\end{align*}\n",
    ":::{hint} Click me for a hint!\n",
    ":class: dropdown\n",
    "What's the value of the second pivot after we eliminate the first column?\n",
    "\n",
    ":::\n",
    "```{solution} row-reduce-ex2\n",
    ":class: dropdown\n",
    "The augmented matrix is:\n",
    "\n",
    "\\begin{align*}\n",
    "    \\left[ \\begin{array}{ccc|c}\n",
    "        1 & 2 & 3 & 6 \\\\\n",
    "        2 & 4 & 6 & 12 \\\\\n",
    "        1 & 1 & 1 & 3\n",
    "    \\end{array} \\right]\n",
    "\\end{align*}\n",
    "\n",
    "Our first pivot is the element in position (1, 1), which is 1, which is nonzero. Let's use the first row to eliminate the first elements in rows 2 and 3, by doing $R_2 \\gets R_2 - 2R_1$ and $R_3 \\gets R_3 - R_1$ (where $R_i$ denotes the ith row of the augmented matrix). Doing this gives us the equivalent augmented matrix:\n",
    "\n",
    "\\begin{align*}\n",
    "    \\left[ \\begin{array}{ccc|c}\n",
    "        1 & 2 & 3 & 6 \\\\\n",
    "        0 & 0 & 0 & 0 \\\\\n",
    "        0 & -1 & -2 & -3\n",
    "    \\end{array} \\right]\n",
    "\\end{align*}\n",
    "\n",
    "Our second pivot is the element in position (2, 2), which is 0, which is zero. Therefore regular Gaussian elimination fails, meaning our coefficient matrix is irregular.\n",
    "\n",
    "```\n",
    "````"
   ]
  },
  {
   "cell_type": "markdown",
   "id": "c06384a9-2a26-4a0e-a471-f775acb51176",
   "metadata": {},
   "source": [
    "## Solving Big Systems of Linear Equations\n",
    "The code that we wrote above works equally well when we have 1000 equations in 1000 unknowns (or more!).  The code below generates a random `A` and `b` of size 1000 x 1000 and 1000 x 1, respectively, and solves for a 1000 x 1 solution `x` satisfying `A @ x = b`.  Compare how long our code takes to solve this problem and the built in function from NumPy [`np.linalg.solve`](https://numpy.org/doc/stable/reference/generated/numpy.linalg.solve.html).\n",
    "\n",
    "If you want to play around with this, launch the interactive notebook and see how big of a system you can solve before it takes too long or you run out of memory!"
   ]
  },
  {
   "cell_type": "code",
   "execution_count": 24,
   "id": "7a2401dc-1925-4c58-91cf-4c34cdc6def1",
   "metadata": {},
   "outputs": [],
   "source": [
    "# Setup a large random system of equation Ax = b\n",
    "n = 1000 # number of equations and unknowns\n",
    "\n",
    "# Generate random A and b of size (n,n) and (n,1)\n",
    "A_big = np.eye(n) + np.random.randn(n,n)\n",
    "b_big = np.random.randn(n)\n"
   ]
  },
  {
   "cell_type": "code",
   "execution_count": 25,
   "id": "1c518e05-9527-4012-89b0-485699e1ce01",
   "metadata": {},
   "outputs": [
    {
     "name": "stdout",
     "output_type": "stream",
     "text": [
      "4.564420619246334e-09\n"
     ]
    }
   ],
   "source": [
    "# solve linear system of equations Ax=b using our homebrewed solution\n",
    "x = solve(A_big, b_big)\n",
    "\n",
    "# print max absolute value of Ax - b\n",
    "print(np.max(np.abs(A_big @ x - b_big)))"
   ]
  },
  {
   "cell_type": "code",
   "execution_count": 26,
   "id": "63ac41bc-38dc-4b74-8303-8b3521d9b566",
   "metadata": {},
   "outputs": [
    {
     "name": "stdout",
     "output_type": "stream",
     "text": [
      "3.06916714265526e-11\n"
     ]
    }
   ],
   "source": [
    "# compare to using NumPy's built in function\n",
    "x_np = np.linalg.solve(A_big, b_big)\n",
    "\n",
    "# print max absolute value of Ax - b\n",
    "print(np.max(np.abs(A_big @ x_np - b_big)))"
   ]
  },
  {
   "cell_type": "code",
   "execution_count": 28,
   "id": "acec56cf-cd3b-49d9-a9c1-0359a121f3a9",
   "metadata": {},
   "outputs": [
    {
     "name": "stdout",
     "output_type": "stream",
     "text": [
      "805 ms ± 4.06 ms per loop (mean ± std. dev. of 7 runs, 1 loop each)\n",
      "9.83 ms ± 641 µs per loop (mean ± std. dev. of 7 runs, 100 loops each)\n"
     ]
    }
   ],
   "source": [
    "# use some python magic to compare timing: which should you use in practice?!\n",
    "%timeit solve(A_big, b_big)\n",
    "%timeit np.linalg.solve(A_big, b_big)"
   ]
  },
  {
   "cell_type": "markdown",
   "id": "1b5d235d-6b8e-4422-84fe-0dce26358c33",
   "metadata": {},
   "source": [
    "[![Binder](https://mybinder.org/badge_logo.svg)](https://mybinder.org/v2/gh/nikolaimatni/ese-2030/HEAD?labpath=/00_Ch_1_Linear_Algebraic_Systems/023a-linsys-gauss.ipynb)"
   ]
  }
 ],
 "metadata": {
  "jupytext": {
   "cell_metadata_filter": "-all",
   "main_language": "python"
  },
  "kernelspec": {
   "display_name": "Python 3 (ipykernel)",
   "language": "python",
   "name": "python3"
  },
  "language_info": {
   "codemirror_mode": {
    "name": "ipython",
    "version": 3
   },
   "file_extension": ".py",
   "mimetype": "text/x-python",
   "name": "python",
   "nbconvert_exporter": "python",
   "pygments_lexer": "ipython3",
   "version": "3.8.19"
  }
 },
 "nbformat": 4,
 "nbformat_minor": 5
}
