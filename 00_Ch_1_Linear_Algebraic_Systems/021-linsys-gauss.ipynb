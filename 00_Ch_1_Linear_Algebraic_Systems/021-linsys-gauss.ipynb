{
 "cells": [
  {
   "cell_type": "markdown",
   "id": "fd7554ca-5ac4-4958-b713-648e3fd54114",
   "metadata": {
    "editable": true,
    "slideshow": {
     "slide_type": ""
    },
    "tags": []
   },
   "source": [
    "---\n",
    "title: 1.2 Solving Linear Systems via Gaussian Elimination\n",
    "subject:  Linear Algebraic Systems\n",
    "subtitle: Forward elimination and back substitution are all you need\n",
    "short_title: 1.2 Gaussian Elimination\n",
    "authors:\n",
    "  - name: Nikolai Matni\n",
    "    affiliations:\n",
    "      - Dept. of Electrical and Systems Engineering\n",
    "      - University of Pennsylvania\n",
    "    email: nmatni@seas.upenn.edu\n",
    "license: CC-BY-4.0\n",
    "keywords: systems of linear equations, solution sets, forward elimination, back substitution\n",
    "math:\n",
    "  '\\vv': '\\mathbf{#1}'\n",
    "  '\\bm': '\\begin{bmatrix}'\n",
    "  '\\em': '\\end{bmatrix}'\n",
    "  '\\R': '\\mathbb{R}'\n",
    "downloads:\n",
    "  - file: lecture_notes/Lecture 01 - Systems of linear equations, vectors, matrices, Gauss Elimination and LU-factorization.pdf\n",
    "---"
   ]
  },
  {
   "cell_type": "markdown",
   "id": "b6de1190-6bc6-455f-82b7-74e71f966935",
   "metadata": {},
   "source": [
    "[![Binder](https://mybinder.org/badge_logo.svg)](https://mybinder.org/v2/gh/nikolaimatni/ese-2030/HEAD?labpath=/00_Ch_1_Linear_Algebraic_Systems/021-linsys-gauss.ipynb)\n",
    "\n",
    "{doc}`Lecture notes <../lecture_notes/Lecture 01 - Systems of linear equations, vectors, matrices, Gauss Elimination and LU-factorization.pdf>`\n"
   ]
  },
  {
   "cell_type": "markdown",
   "id": "efca8556-3e7f-4f1c-b466-04f0e14b12e5",
   "metadata": {},
   "source": [
    "## Reading\n",
    "Material related to this page, as well as additional exercises, can be found in ALA Ch. 1.1, LAA Ch 1.1, and ILA Ch. 2.2.  These notes are mostly based on ALA Ch 1.1."
   ]
  },
  {
   "cell_type": "markdown",
   "id": "170438e7",
   "metadata": {},
   "source": [
    "## Learning Objectives\n",
    "\n",
    "By the end of this page, you should know:\n",
    "- what a linear equation is, how to identify one, and how they combine to form a system of linear equations (also called a linear system)\n",
    "- what a solution set is, and the kinds of solution sets a linear system can have\n",
    "- how to solve _most_ small systems of linear equations by hand using _Gaussian Elimination_"
   ]
  },
  {
   "cell_type": "markdown",
   "id": "ebd6aeff-4ad9-42b7-9fb4-a82ada3e07b6",
   "metadata": {
    "editable": true,
    "slideshow": {
     "slide_type": ""
    },
    "tags": []
   },
   "source": [
    "## Terminology\n",
    "A _linear equation_[^linear] in the _variables_ $x_1,\\dots,x_n$ is an equation that can be written in the form\n",
    "```{math}\n",
    ":label: lin-eq\n",
    "a_1x_1 + a_2x_2+\\cdots+a_nx_n = b,\n",
    "```\n",
    "where $b$ and the _coefficients_ $a_1,a_2,\\dots,a_n$ are real or complex numbers[^real] that are typically known in advance.  The subscript $n$ is a positive integer, and encodes how many variables appear in the linear equation.  When we ask you to solve problems by hand, $n$ is typically 2 or 3, but we will see and solve problems where $n$ is in the hundreds or even thousands!\n",
    "\n",
    "````{exercise} Linear or not?\n",
    ":label: ex-linornot\n",
    "Which of the following equations are linear? \n",
    "1. $4x_1 - 5x_2 + 2 = x_1$\n",
    "2. $x_2 = 2(\\pi^2 - x_1)+\\sqrt{3}x_3$\n",
    "3. $4x_1 - 5x_2 = x_1x_2$\n",
    "4. $x_2 = 2(\\pi^2 - x_1)+\\sqrt{x_3}$\n",
    "\n",
    "Explain why or why not.\n",
    "\n",
    "```{solution} ex-linornot\n",
    ":class: dropdown\n",
    "1. Yes because it can be rearranged algebraically to match [](#lin-eq)\n",
    "2. Yes because it can be rearranged algebraically to match [](#lin-eq)\n",
    "3. No because of the $x_1x_2$ term\n",
    "4. No because of the $\\sqrt{x_3}$ term.\n",
    "```\n",
    "````\n",
    "[^linear]: We'll see later exactly why we call these equations linear, and the deep implications that linearity has on science and engineering.  For now, it's enough to think of an equation as being linear if the unknowns only appear to the first power, and there are no product terms like $x_1x_2$ or $x_1x_2x_3$, in it.\n",
    "[^real]: Almost all equations that we will encounter in this class will be defined in terms of real numbers.  In certain settings, we will need to use complex numbers, but don't worry, we'll go over how to work with complex numbers carefully then.\n",
    "\n",
    "A _system of linear equations_ (or _linear system_) is a collection of one or more [linear equations](#lin-eq) involving the same variables, say $x_1,\\dots,x_n$.  An example is\n",
    "\\begin{eqnarray}\n",
    "\\label{simple-linsys00}\n",
    "x_1+2x_2+x_3 & = 2,\\\\\n",
    "2x_1+6x_2+x_3 & =7,\\\\\n",
    "x_1+x_2+4x_3 & =3,\n",
    "\\end{eqnarray}\n",
    "which is a system of three equations in three unknowns.\n",
    "\n",
    "A _solution_ of the system is a list $(s_1,s_2,\\dots,s_n)$ of numbers that makes each equation a true statement when the values $s_1,\\dots,s_n$ are substituted for $x_1,\\dots,x_n$, respectively.  For instance, $(-3,2,1)$ is a solution of system [](#simple-linsys00) because, when these values are substituted in [](#simple-linsys00) for $x_1,x_2,x_3$, respectively, the equations simplify to $2=2$, $7=7$, and $3=3$.  The set of all possible solutions is called the _solution set_ of the linear system.  We state an important fact regarding the solution set of linear systems that we will understand very deeply by the end of this chapter:\n",
    "\n",
    ":::{important} Solution Set for Linear Systems\n",
    "A system of linear equations has\n",
    "1. no solution, or\n",
    "2. exactly one solution, or\n",
    "3. infinitely many solutions.\n",
    ":::\n",
    "\n",
    ":::{warning} Applies to Linear Systems Only!\n",
    "While the three options above are exhaustive for linear systems, they are absolutely not for nonlinear systems of equations!  A familiar example that you would have seen in high school is the solution set to a <wiki:Quadratic_equation>, which can have zero, one, or two solutions!\n",
    ":::"
   ]
  },
  {
   "cell_type": "markdown",
   "id": "a5132587-59ce-487e-8352-86e812944156",
   "metadata": {
    "editable": true,
    "slideshow": {
     "slide_type": ""
    },
    "tags": []
   },
   "source": [
    "## Solving Linear Systems\n",
    "We start with a simple observation: we know how to solve equations that look like\n",
    "$$\n",
    "\\frac{5}{2}x_1 = 6, \\ 5-x_3 = 12, \\ 1 + 3x_2 = -4.\n",
    "$$\n",
    "These equations are ``easy'' to solve because they only involved one unknown, that we can solve for using simple algebra.  Our strategy will be to develop a systematic way of reducing linear systems, like the example [](#simple-linsys00) above, into an _equivalent system of equations_ that are easy to solve.\n",
    "\n",
    "\n",
    "To illustrate, let's start with the system of three linear equations [](#simple-linsys00) we introduced above:\n",
    "\\begin{eqnarray}\n",
    "\\label{simple-linsys}\n",
    "x_1+2x_2+x_3 & = 2,\\\\\n",
    "2x_1+6x_2+x_3 & =7,\\\\\n",
    "x_1+x_2+4x_3 & =3,\n",
    "\\end{eqnarray}\n",
    "\n",
    "\n",
    "Our strategy will be to systematically employ the following _very useful_ observation:\n",
    "\n",
    ":::{prf:observation} Linear System Operation \\#1\n",
    ":label:linop1\n",
    "Adding multiples of one equation to another equation does not change the solution set\n",
    ":::\n",
    "\n",
    "Before continuing, you might try to convince yourself that this observation is true. Our goal is to apply [](#linop1) judiciously to transform the system of linear equations [](#simple-linsys) into a much simpler one that is easy to solve but still has the same solutions as the original.  Any linear system that is derived from the original system by successive application of such operations will be called an _equivalent system_.  An important property is that _equivalent systems have the same solutions._\n",
    "\n",
    "Our strategy will be to successively eliminate variables in our equations in order of appearance.  So, here, our first step is to eliminate the first variable, $x_1$, from the second equation.  We'll do that by subtracting twice the first equation from the second:\n",
    "$$\n",
    "\\begin{array}{lrl}\n",
    "\\text{[second equation]} & 2x_1+6x_2+x_3 & =7 \\\\\n",
    "\\text{-2[first equation]} & -2\\left[x_1+2x_2+x_3 \\right. & \\left. = 2\\right]\\\\\n",
    "\\hline \\\\\n",
    "\\text{[updated equation]} & 0x_1 + 2x_2 - x_3 & = 3,\n",
    "\\end{array}\n",
    "$$\n",
    "so that now, our equivalent system of linear equations is given by\n",
    "\\begin{eqnarray}\n",
    "\\label{simple-linsys0}\n",
    "x_1+2x_2+x_3 & = 2,\\\\\n",
    "2x_2-x_3 & =3,\\\\\n",
    "x_1+x_2+4x_3 & =3.\n",
    "\\end{eqnarray}\n",
    "This system of equations is simpler than [](#simple-linsys) because $x_1$ no longer appears in the second equation.  We can eliminate $x_1$ from the third equation by subtracting the first equation from it, giving \n",
    "\\begin{eqnarray}\n",
    "\\label{simple-linsys1}\n",
    "x_1+2x_2+x_3 & = 2,\\\\\n",
    "2x_2-x_3 & =3,\\\\\n",
    "-x_2+3x_3 & =1.\n",
    "\\end{eqnarray}\n",
    "\n",
    "\n",
    "\n",
    "The equivalent system [](#simple-linsys1) is even simpler than the original [](#simple-linsys): notice that the second and third equations do not involve $x_1$ (by design), and so constitute a system of two linear equations in two unknowns.  Moreover, once we have solved this subsystem for $x_2$ and $x_3$, we can substitute the answer into the first equation, and we need only solve a single linear equation for $x_1$.\n",
    "\n",
    "We continue on, with our goal in this next phase to eliminate the second variable, $x_2$, from the third equation by adding $1/2$ the second equation to it.  The result is\n",
    "\\begin{eqnarray}\n",
    "\\label{simple-linsys2}\n",
    "x_1+2x_2+x_3 & = 2,\\\\\n",
    "2x_2-x_3 & =3,\\\\\n",
    "\\frac{5}{2}x_3 & =\\frac{5}{2},\n",
    "\\end{eqnarray}\n",
    "which is the simple system we have been working towards.  It is in what is called _triangular form_: the first equation depends on all three variables, the second only depends on the second and third variables, and the last equation involves only the last variable.  The process we went through of transforming the original system [](#simple-linsys) to the triangular system [](#simple-linsys2) is an example of _Forward Elimination_: we work our way down the equations, eliminating variables as we go.  Once a system is in triangular form, it can be straightforwardly solved by the method of _Back Substitution_.  As the name suggests, we work backwards, solving the last equation first, which requires that $x_3=1$.  We substitute the result back into the middle equation, which becomes $2x_2-1=3$, with solution $x_2=2$.  We finally substitute the two values $x_2=2$ and $x_3=1$ into the first equation, which becomes $x_1+5=2$, and so the solution to the triangular system [](#simple-linsys2) is\n",
    "$$\n",
    "x_1=-3, \\quad x_2=2, \\quad x_3=1.\n",
    "$$\n",
    "\n",
    "Even more exciting is that recalling [](#linop1), we know that the triangular system [](#simple-linsys2) is equivalent to our original system [](#simple-linsys), which means that this is also the solution to our original system of equations (you can check).  We note that in this case, system [](#simple-linsys) has a _unique_, meaning one and only one, solution.  We'll understand why this is the case later in the semester.\n",
    "\n",
    "This process was incredibly simple and intuitive: add equations together to eliminate ``downstairs'' variables until you have found an equivalent triangular system, which can then be readily solved via back substitution.  Amazingly, barring a few minor complications that can come up from time to time, this is essentially all there is to _Gaussian Elimination_.  This incredibly simple algorithm is also unbelievably important and powerful.  After a brief detour to remind ourselves about matrix and vector notation, we'll revisit Gaussian Elimination through the lens of _matrix factorization_, which will allow us to easily automate and scale out these ideas to systems with hundreds or even thousands of variables. "
   ]
  },
  {
   "cell_type": "markdown",
   "id": "8525c0cb-a973-4e86-8d3b-b77ea2c1235b",
   "metadata": {
    "editable": true,
    "slideshow": {
     "slide_type": ""
    },
    "tags": []
   },
   "source": [
    "## Worked Examples"
   ]
  },
  {
   "cell_type": "markdown",
   "id": "6ceffd52-56eb-4625-8fbc-e4696a69e3f4",
   "metadata": {},
   "source": [
    "````{exercise} Finding coefficients\n",
    ":label: ex1\n",
    "Find the coefficients $(a, b, c)$ for the set of equations \n",
    "\\begin{eqnarray}\n",
    "\\label{ex1_sys}\n",
    "ax + by + cz & = 3,\\\\\n",
    "ax + y + cz & =2,\\\\\n",
    "x - by - cz & =1,\n",
    "\\end{eqnarray}\n",
    "so that a solution is $x = -1, y = 1, z = 2$.\n",
    ":::{hint} Click me for a hint!\n",
    ":class: dropdown\n",
    "Identify the unknowns and the set of equations.\n",
    "\n",
    ":::\n",
    "```{solution} ex1\n",
    ":class: dropdown\n",
    "Substituting $x = -1, y = 1, z = 2$ in [](#ex1_sys), we get the set of equations\n",
    "\\begin{eqnarray}\n",
    "\\label{ex1_soln_1}\n",
    "-a + b + 2c &= 3,\\\\\n",
    "-a + 1 + 2c &=2 \\Rightarrow -a + 2c &= 1,\\\\\n",
    "-1 - b - 2c &=1 \\Rightarrow -b - 2c &= 0,\n",
    "\\end{eqnarray}\n",
    "The unknowns are $(a, b, c)$ in [](#ex1_soln_1). We use the forward elimination method to first eliminate $a$ by subtracting the first equation from the second equation to get\n",
    "\\begin{eqnarray}\n",
    "\\label{ex1_soln_2}\n",
    "-a + b + 2c &= 3, \\\\\n",
    "-b &= -2,\\\\\n",
    "- b - 2c &= 0,\n",
    "\\end{eqnarray}\n",
    "From [](#ex1_soln_2), we already have a triangular system which is clear after rearranging as given below\n",
    "\\begin{eqnarray}\n",
    "\\label{ex1_soln_3}\n",
    "-a + 2c + b &= 3, \\\\\n",
    "- 2c - b &= 0,\\\\\n",
    "-b &= -2,\n",
    "\\end{eqnarray}\n",
    "Now, using back substitution, we get $b=2$, $- 2c - b = 0 \\Rightarrow c = -1$ and $-a + 2c + b = 3 \\Rightarrow a = -3$. Hence, the solution is ($a = -3, b = 2, c = -1$)\n",
    "```\n",
    "````"
   ]
  },
  {
   "cell_type": "markdown",
   "id": "2c6493b5-6b12-415a-a159-646579661219",
   "metadata": {},
   "source": [
    "````{exercise}  Finding solution(s)\n",
    ":label: ex-2\n",
    "Find the solution for the below set of equations using forward elimination and back substitution\n",
    "\\begin{eqnarray}\n",
    "\\label{ex2_sys}\n",
    "x + 2y + 3z &= 1, \\\\\n",
    "3x + 2y + z &= 1, \\\\\n",
    "7x + 2y − 3z &= 1\n",
    "\\end{eqnarray}\n",
    ":::{hint} Click me for a hint!\n",
    ":class: dropdown\n",
    "Can multiple values satisfy a set of equations?\n",
    ":::\n",
    "```{solution} ex-2\n",
    ":class: dropdown\n",
    "We first eliminate $x$ from the second and third equations by doing [second eqn] $\\gets$ [second eqn] - 3[first eqn]  and [third eqn] $\\gets$ [third eqn] - 7[first eqn] to get\n",
    "\\begin{eqnarray}\n",
    "\\label{ex2_soln1}\n",
    "x + 2y + 3z &= 1, \\\\\n",
    " -4y - 8z &= -2, \\\\\n",
    " -12y − 24z &= -6\n",
    "\\end{eqnarray}\n",
    "Next, we eliminate $y$ from the third equation by doing [third eqn] $\\gets$ [third eqn] - 3[second eqn] and get\n",
    "\\begin{eqnarray}\n",
    "\\label{ex2_soln2}\n",
    "x + 2y + 3z &= 1, \\\\\n",
    " -4y - 8z &= -2, \\\\\n",
    " 0 &= 0\n",
    "\\end{eqnarray}\n",
    "In [](#ex2_soln2), the third equation is just a universal fact ($0=0$!). The second equation $-4y - 8z = -2$ has infinitely many solutions. For example, if $y=0$, then $z = \\frac{1}{4}$. Given some value for $y$, we can always find a value for $z$ as $z = \\frac{1 - 2y}{4}$. Substituting the corresponding value of $(y, z)$ in the first equation, we can always find a value for $x$ as $x = 1 - 2y - 3z$. \n",
    "```\n",
    "````"
   ]
  },
  {
   "cell_type": "markdown",
   "id": "2593654c-e8cc-4204-a69f-22d0b57afef1",
   "metadata": {},
   "source": [
    "[![Binder](https://mybinder.org/badge_logo.svg)](https://mybinder.org/v2/gh/nikolaimatni/ese-2030/HEAD?labpath=/00_Ch_1_Linear_Algebraic_Systems/021-linsys-gauss.ipynb)\n"
   ]
  },
  {
   "cell_type": "code",
   "execution_count": null,
   "id": "25bb96a4-7474-48b3-a306-73c9e875243a",
   "metadata": {},
   "outputs": [],
   "source": []
  }
 ],
 "metadata": {
  "jupytext": {
   "cell_metadata_filter": "-all",
   "main_language": "python"
  },
  "kernelspec": {
   "display_name": "Python 3 (ipykernel)",
   "language": "python",
   "name": "python3"
  },
  "language_info": {
   "codemirror_mode": {
    "name": "ipython",
    "version": 3
   },
   "file_extension": ".py",
   "mimetype": "text/x-python",
   "name": "python",
   "nbconvert_exporter": "python",
   "pygments_lexer": "ipython3",
   "version": "3.12.3"
  }
 },
 "nbformat": 4,
 "nbformat_minor": 5
}
