{
 "cells": [
  {
   "cell_type": "markdown",
   "id": "fd7554ca-5ac4-4958-b713-648e3fd54114",
   "metadata": {
    "editable": true,
    "slideshow": {
     "slide_type": ""
    },
    "tags": []
   },
   "source": [
    "---\n",
    "title: \"1.9 Case Study: Modeling Network Flow using Systems of Equations\"\n",
    "subject: Linear Algebraic Systems\n",
    "subtitle: Just go with the flow\n",
    "short_title: \"1.9 Case Study: Modeling Network Flow\"\n",
    "authors:\n",
    "  - name: Renukanandan Tumu\n",
    "    affiliations:\n",
    "      - Dept. of Electrical and Systems Engineering\n",
    "      - University of Pennsylvania\n",
    "    email: nandant@seas.upenn.edu\n",
    "license: CC-BY-4.0\n",
    "keywords: sample notes, ese 2030, linear algebra\n",
    "---"
   ]
  },
  {
   "cell_type": "markdown",
   "id": "f4699e57-5018-454c-b53a-d00c04df7cdb",
   "metadata": {},
   "source": [
    "[![Binder](https://mybinder.org/badge_logo.svg)](https://mybinder.org/v2/gh/nikolaimatni/ese-2030/HEAD?labpath=/00_Linear_Algebraic_Systems/Case_Study_on_Network_Flows/027-application-network-flow.ipynb)"
   ]
  },
  {
   "cell_type": "markdown",
   "id": "170438e7",
   "metadata": {},
   "source": [
    "## What is network flow?\n",
    "\n",
    "We can think about network flow as the flow of traffic through a road network, or water through a grid of pipes. \n",
    "In this section, we will try to answer questions about how much traffic or water moved through specific links in our network, and think about what would happen if we were to modify or delete those links.\n",
    "A key assumption we will make is one of conservation. In the figure below, this means that $x_1+x_2 = 30$\n",
    "\n",
    "Is this a reasonable assumption? In the case of cars, this means that the system starts with no cars, and that all of the cars that enter a system leave the system entirely, and do not stop at intersections. In the case of water pipes, it means that the pipes start dry, and that the pipes end dry. In the case of packets, it means we log all inflows and outflows, and that all of the packets\n",
    "\n",
    "```{image} 02-net-flow.png\n",
    ":alt: Network Flow\n",
    ":width: 250px\n",
    ":align: center\n",
    "```"
   ]
  },
  {
   "cell_type": "markdown",
   "id": "89561d6f-8a8c-4bae-a05b-87d7fc88dc4e",
   "metadata": {},
   "source": [
    "## What Linear Algebra tools do we need to model network flow?\n",
    "### Concepts\n",
    "1. Gaussian Elimination / Row Reduction\n",
    "\n",
    "\n",
    "### Computation\n",
    "1. Python\n",
    "1. [numpy.array](https://numpy.org/doc/stable/reference/generated/numpy.array.html)\n",
    "1. [sympy.matrices.matrices.MatrixReductions.echelon_form](https://docs.sympy.org/latest/modules/matrices/matrices.html#sympy.matrices.matrices.MatrixReductions.echelon_form)"
   ]
  },
  {
   "cell_type": "markdown",
   "id": "3b7618b1-97c9-4576-8c76-6a388a8b0e09",
   "metadata": {},
   "source": [
    "## Small Example\n",
    "Let's consider a system of pipes. We measure the inflows and outflows, and no water remains in the system after measurement.\n",
    "\n",
    "```{image} 02-basic-network.png\n",
    ":alt: Simple networks\n",
    ":width: 300px\n",
    ":align: center\n",
    "```\n",
    "> Adapted from LAA by Lay, Lay, and McDonald \n"
   ]
  },
  {
   "cell_type": "markdown",
   "id": "7477fb95-d986-46b6-85c2-d4930b07965e",
   "metadata": {
    "tags": []
   },
   "source": [
    "Because of our assumption that the total inflows and outflows are conserved, we can say that for each intersection $\\text{inflow} - \\text{outflow} = 0$. We can rearrange terms, and get the following equation, that  $\\text{inflow} = \\text{outflow}$. This is fairly intuitive, and we'll use this law to create our system of equations. We also know that the total outflows are equal to the total inflows, and we'll call this \"total conservation\".\n",
    "\n",
    "```{math}\n",
    ":label: simple-system\n",
    "\\begin{align}\n",
    "\\text{inflow} &= \\text{outflow} \\\\\n",
    "10 + 40 + 30 + 50 &= 60 + 30 + x_1  &[\\text{total conservation}] \\\\\n",
    "x_2 + x_3 &= x_1 + 30  &[\\text{from } i_1] \\\\\n",
    "10 + 40 &= x_2 + x_4   &[\\text{from } i_2] \\\\\n",
    "30 + 50 &= x_3 + x_5   &[\\text{from } i_3] \\\\\n",
    "x_5 + x_4 &= 60        &[\\text{from } i_4] \\\\\n",
    "\\end{align}\n",
    "```\n",
    "Each equation above represents an equality that results from our original assumption. The first equation shows the total conservation, and the next 4 lines show the equations for each intersection.\n",
    "\n",
    "We can represent this as an augmented matrix with some reorganization.\n",
    "\n",
    "```{math}\n",
    ":label: simple-system-reorg\n",
    "\\begin{align}\n",
    "x_1 &= 40              &[\\text{total conservation}] \\\\\n",
    "-x_1 + x_2 + x_3 &= 30  &[\\text{from } i_1] \\\\\n",
    "x_2 + x_4 &= 10 + 40    &[\\text{from } i_2] \\\\\n",
    "x_3 + x_5 &= 30 + 50    &[\\text{from } i_3] \\\\\n",
    "x_5 + x_4 &= 60         &[\\text{from } i_4] \\\\\n",
    "\\end{align}\n",
    "```\n",
    "By placing the coefficients for all of the terms in the equation, we can represent this as a matrix equation. Below, we have the expanded form of this equation.\n",
    "\n",
    "```{math}\n",
    ":label: simple-system-reorg\n",
    "\\begin{align}\n",
    "\\text{inflow} &= \\text{outflow} \\\\\n",
    " 1x_1 + 0x_2 + 0x_3 + 0x_4 + 0x_5 &= 40   &[\\text{total conservation}] \\\\\n",
    "-1x_1 + 1x_2 + 1x_3 + 0x_4 + 0x_5 &= 30   &[\\text{from } i_1] \\\\\n",
    " 0x_1 + 1x_2 + 0x_3 + 1x_4 + 0x_5 &= 50   &[\\text{from } i_2] \\\\\n",
    " 0x_1 + 0x_2 + 1x_3 + 0x_4 + 1x_5 &= 80   &[\\text{from } i_3] \\\\\n",
    " 0x_1 + 0x_2 + 0x_3 + 1x_4 + 1x_5 &= 60   &[\\text{from } i_4] \\\\\n",
    "\\end{align}\n",
    "```\n",
    "In $Ax = b$ form, this is:\n",
    "```{math}\n",
    "\\left[\n",
    "\\begin{array}{ccccc}\n",
    "    %x_1 & x_2 &x_3 & x_4 &x_5\\\\\\hline\n",
    "    1 & 0 & 0 & 0 & 0 \\\\\n",
    "    -1 & 1 & 1 & 0 & 0 \\\\\n",
    "    0 & 1 & 0 & 1 & 0 \\\\\n",
    "    0 & 0 & 1 & 0 & 1 \\\\\n",
    "    0 & 0 & 0 & 1 & 1 \\\\\n",
    "\\end{array}\n",
    "\\right]\n",
    "\\left[\n",
    "\\begin{array}{c}\n",
    "    x_1 \\\\ x_2 \\\\ x_3 \\\\ x_4 \\\\ x_5\n",
    "\\end{array}\n",
    "\\right]\n",
    "=\n",
    "\\left[\n",
    "\\begin{array}{cccccc}\n",
    "    40 \\\\\n",
    "    30 \\\\\n",
    "    50 \\\\\n",
    "    80 \\\\\n",
    "    60 \\\\\n",
    "\\end{array}\n",
    "\\right]\n",
    "```\n",
    "\n",
    "\n",
    "\n",
    "Finally, we have the augmented matrix below.\n",
    "```{math}\n",
    "\\left[\n",
    "\\begin{array}{ccccc|c}\n",
    "     &  & A &  & & b\\\\\\hline\n",
    "    1 & 0 & 0 & 0 & 0 &  40 \\\\\n",
    "    -1 & 1 & 1 & 0 & 0 & 30 \\\\\n",
    "    0 & 1 & 0 & 1 & 0 &  50 \\\\\n",
    "    0 & 0 & 1 & 0 & 1 &  80 \\\\\n",
    "    0 & 0 & 0 & 1 & 1 &  60 \\\\\n",
    "\\end{array}\n",
    "\\right]\n",
    "```"
   ]
  },
  {
   "cell_type": "code",
   "execution_count": 11,
   "id": "03fd6bcc-e004-4cad-923d-3c59502f9516",
   "metadata": {
    "editable": true,
    "slideshow": {
     "slide_type": ""
    },
    "tags": []
   },
   "outputs": [],
   "source": [
    "import numpy as np\n",
    "from numpy.linalg import solve\n",
    "from sympy import Matrix, latex"
   ]
  },
  {
   "cell_type": "code",
   "execution_count": 12,
   "id": "19b86942-25dc-4f48-b0be-2d63aa2dd092",
   "metadata": {
    "editable": true,
    "slideshow": {
     "slide_type": ""
    },
    "tags": []
   },
   "outputs": [],
   "source": [
    "augmented_matrix = np.array([\n",
    "    [1 , 0 , 0 , 0,   0, 40],\n",
    "    [-1 , 1 , 1 , 0 , 0, 30],\n",
    "    [0 , 1 , 0 , 1, 0, 50],\n",
    "    [0 , 0 , 1 , 0 , 1, 80],\n",
    "    [0 , 0 , 0 , 1,   1, 60],\n",
    "])\n",
    "A = augmented_matrix[:,:-1]  # We take the first part of the augmented matrix, which represents A [: <- This means every row, :-1 <- This means all but the last column]\n",
    "b = augmented_matrix[:, -1]  # Now the second part, which represents b [: <- This means every row, -1 <- This means only the last column]"
   ]
  },
  {
   "cell_type": "code",
   "execution_count": 13,
   "id": "dc24e2b0-3933-4b9f-a42d-1fa7b3917a07",
   "metadata": {
    "tags": []
   },
   "outputs": [
    {
     "data": {
      "text/latex": [
       "$\\displaystyle \\left[\\begin{matrix}1 & 0 & 0 & 0 & 0 & 40\\\\-1 & 1 & 1 & 0 & 0 & 30\\\\0 & 1 & 0 & 1 & 0 & 50\\\\0 & 0 & 1 & 0 & 1 & 80\\\\0 & 0 & 0 & 1 & 1 & 60\\end{matrix}\\right]$"
      ],
      "text/plain": [
       "Matrix([\n",
       "[ 1, 0, 0, 0, 0, 40],\n",
       "[-1, 1, 1, 0, 0, 30],\n",
       "[ 0, 1, 0, 1, 0, 50],\n",
       "[ 0, 0, 1, 0, 1, 80],\n",
       "[ 0, 0, 0, 1, 1, 60]])"
      ]
     },
     "execution_count": 13,
     "metadata": {},
     "output_type": "execute_result"
    }
   ],
   "source": [
    "matrix = Matrix(augmented_matrix)\n",
    "matrix"
   ]
  },
  {
   "cell_type": "code",
   "execution_count": 14,
   "id": "4ba36b10-7a95-451b-92c0-f478b1d65f65",
   "metadata": {
    "tags": []
   },
   "outputs": [
    {
     "data": {
      "text/latex": [
       "$\\displaystyle \\left[\\begin{matrix}1 & 0 & 0 & 0 & 0 & 40\\\\0 & 1 & 1 & 0 & 0 & 70\\\\0 & 0 & -1 & 1 & 0 & -20\\\\0 & 0 & 0 & -1 & -1 & -60\\\\0 & 0 & 0 & 0 & 0 & 0\\end{matrix}\\right]$"
      ],
      "text/plain": [
       "Matrix([\n",
       "[1, 0,  0,  0,  0,  40],\n",
       "[0, 1,  1,  0,  0,  70],\n",
       "[0, 0, -1,  1,  0, -20],\n",
       "[0, 0,  0, -1, -1, -60],\n",
       "[0, 0,  0,  0,  0,   0]])"
      ]
     },
     "execution_count": 14,
     "metadata": {},
     "output_type": "execute_result"
    }
   ],
   "source": [
    "row_echelon_matrix = matrix.echelon_form(simplify=True)\n",
    "row_echelon_matrix"
   ]
  },
  {
   "cell_type": "markdown",
   "id": "decfde6d-195b-4e3f-bf50-0711f0c534aa",
   "metadata": {
    "tags": []
   },
   "source": [
    "Placing this in equation form again, we get the below. There is no pivot in the 5th column, so $x_5$ is free.\n",
    "\n",
    "```{math}\n",
    "\\begin{align}\n",
    " 1x_1 + 0x_2 + 0x_3 + 0x_4 + 0x_5 &= 40   \\\\\n",
    " 0x_1 + 1x_2 + 1x_3 + 0x_4 + 0x_5 &= 70   \\\\\n",
    " 0x_1 + 0x_2 + -1x_3 + 1x_4 + 0x_5 &= -20   \\\\\n",
    " 0x_1 + 0x_2 + 0x_3 + -1x_4 + -1x_5 &= -60   \\\\\n",
    "\\end{align}\n",
    "```\n",
    "Simplifying, we get the following:\n",
    "\n",
    "```{math}\n",
    "\\begin{align}\n",
    " x_1  &= 40        \\\\\n",
    " x_2 + x_3 &= 70   \\\\\n",
    " -x_3 + x_4 &= -20   \\\\\n",
    " x_4 + x_5 &= 60   \\\\\n",
    "\\end{align}\n",
    "```\n",
    "To get an expression to start, we can simplify the last equation to $$x_4 = 60 -x_5$$\n",
    "Using back substitution, we can first substitute $x_4$ into our third equation, yielding\n",
    "```{math}\n",
    "x_3 - x_4 &= 20 \\\\\n",
    "x_3 - (60 - x_5) &= 20 \\\\\n",
    "x_3 &= 20 + 60 - x_5 \\\\\n",
    "x_3 &= 80 - x_5\n",
    "```\n",
    "Again substituting $x_3$ into the second equation, we get:\n",
    "\n",
    "```{math}\n",
    "x_2 + x_3 &= 70 \\\\\n",
    "x_2 + 80 - x_5 &= 70 \\\\\n",
    "x_2 &= x_5 - 10\n",
    "```\n",
    "Gathering all of these equations, we get:\n",
    "```{math}\n",
    "\\begin{align}\n",
    " x_1  &= 40        \\\\\n",
    " x_2  &= x_5 - 10   \\\\\n",
    " x_3  &= 80 - x_5  \\\\\n",
    " x_4 &= 60 - x_5   \\\\\n",
    " x_5 &= \\text{free}\n",
    "\\end{align}\n",
    "```\n",
    "Now, we need to apply some human reasoning, namely that none of the traffic flow can be negative! This means that $x_5$ must be at least $10$, and at most $60$, which is due to $x_2$ and $x_4$ respectively. We set $x_5=30$, and get the following:\n",
    "```{math}\n",
    "\\begin{align}\n",
    " x_1  &= 40   \\\\\n",
    " x_2  &= 20   \\\\\n",
    " x_3  &= 50   \\\\\n",
    " x_4  &= 30   \\\\\n",
    " x_5  &= 30\n",
    "\\end{align}\n",
    "```\n"
   ]
  },
  {
   "cell_type": "markdown",
   "id": "daf3eb13-9774-4d08-87f4-38e28c0b03b7",
   "metadata": {
    "tags": []
   },
   "source": [
    "Let's check our solution in the original equation. We can do this via numpy as well, by using matrix multiplication. We will set our matrix $x$ based on our solution, and check that $Ax$ does equal $b$.\n",
    "$$\n",
    "x=\\begin{bmatrix}\n",
    "x_1 \\\\ x_2 \\\\ x_3 \\\\ x_4 \\\\ x_5\n",
    "\\end{bmatrix}\n",
    "=\\begin{bmatrix}\n",
    "40 \\\\ 20 \\\\ 50 \\\\ 30 \\\\ 30\n",
    "\\end{bmatrix}\n",
    "$$\n"
   ]
  },
  {
   "cell_type": "code",
   "execution_count": 15,
   "id": "bcf06de7-c06e-4650-b59e-4d1f39eaa0cf",
   "metadata": {
    "tags": []
   },
   "outputs": [
    {
     "name": "stdout",
     "output_type": "stream",
     "text": [
      "[40 30 50 80 60]\n",
      "[40 30 50 80 60]\n"
     ]
    },
    {
     "data": {
      "text/plain": [
       "array([ True,  True,  True,  True,  True])"
      ]
     },
     "execution_count": 15,
     "metadata": {},
     "output_type": "execute_result"
    }
   ],
   "source": [
    "x = np.array([40, 20, 50, 30, 30])\n",
    "print(A@x)\n",
    "print(b)\n",
    "A@x == b"
   ]
  },
  {
   "cell_type": "markdown",
   "id": "8dbf0cb3-2741-4968-9835-e6cb55b9e946",
   "metadata": {},
   "source": [
    "We got a solution!"
   ]
  },
  {
   "cell_type": "markdown",
   "id": "308cbd60-db33-4031-817d-8f7f01e9bb3b",
   "metadata": {},
   "source": [
    "## Penn Engineering Road Network\n",
    "We can apply the same sort of thinking to roads!\n",
    "```{image} 02-penn-roads.png\n",
    ":alt: Penn Road Network\n",
    ":width: 400px\n",
    ":align: center\n",
    "```\n"
   ]
  },
  {
   "cell_type": "markdown",
   "id": "a16ae86a-c1ab-4d94-a922-a036964230ea",
   "metadata": {},
   "source": [
    "The above figure shows a road network that looks similar to that around Penn Engineering. We model these road networks the same way, by balancing the inflows and outflows of each node. We omit the total conservation equation, as none of our variables are in it. This yields the following equations:\n",
    "\n",
    "```{math}\n",
    "\\begin{align}\n",
    "\\text{inflow} &= \\text{outflow} \\\\\n",
    "x_6 + x_2 &= x_1       &[\\text{from } i_1]\\\\\n",
    "x_3 + x_5 &= x_2 + 50  &[\\text{from } i_2]\\\\ \n",
    "x_4 + 60 &= x_3        &[\\text{from } i_3]\\\\\n",
    "\n",
    "x_8 &= x_4 + x_9          &[\\text{from } i_4]\\\\\n",
    "80 + x_7 &= x_{5} +x_8    &[\\text{from } i_5]\\\\\n",
    "100 &= x_{6} + x_7        &[\\text{from } i_6]\\\\\n",
    "\n",
    "100 + 80 + 60 &= x_1 + 50 + x_9 &[\\text{total conservation}]\\\\\n",
    "\n",
    "\\end{align}\n",
    "```\n",
    "To put this in matrix form, we need to do the same as before, and reorganize terms.\n",
    "\n",
    "```{math}\n",
    "\\begin{align}\n",
    "\\text{inflow} &= \\text{outflow} \\\\\n",
    "-x_1 + x_2 + x_6 &= 0       &[\\text{from } i_1]\\\\\n",
    "- x_2 + x_3 + x_5 &= 50     &[\\text{from } i_2]\\\\ \n",
    "-x_3 + x_4 &= -60           &[\\text{from } i_3]\\\\\n",
    "\n",
    "x_4 - x_8 + x_9 &= 0         &[\\text{from } i_4]\\\\\n",
    "x_{5} -x_7 + x_8 &= 80       &[\\text{from } i_5]\\\\\n",
    "x_{6} + x_7 &= 100           &[\\text{from } i_6]\\\\\n",
    "\n",
    "x_1 + x_9 &= 190 &[\\text{total conservation}]\\\\\n",
    "\\end{align}\n",
    "```"
   ]
  },
  {
   "cell_type": "markdown",
   "id": "2c2d0b68-a21e-4efe-8891-05f7d694cbf7",
   "metadata": {},
   "source": [
    "This gives us the following matrix\n",
    "```{math}\n",
    "\\left[\n",
    "\\begin{array}{ccccccccc|c}\n",
    "    x_1 & x_2 & x_3 & x_4 & x_5 & x_6 & x_7 & x_8 & x_9 & C \\\\\n",
    "    \\hline\n",
    "    -1  & 1   & 0   & 0   & 0   & 1   & 0   & 0   & 0   & 0 \\\\\n",
    "    0   & -1  & 1   & 0   & 1   & 0   & 0   & 0   & 0   & 50 \\\\\n",
    "    0   & 0   & -1  & 1   & 0   & 0   & 0   & 0   & 0   & -60 \\\\\n",
    "    \n",
    "    0   & 0   & 0   & 1   & 0   & 0   & 0   & -1  & 1   & 0 \\\\\n",
    "    0   & 0   & 0   & 0   & 1   & 0   & -1  & 1   & 0   & 80 \\\\\n",
    "    0   & 0   & 0   & 0   & 0   & 1   & 1   & 0   & 0   & 100 \\\\\n",
    "    \n",
    "    1   & 0   & 0   & 0   & 0   & 0   & 0   & 0   & 1   & 190 \\\\\n",
    "\\end{array}\n",
    "\\right]\n",
    "\\begin{array}{l}\n",
    "\\\\\n",
    "[\\text{from } i_1]\\\\\n",
    "[\\text{from } i_2]\\\\\n",
    "[\\text{from } i_3]\\\\\n",
    "[\\text{from } i_4]\\\\\n",
    "[\\text{from } i_5]\\\\\n",
    "[\\text{from } i_6]\\\\\n",
    "[\\text{total conservation}]\\\\\n",
    "\\end{array}\n",
    "```"
   ]
  },
  {
   "cell_type": "code",
   "execution_count": 40,
   "id": "493a7e23-8fda-491b-a698-e256d196472a",
   "metadata": {
    "tags": []
   },
   "outputs": [],
   "source": [
    "augmented_matrix = np.array([\n",
    "        [-1 , 1 , 0 , 0 , 0 , 1 , 0 , 0 , 0 , 0],\n",
    "        [0 , -1 , 1 , 0 , 1 , 0 , 0 , 0 , 0 , 50],\n",
    "        [0 , 0 , -1 , 1 , 0 , 0 , 0 , 0 , 0 , -60],\n",
    "        [0 , 0 , 0 , 1 , 0 , 0 , 0 , -1 , 1 , 0],\n",
    "        [0 , 0 , 0 , 0 , 1 , 0 , -1 , 1 , 0 , 80],\n",
    "        [0 , 0 , 0 , 0 , 0 , 1 , 1 , 0 , 0 , 100],\n",
    "        [1 , 0 , 0 , 0 , 0 , 0 , 0 , 0 , 1 , 190],\n",
    "])\n",
    "A = augmented_matrix[:,:-1]  # We take the first part of the augmented matrix, which represents A [: <- This means every row, :-1 <- This means all but the last column]\n",
    "b = augmented_matrix[:, -1]  # Now the second part, which represents b [: <- This means every row, -1 <- This means only the last column]"
   ]
  },
  {
   "cell_type": "code",
   "execution_count": 41,
   "id": "38d30cc1-9bcd-4524-ae65-edab7b52cab8",
   "metadata": {
    "tags": []
   },
   "outputs": [
    {
     "data": {
      "text/latex": [
       "$\\displaystyle \\left[\\begin{matrix}-1 & 1 & 0 & 0 & 0 & 1 & 0 & 0 & 0 & 0\\\\0 & -1 & 1 & 0 & 1 & 0 & 0 & 0 & 0 & 50\\\\0 & 0 & -1 & 1 & 0 & 0 & 0 & 0 & 0 & -60\\\\0 & 0 & 0 & 1 & 0 & 0 & 0 & -1 & 1 & 0\\\\0 & 0 & 0 & 0 & 1 & 0 & -1 & 1 & 0 & 80\\\\0 & 0 & 0 & 0 & 0 & 1 & 1 & 0 & 0 & 100\\\\0 & 0 & 0 & 0 & 0 & 0 & 0 & 0 & 0 & 0\\end{matrix}\\right]$"
      ],
      "text/plain": [
       "Matrix([\n",
       "[-1,  1,  0, 0, 0, 1,  0,  0, 0,   0],\n",
       "[ 0, -1,  1, 0, 1, 0,  0,  0, 0,  50],\n",
       "[ 0,  0, -1, 1, 0, 0,  0,  0, 0, -60],\n",
       "[ 0,  0,  0, 1, 0, 0,  0, -1, 1,   0],\n",
       "[ 0,  0,  0, 0, 1, 0, -1,  1, 0,  80],\n",
       "[ 0,  0,  0, 0, 0, 1,  1,  0, 0, 100],\n",
       "[ 0,  0,  0, 0, 0, 0,  0,  0, 0,   0]])"
      ]
     },
     "execution_count": 41,
     "metadata": {},
     "output_type": "execute_result"
    }
   ],
   "source": [
    "matrix = Matrix(augmented_matrix)\n",
    "echelon_form = matrix.echelon_form()\n",
    "echelon_form"
   ]
  },
  {
   "cell_type": "markdown",
   "id": "752011d3-542a-49d5-97e9-5f0bb09dec01",
   "metadata": {
    "tags": []
   },
   "source": [
    "Let's print the row-echelon matrix in a nicer way:\n",
    "```{math}\n",
    "\\left[\n",
    "\\begin{array}{ccccccccc|c}\n",
    "    x_1 & x_2 & x_3 & x_4 & x_5 & x_6 & x_7 & x_8 & x_9 & C \\\\\n",
    "    \\hline\n",
    "-1 & 1 & 0 & 0 & 0 & 1 & 0 & 0 & 0 & 0\\\\\n",
    "0 & -1 & 1 & 0 & 1 & 0 & 0 & 0 & 0 & 50\\\\\n",
    "0 & 0 & -1 & 1 & 0 & 0 & 0 & 0 & 0 & -60\\\\\n",
    "0 & 0 & 0 & 1 & 0 & 0 & 0 & -1 & 1 & 0\\\\\n",
    "0 & 0 & 0 & 0 & 1 & 0 & -1 & 1 & 0 & 80\\\\\n",
    "0 & 0 & 0 & 0 & 0 & 1 & 1 & 0 & 0 & 100\\\\\n",
    "0 & 0 & 0 & 0 & 0 & 0 & 0 & 0 & 0 & 0\n",
    "\\end{array}\n",
    "\\right]\n",
    "```"
   ]
  },
  {
   "cell_type": "markdown",
   "id": "10ac66d5-5d01-49b7-8132-e6544f337bfd",
   "metadata": {
    "tags": []
   },
   "source": [
    "Looking at the row-echelon form, we should notice a few things. First, that the last row is empty. Second, that there are not pivots in every column. In the columns for $x_7, x_{8}, x_{9}$, there are no pivots. This means there are $3$ free variables in this system. This makes sense, because we have only $6$ intersections, giving $6$ equations, but $9$ flows, representing $9$ variables. In order to find a solution, let's set all of those free variables to be zero. We can think of this as closing all of the roads that are free variables.\n",
    "\n",
    "Let's solve for the free variables in terms of the basic variables:\n",
    "\n",
    "First for $x_7$:\n",
    "```{math}\n",
    "x_6 + x_7 &= 100 \\\\\n",
    "x_7 &= 100 - x_6\n",
    "```\n",
    "We know that if $x_7>100$, then $x_6$ will be negative.\n",
    "\n",
    "Now for $x_{8}$:\n",
    "```{math}\n",
    "x_5 - x_7 + x_8 &= 80 \\\\\n",
    "x_8 &= 80 - x_5 + x_7\n",
    "```\n",
    "We also know that $x_8$ cannot be more than $80$.\n",
    " \n",
    "For $x_{9}$:\n",
    "```{math}\n",
    "x_4 - x_8 + x_9 &= 0 \\\\\n",
    "x_9 &= -x_4 + x_8\n",
    "```     \n",
    "\n",
    "Now let's solve for the system, setting $x_7, x_8, x_9$ to be equal to $0$.\n",
    "To do this, we first select all of the columns from the augmented matrix which correspond to basic variables. This is because if a variable is equal to zero, then we can subtract them from an equation without impact. We can think of this as closing the roads that correspond to $x_7$, $x_8$, and $x_9$."
   ]
  },
  {
   "cell_type": "code",
   "execution_count": 42,
   "id": "87419a43-2461-41f6-9215-e59da87e5f96",
   "metadata": {
    "tags": []
   },
   "outputs": [
    {
     "data": {
      "text/plain": [
       "array([[ -1.,   1.,   0.,   0.,   0.,   1.,   0.],\n",
       "       [  0.,  -1.,   1.,   0.,   1.,   0.,  50.],\n",
       "       [  0.,   0.,  -1.,   1.,   0.,   0., -60.],\n",
       "       [  0.,   0.,   0.,   1.,   0.,   0.,   0.],\n",
       "       [  0.,   0.,   0.,   0.,   1.,   0.,  80.],\n",
       "       [  0.,   0.,   0.,   0.,   0.,   1., 100.]])"
      ]
     },
     "execution_count": 42,
     "metadata": {},
     "output_type": "execute_result"
    }
   ],
   "source": [
    "smaller_augmented_matrix = np.array(echelon_form[:,[0,1,2,3,4,5,9]]).astype(np.float64)\n",
    "\"\"\"\n",
    "Above, we just selected all of the rows that correspond to the non-free variables. \n",
    "If the free variables are zero, then we can freely subtract them from the rest of the equations.\n",
    "\"\"\"\n",
    "# smaller_augmented_matrix = np.vstack([smaller_augmented_matrix, \n",
    "#                                       np.array([[0,0,0,0,0,0,0,0,1,0,80]]),\n",
    "#                                      ])\n",
    "smaller_augmented_matrix = smaller_augmented_matrix[:-1,:]\n",
    "smaller_augmented_matrix"
   ]
  },
  {
   "cell_type": "markdown",
   "id": "b4ab1012-35f7-479d-bd1b-f4a4f1664ccd",
   "metadata": {},
   "source": [
    "Now that there are pivots in all columns, we can try to use numpy's `solve` method to get a solution."
   ]
  },
  {
   "cell_type": "code",
   "execution_count": 43,
   "id": "f4880241-11ec-4581-a6d1-ba70e5853d4a",
   "metadata": {
    "tags": []
   },
   "outputs": [],
   "source": [
    "sA = smaller_augmented_matrix[:,:-1]  # We take the first part of the augmented matrix, which represents A [: <- This means every row, :-1 <- This means all but the last column]\n",
    "sb = smaller_augmented_matrix[:, -1]  # Now the second part, which represents b [: <- This means every row, -1 <- This means only the last column]"
   ]
  },
  {
   "cell_type": "code",
   "execution_count": 44,
   "id": "6a7379c7-09cb-4eba-a61a-9fb22511a4d5",
   "metadata": {
    "tags": []
   },
   "outputs": [
    {
     "data": {
      "text/plain": [
       "array([190.,  90.,  60.,   0.,  80., 100.])"
      ]
     },
     "execution_count": 44,
     "metadata": {},
     "output_type": "execute_result"
    }
   ],
   "source": [
    "x = solve(sA,sb)\n",
    "x"
   ]
  },
  {
   "cell_type": "markdown",
   "id": "34d8006e-54bd-4505-8f9e-e3270ddead60",
   "metadata": {},
   "source": [
    "Let's write these solutions down first.\n",
    "```{math}\n",
    "\\begin{align}\n",
    "x_1 &= 190 \\\\\n",
    "x_2 &= 90 \\\\\n",
    "x_3 &= 60 \\\\\n",
    "x_4 &= 0 \\\\\n",
    "x_5 &= 80 \\\\\n",
    "x_6 &= 100 \\\\\n",
    "\\end{align}\n",
    "```"
   ]
  },
  {
   "cell_type": "markdown",
   "id": "c42a23df-dd5c-46da-b489-514643f3721a",
   "metadata": {
    "tags": []
   },
   "source": [
    "One key thing to remember is that these variables are currently unconstrained. In our road network, a negative number means that traffic is flowing the wrong way. Let's verify that the free variables we specified are actually zero, and see what we can learn from each solution.\n",
    "\n",
    "```{math}\n",
    "x_7 &= 100 - x_6 \\\\\n",
    "x_7 &= 0\n",
    "```\n",
    "\n",
    "```{math}\n",
    "x_8 &= 80 - x_5 + x_7 \\\\\n",
    "x_8 &= 80 - 80 + 0 \\\\\n",
    "&= 0 \n",
    "```\n",
    "\n",
    "\n",
    "```{math}\n",
    "x_9 &= -x_4 + x_8 \\\\\n",
    "x_9 &= 0 + 0 \\\\\n",
    "&= 0 \n",
    "```\n",
    "\n",
    "\n",
    "Now let's check our solution:\n",
    "\n",
    "$$\n",
    "x=\\begin{bmatrix}\n",
    "x_1 \\\\ x_2 \\\\ x_3 \\\\ x_4 \\\\ x_5 \\\\ x_6 \\\\ x_7 \\\\ x_8 \\\\ x_9\n",
    "\\end{bmatrix}\n",
    "=\\begin{bmatrix}\n",
    "190 \\\\ 90 \\\\ 60 \\\\ 0 \\\\ 80 \\\\ 100 \\\\ 0 \\\\ 0 \\\\ 0\n",
    "\\end{bmatrix}\n",
    "$$\n"
   ]
  },
  {
   "cell_type": "code",
   "execution_count": 47,
   "id": "b02fd7fe-6148-42d4-b1be-7bf18041ec9e",
   "metadata": {
    "tags": []
   },
   "outputs": [
    {
     "name": "stdout",
     "output_type": "stream",
     "text": [
      "[  0  50 -60   0  80 100 190]\n",
      "[  0  50 -60   0  80 100 190]\n",
      "[ True  True  True  True  True  True  True]\n"
     ]
    }
   ],
   "source": [
    "x = np.array([190,90,60,0,80,100,0,0,0])\n",
    "print(A@x)\n",
    "print(b)\n",
    "print(A@x == b)"
   ]
  },
  {
   "cell_type": "markdown",
   "id": "f21ef113-4f0a-45ac-91cb-2b27551acaf1",
   "metadata": {},
   "source": [
    "As an extension, if you want to try to solve the same system, but fix the values for the free variables to different values. One way to do this would be to add equations to the system of equations that fix the values of specific variables. For example, you could add a row fixing $x_7 = 10$ like so:\n",
    "$$\n",
    "\\left[\n",
    "\\begin{array}{ccccccccc|c}\n",
    "    x_1 & x_2 & x_3 & x_4 & x_5 & x_6 & x_7 & x_8 & x_9 & C \\\\\n",
    "    \\hline\n",
    "    0   & 0   & 0   & 0   & 0   & 0   & 1 & 0 & 0 & 10\\\\\n",
    "\\end{array}\n",
    "\\right]\n",
    "$$\n"
   ]
  },
  {
   "cell_type": "markdown",
   "id": "7e242090-9a2a-45d7-9a52-725cafe23a39",
   "metadata": {},
   "source": [
    "## Related Resources\n",
    "If you're interested in modeling traffic flow, check out the [Cellular Transmission Model](https://connected-corridors.berkeley.edu/planning-system/assessing-potential-project-benefits-analysis-modeling-and-simulation/phases-ams-2) and [Networked Macroscopic Fundamental Diagram](https://arxiv.org/abs/2406.10433) models for more info on how traffic flow is modeled in practice, and some approaches to control traffic lights."
   ]
  },
  {
   "cell_type": "markdown",
   "id": "d3a0d45b-d101-4443-8d3a-0e64aabec7c0",
   "metadata": {},
   "source": [
    "[![Binder](https://mybinder.org/badge_logo.svg)](https://mybinder.org/v2/gh/nikolaimatni/ese-2030/HEAD?labpath=/00_Linear_Algebraic_Systems/Case_Study_on_Network_Flows/027-application-network-flow.ipynb)"
   ]
  }
 ],
 "metadata": {
  "jupytext": {
   "cell_metadata_filter": "-all",
   "main_language": "python"
  },
  "kernelspec": {
   "display_name": "Python 3 (ipykernel)",
   "language": "python",
   "name": "python3"
  },
  "language_info": {
   "codemirror_mode": {
    "name": "ipython",
    "version": 3
   },
   "file_extension": ".py",
   "mimetype": "text/x-python",
   "name": "python",
   "nbconvert_exporter": "python",
   "pygments_lexer": "ipython3",
   "version": "3.12.3"
  }
 },
 "nbformat": 4,
 "nbformat_minor": 5
}
