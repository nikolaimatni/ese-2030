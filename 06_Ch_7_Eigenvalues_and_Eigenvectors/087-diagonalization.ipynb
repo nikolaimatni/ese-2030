{
 "cells": [
  {
   "cell_type": "markdown",
   "metadata": {},
   "source": [
    "---\n",
    "title: 8.7 Similarity, Eigenbases, and Diagonalization\n",
    "subject:  Eigenvalues\n",
    "subtitle: \n",
    "short_title: 8.7 Similarity, Eigenbases, and Diagonalization\n",
    "authors:\n",
    "  - name: Nikolai Matni\n",
    "    affiliations:\n",
    "      - Dept. of Electrical and Systems Engineering\n",
    "      - University of Pennsylvania\n",
    "    email: nmatni@seas.upenn.edu\n",
    "license: CC-BY-4.0\n",
    "keywords: Eigenvalues, Eigenvectors\n",
    "math:\n",
    "  '\\vv': '\\mathbf{#1}'\n",
    "  '\\bm': '\\begin{bmatrix}'\n",
    "  '\\em': '\\end{bmatrix}'\n",
    "  '\\R': '\\mathbb{R}'\n",
    "---"
   ]
  },
  {
   "cell_type": "markdown",
   "metadata": {},
   "source": [
    "[![Binder](https://mybinder.org/badge_logo.svg)](https://mybinder.org/v2/gh/nikolaimatni/ese-2030/HEAD?labpath=/03_Orthogonality/053-orthogonal_matrices.ipynb)\n",
    "\n",
    "{doc}`Lecture notes <../lecture_notes/Lecture 12 - Eigvenvalues and Eigenvectors part 2 (complex eigenvalues and eigenvectors, similarity transformation, diagonalization and eigenbases).pdf>`"
   ]
  },
  {
   "cell_type": "markdown",
   "metadata": {},
   "source": [
    "## Reading\n",
    "\n",
    "Material related to this page, as well as additional exercises, can be found in ALA 8.3.\n",
    "\n",
    "## Learning Objectives\n",
    "\n",
    "By the end of this page, you should know:\n",
    "- how to define eigenbases,\n",
    "- how to define similar matrices,\n",
    "- how to define the geometric and algebraic multiplicity of an eigenvalue,\n",
    "- when and how a square matrix $A$ can be diagonalized as $A = P^{-1}DP$, where $D$ is diagonal."
   ]
  },
  {
   "cell_type": "markdown",
   "metadata": {},
   "source": [
    "# Eigenbases\n",
    "\n",
    "Most of the vector space bases that are useful in applications are assembled from the eigenvectors of a particular matrix. In this section, we focus on matrices with a \"complete\" set of eigenvectors and show how these form a basis for $\\mathbb{R}^n$ (or in the complex case, $\\mathbb{C}^n$); in these cases, the set of their eigenvectors are known as eigenbases:\n",
    "\n",
    ":::{prf:definition} Eigenbasis\n",
    ":label: eigenbasis-defn\n",
    "\n",
    "Let $\\vv{v_1}, ..., \\vv{v_k}$ be the eigenvectors of a matrix $A \\in \\mathbb{R}^n$. If $ \\text{span} \\{ \\vv{v_1}, ..., \\vv{v_k} \\} = \\mathbb{R}^n$, i.e., the eigenvectors of $A$ span the entire space $\\mathbb{R}^n$, then its eigenvectors form an *eigenbasis* for $\\mathbb{R}^n$.\n",
    ":::\n",
    "\n",
    "Such *eigenbases* allow us to rewrite the linear transformation determined by a matrix in a simple diagonal form; matrices what allow us to do this are called *diagonalizable*, a definition which we will formalize shortly. We focus on matrices with real eigenvalues and eigenvectors to start, and will return to matrices with complex eigenvalues/eigenvectors in a few pages.\n",
    "\n",
    "Our starting point is the following theorem, which we will state as a fact. It is a generalization of the pattern we saw in [an example before](#eigen-ex2) that the eigenvectors corresponding to distinct eigenvalues are linearly independent:\n",
    "\n",
    ":::{prf:theorem} The eigenvectors of a matrix with distinct eigenvalues\n",
    ":label: distinct-eigenvalue-thm\n",
    "\n",
    "If the matrix $A \\in \\mathbb{R}^{n\\times n}$ has $n$ distinct real eigenvalues $\\lambda_1, ..., \\lambda_n$, then the corresponding real eigenvectors $\\vv{v_1}, ..., \\vv{v_n}$ form a basis for $\\mathbb{R}^n$.\n",
    ":::\n",
    "\n",
    ":::{prf:example} The eigenbasis from a $2\\times 2$ matrix with distinct eigenvalues\n",
    ":label: eigen-ex6\n",
    "\n",
    "In a [previous example](#eigen-ex2), we saw that $A = \\bm 3&1\\\\1&3 \\em$ has eigenvalue/vector pairs\n",
    "\n",
    "\\begin{align*}\n",
    "    \\lambda_1 = 4, \\vv{v_1} = \\bm 1\\\\ 1\\em, \\quad \\lambda_2 = 2, \\vv{v_2} = \\bm -1\\\\1\\em\n",
    "\\end{align*}\n",
    "\n",
    "Here, $\\vv{v_1}$ and $\\vv{v_2}$ are linearly independent, and hence form a basis for $\\mathbb{R}^2$, since $\\dim \\mathbb{R}^2 = 2$.\n",
    ":::\n",
    "\n",
    "However, we also saw [an example](#eigen-ex3) where a $3\\times 3$ matrix only had two distinct eigenvalues, but still had three linearly independent eigenvectors:\n",
    "\n",
    ":::{prf:example} The eigenbasis from a $3\\times 3$ matrix with distinct eigenvalues\n",
    ":label: eigen-ex7\n",
    "\n",
    "Recall the $3\\times 3$ matrix $A = \\bm 2&-1&-1\\\\0&3&1\\\\0&1&3 \\em$. We showed it had the following eigenvalue/vector pairs:\n",
    "\n",
    "\\begin{align*}\n",
    "    \\lambda_1 = 2&, \\quad \\vv{v_1} = \\bm 1\\\\0\\\\1\\em,\\quad \\vv{\\hat {v_1}} = \\bm 0\\\\1\\\\-1\\em\\\\\n",
    "    \\lambda_2 = 4&, \\quad \\vv{v_2} = \\bm -1\\\\1\\\\1\\em\n",
    "\\end{align*}\n",
    "\n",
    "The collection $\\vv{v_1}, \\vv{\\hat {v_1}}, \\vv{v_2} \\in \\mathbb{R}^3$ are linearly independent, and hence form a basis for $\\mathbb{R}^3$ since $\\dim \\mathbb{R}^3 = 3$.\n",
    ":::\n",
    "\n",
    "Notice that in this last example $\\dim V_{\\lambda_1} = 2$ (why?) for the double eigenvalue $\\lambda_1 = 2$ (i.e., the [eigenspace](#eigenspace-defn) corresponding to $\\lambda_1$ had dimension of 2), and similarly, $\\dim V_{\\lambda_2} = 1$ for the simple eigenvalue $\\lambda_2 = 4$, so that there is a \"real\" eigenvector for each time an eigenvalue appears as a factor of the characteristic polynomial.\n",
    "\n",
    "In general, the "
   ]
  }
 ],
 "metadata": {
  "language_info": {
   "name": "python"
  }
 },
 "nbformat": 4,
 "nbformat_minor": 2
}
