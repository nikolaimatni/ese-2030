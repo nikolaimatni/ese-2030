{
 "cells": [
  {
   "cell_type": "markdown",
   "id": "fd7554ca-5ac4-4958-b713-648e3fd54114",
   "metadata": {
    "editable": true,
    "slideshow": {
     "slide_type": ""
    },
    "tags": []
   },
   "source": [
    "---\n",
    "title: 3.1 Inner Products and Induced Norms\n",
    "subject: Inner Products and Norms\n",
    "subtitle: Dot products and lengths in general vector spaces\n",
    "short_title: 3.1 Inner Products and Induced Norms\n",
    "authors:\n",
    "  - name: Nikolai Matni\n",
    "    affiliations:\n",
    "      - Dept. of Electrical and Systems Engineering\n",
    "      - University of Pennsylvania\n",
    "    email: nmatni@seas.upenn.edu\n",
    "license: CC-BY-4.0\n",
    "keywords: inner product, norm, length\n",
    "math:\n",
    "  '\\vv': '\\mathbf{#1}'\n",
    "  '\\bm': '\\begin{bmatrix}'\n",
    "  '\\em': '\\end{bmatrix}'\n",
    "  '\\R': '\\mathbb{R}'\n",
    "---"
   ]
  },
  {
   "cell_type": "markdown",
   "id": "288f6f57-4944-4cfc-9122-ef8b377f1739",
   "metadata": {},
   "source": [
    "[![Binder](https://mybinder.org/badge_logo.svg)](https://mybinder.org/v2/gh/nikolaimatni/ese-2030/HEAD?labpath=/02_Ch_3_Inner_Products_and_Norms/041-inner.ipynb)\n",
    "\n",
    "{doc}`Lecture notes <../lecture_notes/Lecture 05 - Inner products, length, angles, and norms.pdf>`"
   ]
  },
  {
   "cell_type": "markdown",
   "id": "a46f522d-2995-412b-92cf-9ff085526b18",
   "metadata": {},
   "source": [
    "## Reading\n",
    "\n",
    "Material related to this page, as well as additional exercises, can be found in ALA Ch. 3.1."
   ]
  },
  {
   "cell_type": "markdown",
   "id": "d276bcc3-237d-4cda-8bf0-39285b0a09f3",
   "metadata": {},
   "source": [
    "## Learning Objectives\n",
    "\n",
    "By the end of this page, you should know:\n",
    "- an inner product on a vector space\n",
    "- a norm induced by an inner product\n",
    "- some important examples of inner products"
   ]
  },
  {
   "cell_type": "markdown",
   "id": "856723de",
   "metadata": {},
   "source": [
    "## Introduction\n",
    "\n",
    "In the last two lectures, we generalized how we add and scale vectors in $\\mathbb{R}^2$ and $\\mathbb{R}^3$ to general Euclidean spaces $\\mathbb{R}^n$, and more general vector spaces $V$. In this lecture, we bring over other key concepts from $\\mathbb{R}^2$ and $\\mathbb{R}^3$ to vector spaces, namely the ideas of angle, length, and distance.\n",
    "\n",
    "The notions of angle, length, and distance in general vector spaces play a foundational role in modern applications of engineering, economics, and AI. By the end of the next few lectures, you will be equipped with both conceptual and computational tools that will allow you to solve some really interesting problems with immediate real-world application!"
   ]
  },
  {
   "cell_type": "markdown",
   "id": "a1b52c01-f3b4-4b43-baeb-f97bc73802a8",
   "metadata": {},
   "source": [
    "# The Dot Product and the Euclidean Norm\n",
    "\n",
    "We start with a familiar example of an inner-product for vectors in $\\mathbb{R}^n$, the _dot product_:\n",
    "\n",
    ":::{prf:definition} The Dot Product \n",
    ":label: dot-product-defn\n",
    "For two vectors $\\vv v, \\vv w \\in \\mathbb{R}^n$, their _dot product_ is defined as\n",
    "\\begin{equation}\n",
    "\\label{dot}\n",
    "\\vv v \\cdot \\vv w = v_1 w_1 + v_2 w_2 + \\ldots + v_n w_n\n",
    "\\end{equation}\n",
    "From [](#dot), note that $\\vv v \\cdot \\vv w = \\vv v^{\\top} \\vv w = \\vv w^{\\top} \\vv v$; in other words, the dot product can be written as a row-vector column-vector product.\n",
    ":::\n",
    "\n",
    "```{note}\n",
    "A key property of the dot product is that \n",
    "\\begin{equation}\n",
    "\\label{dot_prop}\n",
    "\\vv v \\cdot \\vv v = \\vv v^{\\top} \\vv v = v_1^2 + v_2^2 + \\ldots + v_n^2\n",
    "\\end{equation}\n",
    "That is, the dot product of a vector $\\vv v$ with itself is given by the sum of the squares of its entries.\n",
    "```\n",
    "\n",
    "The Pythagorean theorem extends to $n-$dimensional space and tells us that $\\vv v \\cdot \\vv v$ is the square of the length of $\\vv v$. We use this observation to define the _Euclidean norm_ (or length):\n",
    "\n",
    ":::{prf:definition} The Euclidean Norm\n",
    ":label: euclidean-norm-defn\n",
    "For a vector $\\vv v \\in \\mathbb{R}^n$, its *Euclidean norm, or length,* denoted as $\\|\\vv v\\|$, is defined as\n",
    "\n",
    "\\begin{equation}\n",
    "\\label{euc_norm}\n",
    "\\| \\vv v \\| = \\sqrt{\\vv v\\cdot \\vv v} = \\sqrt{v_1^2 + v_2^2 + \\ldots + v_n^2}.\n",
    "\\end{equation}\n",
    ":::\n",
    "\n",
    "In $\\mathbb{R}^2$, the formula for Euclidean norm looks a lot like the familiar Pythagorean theorem! This generalizes our idea of length from $\\mathbb{R}^2$ and $\\mathbb{R}^3$ to $\\mathbb{R}^n$.\n",
    "\n",
    ":::{figure}../figures/04-euc_norm.png\n",
    ":label:euc_norm\n",
    ":alt: Euclidean Norm\n",
    ":width: 500px\n",
    ":align: center\n",
    ":::\n",
    "\n",
    ":::{exercise}  Dot Product of 2 Vectors in $\\mathbb{R}^3$\n",
    ":label: distance-ex1\n",
    "\n",
    "Find the dot product of $\\bm 1\\\\ 2 \\\\ 3 \\em$ and $\\bm 4 \\\\ 5\\\\ 6 \\em$.\n",
    "\n",
    "```{solution} distance-ex1\n",
    ":class: dropdown\n",
    "\n",
    "We have\n",
    "\n",
    "\\begin{align*}\n",
    "    \\bm 1\\\\ 2 \\\\ 3 \\em \\cdot \\bm 4 \\\\ 5\\\\ 6 \\em = 1(4) + 2(5) + 3(6) = \\boxed{32}\n",
    "\\end{align*}\n",
    "```\n",
    ":::"
   ]
  },
  {
   "cell_type": "markdown",
   "id": "4316e3ec-ba25-4ff6-a34d-01a9484c6267",
   "metadata": {},
   "source": [
    "#### Python break!\n",
    "\n",
    "In NumPy, the dot product of a vector `v1` with another vector `v2` is given by `np.dot(v1, v2)` as illustrated below. "
   ]
  },
  {
   "cell_type": "code",
   "execution_count": 1,
   "id": "62c77b9d-58d3-40dc-bb46-d7c0493f7620",
   "metadata": {},
   "outputs": [
    {
     "name": "stdout",
     "output_type": "stream",
     "text": [
      "Dot product <v1, v2> is:  32\n"
     ]
    }
   ],
   "source": [
    "# Dot product\n",
    "\n",
    "import numpy as np\n",
    "\n",
    "v1 = np.array([1, 2, 3])\n",
    "v2 = np.array([4, 5, 6])\n",
    "dot_prod = np.dot(v1, v2)\n",
    "print(\"Dot product <v1, v2> is: \", dot_prod)"
   ]
  },
  {
   "cell_type": "markdown",
   "id": "af78703f-97f9-4a94-8171-253991529191",
   "metadata": {},
   "source": [
    "## Inner Products\n",
    "\n",
    "The [Eucledian norm](#euclidean-norm-defn) $\\|\\vv v\\|$ of a vector $\\vv v$ has some intuitive properties. For example, if $\\vv v \\neq 0$, then $\\|\\vv v\\| > 0$ (all nonzero vectors have positive length), and $\\|\\vv v\\| = 0$ if and only if $\\vv v = 0$ (only the zero vector has zero length).\n",
    "\n",
    "These properties, and those of the [dot product](#dot-product-defn), inspire the following abstract definition for more general inner-products:\n",
    "\n",
    ":::{prf:definition} Inner Products\n",
    ":label: inner_defn\n",
    "\n",
    "An inner product on the real vector space $V$ is a pairing that takes two vectors $\\vv v, \\vv w \\in V$ and produces a real number $\\langle \\vv v, \\vv w\\rangle \\in \\mathbb{R}$. The inner product is required to satisfy the following three axioms for all $\\vv u, \\vv v, \\vv w \\in V$, and scalars $c, d \\in \\mathbb{R}$.\n",
    "1. *Bilinearity*\n",
    "\\begin{equation}\n",
    "\\label{bil}\n",
    "\\langle c \\vv u + d \\vv v, \\vv w \\rangle &= c \\langle \\vv u, \\vv w \\rangle + d \\langle \\vv v, \\vv w \\rangle, \\\\\n",
    "\\langle \\vv u, c \\vv v + d \\vv w \\rangle &= c \\langle \\vv u, \\vv v \\rangle + d \\langle \\vv u, \\vv w \\rangle.\n",
    "\\end{equation}\n",
    "\n",
    "<!-- (This is saying that inner products must be linear in their first argument when the second argument is fixed, and vice versa. Note that this does NOT mean that inner products are linear in both arguments together; if you scale both arguments by a factor of 2, the inner product is scaled by a factor of 4!) -->\n",
    "\n",
    "2. *Symmetry*\n",
    "\\begin{equation}\n",
    "\\label{symm}\n",
    "\\langle \\vv v , \\vv w \\rangle &= \\langle \\vv w , \\vv v \\rangle. \n",
    "\\end{equation}\n",
    "\n",
    "3. *Positivity*\n",
    "\\begin{equation}\n",
    "\\label{pos}\n",
    "\\langle \\vv v , \\vv v \\rangle > 0 \\ \\textrm{whenever} \\ \\vv v \\neq \\vv 0, \\ \\textrm{while} \\ \\langle \\vv 0, \\vv 0 \\rangle = 0. \n",
    "\\end{equation}\n",
    ":::\n",
    "\n",
    "As we will see soon, an inner product allows us to define notions of angle, length, and distance in a vector space. This added _structure_ is very useful, so when a vector space is equipped with an inner product, we call it an _inner product space_.\n",
    "\n",
    ":::{prf:definition} Inner Product Space\n",
    ":label: inner-product-space-defn\n",
    "An inner product space is a vector space $V$ equipped with an inner product $\\langle \\cdot, \\cdot \\rangle$ defined on $V$.\n",
    ":::\n",
    "\n",
    "```{warning}\n",
    "A vector space can admit many different inner products. It is therefore necessary (and polite) to specify which inner product is being used when defining an inner product space.\n",
    "```\n",
    "\n",
    "You can (and should!) check that the [dot product](#dot-product-defn) satisfies [](#inner_defn).\n",
    "\n",
    ":::{note} Induced Norm\n",
    ":label: norm_induced\n",
    "Now, just as the dot product could be used to define the Euclidean norm of a vector, we can also define a norm induced by a general [inner-product](#inner_defn):\n",
    "\\begin{equation}\n",
    "\\label{norm_induced_eqn}\n",
    "\\|\\vv v\\| = \\sqrt{\\langle \\vv v, \\vv v \\rangle}.\n",
    "\\end{equation}\n",
    "The positivity axiom ensures that $\\|\\vv v\\| \\geq 0$ for all $\\vv v \\in V$, and that $\\|\\vv v\\| = 0$ if and only if $\\vv v = 0$.\n",
    ":::\n",
    "\n",
    ":::{warning}\n",
    "We are using the same norm symbol $\\|\\cdot\\|$ for many different norms. If we do not specify which norm/inner-product is being used. You should interpret this as a \"generic\" norm induced by a \"generic\" inner-product satisfying [](#inner_defn). The good news is that norms behave in ways similar to the familiar [dot product](#dot-product-defn) and [Eucledian norm](#euclidean-norm-defn).\n",
    ":::"
   ]
  },
  {
   "cell_type": "markdown",
   "id": "c29b8a30-d3fb-48b8-bbcf-87b8abbf8312",
   "metadata": {},
   "source": [
    ":::{prf:example} Weighted dot product\n",
    ":label: weighted-dot-product-ex\n",
    "\n",
    "Let's define a different inner product on $\\mathbb{R}^2$. Instead of the typical dot product, let's consider a *weighted dot product*:\n",
    "\n",
    "\\begin{align*}\n",
    "    \\langle \\vv v, \\vv w \\rangle = 2v_1w_1 + 5v_2w_2\n",
    "\\end{align*}\n",
    "\n",
    "for $\\vv v = \\bm v_1 \\\\ v_2 \\em,\\vv w = \\bm w_1 \\\\ w_2\\em$. Let's verify that this is indeed an [inner product](#inner_defn) by checking that it satisfies the 3 axioms:\n",
    "\n",
    "1. **Bilinearity.** For any scalars $c, d$ and vectors $\\vv u, \\vv v, \\vv w$,\n",
    "\n",
    "\\begin{align*}\n",
    "    \\langle c \\vv u + d \\vv v, \\vv w\\rangle &= 2(c u_1 + d v_1)w_1 + 5(c u_2 + d v_2) w_2\\\\\n",
    "    &= c(2 u_1 w_1 + 5 u_2w_2) + d(2 v_1w_1 + 5 v_2 w_2)\\\\\n",
    "    &= c \\langle \\vv u, \\vv w \\rangle + d\\langle \\vv v, \\vv w \\rangle\n",
    "\\end{align*}\n",
    "\n",
    "Hence $\\langle \\cdot, \\cdot \\rangle$ is linear in its first argument when the second one is fixed. Try to prove that $\\langle \\cdot, \\cdot \\rangle$ is linear in its second argument when the first one is fixed (the proof should look very similar!). This will show bilinearity.\n",
    "\n",
    "2. **Symmetry.**\n",
    "\n",
    "\\begin{align*}\n",
    "    \\langle \\vv u, \\vv v\\rangle &= 2 u_1 v_1 + 5 u_2v_2 \\\\\n",
    "    &= 2 v_1 u_1 + 5 v_2u_2\\\\\n",
    "    &= \\langle \\vv v, \\vv u\\rangle\n",
    "\\end{align*}\n",
    "\n",
    "This shows symmetry.\n",
    "\n",
    "3. **Positivity.**\n",
    "\n",
    "\\begin{align*}\n",
    "    \\langle \\vv v, \\vv v\\rangle &= 2 v_1^2  + 5 v_2^2\n",
    "\\end{align*}\n",
    "\n",
    "If $\\vv v = \\vv 0$, then clearly this expression is zero because all terms are zero. On the other hand, if either component of $\\vv v$ is nonzero, then this expression is strictly positive. This shows positivity.\n",
    "\n",
    "Therefore, the weighted dot product above is indeed an inner product.\n",
    ":::\n",
    "\n",
    "The _weighted norm induced_ by the [weighted dot product](#weighted-dot-product-ex) on $\\mathbb{R}^2$ is then\n",
    "$$\n",
    "\\|\\vv v\\| = \\sqrt{ \\langle \\vv v, \\vv v\\rangle} = \\sqrt{2 v_1^2 + 5 v_2^2}\n",
    "$$\n",
    "which assigns more weights to the second coordinate relative to the first.\n",
    "\n",
    "We can generalize [](#weighted-dot-product-ex) to $\\mathbb{R}^n$ and arbitrary **positive** weights. Let $c_1, ..., c_n > 0$ we **positive numbers**. Then the corresponding _weighted inner product and weighted norm on $\\mathbb{R}^n$_ is defined to be \n",
    "\n",
    "\\begin{align*}\n",
    "    \\langle \\vv v, \\vv w\\rangle = c_1v_1w_1 + ... + c_nv_nw_n \\\\\n",
    "    \\|\\vv v\\| = \\sqrt{ \\langle \\vv v, \\vv v\\rangle} = \\sqrt{c_1v_1^2 + c_2v_2^2 + ... + c_nv_n^2}\n",
    "\\end{align*}\n",
    "\n",
    "The numbers $c_i > 0$ are called the *weights*. \n",
    "\n",
    ":::{prf:example} An inner product over a continuous function space\n",
    ":label:continuous-functions-inner-product-ex\n",
    "\n",
    "We saw before that we can define vector spaces where vectors are doubly infinite sequences or even functions! We will not work with such functions spaces in the rest of the class, but you should know what we can define inner products on these vector spaces too!\n",
    "\n",
    "For example, recall we saw that $C^0[0, 1]$, the space of all continuous functions defined over the interval $[0, 1]$, is a vector space. A commonly used inner product on this space is\n",
    "\n",
    "\\begin{align*}\n",
    "    \\langle f, g\\rangle = \\int_{0}^{1}{f(t)g(t) \\:dt}\n",
    "\\end{align*}\n",
    "\n",
    "for any two functions $f, g \\in C^0[0, 1]$. One can verify that this inner product satisfies [this definition](#inner_defn); we won't do that here but it isn't hard (just remember the properties of integration)!\n",
    "\n",
    "For some intuition, let's consider the sampled function versions $\\vv f, \\vv g \\in \\mathbb{R}^{T+1}$, where remember, we define\n",
    "\n",
    "\\begin{align*}\n",
    "    \\vv f = \\bm f(0) \\\\ f(\\tau) \\\\ \\vdots \\\\ f(T\\tau) \\em = \\bm f_1 \\\\ f_2 \\\\ \\vdots \\\\ f_{T+1} \\em,\n",
    "    \\quad \\vv g = \\bm g(0) \\\\ g(\\tau) \\\\ \\vdots \\\\ g(T\\tau) \\em = \\bm g_1 \\\\ g_2 \\\\ \\vdots \\\\ g_{T+1} \\em\n",
    "\\end{align*}\n",
    "\n",
    "for $\\tau$ a sampling time chosen so that $T\\tau = 1$, These two vectors live in $\\mathbb{R}^{T+1}$, and let's consider a [weighted inner product](#weighted-dot-product-ex) with all weights $c_i = \\tau$. Then the inner product between $\\vv f$ and $\\vv g$ is\n",
    "\n",
    "\\begin{align*}\n",
    "    \\langle \\vv f, \\vv g\\rangle &= \\tau f_1g_1 + \\tau f_1g_1 + ... + \\tau f_{T+1}g_{T+1}\\\\\n",
    "    &= \\sum_{t = 0}^{T}{\\tau f(i\\tau) g(i\\tau)}\n",
    "\\end{align*}\n",
    "\n",
    "This should remind your of how the Riemann integral for $h(t) = f(t)g(t)$ is defined. Indeed, if we let $\\tau \\to 0$, we recover the integral inner product defined above. Since our inner product $\\langle f, g\\rangle$ is an inner product for any $\\tau$, it shouldn't be too surprising that the ntegral inner product (**Int**) does too.\n",
    "\n",
    "**Int** then defines the $L_2$ norm of a function:\n",
    "$$\n",
    "\\|\\vv f\\| = \\sqrt{\\int_0^1 f(t)^2 dt}\n",
    "$$\n",
    "which generalizes the notion of length to functions. These ideas might seem very abstract, but they are immensely practical and lie at the heart of modern applications of Fourier analysis, differential equations, and numerical analysis.\n",
    "\n",
    ":::"
   ]
  },
  {
   "cell_type": "markdown",
   "id": "ea40ff73-4cef-48a7-b615-daa4d2ae27b4",
   "metadata": {},
   "source": [
    "#### Python break!\n",
    "\n",
    "Let's use the `np.inner` function in NumPy to compute the inner product between vectors and notice how it is different from the `np.dot` function. We also compute weighted inner products. Then, we use `np.linalg.norm` to directly compute the Eucledian norm of a vector and compare it with the induced norm of the corresponding inner product (dot product). "
   ]
  },
  {
   "cell_type": "code",
   "execution_count": 2,
   "id": "840980dd-5205-44b9-9cef-cbefed87edcc",
   "metadata": {},
   "outputs": [
    {
     "name": "stdout",
     "output_type": "stream",
     "text": [
      "The vectors are v1: \n",
      " [[1]\n",
      " [2]\n",
      " [3]] \n",
      " and v2: \n",
      " [[4]\n",
      " [5]\n",
      " [6]]\n",
      "Inner product <v1, v2> is: \n",
      " [[ 4  5  6]\n",
      " [ 8 10 12]\n",
      " [12 15 18]]\n",
      "Weighted inner product <v1, v2> is: \n",
      " 112\n"
     ]
    }
   ],
   "source": [
    "# Inner product\n",
    "\n",
    "import numpy as np\n",
    "\n",
    "v1_c = v1.reshape((-1,1)) # Notice the shape of the vectors\n",
    "v2_c = v2.reshape((-1,1))\n",
    "print(\"The vectors are v1: \\n\", v1_c, \"\\n and v2: \\n\", v2_c)\n",
    "inner_prod = np.inner(v1_c, v2_c) # What happens if you use np.dot?  \n",
    "print(\"Inner product <v1, v2> is: \\n\", inner_prod)\n",
    "\n",
    "# weighted inner product\n",
    "\n",
    "weights = np.array([2, 5, 3])\n",
    "inner_weighted = np.inner(v1, weights*v2)\n",
    "print(\"Weighted inner product <v1, v2> is: \\n\", inner_weighted)"
   ]
  },
  {
   "cell_type": "code",
   "execution_count": 3,
   "id": "4864e3fa-1c23-43ef-bfc2-2f4d3757138e",
   "metadata": {},
   "outputs": [
    {
     "name": "stdout",
     "output_type": "stream",
     "text": [
      "Norm of v1:  3.7416573867739413\n",
      "Induced norm of v1:  3.7416573867739413\n"
     ]
    }
   ],
   "source": [
    "# Norms\n",
    "\n",
    "print(\"Norm of v1: \", np.linalg.norm(v1))\n",
    "print(\"Induced norm of v1: \", np.sqrt(np.dot(v1, v1)))"
   ]
  },
  {
   "cell_type": "markdown",
   "id": "c4671a2b-50e6-476c-8b7e-900a619e0adb",
   "metadata": {},
   "source": [
    "[![Binder](https://mybinder.org/badge_logo.svg)](https://mybinder.org/v2/gh/nikolaimatni/ese-2030/HEAD?labpath=/02_Ch_3_Inner_Products_and_Norms/041-inner.ipynb)"
   ]
  },
  {
   "cell_type": "code",
   "execution_count": null,
   "id": "e6767699-49cb-4906-b881-8ade00800d75",
   "metadata": {},
   "outputs": [],
   "source": []
  }
 ],
 "metadata": {
  "jupytext": {
   "cell_metadata_filter": "-all",
   "main_language": "python"
  },
  "kernelspec": {
   "display_name": "Python 3 (ipykernel)",
   "language": "python",
   "name": "python3"
  },
  "language_info": {
   "codemirror_mode": {
    "name": "ipython",
    "version": 3
   },
   "file_extension": ".py",
   "mimetype": "text/x-python",
   "name": "python",
   "nbconvert_exporter": "python",
   "pygments_lexer": "ipython3",
   "version": "3.12.2"
  }
 },
 "nbformat": 4,
 "nbformat_minor": 5
}
