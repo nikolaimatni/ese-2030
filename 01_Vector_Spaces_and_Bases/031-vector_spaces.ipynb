{
 "cells": [
  {
   "cell_type": "markdown",
   "id": "fd7554ca-5ac4-4958-b713-648e3fd54114",
   "metadata": {
    "editable": true,
    "slideshow": {
     "slide_type": ""
    },
    "tags": []
   },
   "source": [
    "---\n",
    "title: Real Vector Spaces\n",
    "subject: Vector Spaces and Bases\n",
    "subtitle: fundamental abstraction of linear algebra\n",
    "short_title: Real vector spaces\n",
    "authors:\n",
    "  - name: Nikolai Matni\n",
    "    affiliations:\n",
    "      - Dept. of Electrical and Systems Engineering\n",
    "      - University of Pennsylvania\n",
    "    email: nmatni@seas.upenn.edu\n",
    "license: CC-BY-4.0\n",
    "keywords: vector spaces, addition and scaling, axioms\n",
    "math:\n",
    "  '\\vv': '\\mathbf{#1}'\n",
    "  '\\bm': '\\begin{bmatrix}'\n",
    "  '\\em': '\\end{bmatrix}'\n",
    "  '\\R': '\\mathbb{R}'\n",
    "---"
   ]
  },
  {
   "cell_type": "markdown",
   "id": "ea9a947c-b710-4a55-9ba7-42779a516120",
   "metadata": {},
   "source": [
    "[![Binder](https://mybinder.org/badge_logo.svg)](https://mybinder.org/v2/gh/nikolaimatni/ese-2030/HEAD?labpath=/01_Vector_Spaces_and_Bases/031-vector_spaces.ipynb)\n",
    "\n",
    "{doc}`Lecture notes <../lecture_notes/Lecture 03 - Vector Spaces 1_ Definitions, Subspaces, Span, Linear Independence, Basis, and Dimension.pdf>`"
   ]
  },
  {
   "cell_type": "markdown",
   "id": "a46f522d-2995-412b-92cf-9ff085526b18",
   "metadata": {},
   "source": [
    "## Reading\n",
    "\n",
    "Material related to this page, as well as additional exercises, can be found in ALA Ch. 2.1 and LAA 4.1."
   ]
  },
  {
   "cell_type": "markdown",
   "id": "d276bcc3-237d-4cda-8bf0-39285b0a09f3",
   "metadata": {},
   "source": [
    "## Learning Objectives\n",
    "\n",
    "By the end of this page, you should know:\n",
    "- addition and scaling of real vector spaces\n",
    "- axioms and operations for generic vector spaces\n",
    "- examples of different vector spaces"
   ]
  },
  {
   "cell_type": "markdown",
   "id": "170438e7",
   "metadata": {},
   "source": [
    "## Abstraction\n",
    "\n",
    "In mathematics, we can view seemingly unrelated settings, objects and models at the right level of abstraction which enables us to reason them together in the same way. _Vector Space_ is an abstract notion which unifies a wide range of objects such as ordinary vectors, matrices, spaces of functions such as polynomials, exponentials, trigonometric functions, and inifinite dimensional linear operators. We recommend you to understand these new abstract concepts in the context of ordinary eucledian space such as three-dimensional space ($\\mathbb{R}^3$), and then think about applying to more abstract spaces such as polynomials, vector-valued signals, matrices. "
   ]
  },
  {
   "cell_type": "markdown",
   "id": "af7f5403-8949-4fd6-92ed-30b6de0894b5",
   "metadata": {},
   "source": [
    "## Real Vector Spaces\n",
    "\n",
    "Let us consider the space of all $n \\times 1$ real-values vectors, denoted by $\\mathbb{R}^n$. Adding two vectors $\\vv v, \\vv w \\in \\mathbb{R}^n$ can be viewed geometrically through a parallelogram, and multiplication by a scalar $c \\in \\mathbb{R}$ is stretching/shrinking the vector by factor $c$.\n",
    "\n",
    ":::{figure}../figures/03-vec_add_scale.jpg\n",
    ":label:vec_add_scale\n",
    ":alt: Addition and scaling of vectors\n",
    ":width: 500px\n",
    ":align: center\n",
    ":::\n",
    "\n",
    "We aim to abstract the above properties so that we can add and scale generic \"vectors\" living in a \"vector space\". \n",
    "\n",
    ":::{prf:definition} Vector space operations\n",
    ":label: vec_space_op\n",
    "A _vector space_ is a set $V$ equipped with two operations:\n",
    "1. Addition: adding any pair of vectors $ \\vv v, \\vv w \\in V$ produces another vector $\\vv v + \\vv w \\in V$,\n",
    "2. Scalar Multiplication: multiplying a vector $\\vv v \\in V$ by a scalar $c \\in \\mathbb{R}$ produces a vector $c \\vv v \\in V$.\n",
    ":::\n",
    "\n",
    ":::{prf:definition} Vector space axioms\n",
    ":label: vec_space_ax\n",
    "A _vector space_ $V$ is subject to the following axioms for all $\\vv u, \\vv v, \\vv w \\in V$ and scalars $c, d \\in \\mathbb{R}$\n",
    "1. Commutativity of Addition: $\\vv v + \\vv w = \\vv w + \\vv v$.\n",
    "2. Associativity of Addition: $\\vv u + (\\vv v + \\vv w) = (\\vv u + \\vv v) + \\vv w$.\n",
    "3. Additive Identity: There is a zero element $\\vv 0 \\in V$ satisfying $\\vv v + \\vv 0 = \\vv v = \\vv 0 + \\vv v$.\n",
    "4. Additive Inverse: For each $\\vv v \\in V$ there is an element $− \\vv v \\in V$ such that\n",
    "$\\vv v + (− \\vv v) = \\vv 0 = (− \\vv v) + \\vv v$.\n",
    "5. Distributivity: $( c +  d) \\vv v = (c \\vv v) + (d \\vv v)$, and $c (\\vv v + \\vv w) = (c \\vv v) + (c \\vv w)$.\n",
    "6. Associativity of Scalar Multiplication: $c (d \\vv v) = (c d) \\vv v$.\n",
    "7. Unit for Scalar Multiplication: the scalar $1 \\in \\mathbb{R}$ satisﬁes $1 \\vv v =\\vv v$.\n",
    ":::\n",
    "\n",
    "The following properties can be deduced from the [axioms](#vec_space_ax).\n",
    "\n",
    ":::{note} Properties\n",
    ":label: vec_space_prop\n",
    "1. The $\\vv 0$ vector in [axiom](#vec_spac_ax) 3. is unique.\n",
    "2. The additive inverse $-\\vv v$ in [axiom](#vec_spac_ax) 4., called the _negative of $\\vv v$_ is unique.\n",
    "3. $$0 \\vv v = \\vv 0$ ($0$ is a scalar, $\\vv 0$ is a vector).\n",
    "4. $-1 \\vv v = -\\vv v$.\n",
    "5. $c \\vv 0 = \\vv 0$ for any $c \\in \\mathbb{R}$.\n",
    "6. If $c \\vv v = \\vv 0$, then either $c=0$ or $\\vv v = \\vv 0$.\n",
    ":::"
   ]
  },
  {
   "cell_type": "markdown",
   "id": "3b7618b1-97c9-4576-8c76-6a388a8b0e09",
   "metadata": {},
   "source": [
    ":::{prf:example} Eucledian Space $\\mathbb{R}^n$\n",
    ":label:Rn_ex1\n",
    "\n",
    "$\\mathbb{R}^n$ is the space of $n \\times 1$ column vectors with addition, scaling and the $\\vv 0$ vector given below.\n",
    "$$\n",
    "\\vv v = \\bm v_1 \\\\ v_2 \\\\ \\vdots \\\\ v_n \\em, \\vv w = \\bm w_1 \\\\ w_2 \\\\ \\vdots \\\\ w_n \\em, \\vv v + \\vv w = \\bm v_1 + w_1 \\\\ v_2 + w_2 \\\\ \\vdots \\\\ v_n + w_n \\em, c \\vv v = \\bm c v_1 \\\\ c v _2 \\\\ \\vdots \\\\ c v_n\\em, \\vv 0 = \\bm 0 \\\\ 0 \\\\ \\vdots \\\\ 0 \\em\n",
    "$$\n",
    "\n",
    "```{note}\n",
    "If it is difficult to understand generic vector spaces, think about $\\mathbb{R}^3$, since we are using the same geometric ideas to add and scale encodings of different objects.\n",
    "```\n",
    ":::"
   ]
  },
  {
   "cell_type": "markdown",
   "id": "e26bdb53-3bb2-4dd6-94e3-b17d4b294785",
   "metadata": {
    "editable": true,
    "slideshow": {
     "slide_type": ""
    },
    "tags": []
   },
   "source": [
    ":::{prf:example}Real $m \\times n$ matrices $\\mathbb{R}^{m \\times n}$\n",
    ":label:Rmn_ex2\n",
    "\n",
    "$\\mathbb{R}^n$ is the space of $n \\times 1$ column vectors with addition, scaling and the $\\vv 0$ vector given below.\n",
    "$$\n",
    "\\vv v = \\bm v_1 \\\\ v_2 \\\\ \\vdots \\\\ v_n \\em, \\vv w = \\bm w_1 \\\\ w_2 \\\\ \\vdots \\\\ w_n \\em, \\vv v + \\vv w = \\bm v_1 + w_1 \\\\ v_2 + w_2 \\\\ \\vdots \\\\ v_n + w_n \\em, c \\vv v = \\bm c v_1 \\\\ c v _2 \\\\ \\vdots \\\\ c v_n\\em, \\vv 0 = \\bm 0 \\\\ 0 \\\\ \\vdots \\\\ 0 \\em\n",
    "$$\n",
    "\n",
    "\n",
    "$\\mathbb{R}^{m \\times n}$ forms a _vector space_ under matrix additon and scalar multiplication. The $O$ \"vector\" is the matrix of all zeros $O \\in \\mathbb{R}^{m \\times n}$.\n",
    "\n",
    "```{warning}\n",
    "[Matrix-matrix multiplication](./022-linsys-matvec.ipynb#matmul-def1) is **not** a vector space operation. Vector spaces only allow scalar multiplication.\n",
    "```\n",
    "\n",
    "```{note}\n",
    "The vector space $\\mathbb{R}^n$ is really an $\\mathbb{R}^{n \\times 1}$ matrix. Hence, the [Eucledian space](#Rn_ex1) is a special case of [Real matrices](#Rmn_ex2).\n",
    "```\n",
    ":::"
   ]
  },
  {
   "cell_type": "markdown",
   "id": "fed8844c-73fe-4b07-b153-ddd09659c72c",
   "metadata": {},
   "source": [
    "::::{prf:example}Sampled functions over an interval\n",
    ":label:fns_ex3\n",
    "\n",
    "In digital signal processing and applications such as communication, we work with sampled versions of the functions $f(t)$ over the time interval $[0, 1]$ so that we can store them on a computer. This is obtained by sampling $f(t)$ at times $\\{0, \\tau, 2\\tau, \\ldots, T\\tau = 1\\}$, where $\\tau$ is the sampling period, $\\frac{1}{\\tau} = T$ is the number of samples taken over $[0, 1]$. This gives a [vector](#Rn_ex1) of size $T+1$:\n",
    "$$\n",
    "\\vv f = \\bm f(0) \\\\ f(\\tau) \\\\ f(2\\tau) \\\\ \\vdots \\\\ f(T\\tau) \\em.\n",
    "$$\n",
    " \n",
    ":::{figure}../figures/03-function_sampled.jpg\n",
    ":alt: Sampled function\n",
    ":width: 300px\n",
    ":align: center\n",
    ":::\n",
    "\n",
    "Hence, adding sampled functions $f(t)$ and $g(t)$, and scaling functions $f(t)$ follow the same operations as given in [](#Rn_ex1) for the corresponding vectors $\\vv f$ and $\\vv g$. Sampling the zero function $z(t) = 0$ gives the usual $\\vv 0$ vector. \n",
    "\n",
    "```{note}\n",
    "In summary, the space of functions sampled at the **same $T+1$ time points** over an interval is $\\mathbb{R}^{T \\times 1}$.\n",
    "```\n",
    "::::"
   ]
  },
  {
   "cell_type": "markdown",
   "id": "5c276074-315d-409e-a636-d88d8a208e44",
   "metadata": {},
   "source": [
    ":::{prf:example}Doubly infinite sequences of numbers $\\mathbb{S}$\n",
    ":label:inf_seq_ex4\n",
    "\n",
    "Let $\\mathbb{S}$ be the space of all _doubly infinite sequences of numbers_:\n",
    "\\begin{equation}\n",
    "\\label{ex4_eqn}\n",
    "\\{y_k\\} := \\{\\ldots, y_{-2}, y_{-1}, y_0, y_1, y_2, \\ldots\\}.\n",
    "\\end{equation}\n",
    "The sequences [](#ex4_eqn) can be interpreted as a signal sampled over an undefined interval, which appears in areas such as control theory, signal processing, biology, optics. \n",
    "```{note}\n",
    "$\\mathbb{S}$ is also known as the _space of discrete time signals_.\n",
    "```\n",
    "We define\n",
    "1. addition as $\\{y_k\\} + \\{z_k\\} = \\{y_k + z_k\\}$ (element-wise), and\n",
    "2. scalar multiplication as $c\\{y_k\\} = \\{cy_k\\}$ (scale each entry).\n",
    "\n",
    "```{note} Not finite\n",
    "Each each vector $\\{y_k\\} \\in \\mathbb{S}$ has infinitely many elements, unlike our previous examples. Nevertheless, we can still think of $\\{y_k\\}$ as an \"arrow\" that adds and scales according to [](#vec_add_scale).\n",
    "```\n",
    ":::\n"
   ]
  },
  {
   "cell_type": "markdown",
   "id": "7c9d85a0-a4be-4d75-abbc-9feca6236838",
   "metadata": {},
   "source": [
    ":::{prf:example}Real Polynomials of degree $\\leq n$: $P^{(n)}$\n",
    ":label:poly_ex5\n",
    "\n",
    "Consider the space\n",
    "\n",
    "\\begin{equation}\n",
    "\\label{eqn_ex5}\n",
    "P^{(n)} = \\{p(x) = a_nx^n + a_{n-1}x^{n-1} + \\ldots + a_1x +  a_0\\}\n",
    "\\end{equation}\n",
    "consisting of all real polynomials of degree $\\leq n$. The polynomial coefficients $a_n, a_{n-1}, \\ldots, a_1, a_0$ can be any real numbers. For example, $P^{(1)} = \\{p(x) = a_1x + a_0\\}$ is the set of all linear polynomials, since given any linear equation $q(x) = mx + b$, setting $a_1 = m$ and $a_0 = b$ shows that $q(x) \\in P^{(1)}$. The vector space operations are defined as below.\n",
    "1. Addition:\n",
    "   \\begin{equation}\n",
    "   \\label{poly_add}\n",
    "   p(x) &= a_nx^n + a_{n-1}x^{n-1} + \\ldots + a_1x +  a_0, \\\\ q(x) &= b_nx^n + b_{n-1}x^{n-1} + \\ldots + b_1x +  b_0, \\\\\n",
    "   p(x) + q(x) &= (a_n+b_n)x^n + (a_{n-1}+b_{n-1})x^{n-1} + \\ldots + (a_{1}+b_{1})x +  (a_0+b_0), \\\\\n",
    "   p(x) + q(x) &= d_nx^n + d_{n-1}x^{n-1} + \\ldots + d_{1}x +  d_0, \\\\ d_i &= a_i + b_i\n",
    "   \\end{equation}\n",
    "2. Scalar multiplication:\n",
    "   \\begin{equation}\n",
    "   \\label{poly_scalec}\n",
    "   cp(x) &= ca_nx^n + ca_{n-1}x^{n-1} + \\ldots + ca_1x +  ca_0, \\\\\n",
    "   cp(x) &= \\tilde{a}_{n} x^n + \\tilde{a}_{n-1} x^{n-1} + \\ldots + \\tilde{a}_1 x + \\tilde{a}_0, \\\\\n",
    "   \\tilde{a}_i &= ca_i\n",
    "   \\end{equation}\n",
    "\n",
    "```{note}\n",
    "Addition and scaling of polynomials is very similar to how we did for ordinary vectors. This is not a coincidence at all! We will see why later! \n",
    "```\n",
    "\n",
    "Zero polynomial satisfies $a_n = a_{n-1} = \\ldots = a_1 = a_0 = 0$. Vectors in $P^{(n)}$ are _polynomial functions_ and you should think of them as \"arrows\", similar to ordinary vectors, living in the space of polynomials. \n",
    "\n",
    "```{warning} $n-$degree polynomials\n",
    "The space of $n-$degree polynomials is **not** a vector space. For example, consider $p(x) = x^2 + 1$ and $q(x) = -x^2 + x$, both of degree $2$, but $p(x) + q(x) = x + 1$ that has degree 1! Hence, $P^{(n)}$ is defined as polynomials of degree $\\leq n$ so that we do not go out of the space when we add elements.\n",
    "```\n",
    "\n",
    "```{warning}\n",
    "A scalar $c \\in \\mathbb{R}$ and the constant polynomial $a_0 \\in P^{(n)}$ are different objects, even though they look similar! You should think of $a_0$ as an \"arrow\" in $P^{(n)}$ and not a scalar. \n",
    "```\n",
    "\n",
    ":::\n"
   ]
  },
  {
   "cell_type": "markdown",
   "id": "e1f65f6b-f37e-4636-9c8a-ae463b8aee23",
   "metadata": {},
   "source": [
    ":::{prf:example}Real valued functions over an interval $\\mathcal{F}(I)$\n",
    ":label:func_ex6\n",
    "\n",
    "Let $I \\subset \\mathbb{R}$ be an interval (a common choice is $[0, 1]$, the closed interval from $0$ to $1$). The _function space_ $\\mathcal{F}(I)$ is defined as a vector space whose elements are all real-valued function $f(x)$ defined for all $x \\in I$. The operations are\n",
    "\n",
    "1. Addition in the usual way $(f+g)(x) = f(x) + g(x)$ for all $x \\in I$\n",
    "2. Scalar multiplication $(cf)(x) = c f(x)$\n",
    "\n",
    "```{note}\n",
    "$(f+g)$ denotes the new function obtained by adding $f$ and $g$. We define the value of $f+g$ at $x \\in I$ by $(f+g)(x) = f(x) + g(x)$. The vector elements here are $f+g, f, g$, while the variable $x$ is not related to the vector space. The variable $x$ is used only to define how $f+g$ is computed from $f$ and $g$. A useful trick is to not write out the argument $x$ when performing vector space operations.   \n",
    "```\n",
    "\n",
    "#### Example\n",
    "\n",
    "Let $f(x) = 1  +\\sin(2x)$ and $g(x) = 2 + 0.5x$ and set $I = [0, 1]$. Then, $f, g \\in \\mathcal{F}(I)$. To compute $f+g$,\n",
    "\\begin{equation}\n",
    "\\label{func_ex}\n",
    "(f+g)(x) &= f(x) + g(x), \\\\\n",
    "&= 1 + \\sin(2x) + 2 + 0.5x, \\\\\n",
    "(f+g)(x) &= 3 + 0.5x + \\sin(2x)\n",
    "\\end{equation}\n",
    "From [](#func_ex), the function $f+g$ is defined for all $x \\in [0, 1]$. Hence, $f+g \\in \\mathcal{F}(I)$.\n",
    "\n",
    "```{tip} \n",
    "If the above discussion is confusing, pretend that we are using sampled version $\\vv f$ and $\\vv g$ of $f(t)$ and $g(t)$, respectively, but with possibly infinite and continuous elements. Adding $\\vv f + \\vv g$ gives me a new vector, just like adding $f + g$ gives me a new function\n",
    "```\n",
    ":::\n"
   ]
  },
  {
   "cell_type": "markdown",
   "id": "ea24a160-262e-4660-a436-bbd52b488ac1",
   "metadata": {},
   "source": [
    "[![Binder](https://mybinder.org/badge_logo.svg)](https://mybinder.org/v2/gh/nikolaimatni/ese-2030/HEAD?labpath=/01_Vector_Spaces_and_Bases/031-vector_spaces.ipynb)"
   ]
  },
  {
   "cell_type": "code",
   "execution_count": null,
   "id": "fef11782-d880-4655-ba01-164fce4285fc",
   "metadata": {},
   "outputs": [],
   "source": []
  }
 ],
 "metadata": {
  "jupytext": {
   "cell_metadata_filter": "-all",
   "main_language": "python"
  },
  "kernelspec": {
   "display_name": "Python 3 (ipykernel)",
   "language": "python",
   "name": "python3"
  },
  "language_info": {
   "codemirror_mode": {
    "name": "ipython",
    "version": 3
   },
   "file_extension": ".py",
   "mimetype": "text/x-python",
   "name": "python",
   "nbconvert_exporter": "python",
   "pygments_lexer": "ipython3",
   "version": "3.8.19"
  }
 },
 "nbformat": 4,
 "nbformat_minor": 5
}
