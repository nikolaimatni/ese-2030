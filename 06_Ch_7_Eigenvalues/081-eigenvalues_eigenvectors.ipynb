{
 "cells": [
  {
   "cell_type": "markdown",
   "metadata": {},
   "source": [
    "---\n",
    "title: 8.1 Eigenvalues and Eigenvectors\n",
    "subject:  Eigenvalues\n",
    "subtitle: \n",
    "short_title: 8.1 Eigenvalues and Eigenvectors\n",
    "authors:\n",
    "  - name: Nikolai Matni\n",
    "    affiliations:\n",
    "      - Dept. of Electrical and Systems Engineering\n",
    "      - University of Pennsylvania\n",
    "    email: nmatni@seas.upenn.edu\n",
    "license: CC-BY-4.0\n",
    "keywords: Eigenvalues, Eigenvectors\n",
    "math:\n",
    "  '\\vv': '\\mathbf{#1}'\n",
    "  '\\bm': '\\begin{bmatrix}'\n",
    "  '\\em': '\\end{bmatrix}'\n",
    "  '\\R': '\\mathbb{R}'\n",
    "---"
   ]
  },
  {
   "cell_type": "markdown",
   "metadata": {},
   "source": [
    "[![Binder](https://mybinder.org/badge_logo.svg)](https://mybinder.org/v2/gh/nikolaimatni/ese-2030/HEAD?labpath=/03_Orthogonality/053-orthogonal_matrices.ipynb)\n",
    "\n",
    "{doc}`Lecture notes <../lecture_notes/Lecture 07 - Orthogonality, Gram-Schmidt, Orthogonal Matrices, and QR-Factorization.pdf>`"
   ]
  },
  {
   "cell_type": "markdown",
   "metadata": {},
   "source": [
    "## Reading\n",
    "\n",
    "Material related to this page, as well as additional exercises, can be found in ALA 8.1.\n",
    "\n",
    "## Learning Objectives\n",
    "\n",
    "By the end of this page, you should know:\n",
    "- What are the eigenvalues and eigenvectors of a square matrix $A$?\n",
    "- How do you find the eigenvectors corresponding to an eigenvalue?"
   ]
  },
  {
   "cell_type": "markdown",
   "metadata": {},
   "source": [
    "# Eigenvalues and Eigenvectors\n",
    "\n",
    "In this chapter, we will discuss one of the most fundamental elements of linear algebra: the *eigenvalues and eigenvectors* of a square matrix $A$. Eigenvalues and eigenvectors are ubiquitous throughout linear algebra and calculus, and in later sections we'll discuss their applications to the analysis of linear dynamical systems (TODO add section).\n",
    "\n",
    ":::{prf:definition} Eigenvalues and Eigenvectors\n",
    ":label: eigen-defn\n",
    "\n",
    "For $A \\in \\mathbb{R}^{n\\times n}$, a scalar $\\lambda$ is called an *eigenvalue* of $A$ if there is a *nonzero* vector $\\vv v \\in \\mathbb{R}^n$, called an *eigenvector*, such that\n",
    "\n",
    "\\begin{align*}\\label{expr:EIG}\n",
    "    A\\vv v = \\lambda \\vv v.\\tag{EIG}\n",
    "\\end{align*}\n",
    ":::\n",
    "\n",
    "Geometrically, when $A$ acts on an eigenvector $\\vv v$, it does not change its orientation: it only stretches it by th evalue specified by the eigenvalue $\\lambda$.\n",
    "\n",
    "The question then becomes how do we find eigenvalues and eigenvectors for a given matrix $A$? \n",
    "\n",
    "## Finding the eigenvectors for a known eigenvalue\n",
    "\n",
    "We'll first consider an easier problem.\n",
    "\n",
    "Suppose we already know that $A$ has an eigenvalue $\\lambda$. Then, (EIG) is a linear system in $\\vv v$. Indeed, to find the eigenvectors corresponding to $\\lambda$, we just solve the homogenous linear system $(A - \\lambda I)\\vv v = \\vv 0$. We've already seen that the solution set is precisely the null space of $A - \\lambda i$, i.e., $(A - \\lambda I) = \\vv 0$ if and only if $\\vv v \\in \\text{null}(A - \\lambda I)$. \n",
    "\n",
    "## ... But how do we find the eigenvalues?\n",
    "\n",
    "The question, now, becomes how to find the eigenvalues of a matrix. A key observation is that the [definition of eigenvalue](#eigen-defn) require that the corresponding eigenvector be *nonzero*, and we know that this can only occur if $A - \\lambda I$ is singular! This discussion is summarized in the following theorem:\n",
    "\n",
    ":::{prf:theorem} A Characterization of the Eigenvalues of a Matrix\n",
    ":label: eigenvalue-thm\n",
    "\n",
    "A scalar $\\lambda$ is an eigenvalue of $A \\in\\mathbb{R}^{n\\times n}$ if and only if the matrix $A - \\lambda I$ is [singular](#singular-defn), i.e., $\\text{rank}(A - \\lambda I) < n$. The corresponding eigenvectors are the nonzero solutions to the eigenvalue equation $(A - \\lambda I) \\vv v = \\vv 0$.\n",
    ":::\n",
    "\n",
    "This theorem gives us a plan of attack: to find all $\\lambda$ for which $A - \\lambda I$ is singular! In the next few sections, we'll introduce the machinery needed to apply this method, known as the method of characteristic equations, for finding eigenvalues of small matrices.\n",
    "\n",
    "In general, howeverk, finding the eigenvalues of a matrix is a hard problem. For larger matrices, there are no known efficient algorithms for finding all eigenvalues of a general square matrix! There *do*, however, exist [numerous algorithms](https://en.wikipedia.org/wiki/Eigenvalue_algorithm#Iterative_algorithms) for finding special eigenvalues (e.g., the largest and smallest magnitude eigenvalues) as well finding the eigenvalues of matrices with a special structure (e.g., symmetric matrices). "
   ]
  },
  {
   "cell_type": "markdown",
   "metadata": {},
   "source": [
    "[![Binder](https://mybinder.org/badge_logo.svg)](https://mybinder.org/v2/gh/nikolaimatni/ese-2030/HEAD?labpath=/03_Orthogonality/053-orthogonal_matrices.ipynb)"
   ]
  }
 ],
 "metadata": {
  "kernelspec": {
   "display_name": "Python 3 (ipykernel)",
   "language": "python",
   "name": "python3"
  },
  "language_info": {
   "codemirror_mode": {
    "name": "ipython",
    "version": 3
   },
   "file_extension": ".py",
   "mimetype": "text/x-python",
   "name": "python",
   "nbconvert_exporter": "python",
   "pygments_lexer": "ipython3",
   "version": "3.12.3"
  }
 },
 "nbformat": 4,
 "nbformat_minor": 4
}
