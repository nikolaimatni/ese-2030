{
 "cells": [
  {
   "cell_type": "markdown",
   "metadata": {},
   "source": [
    "---\n",
    "title: 8.2 Determinants\n",
    "subject:  Determinants\n",
    "subtitle: \n",
    "short_title: 8.2 Determinants\n",
    "authors:\n",
    "  - name: Nikolai Matni\n",
    "    affiliations:\n",
    "      - Dept. of Electrical and Systems Engineering\n",
    "      - University of Pennsylvania\n",
    "    email: nmatni@seas.upenn.edu\n",
    "license: CC-BY-4.0\n",
    "keywords: Determinants\n",
    "math:\n",
    "  '\\vv': '\\mathbf{#1}'\n",
    "  '\\bm': '\\begin{bmatrix}'\n",
    "  '\\em': '\\end{bmatrix}'\n",
    "  '\\R': '\\mathbb{R}'\n",
    "---"
   ]
  },
  {
   "cell_type": "markdown",
   "metadata": {},
   "source": [
    "[![Binder](https://mybinder.org/badge_logo.svg)](https://mybinder.org/v2/gh/nikolaimatni/ese-2030/HEAD?labpath=/03_Orthogonality/053-orthogonal_matrices.ipynb)\n",
    "\n",
    "{doc}`Lecture notes <../lecture_notes/Lecture 07 - Orthogonality, Gram-Schmidt, Orthogonal Matrices, and QR-Factorization.pdf>`"
   ]
  },
  {
   "cell_type": "markdown",
   "metadata": {},
   "source": [
    "## Reading\n",
    "\n",
    "Material related to this page, as well as additional exercises, can be found in ALA 1.9.\n",
    "\n",
    "## Learning Objectives\n",
    "\n",
    "By the end of this page, you should know:\n",
    "- some key facts of the determinant,\n",
    "- several ways to find the determinant of a matrix,\n",
    "- (optional) the formal definition of a determinant."
   ]
  },
  {
   "cell_type": "markdown",
   "metadata": {},
   "source": [
    "# Determinants\n",
    "\n",
    "We assume that you have already seen determinants in Math 1410, and focus here on reviewing the  key properties. Before proceeding, we pause to note that determinants have very deep meanings, especially in differential calculus, as they keep track of volumes as they are transformed via (linear or otherwise) functions. They are indeed very useful theoretical tools, but much like matrix inverses, are rarely computed by hand, except for $2 \\times 2$ cases. Below is a helpful link if you need a refresher on the determinant.\n",
    "\n",
    "* [Math 1410 video lecture (geometric interpretation of the determinant for small matrices)](https://www.youtube.com/watch?v=6hXxrbnbtC4)\n",
    "\n",
    "## Determinants and Invertibility\n",
    "\n",
    "First, we'll state a couple of key facts about the determinant.\n",
    "\n",
    "\n",
    ":::{prf:definition} Key Properties of the Determinant\n",
    ":label: determinant-properties-defn\n",
    "\n",
    "1. The determinant of a matrix $A$, written $\\det A$ or $|A|$, is only defined if $A$ is square.\n",
    "\n",
    "2. The determinant of a $1\\times 1$ matirx $A = [a]$ is $\\det [a] = a$. The determinant of a $2 \\times 2$ matrix is $\\det \\bm a & b\\\\ c & d \\em= ad - bc$. You may recognize this expression from our formula for the inverse of a $2\\times 2$ matrix:\n",
    "\\begin{align*}\n",
    "\\bm a & b\\\\c&d \\em^{-1} = \\frac{1}{ad -bc}\\bm d&-b\\\\-c&a \\em.\n",
    "\\end{align*}\n",
    "\n",
    "In this case, $\\bm a & b\\\\c&d \\em^{-1}$ exists if and only if $\\det \\bm a & b\\\\c&d \\em = ad - bc \\neq 0$. This observation is true in general:\n",
    "\n",
    "3. $A^{-1}$ exists, i.e., $A$ is nonsingular, if and only if, $\\det A \\neq 0$.\n",
    "\n",
    "A corollary of Fact 3, which we will use in our eigenvalue computations, is that $A$ is singular if and only if $\\det A = 0$.\n",
    "\n",
    "4. If $U$ is a block upper diagonal matrix, i.e., if $U = \\bm U_{11} & U_{12} \\\\ 0 & U_{22}\\em$ for $U_{ij}$ of compatible dimension, then $\\det U = \\det{U_{11}} \\cdot\\det{U_{22}}$, i.e., the determinant of $U$ is given by the products of the determinants of its block diagonals.\n",
    "\n",
    ":::\n",
    "\n",
    "These facts are all we need for now to get started finding eigenvalues.\n",
    "\n",
    "## Computing Determinants\n",
    "\n",
    "TODO QR factorization case study"
   ]
  },
  {
   "cell_type": "markdown",
   "metadata": {},
   "source": [
    "[![Binder](https://mybinder.org/badge_logo.svg)](https://mybinder.org/v2/gh/nikolaimatni/ese-2030/HEAD?labpath=/03_Orthogonality/053-orthogonal_matrices.ipynb)"
   ]
  }
 ],
 "metadata": {
  "kernelspec": {
   "display_name": "Python 3 (ipykernel)",
   "language": "python",
   "name": "python3"
  },
  "language_info": {
   "codemirror_mode": {
    "name": "ipython",
    "version": 3
   },
   "file_extension": ".py",
   "mimetype": "text/x-python",
   "name": "python",
   "nbconvert_exporter": "python",
   "pygments_lexer": "ipython3",
   "version": "3.12.3"
  }
 },
 "nbformat": 4,
 "nbformat_minor": 4
}
