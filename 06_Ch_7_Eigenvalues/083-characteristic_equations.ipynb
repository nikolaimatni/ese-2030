{
 "cells": [
  {
   "cell_type": "markdown",
   "metadata": {},
   "source": [
    "---\n",
    "title: 8.3 Characteristic Equations\n",
    "subject:  Eigenvalues\n",
    "subtitle: \n",
    "short_title: 8.3 Characteristic Equations\n",
    "authors:\n",
    "  - name: Nikolai Matni\n",
    "    affiliations:\n",
    "      - Dept. of Electrical and Systems Engineering\n",
    "      - University of Pennsylvania\n",
    "    email: nmatni@seas.upenn.edu\n",
    "license: CC-BY-4.0\n",
    "keywords: Eigenvalues, Eigenvectors\n",
    "math:\n",
    "  '\\vv': '\\mathbf{#1}'\n",
    "  '\\bm': '\\begin{bmatrix}'\n",
    "  '\\em': '\\end{bmatrix}'\n",
    "  '\\R': '\\mathbb{R}'\n",
    "---"
   ]
  },
  {
   "cell_type": "markdown",
   "metadata": {},
   "source": [
    "[![Binder](https://mybinder.org/badge_logo.svg)](https://mybinder.org/v2/gh/nikolaimatni/ese-2030/HEAD?labpath=/03_Orthogonality/053-orthogonal_matrices.ipynb)\n",
    "\n",
    "{doc}`Lecture notes <../lecture_notes/Lecture 07 - Orthogonality, Gram-Schmidt, Orthogonal Matrices, and QR-Factorization.pdf>`"
   ]
  },
  {
   "cell_type": "markdown",
   "metadata": {},
   "source": [
    "## Reading\n",
    "\n",
    "Material related to this page, as well as additional exercises, can be found in ALA 8.1.\n",
    "\n",
    "## Learning Objectives\n",
    "\n",
    "By the end of this page, you should know:\n",
    "- how to define the characteristic equation of a square matrix $A$,\n",
    "- how to solve the characteristic equation to find the eigenvalues of $A$."
   ]
  },
  {
   "cell_type": "markdown",
   "metadata": {},
   "source": [
    "# The Characteristic Equation \n",
    "\n",
    "In the previous section, we showed that a square matrix $B$ is singular if and only if $\\det (B) = 0$. Combined with [this fact](#eigenvalue-thm), which states that a scalar $\\lambda$ is an eigenvalue of square matrix $A$ if and only if $A - \\lambda I$ was singular, this motivates the following characterization of eigenvalues:\n",
    "\n",
    ":::{prf:definition} Characteristic Equation\n",
    ":label: characteristic-equation-defn\n",
    "\n",
    "For a square matrix $A \\in \\mathbb{R}^n$, its *characteristic equation* is defined as the equation:\n",
    "\n",
    "\\begin{align*}\n",
    "    \\det(A - \\lambda I)= 0\n",
    "\\end{align*}\n",
    "\n",
    "which has variable $\\lambda$. A scalar $\\lambda$ is an eigenvalue of $A$ if and only if $\\lambda$ is a solution to the characteristic equation of $A$.\n",
    "\n",
    "The characteristic equation is a $n^{\\text{th}}$-degree polynomial equation in terms of $\\lambda$. This can be seen by fully expanding the equation using the entries of $A$ (e.g., via the [Laplace expansion](#laplace-expansion-defn)).\n",
    ":::\n",
    "\n",
    "## Finding the Eigenvalues by Solving the Characteristic Equation\n",
    "\n",
    "We now have all the pieces needed to find the eigenvalues for small matrices (which is all we will ever ask you to compute, unless there is a special structure). This leads to the following method for finding all [eigenvalue, eigenvector] pairs for a square matrix $A$:\n",
    "\n",
    "* First, we find all solutions $\\lambda$ to the characteristic equation $\\det(A - \\lambda)$ to get the eigenvalues.\n",
    "\n",
    "* Second, for each value of $\\lambda$, we find all solutions $\\vv v$ to the homogenous system $(A - \\lambda I)\\vv v = \\vv 0$ to get the eigenvectors for each eigenvalue.\n",
    "\n",
    "Let's look at a small example with a $2\\times 2$ matrix:\n",
    "\n",
    ":::{prf:example} Finding the eigenvalues and eigenvectors of a $2\\times 2$ matrix\n",
    ":label: eigen-ex2\n",
    "\n",
    "Let's find the eigenvalues and eigenvectors of the matrix $\\bm 3&1\\\\1&3 \\em$.\n",
    "\n",
    "First, let's solve the characteristic equation $\\det\\left(\\bm 3&1\\\\1&3 \\em - \\lambda I\\right) = 0$. We have:\n",
    "\n",
    "\\begin{align*}\n",
    "    \\det\\left( \\bm 3&1\\\\1&3 \\em - \\lambda I \\right) = 0 &\\iff \\det\\left( \\bm 3 - \\lambda&1\\\\1&3 - \\lambda \\em \\right) = 0 \\\\\n",
    "    &\\iff (3 - \\lambda)(3 - \\lambda) - (1)(1) = 0\\\\\n",
    "    &\\iff \\lambda^2 - 6\\lambda + 8 = 0\\\\\n",
    "\\end{align*}\n",
    "\n",
    "The second line follows from the determinant formula for $2\\times 2$ matrices. This is a quadratic function of $\\lambda$ and has roots $\\lambda_1 = 2, \\lambda_2 = 4$, our eigenvalues.\n",
    "\n",
    "Second, let's find the eigenvectors corresponding to each eigenvalue. Just like we did [two sections ago](#eigen-ex1), we solve for the nullspaces of $\\bm 3&1\\\\1&3 \\em - 2I$ and $\\bm 3&1\\\\1&3 \\em - 4I$ to get the eigenvectors corresponding to $\\lambda_1$ and $\\lambda_2$, respectively. \n",
    "\n",
    "You should get that the eigenvectors corresponding to $\\lambda_1 = 2$ are:\n",
    "\n",
    "\\begin{align*}\n",
    "\\text{span} \\left\\{  \\bm -1\\\\ 1\\em \\right\\}\n",
    "\\end{align*}\n",
    "\n",
    "and the eigenvectors corresponding to $\\lambda_2 = 4$ are:\n",
    "\n",
    "\\begin{align*}\n",
    "\\text{span} \\left\\{  \\bm 1\\\\ 1 \\em \\right\\}.\n",
    "\\end{align*}\n",
    "\n",
    "We typically only distinguish linearly independent eignevectors. In this case, we would say that $\\vv{v_1} = \\bm 1\\\\1 \\em$ is *the* eigenvector corresponding to $\\lambda_2 = 4$, although it is understood that any vector $\\vv{\\tilde{v_1}} = a \\vv{v_1}$, for $a \\neq 0$, is also a valid eigenvector.\n",
    "\n",
    ":::\n"
   ]
  },
  {
   "cell_type": "markdown",
   "metadata": {},
   "source": [
    "[![Binder](https://mybinder.org/badge_logo.svg)](https://mybinder.org/v2/gh/nikolaimatni/ese-2030/HEAD?labpath=/03_Orthogonality/053-orthogonal_matrices.ipynb)"
   ]
  }
 ],
 "metadata": {
  "kernelspec": {
   "display_name": "Python 3 (ipykernel)",
   "language": "python",
   "name": "python3"
  },
  "language_info": {
   "codemirror_mode": {
    "name": "ipython",
    "version": 3
   },
   "file_extension": ".py",
   "mimetype": "text/x-python",
   "name": "python",
   "nbconvert_exporter": "python",
   "pygments_lexer": "ipython3",
   "version": "3.12.3"
  }
 },
 "nbformat": 4,
 "nbformat_minor": 4
}
