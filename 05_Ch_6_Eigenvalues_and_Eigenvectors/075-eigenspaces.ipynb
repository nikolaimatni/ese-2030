{
 "cells": [
  {
   "cell_type": "markdown",
   "metadata": {},
   "source": [
    "---\n",
    "title: 6.5 Eigenspaces \n",
    "subject:  Eigenvalues\n",
    "subtitle: \n",
    "short_title: 6.5 Eigenspaces \n",
    "authors:\n",
    "  - name: Nikolai Matni\n",
    "    affiliations:\n",
    "      - Dept. of Electrical and Systems Engineering\n",
    "      - University of Pennsylvania\n",
    "    email: nmatni@seas.upenn.edu\n",
    "license: CC-BY-4.0\n",
    "keywords: Eigenvalues, Eigenvectors\n",
    "math:\n",
    "  '\\vv': '\\mathbf{#1}'\n",
    "  '\\bm': '\\begin{bmatrix}'\n",
    "  '\\em': '\\end{bmatrix}'\n",
    "  '\\R': '\\mathbb{R}'\n",
    "---"
   ]
  },
  {
   "cell_type": "markdown",
   "metadata": {},
   "source": [
    "[![Binder](https://mybinder.org/badge_logo.svg)](https://mybinder.org/v2/gh/nikolaimatni/ese-2030/HEAD?labpath-/05_Ch_6_Eigenvalues_and_Eigenvectors/075-eigenspaces.ipynb)\n",
    "\n",
    "{doc}`Lecture notes <../lecture_notes/Lecture 11 - Eigvenvalues and Eigenvectors part 1 (dynamical systems, determinants, basic definitions and computations).pdf>`"
   ]
  },
  {
   "cell_type": "markdown",
   "metadata": {},
   "source": [
    "## Reading\n",
    "\n",
    "Material related to this page, as well as additional exercises, can be found in ALA 8.1.\n",
    "\n",
    "## Learning Objectives\n",
    "\n",
    "By the end of this page, you should know:\n",
    "- how to define the eigenspace corresponding to an eigenvalue."
   ]
  },
  {
   "cell_type": "markdown",
   "metadata": {},
   "source": [
    "[![Binder](https://mybinder.org/badge_logo.svg)](https://mybinder.org/v2/gh/nikolaimatni/ese-2030/HEAD?labpath=/03_Orthogonality/053-orthogonal_matrices.ipynb)"
   ]
  },
  {
   "cell_type": "markdown",
   "metadata": {},
   "source": [
    "# Eigenspaces\n",
    "\n",
    "Before we introduce the notion of an *eigenspace*, let's first consider a motivating example:\n",
    "\n",
    ":::{prf:example} A characteristic equation with a double root\n",
    ":label: eigen-ex3\n",
    "\n",
    "Consider the matrix $A = \\bm 2&-1&-1\\\\0&3&1\\\\0&1&3 \\em$. To find its eigenvalues, we can solve:\n",
    "\n",
    "\\begin{align*}\n",
    "    \\det\\bm 2-\\lambda&-1&-1\\\\0&3-\\lambda&1\\\\0&1&3-\\lambda \\em = 0\n",
    "\\end{align*}\n",
    "\n",
    "Using [determinant Fact 4](#determinant-properties-defn), \n",
    "\n",
    "\\begin{align*}\n",
    "    \\det\\bm 2-\\lambda&-1&-1\\\\0&3-\\lambda&1\\\\0&1&3-\\lambda \\em &= \\det (2 - \\lambda) \\det  \\bm 3-\\lambda&1\\\\1&3-\\lambda \\em \\\\\n",
    "    &= (2 - \\lambda)(\\lambda - 4)(\\lambda - 2)\n",
    "\\end{align*}\n",
    "\n",
    "Most $3 \\times 3$ matrices have distinct eigenvalues, but this one only has two. The eigenvalue $\\lambda_1 = 2$ is a *double eigenvalue*, because it is a double root of the characteristic equation, while the eigenvalue $\\lambda_2 = 4$ is a *simple eigenvalue*. \n",
    "\n",
    "The eigenvector equation for $\\lambda_1 = 2$ is:\n",
    "    \n",
    "\\begin{align*}\n",
    "    &\\bm 2-\\lambda&-1&-1\\\\0&3-\\lambda&1\\\\0&1&3-\\lambda \\em - 2I = \\bm 0&-1&-1\\\\0&1&1\\\\0&1&1 \\em = 0\n",
    "\\end{align*}\n",
    "\n",
    "which has general solution given by $\\text{span}\\left\\{ \\bm 1\\\\0\\\\0 \\em, \\bm 0\\\\1\\\\-1 \\em \\right\\}$. This is the *eigenspace* corresponding to an eigenvalue of 2.\n",
    "\n",
    "Similarly, the general solution to the eigenvector equation for $\\lambda_2 = 4$ is $\\text{span}\\left\\{ \\bm -1\\\\1\\\\1 \\em \\right\\}$.  This is the eigenspace corresponding to an eigenvalue of 4.\n",
    "\n",
    "In summary, the eigenvalues and \"basis eigenvector\" pairs for this matrix are:\n",
    "\n",
    "\\begin{align*}\n",
    "    \\lambda_1 = 2,&\\quad \\vv{v_1} = \\bm 1\\\\0\\\\0 \\em, \\vv{\\hat{v_1}} = \\bm 0\\\\1\\\\-1 \\em\\\\\n",
    "    \\lambda_2 = 4,& \\quad \\vv{v_2} = \\bm -1\\\\1\\\\1 \\em.\n",
    "\\end{align*}\n",
    "\n",
    ":::\n",
    "\n",
    "In general, we can define the *eigenspace* of an eigenvalue $\\lambda$ as follows:\n",
    "\n",
    ":::{prf:definition} Eigenspace\n",
    ":label: eigenspace-defn\n",
    "\n",
    "For a square matrix $A$ with a real eigenvalue $\\lambda$, the corresponding eigenspace is given by:\n",
    "\n",
    "\\begin{align*}\n",
    "    V_\\lambda = \\text{Null}(A - \\lambda I).\n",
    "\\end{align*}\n",
    "\n",
    "Then, $\\vv v$ is an eigenvector corrsponding to $\\lambda$ if and only if $\\vv v \\in V_\\lambda$. In other words, the eigenspace for $\\lambda$ is the subspace of all of its eigenvectors.\n",
    "\n",
    "Typically, we describe eigenspaces in terms of their basis elements, as we did in the example above. \n",
    "\n",
    ":::\n",
    "\n",
    "This description also gives us a very important connection between zero eigenvalues and the invertibility of a matrix $A$:\n",
    "\n",
    ":::{prf:theorem} Zero eigenvalues and invertbility\n",
    ":label: eigenspace-defn\n",
    "\n",
    "$\\lambda = 0$ is an eigenvalue of $A$ if and only if $\\text{Null}(A) \\neq \\{\\vv 0\\}$, i.e., $A$ is singular.\n",
    ":::"
   ]
  }
 ],
 "metadata": {
  "kernelspec": {
   "display_name": "Python 3 (ipykernel)",
   "language": "python",
   "name": "python3"
  },
  "language_info": {
   "codemirror_mode": {
    "name": "ipython",
    "version": 3
   },
   "file_extension": ".py",
   "mimetype": "text/x-python",
   "name": "python",
   "nbconvert_exporter": "python",
   "pygments_lexer": "ipython3",
   "version": "3.12.4"
  }
 },
 "nbformat": 4,
 "nbformat_minor": 4
}
