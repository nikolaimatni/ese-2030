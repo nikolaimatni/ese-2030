{
 "cells": [
  {
   "cell_type": "markdown",
   "metadata": {},
   "source": [
    "---\n",
    "title: 6.1 Eigenvalues and Eigenvectors\n",
    "subject:  Eigenvalues\n",
    "subtitle: \n",
    "short_title: 6.1 Eigenvalues and Eigenvectors\n",
    "authors:\n",
    "  - name: Nikolai Matni\n",
    "    affiliations:\n",
    "      - Dept. of Electrical and Systems Engineering\n",
    "      - University of Pennsylvania\n",
    "    email: nmatni@seas.upenn.edu\n",
    "license: CC-BY-4.0\n",
    "keywords: Eigenvalues, Eigenvectors\n",
    "math:\n",
    "  '\\vv': '\\mathbf{#1}'\n",
    "  '\\bm': '\\begin{bmatrix}'\n",
    "  '\\em': '\\end{bmatrix}'\n",
    "  '\\R': '\\mathbb{R}'\n",
    "---"
   ]
  },
  {
   "cell_type": "markdown",
   "metadata": {},
   "source": [
    "[![Binder](https://mybinder.org/badge_logo.svg)](https://mybinder.org/v2/gh/nikolaimatni/ese-2030/HEAD?labpath-/05_Ch_6_Eigenvalues_and_Eigenvectors/071-eigenvalues_eigenvectors.ipynb)\n",
    "\n",
    "{doc}`Lecture notes <../lecture_notes/Lecture 11 - Eigvenvalues and Eigenvectors part 1 (dynamical systems, determinants, basic definitions and computations).pdf>`"
   ]
  },
  {
   "cell_type": "markdown",
   "metadata": {},
   "source": [
    "## Reading\n",
    "\n",
    "Material related to this page, as well as additional exercises, can be found in ALA 8.1.\n",
    "\n",
    "## Learning Objectives\n",
    "\n",
    "By the end of this page, you should know:\n",
    "- the definition of the eigenvalues and eigenvectors of a square matrix $A$,\n",
    "- how to find the eigenvectors corresponding to an eigenvalue."
   ]
  },
  {
   "cell_type": "markdown",
   "metadata": {},
   "source": [
    "# Eigenvalues and Eigenvectors\n",
    "\n",
    "In this chapter, we will discuss one of the most fundamental elements of linear algebra: the *eigenvalues and eigenvectors* of a square matrix $A$. Eigenvalues and eigenvectors are ubiquitous throughout linear algebra and calculus, and in later sections we'll discuss their applications to the analysis of linear dynamical systems (TODO add section).\n",
    "\n",
    ":::{prf:definition} Eigenvalues and Eigenvectors\n",
    ":label: eigen-defn\n",
    "\n",
    "For $A \\in \\mathbb{R}^{n\\times n}$, a scalar $\\lambda$ is called an *eigenvalue* of $A$ if there is a *nonzero* vector $\\vv v \\in \\mathbb{R}^n$, called an *eigenvector*, such that\n",
    "\n",
    "\\begin{align*}\\label{expr:EIG}\n",
    "    A\\vv v = \\lambda \\vv v.\\tag{EIG}\n",
    "\\end{align*}\n",
    ":::\n",
    "\n",
    "Geometrically, when $A$ acts on an eigenvector $\\vv v$, it does not change its orientation: it only stretches it by th evalue specified by the eigenvalue $\\lambda$.\n",
    "\n",
    "The question then becomes how do we find eigenvalues and eigenvectors for a given matrix $A$? \n",
    "\n",
    "## Finding the eigenvectors for a known eigenvalue\n",
    "\n",
    "We'll first consider an easier problem.\n",
    "\n",
    "Suppose we already know that $A$ has an eigenvalue $\\lambda$. Then, (EIG) is a linear system in $\\vv v$. Indeed, to find the eigenvectors corresponding to $\\lambda$, we just solve the homogenous linear system $(A - \\lambda I)\\vv v = \\vv 0$. We've already seen that the solution set is precisely the null space of $A - \\lambda i$, i.e., $(A - \\lambda I) = \\vv 0$ if and only if $\\vv v \\in \\text{Null}(A - \\lambda I)$. \n",
    "\n",
    "````{exercise}  Finding eigenvectors\n",
    ":label: eigen-ex1\n",
    "\n",
    "Given that $\\lambda = -3$ is an eigenvalue of $\\bm -1 & -1 & 1 \\\\ -4 & -1 & -2 \\\\ 0 & 0 & -3 \\em$, find its corresponding eigenvectors.\n",
    "\n",
    "```{solution} eigen-ex1\n",
    ":class: dropdown\n",
    "\n",
    "To find the corresponding eigenvectors, we solve the homogenous system:\n",
    "\n",
    "\\begin{align*}\n",
    "    \\bm -1 & -1 & 1 \\\\ -4 & -1 & -2 \\\\ 0 & 0 & -3 \\em - (-3)I = \\bm 2&-1&1\\\\-4&2&-2\\\\0&0&0 \\em = \\vv 0.\n",
    "\\end{align*}\n",
    "\n",
    "After forming the augmented matrix and putting it in row echelon form, we get the equivalent system:\n",
    "\n",
    "\\begin{align*}\n",
    "    \\left[\\begin{array}{ccc|c}\n",
    "        2&-1&1 &0\\\\\n",
    "        0&0&0 &0\\\\\n",
    "        0&0&0 &0\n",
    "    \\end{array}\\right]\n",
    "\\end{align*}\n",
    "\n",
    "which has solution set given by (and hence the eigenvectors corresponding to an eigenvalue of $-3$ are given by):\n",
    "\n",
    "\\begin{align*}\n",
    "    \\text{span}\\left\\{ \\bm 1/2\\\\1\\\\0\\em, \\bm -1/2\\\\0\\\\1 \\em \\right\\}.\n",
    "\\end{align*}\n",
    "\n",
    "```\n",
    "````\n",
    "\n",
    "#### Python Break!\n",
    "\n",
    "Below is a code snippet demonstrating how to solve for the eigenvectors of a known eigenvalue. We aren't introducing anything new, we are just applying the concepts we have covered in the previous few chapters!"
   ]
  },
  {
   "cell_type": "code",
   "execution_count": 8,
   "metadata": {},
   "outputs": [
    {
     "name": "stdout",
     "output_type": "stream",
     "text": [
      "Eigenvectors corresponding to lambda_1 = -3:\n",
      "[[ 0.57735027  0.        ]\n",
      " [ 0.57735027  0.70710678]\n",
      " [-0.57735027  0.70710678]]\n"
     ]
    }
   ],
   "source": [
    "import numpy as np \n",
    "from scipy import linalg\n",
    "\n",
    "A = np.array([\n",
    "    [-1, -1, 1],\n",
    "    [-4, -1, -2],\n",
    "    [0, 0, -3]\n",
    "])\n",
    "\n",
    "lambda_1 = -3        # we are given that -3 is an eigenvalue of A\n",
    "\n",
    "print('Eigenvectors corresponding to lambda_1 = -3:')\n",
    "print(linalg.null_space(A - (-3) * np.identity(3)))"
   ]
  },
  {
   "cell_type": "markdown",
   "metadata": {},
   "source": [
    "Here, the `null_space` function from the `scipy.linalg` library returns a matrix whose columns form an orthonormal basis of a given matrix $A$. To solve for the eigenvectors corresponding to $\\lambda_1 = -3$, use the `null_space` function to solve for the nullspace of $A - (-3)I$. \n",
    "\n",
    "## ... But how do we find the eigenvalues?\n",
    "\n",
    "The question, now, becomes how to find the eigenvalues of a matrix. A key observation is that the [definition of eigenvalue](#eigen-defn) require that the corresponding eigenvector be *nonzero*, and we know that this can only occur if $A - \\lambda I$ is singular! This discussion is summarized in the following theorem:\n",
    "\n",
    ":::{prf:theorem} A Characterization of the Eigenvalues of a Matrix\n",
    ":label: eigenvalue-thm\n",
    "\n",
    "A scalar $\\lambda$ is an eigenvalue of $A \\in\\mathbb{R}^{n\\times n}$ if and only if the matrix $A - \\lambda I$ is [singular](#singular-defn), i.e., $\\text{rank}(A - \\lambda I) < n$. The corresponding eigenvectors are the nonzero solutions to the eigenvalue equation $(A - \\lambda I) \\vv v = \\vv 0$.\n",
    ":::\n",
    "\n",
    "This theorem gives us a plan of attack: to find all $\\lambda$ for which $A - \\lambda I$ is singular! In the next few sections, we'll introduce the machinery needed to apply this method, known as the method of characteristic equations, for finding eigenvalues of small matrices.\n",
    "\n",
    "In general, this method is not applied for large matrices due to numerical issues. For larger matrices, an algorithm based on the QR decomposition is used; we'll cover this a few sections down the line."
   ]
  },
  {
   "cell_type": "markdown",
   "metadata": {},
   "source": [
    "[![Binder](https://mybinder.org/badge_logo.svg)](https://mybinder.org/v2/gh/nikolaimatni/ese-2030/HEAD?labpath=/03_Orthogonality/053-orthogonal_matrices.ipynb)"
   ]
  }
 ],
 "metadata": {
  "kernelspec": {
   "display_name": "Python 3 (ipykernel)",
   "language": "python",
   "name": "python3"
  },
  "language_info": {
   "codemirror_mode": {
    "name": "ipython",
    "version": 3
   },
   "file_extension": ".py",
   "mimetype": "text/x-python",
   "name": "python",
   "nbconvert_exporter": "python",
   "pygments_lexer": "ipython3",
   "version": "3.8.19"
  }
 },
 "nbformat": 4,
 "nbformat_minor": 4
}
