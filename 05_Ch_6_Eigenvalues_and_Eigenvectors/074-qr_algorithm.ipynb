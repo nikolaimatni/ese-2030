{
 "cells": [
  {
   "cell_type": "markdown",
   "metadata": {},
   "source": [
    "---\n",
    "title: 6.4 The QR Algorithm for Eigenvalues\n",
    "subject:  Eigenvalues\n",
    "subtitle: \n",
    "short_title: 6.4 The QR Algorithm for Eigenvalues\n",
    "authors:\n",
    "  - name: Nikolai Matni\n",
    "    affiliations:\n",
    "      - Dept. of Electrical and Systems Engineering\n",
    "      - University of Pennsylvania\n",
    "    email: nmatni@seas.upenn.edu\n",
    "license: CC-BY-4.0\n",
    "keywords: Eigenvalues, Eigenvectors\n",
    "math:\n",
    "  '\\vv': '\\mathbf{#1}'\n",
    "  '\\bm': '\\begin{bmatrix}'\n",
    "  '\\em': '\\end{bmatrix}'\n",
    "  '\\R': '\\mathbb{R}'\n",
    "---"
   ]
  },
  {
   "cell_type": "markdown",
   "metadata": {},
   "source": [
    "[![Binder](https://mybinder.org/badge_logo.svg)](https://mybinder.org/v2/gh/nikolaimatni/ese-2030/HEAD?labpath-/05_Ch_6_Eigenvalues_and_Eigenvectors/074-qr_algorithm.ipynb)\n",
    "\n",
    "{doc}`Lecture notes <../lecture_notes/Lecture 11 - Eigvenvalues and Eigenvectors part 1 (dynamical systems, determinants, basic definitions and computations).pdf>`"
   ]
  },
  {
   "cell_type": "markdown",
   "metadata": {},
   "source": [
    "## Reading\n",
    "\n",
    "Material related to this page, as well as additional exercises, can be found in ALA 8.1.\n",
    "\n",
    "## Learning Objectives\n",
    "\n",
    "By the end of this page, you should know:\n",
    "- the definition of similar matrices,\n",
    "- the definition of the Schur decomposition of a matrix,\n",
    "- how to use the QR algorithm to find the eigenvalues of a matrix."
   ]
  },
  {
   "cell_type": "markdown",
   "metadata": {},
   "source": [
    "## Motivations\n",
    "\n",
    "Before we introduce the QR algorithm, we introduce a few motivating definitions.\n",
    "\n",
    "### Similar Matrices\n",
    "\n",
    "First, we introduce the notion of *similar matrices*:\n",
    "\n",
    ":::{prf:definition} Similar matrices\n",
    ":label: similar-matrices-defn\n",
    "\n",
    "We say matrices $n\\times n$ matrices $A$ and $B$ are similar if $B = P^{-1}AP$ for some invertible matrix $P$.\n",
    ":::\n",
    "\n",
    "A key property of similar matrices is that they have the same eigenvalues:\n",
    "\n",
    ":::{prf:theorem} Eigenvalues of similar matrices\n",
    ":label: similar-matrices-thm\n",
    "\n",
    "Suppose $A$ and $B$ are similar. Then, $\\lambda$ is an eigenvalue of $A$ if and only if $\\lambda$ is an eigenvalue of $B$.\n",
    ":::\n",
    "\n",
    "To see why this is true, suppose that $\\lambda$ is an eigenvalue of $B$, i.e., $B\\vv v = \\lambda \\vv v$ for some nonzero $\\vv v$. Then, \n",
    "\n",
    "\\begin{align*}\n",
    "    B \\vv v = \\lambda \\vv v &\\implies (P^{-1}AP) \\vv v = \\lambda \\vv v\\\\\n",
    "    &\\implies A(P \\vv v) = P (\\lambda \\vv v) = \\lambda (P\\vv v)\n",
    "\\end{align*}\n",
    "\n",
    "meaning that $P\\vv v$ is an eigenvector of $A$, with the same eigenvalue of $\\lambda$. \n",
    "\n",
    "This motivates the following method: if we want to find the eigenvalues of $B$, we could try to write it in the form $A = P^{-1}BP$, where $B$ is a matrix for which it is easy to find the eigenvalues! This is exactly the motivation for the QR algorithm, which is an iterative algorithm for finding the *Schur decomposition* of $A$.\n",
    "\n",
    "We will revisit similar matrices in more detail a few sections down the line.\n",
    "\n",
    "### The (Real) Schur Decomposition\n",
    "\n",
    "Next, we define the Schur decomposition. The proof of this claim relies on material covered later in the course, so we won't prove it here.\n",
    "\n",
    ":::{prf:theorem} The real Schur decomposition\n",
    ":label: real-schur-decomposition-thm\n",
    "\n",
    "Every real square matrix $A$ can be written in the form:\n",
    "\n",
    "\\begin{align*}\n",
    "    A = Q^\\top U Q.\n",
    "\\end{align*}\n",
    "\n",
    "where $Q$ is a real orthogonal matrix and $U$ is a real quasi-upper triangular matrix. This is known as a *real Schur decomposition* of $A$, and in general is not unique.\n",
    "\n",
    "A quasi-upper triangular matrix is a special type of block upper triangular matrix, in which the diagonal blocks are all $1\\times 1$ or $2\\times 2$.\n",
    ":::\n",
    "\n",
    "Note that, given a real Schur decomposition $A = Q^\\top U Q$, it's easy to find the eigenvalues of $A$; we just find the eigenvalues of each diagonal block! To see why, recall [Determinant Fact 4](#determinant-properties-defn). Since $U$ is quasi-upper triangular, its diagonal blocks are all $1\\times 1$ or $2\\times 2$ matrices, which have easy to solve characteristic equations, so it's easy to find their eigenvalues.\n",
    "\n",
    "## The QR Algorithm\n",
    "\n",
    "Equipped with these facts, the motivation behind the QR algorithm is as follows. \n",
    "\n",
    "* First, we find an *approximation* to a Schur decomposition $A = Q^\\top U Q$ (where $Q$ is orthogonal, $U$ is quasi-upper triangular).\n",
    "\n",
    "* The eigenvalues of $A$ are thus the diagonal entries of $U$.\n",
    "\n",
    "### Approximating a Real Schur Decomposition\n",
    "\n",
    "The question thus becomes, how do we find an approximate Schur decomposition for $A$? One idea is repeatedly apply the QR decomposition to iteratively find similar matrices to $A$. In the case that all eigenvalues are distinct, this actually converges to the Schur decomposition.\n",
    "\n",
    "1. Initialize:\n",
    "   $$A_1 = A$$\n",
    "\n",
    "2. For $t = 1, 2, \\dots$, perform the following steps:\n",
    "\n",
    "   a. Compute the QR-factorization of $A_t$:\n",
    "      $$Q_t R_t = A_t$$\n",
    "      where $Q_t$ is orthogonal and $R_t$ is upper triangular.\n",
    "\n",
    "   b. Define $A_{t+1}$ by reversing the factors:\n",
    "      $$A_{t+1} = R_t Q_t = (Q_t^\\top A_t) Q_t$$\n",
    "\n",
    "The mechanism of why this algorithm works can be described by two phenomena. First, each subsequent $A_{t+1}$ is similar to the previous $A_t$ so we know that eigenvalues are preserved over each iteration. Second, in each interation the elements below the diagonal get smaller and vice versa for those above (showing why this property holds is beyond the scope of this course). This means that over many iterations the elements below the diagonal effectively become 0, making $A_\\infty$ a upper-triangular matrix.\n",
    "\n",
    "## Pseudocode for the QR Algorithm\n",
    "\n",
    "We are now ready to give the pseudocode for the QR Algorithm.\n",
    "\n",
    ":::{prf:algorithm} The QR Algorithm for Eigenvalues\n",
    ":label: qr-eigen-alg\n",
    "\n",
    "**Inputs** $n\\times n$ matrix $A$ with distinct absolute value eigenvalues $\\lambda_1, \\dots, \\lambda_n$; number of iterations $T$\n",
    "\n",
    "**Output** approximate values of to $\\lambda_1, \\dots, \\lambda_n$\n",
    "\n",
    "$A_1 \\gets A$\\\n",
    "**for** $t = 1$ to $T$:\\\n",
    "$\\quad$ $Q_t, R_t \\gets $ QR factorization of $A_t$\\\n",
    "$\\quad$ $A_{t + 1} \\gets R_t Q_t$ \\\n",
    "**return** the eigenvalues of $A_{T + 1}$\n",
    ":::\n",
    "\n",
    "## Python Implementations of the QR Algorithm\n",
    "\n",
    "We are now ready to use the QR Algorithm to find eigenvalues in Python. \n",
    "\n",
    "### From Scratch\n",
    "\n",
    "First, we'll give an implementation of the Schur decomposition from scratch. We won't reimplement a QR factorization algorithm, so if you're interested in seeing the implementation for that, it can be found [on this page (scroll down)](#qr-alg)."
   ]
  },
  {
   "cell_type": "code",
   "execution_count": 2,
   "metadata": {},
   "outputs": [
    {
     "name": "stdout",
     "output_type": "stream",
     "text": [
      "[[21.36 -6.11  9.82  4.82 -2.86]\n",
      " [ 0.   -2.14  8.72  3.1  -6.6 ]\n",
      " [-0.   -5.12 -1.82  1.99 -0.84]\n",
      " [ 0.   -0.    0.    4.34 -0.32]\n",
      " [ 0.   -0.    0.    0.    1.26]]\n"
     ]
    }
   ],
   "source": [
    "import numpy as np\n",
    "\n",
    "def schur_form(A, iters=100): # A is a square matrix\n",
    "    B = A\n",
    "    for i in range(iters):\n",
    "        Q, R = np.linalg.qr(B)\n",
    "        B = R @ Q\n",
    "    return B\n",
    "\n",
    "print(np.round(schur_form(np.array([\n",
    "    [2.0, 3.0, 1.0, 0.5, 4.0],\n",
    "    [4.0, 5.0, 7.0, 0.1, 1.0],\n",
    "    [5.0, 3.0, 6.0, 19.2, 9.0],\n",
    "    [1.0, 4.0, 1.0, 4.0, 7.0],\n",
    "    [3.0, 1.0, 6.0, 2.0, 6.0]\n",
    "])), 2))"
   ]
  },
  {
   "cell_type": "markdown",
   "metadata": {},
   "source": [
    "### Using `numpy.linalg.eigvals`\n",
    "\n",
    "Next, we'll use the `numpy.linalg.eigvals` function, which returns the eigenvalues of a square matrix. Under the hood, `numpy.linalg.eigvals` is based off of a more advanced version of the basic QR algorithm we outlined above. "
   ]
  },
  {
   "cell_type": "code",
   "execution_count": 1,
   "metadata": {},
   "outputs": [
    {
     "name": "stdout",
     "output_type": "stream",
     "text": [
      "[21.36+0.j   -1.98+6.68j -1.98-6.68j  1.26+0.j    4.34+0.j  ]\n"
     ]
    }
   ],
   "source": [
    "import numpy as np\n",
    "\n",
    "print(np.round(np.linalg.eigvals(np.array([\n",
    "    [2.0, 3.0, 1.0, 0.5, 4.0],\n",
    "    [4.0, 5.0, 7.0, 0.1, 1.0],\n",
    "    [5.0, 3.0, 6.0, 19.2, 9.0],\n",
    "    [1.0, 4.0, 1.0, 4.0, 7.0],\n",
    "    [3.0, 1.0, 6.0, 2.0, 6.0]\n",
    "])).T, 2))"
   ]
  },
  {
   "cell_type": "markdown",
   "metadata": {},
   "source": [
    "Verify for yourself that the real eigenvalues returned by `numpy.linalg.eigvals` are the diagonal $1\\times 1$ blocks of the Schur form of the input matrix, which we found above. You can also verify that the complex eigenvalues returned by `numpy.linalg.eigvals` are the eigenvalues of the $2\\times 2$ block diagonal."
   ]
  },
  {
   "cell_type": "markdown",
   "metadata": {},
   "source": [
    "[![Binder](https://mybinder.org/badge_logo.svg)](https://mybinder.org/v2/gh/nikolaimatni/ese-2030/HEAD?labpath-/05_Ch_6_Eigenvalues_and_Eigenvectors/074-qr_algorithm.ipynb)"
   ]
  },
  {
   "cell_type": "code",
   "execution_count": null,
   "metadata": {},
   "outputs": [],
   "source": []
  }
 ],
 "metadata": {
  "kernelspec": {
   "display_name": "Python 3 (ipykernel)",
   "language": "python",
   "name": "python3"
  },
  "language_info": {
   "codemirror_mode": {
    "name": "ipython",
    "version": 3
   },
   "file_extension": ".py",
   "mimetype": "text/x-python",
   "name": "python",
   "nbconvert_exporter": "python",
   "pygments_lexer": "ipython3",
   "version": "3.8.19"
  }
 },
 "nbformat": 4,
 "nbformat_minor": 4
}
