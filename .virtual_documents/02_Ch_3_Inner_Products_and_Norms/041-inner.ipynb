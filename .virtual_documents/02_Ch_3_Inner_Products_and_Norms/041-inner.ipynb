




















# Dot product

import numpy as np

v1 = np.array([1, 2, 3])
v2 = np.array([4, 5, 6])
dot_prod = np.dot(v1, v2)
print("Dot product <v1, v2> is: ", dot_prod)











# Inner product

import numpy as np

v1_c = v1.reshape((-1,1)) # Notice the shape of the vectors
v2_c = v2.reshape((-1,1))
print("The vectors are v1: \n", v1_c, "\n and v2: \n", v2_c)
inner_prod = np.inner(v1_c, v2_c) # What happens if you use np.dot?  
print("Inner product <v1, v2> is: \n", inner_prod)

# weighted inner product

weights = np.array([2, 5, 3])
inner_weighted = np.inner(v1, weights*v2)
print("Weighted inner product <v1, v2> is: \n", inner_weighted)


# Norms

print("Norm of v1: ", np.linalg.norm(v1))
print("Induced norm of v1: ", np.sqrt(np.dot(v1, v1)))






