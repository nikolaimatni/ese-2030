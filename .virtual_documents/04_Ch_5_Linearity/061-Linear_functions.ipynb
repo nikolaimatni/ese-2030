




















import numpy as np
import matplotlib.pyplot as plt

def plot_vecs(origin, v1, v2):
    fig, ax = plt.subplots()
    ax.quiver(*origin, *v1, angles='xy', scale_units='xy', scale=1, color='r', label='Original')
    ax.quiver(*origin, *v2, angles='xy', scale_units='xy', scale=1, color='b', label='Rotated')
    ax.set_xlim(-3, 3)
    ax.set_ylim(-3, 3)
    plt.legend()
    plt.grid()
    ax.set_xlabel('X-axis')
    ax.set_ylabel('Y-axis')
    plt.show()

def rot_mat_cons(theta):
    return np.array([[np.cos(theta), -np.sin(theta)], [np.sin(theta), np.cos(theta)]])
    
theta = np.pi/6 # change this and observe how much the vector is rotated
rot_mat = rot_mat_cons(theta)

v1 = np.array([[1, 2]]).T
v2 = rot_mat @ v1

# Define the origin
origin = np.array([[0, 0]]).T

plot_vecs(origin, v1, v2)








theta1 = np.pi/6
theta2 = np.pi/2

rot1 = rot_mat_cons(theta1)
rot2 = rot_mat_cons(theta2)

v1 = np.array([[3, 0]]).T
v2 = rot1 @ rot2 @ v1 # composition of rotations

plot_vecs(origin, v1, v2)

## A reverse rotation

theta3 = -np.pi/2

rot3 = rot_mat_cons(theta3)

v3 = rot3 @ rot1 @ rot2 @ v1 # How can you get to v3 from v2?

plot_vecs(origin, v1, v3)









