




















import pybullet as p
import pybullet_data
import time

# Connect to PyBullet
physicsClient = p.connect(p.GUI)

# Set the search path to find the URDF files
p.setAdditionalSearchPath(pybullet_data.getDataPath())

# Load plane and mobile base
planeId = p.loadURDF("plane.urdf")
baseId = p.loadURDF("r2d2.urdf", basePosition=[0, 0, 0], useFixedBase=False)

# Load robotic arm and position it on top of the mobile base
robotId = p.loadURDF("kuka_iiwa/model.urdf", basePosition=[-0.1, 0, 0.4], useFixedBase=True)

# Set gravity
p.setGravity(0, 0, -9.8)

# Create sliders for camera control
camera_x = p.addUserDebugParameter("camera_x", -10, 10, 0)
camera_y = p.addUserDebugParameter("camera_y", -10, 10, 0)
camera_z = p.addUserDebugParameter("camera_z", -10, 10, 1)
camera_yaw = p.addUserDebugParameter("camera_yaw", -180, 180, 0)
camera_pitch = p.addUserDebugParameter("camera_pitch", -90, 90, -30)

# Create sliders for mobile base control
base_x = p.addUserDebugParameter("base_x", -10, 10, 0)
base_y = p.addUserDebugParameter("base_y", -10, 10, 0)
base_yaw = p.addUserDebugParameter("base_yaw", -180, 180, 0)

# Create sliders for robotic arm joints
joint_positions = []
num_joints = p.getNumJoints(robotId)
for i in range(num_joints):
    info = p.getJointInfo(robotId, i)
    joint_positions.append(p.addUserDebugParameter(f'Joint {info[1].decode("utf-8")}', -3.14, 3.14, 0))

# Main loop
while True:
    # Read camera parameters
    cam_x = p.readUserDebugParameter(camera_x)
    cam_y = p.readUserDebugParameter(camera_y)
    cam_z = p.readUserDebugParameter(camera_z)
    cam_yaw = p.readUserDebugParameter(camera_yaw)
    cam_pitch = p.readUserDebugParameter(camera_pitch)
    
    # Set the camera position and orientation
    p.resetDebugVisualizerCamera(cameraDistance=2, cameraYaw=cam_yaw, cameraPitch=cam_pitch, cameraTargetPosition=[cam_x, cam_y, cam_z])
    
    # Read base parameters
    base_x_pos = p.readUserDebugParameter(base_x)
    base_y_pos = p.readUserDebugParameter(base_y)
    base_yaw_angle = p.readUserDebugParameter(base_yaw)
    
    # Set the base position and orientation
    p.resetBasePositionAndOrientation(baseId, [base_x_pos, base_y_pos, 0], p.getQuaternionFromEuler([0, 0, base_yaw_angle]))
    
    # Get base orientation and position
    base_position, base_orientation = p.getBasePositionAndOrientation(baseId)
    
    # Compute the new position for the robot arm
    new_robot_position = [base_position[0]-0.1, base_position[1], base_position[2] + 0.4]
    
    # Set the new position and orientation for the robot arm
    p.resetBasePositionAndOrientation(robotId, new_robot_position, base_orientation)

    # Read and set robotic arm joint positions
    for i in range(num_joints):
        joint_position = p.readUserDebugParameter(joint_positions[i])
        p.setJointMotorControl2(bodyUniqueId=robotId, jointIndex=i, controlMode=p.POSITION_CONTROL, targetPosition=joint_position)
    
    # Step the simulation
    p.stepSimulation()
    
    # Sleep for a while to slow down the simulation
    time.sleep(0.01)

# Disconnect from PyBullet
p.disconnect()









