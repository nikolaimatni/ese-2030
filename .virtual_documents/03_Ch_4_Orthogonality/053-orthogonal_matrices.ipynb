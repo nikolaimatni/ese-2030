

















import numpy as np

def qr_factorization(A):                       
    if (A.shape[0] != A.shape[1]):
        print('A is not square')
        return None, None

    n = A.shape[0]                              
    Q = A.copy()                       
    R = np.zeros((n, n))

    for j in range(n):
        R[j, j] = np.linalg.norm(Q[:, j])       
        if R[j, j] < 1e-8:
            print('A has linearly dependent columns')
            return None, None
        else:
            for i in range(n):
                Q[i, j] = Q[i, j] / R[j, j]
        for k in range(j + 1, n):
            R[j, k] = np.dot(Q[:, j], Q[:, k])
            for i in range(n):
                Q[i, k] = Q[i, k] - Q[i, j] * R[j, k]

    return Q, R

print('Test case with invertible matrix:')

A = np.array([[2.0, 1.0, 3.0], [-1.0, 0.0, 1.0], [0.0, 2.0, -1.0]])
print('A:')
print(A)
print('Q:')

Q, R = qr_factorization(A)
print(Q)
print('R:')
print(R)
print('QR:')
print(np.round(Q @ R, 2))
print('(Q^T)Q:')
print(np.round(Q.T @ Q, 2))

print('\nTest case with noninvertible matrix:')

A = np.array([[2.0, 1.0, 3.0], [-1.0, 0.0, 1.0], [1.0, 1.0, 4.0]])
print('A:')
print(A)

Q, R = qr_factorization(A)
print('Q:')
print(Q)
print('R:')
print(R)












