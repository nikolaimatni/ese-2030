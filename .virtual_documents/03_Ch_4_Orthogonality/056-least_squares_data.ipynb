





























import pandas as pd
import numpy as np
import matplotlib.pyplot as plt

# Data source: https://www.ncei.noaa.gov/cdo-web/search
# Read CSV file into pandas DataFrame
df = pd.read_csv('LGA_temp.csv') # Temperature at LGA airport for 2010 (12 months)
temp = df['HLY-TEMP-NORMAL'].to_numpy()

memory = 8
T = temp.size
N = T - memory

# Function to create the dataset for AR model
def create_data(data, M):
    X, y = [], []
    for i in range(M, len(data)):
        X.append(data[i-M:i])
        y.append(data[i])
    return np.array(X), np.array(y)

# Create lagged dataset
X_data, y_data = create_data(temp, memory)

theta, residual, rank, sing_val = np.linalg.lstsq(X_data, y_data, rcond=None)
y_pred = X_data @ theta

print("RMS error: ", np.sqrt(residual/N))
# Plot predictions
plot_hours = 24*3 # first 3 days of 2010
plt.figure(figsize=(10, 5))
plt.scatter(np.arange(plot_hours), y_data[:plot_hours], color='green', label='Original Data')
plt.plot(y_pred[:plot_hours], label='Predictions')
plt.xlabel('Time (hours)')
plt.ylabel('Temprature (Fahrenheit)')
plt.title('Autoregressive Modeling')
plt.legend()
plt.show()








import numpy as np
import matplotlib.pyplot as plt
from numpy.polynomial.polynomial import Polynomial

# Generate synthetic data
np.random.seed(334)
x = np.linspace(-2, 2, 100)
y = -0.5*x**13 + x**10 + 2*x**9 - x**7  + 0.3*x**6 - 3*x**4 + 2 * x**3 - 5 * x**2 + 3 * x + np.random.normal(0, 10, size=x.shape)*7
y_data = ((y - min(y))/(max(y) - min(y)))*10 - 5 # scaling to [-5, 5]
# Function to fit and plot polynomials of varying degrees
def fit_and_plot_polynomial(x, y, degrees):

    
    for degree in degrees:
        # Fit polynomial of given degree
        p, results = Polynomial.fit(x, y, degree, full=True) # results[0] is residuals
        y_fit = p(x)

        print(f'RMS for Degree {degree}: ', np.sqrt(results[0]/y.size))
        plt.figure(figsize=(12, 8))
        plt.scatter(x, y, label='Data', color='black')
        # Plot the polynomial fit
        plt.plot(x, y_fit)
    
        plt.xlabel('x')
        plt.ylabel('y')
        plt.title(f'Least Squares Data Fitting with Polynomial Degree {degree}')
        plt.legend()
        plt.show()

# Degrees of polynomials to fit
degrees = [2, 4, 8, 10]

# Fit and plot polynomials
fit_and_plot_polynomial(x, y_data, degrees)



