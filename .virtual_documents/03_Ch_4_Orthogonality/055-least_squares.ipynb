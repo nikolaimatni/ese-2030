























# Least squares

import numpy as np

def least_squares_linalg(A, b):

    print("\nA: \n", A, "\nb: ", b)

    print("\nlstsq function\n")
    
    x, residual, rank, sing_val = np.linalg.lstsq(A, b, rcond=None)
    # residual = 0 if rank of A < size of x (or) number of rows of A <= size of x 
    print("Solution (x): \n", x, "\nResidual: ", residual)

def least_squares(A, b):
    print("\nsolving a linear system\n")

    x = np.linalg.solve(A.T @ A, A.T @ b)
    
    residual = np.linalg.norm(A@x- b)**2
    
    print("Solution (x): \n", x, "\nResidual: ", residual)

A = np.array([[1, -2],
              [5, 3]])
b = np.array([8, 1])

least_squares_linalg(A, b)
least_squares(A, b)

A1 = np.array([[1, 1, 0, 0],
              [1, 1, 0, 0],
              [1, 0, 1 , 0],
              [1, 0, 1, 0],
              [1, 0, 0, 1],
              [1, 0, 0, 1]])
b1 = np.array([-3, -1, 0, 2, 5, 1])

# Notice the difference in both the solutions
least_squares_linalg(A1, b1)
least_squares(A1, b1)

A2 = np.array([[4, 0], [0, 2],[1, 1]])
b2 = np.array([2, 0, 11])

least_squares_linalg(A2, b2)
least_squares(A2, b2)






