














# Normalizing

import numpy as np

b = np.array([[1, 0, 5],
              [2, 1, -2],
              [-1, 2, 1]])
print("The basis represented as a matrix: \n", b)

b_norm = np.linalg.norm(b, axis=0) # notice across what axis we are computing the norm
b_normalized = b / b_norm # Dividing a matrix by a vector!!!

print("Normalized basis: \n", b_normalized)

print("Norm of each basis vector: \n", np.linalg.norm(b_normalized, axis=0))















