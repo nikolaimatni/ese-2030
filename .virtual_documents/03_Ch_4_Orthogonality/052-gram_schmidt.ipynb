

















# The Gram Schmidt process

import numpy as np

x1 = np.array([-2, 1, 0, 0])
x2 = np.array([1, 0, 1, 0])
x3 = np.array([3, 0, 0, 1])

x = [x1, x2, x3] # basis that is not orthogonal
v = [x1] # initialize the basis that is orthogonal
u = [x1/np.linalg.norm(x1)] # initialize the basis that is orthogonal

for i in range(1, len(x)):
    v_i = x[i]
    for j in range(i):
        v_i = v_i - (np.dot(x[i], v[j])/np.dot(v[j], v[j]))*v[j]
    v.append(v_i)
    u.append(v_i/np.linalg.norm(v_i))

print("Orthogonal basis (not orthonormal): \n", v)
print("Orthonormal basis: \n", u)



