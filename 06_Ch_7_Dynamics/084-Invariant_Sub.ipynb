{
 "cells": [
  {
   "cell_type": "markdown",
   "metadata": {},
   "source": [
    "---\n",
    "title: 7.4 Invariant Subspaces\n",
    "subject: Dynamics\n",
    "subtitle: \n",
    "short_title: 7.4 Invariant Subspaces\n",
    "authors:\n",
    "  - name: Nikolai Matni\n",
    "    affiliations:\n",
    "      - Dept. of Electrical and Systems Engineering\n",
    "      - University of Pennsylvania\n",
    "    email: nmatni@seas.upenn.edu\n",
    "license: CC-BY-4.0\n",
    "keywords: linear systems, \n",
    "math:\n",
    "  '\\vv': '\\mathbf{#1}'\n",
    "  '\\bm': '\\begin{bmatrix}'\n",
    "  '\\em': '\\end{bmatrix}'\n",
    "  '\\R': '\\mathbb{R}'\n",
    "---"
   ]
  },
  {
   "cell_type": "markdown",
   "metadata": {},
   "source": [
    "[![Binder](https://mybinder.org/badge_logo.svg)](https://mybinder.org/v2/gh/nikolaimatni/ese-2030/HEAD?labpath=/06_Ch_7_Dynamics/084-Invariant_Sub.ipynb)\n",
    "\n",
    "{doc}`Lecture notes <../lecture_notes/Lecture 14 - Invariant Subspaces, Inhomogeneous Systems, and Applications to Mechanical Systems.pdf>`"
   ]
  },
  {
   "cell_type": "markdown",
   "metadata": {},
   "source": [
    "## Reading\n",
    "\n",
    "Material related to this page, as well as additional exercises, can be found in ALA .\n",
    "\n",
    "## Learning Objectives\n",
    "\n",
    "By the end of this page, you should know:\n",
    "- the matrix exponential expressed as a power series\n",
    "- "
   ]
  },
  {
   "cell_type": "markdown",
   "metadata": {},
   "source": [
    "\\textbf{Invariant Subspaces (MLA 8.4)}\n",
    "\n",
    "Invariant subspaces of linear maps play a key role in dynamical systems, linear iterative systems (like Markov chains, which we'll see next lecture), and control systems. Perhaps not surprisingly, the theory of invariant subspaces is built on eigenvalues and eigenvectors.\n",
    "\n",
    "We start by defining an invariant subspace with respect to a linear transformation. Let $L:V\\to V$ be a linear transformation on a vector space V. A subspace $W\\subset V$ is said to be invariant if $L(w)\\in W$ for any $w\\in W$.\n",
    "\n",
    "Intuitively, an invariant subspace $W\\subset V$ is like Vegas: what happens in W stays in W. Let's see some simple examples before developing a more general theory.\n",
    "\n",
    "\\textbf{Examples:}\n",
    "First some not so interesting examples:\n",
    "\\begin{itemize}\n",
    "    \\item The zero subspace and entire space, or $\\{0\\}$ and V, are invariant under any linear map L.\n",
    "    \\item For $L=I$ the identity map, any subspace $W\\subset V$ is invariant.\n",
    "    \\item Both the kernel and image of L are invariant subspaces:\n",
    "        \\begin{itemize}\n",
    "            \\item If $w\\in \\ker L$ then $L(w)=0\\in \\ker L$\n",
    "            \\item If $w\\in \\text{img } L$ then $L(w)\\in \\text{img }L$ (by definition of img L)\n",
    "        \\end{itemize}\n",
    "\\end{itemize}\n",
    "\n",
    "\\textbf{Example:} Let $V=\\mathbb{R}^2$ and $L(x,y)=\\begin{bmatrix} 2x \\\\ 3y \\end{bmatrix}$. What are the invariant subspaces of V under L? Besides $W=\\mathbb{R}^2$ and $W=\\{0\\}$, the only other type of subspace in $\\mathbb{R}^2$ is a line. If W is the line spanned by the vector $w=(a,b)\\neq 0$, then $L(w)=(2a,3b)\\in W$ if and only if there exists $c\\in\\mathbb{R}$ s.t. $(2a,3b)=c(a,b)$, which is only possible if either $a=0$ or $b=0$. Thus the only invariant subspaces of L are either the x-axis or the y-axis.\n",
    "\n",
    "\\textbf{Example:} Let $V=\\mathbb{R}^2$ and $L(x,y)=(x+3y,y)$. Let's see what lines W, spanned by $w=(a,b)\\neq 0$, are invariant under L by solving for $c\\in\\mathbb{R}$ s.t.\n",
    "\n",
    "$L(w)=\\begin{bmatrix} a+3b \\\\ b \\end{bmatrix} = c\\begin{bmatrix} a \\\\ b \\end{bmatrix}$\n",
    "\n",
    "which is only possible if $b=0$, i.e., the x-axis is the only invariant 1d subspace.\n",
    "\n",
    "\\textbf{Example:} Let $V=\\mathbb{R}^2$ and $L(x,y)=(-y,x)$, a counterclockwise rotation by $90^\\circ$. You should be able to convince yourself geometrically that no 1d subspace can be invariant under such a transformation."
   ]
  },
  {
   "cell_type": "markdown",
   "metadata": {},
   "source": [
    "[![Binder](https://mybinder.org/badge_logo.svg)](https://mybinder.org/v2/gh/nikolaimatni/ese-2030/HEAD?labpath=/06_Ch_7_Dynamics/084-Invariant_Sub.ipynb)"
   ]
  },
  {
   "cell_type": "code",
   "execution_count": null,
   "metadata": {},
   "outputs": [],
   "source": []
  }
 ],
 "metadata": {
  "kernelspec": {
   "display_name": "Python 3 (ipykernel)",
   "language": "python",
   "name": "python3"
  },
  "language_info": {
   "codemirror_mode": {
    "name": "ipython",
    "version": 3
   },
   "file_extension": ".py",
   "mimetype": "text/x-python",
   "name": "python",
   "nbconvert_exporter": "python",
   "pygments_lexer": "ipython3",
   "version": "3.8.19"
  }
 },
 "nbformat": 4,
 "nbformat_minor": 4
}
