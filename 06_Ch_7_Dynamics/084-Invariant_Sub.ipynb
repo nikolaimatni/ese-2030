{
 "cells": [
  {
   "cell_type": "markdown",
   "metadata": {},
   "source": [
    "---\n",
    "title: 7.4 Invariant Subspaces\n",
    "subject: Dynamics\n",
    "subtitle: staying inside a region\n",
    "short_title: 7.4 Invariant Subspaces\n",
    "authors:\n",
    "  - name: Nikolai Matni\n",
    "    affiliations:\n",
    "      - Dept. of Electrical and Systems Engineering\n",
    "      - University of Pennsylvania\n",
    "    email: nmatni@seas.upenn.edu\n",
    "license: CC-BY-4.0\n",
    "keywords: \n",
    "math:\n",
    "  '\\vv': '\\mathbf{#1}'\n",
    "  '\\bm': '\\begin{bmatrix}'\n",
    "  '\\em': '\\end{bmatrix}'\n",
    "  '\\R': '\\mathbb{R}'\n",
    "---"
   ]
  },
  {
   "cell_type": "markdown",
   "metadata": {},
   "source": [
    "[![Binder](https://mybinder.org/badge_logo.svg)](https://mybinder.org/v2/gh/nikolaimatni/ese-2030/HEAD?labpath=/06_Ch_7_Dynamics/084-Invariant_Sub.ipynb)\n",
    "\n",
    "{doc}`Lecture notes <../lecture_notes/Lecture 14 - Invariant Subspaces, Inhomogeneous Systems, and Applications to Mechanical Systems.pdf>`"
   ]
  },
  {
   "cell_type": "markdown",
   "metadata": {},
   "source": [
    "## Reading\n",
    "\n",
    "Material related to this page, as well as additional exercises, can be found in ALA 8.4 and 10.4.\n",
    "\n",
    "## Learning Objectives\n",
    "\n",
    "By the end of this page, you should know:\n",
    "- the definition and some examples of invariant subspaces\n",
    "- the invariant subspaces spanned by the eigenvectors of the matrix\n",
    "- the different invariant subspaces of a complete matrix and how they relate to the behavior of linear dynamical systems"
   ]
  },
  {
   "cell_type": "markdown",
   "metadata": {},
   "source": [
    "## Definition and Examples\n",
    "\n",
    "Invariant subspaces of linear maps play a key role in dynamical systems, linear iterative systems (like Markov chains, which we'll see next lecture), and control systems. Perhaps not surprisingly, the theory of invariant subspaces is built on eigenvalues and eigenvectors.\n",
    "\n",
    "We start by defining an _invariant subspace with respect to a linear transformation_. \n",
    "\n",
    ":::{prf:definition} Invariant Subspace\n",
    ":label: inv_sub_defn\n",
    "Let $L:V\\to V$ be a **linear transformation** on a vector space $V$. A subspace $W\\subset V$ is said to be _invariant_ if $L(\\vv w)\\in W$ for any $\\vv w\\in W$.\n",
    ":::\n",
    "\n",
    "Intuitively, an invariant subspace $W\\subset V$ is like Vegas: what happens in $W$ stays in $W$! Let's see some simple examples before developing a more general theory.\n",
    "\n",
    ":::{prf:example}\n",
    ":label: simple_eg\n",
    "First some not so interesting examples:\n",
    "1. If $W = V$ is the entire space, or $W = \\{\\vv 0\\}$, then it is invariant under any linear map $L$.    \n",
    "2. For $L=I$ the identity map, any subspace $W\\subset V$ is invariant.\n",
    "3. Both the [kernel](../01_Ch_2_Vector_Spaces_and_Bases/035-kernel_image.ipynb#null_defn) and [image](../01_Ch_2_Vector_Spaces_and_Bases/035-kernel_image.ipynb#col_space_defn) of $L$ are invariant subspaces:\n",
    "   - If $\\vv w\\in \\text{ker } L$ then $L(\\vv w)=\\vv 0\\in \\ker L$ \\newline\n",
    "   - If $\\vv w\\in \\text{img } L$ then $L(\\vv w)\\in \\text{img }L$ (by definition of img $L$)\n",
    "\n",
    ":::\n",
    "\n",
    ":::{prf:example}\n",
    ":label: eg_2\n",
    "Let $V=\\mathbb{R}^2$ and $L(x,y)=\\begin{bmatrix} 2x \\\\ 3y \\end{bmatrix}$. What are the invariant subspaces of $V$ under $L$? Besides $W=\\mathbb{R}^2$ and $W=\\{0\\}$, the only other type of subspace in $\\mathbb{R}^2$ is a line. If W is the line spanned by the vector $\\vv w=\\bm a \\\\ b \\em \\neq \\vv 0$, then $L(\\vv w)=\\bm 2a \\\\ 3b\\em\\in W$ if and only if there exists $c\\in\\mathbb{R}$ s.t. $\\bm 2a \\\\ 3b\\em=c\\bm a \\\\ b\\em$, which is only possible if either $a=0$ or $b=0$. Thus the only invariant subspaces of L are either the x-axis or the y-axis.\n",
    ":::\n",
    "\n",
    ":::{prf:example}\n",
    ":label: eg_3\n",
    "Let $V=\\mathbb{R}^2$ and $L(x,y)=(x+3y,y)$. Let's see what lines $W$, spanned by $\\vv w=\\bm a \\\\ b \\em\\neq \\vv 0$, are invariant under L by solving for a $c\\in\\mathbb{R}$ s.t.\n",
    "$$\n",
    "L(\\vv w)=\\begin{bmatrix} a+3b \\\\ b \\end{bmatrix} = c\\begin{bmatrix} a \\\\ b \\end{bmatrix}\n",
    "$$\n",
    "which is only possible if $b=0$, i.e., the x-axis is the only invariant 1d subspace.\n",
    ":::\n",
    "\n",
    ":::{prf:example}\n",
    ":label: eg_4\n",
    "Let $V=\\mathbb{R}^2$ and $L(x,y)=(-y,x)$, a counterclockwise rotation by $90^\\circ$. You should be able to convince yourself geometrically that no 1d subspace can be invariant under such a transformation.\n",
    ":::"
   ]
  },
  {
   "cell_type": "markdown",
   "metadata": {},
   "source": [
    "## Subspaces Spanned by the Eigenvectors\n",
    "\n",
    "Since we will focus on cases where $V=\\mathbb{R}^n$, our linear transformations will be defined by matrices $A:\\mathbb{R}^n \\to \\mathbb{R}^n$: $L(\\vv x)=A\\vv x$. In this case, we can characterize 1-d invariant subspaces very clearly.\n",
    "\n",
    "::::{prf:proposition}\n",
    ":label: eig_vec_prop\n",
    "A 1d subspace is invariant under $L(\\vv x)=A\\vv x$ if and only if $W=\\text{span}\\{\\vv v\\}$ where $\\vv v$ is an eigenvector of $A.$\n",
    "\n",
    ":::{prf:proof} Proof of [](#eig_vec_prop)\n",
    ":label: proof-eig_vec_prop\n",
    ":class: dropdown\n",
    "Let $W = \\text{span}\\{\\vv v\\}$ for some $\\vv v \\neq 0$. Then $A \\vv v \\in W$ if and only if $A \\vv v = \\lambda \\vv v$ for some scalar $\\lambda$. But this means that $\\vv v$ is an eigenvector of $A$ with eigenvalue $\\lambda$.\n",
    ":::\n",
    "::::\n",
    "\n",
    ":::{note}\n",
    "[This](#eig_vec_prop) tells us that if $A$ has $n$ linearly independent eigenvectors $\\vv v_1,\\ldots,\\vv v_n$ (arising from either distinct or repeated eigenvalues), then every  one dimensional subspace of $A$ is of the form $W_i = \\text{span}\\{\\vv v_i\\}$.\n",
    "\n",
    "For complex matrices $A$, we can use these 1d invariant subspaces to build all other $k$-dimensional invariant subspaces, but these may be complex!\n",
    ":::\n",
    "\n",
    ":::{prf:theorem}\n",
    ":label: \n",
    "If $A \\in \\mathbb{R}^{n \\times n}$ is a [complete matrix](../05_Ch_6_Eigenvalues_and_Eigenvectors/077-diagonalization.ipynb#eigenbasis-defn), then every $k$-dimensional complex invariant subspace is spanned by $k$ linearly independent eigenvectors of $A$.\n",
    ":::\n",
    "\n",
    "We won't formally prove this result, but instead give a hint as to why it might be true. Suppose $W = \\text{span}\\{\\vv v_1,\\ldots,\\vv v_k\\}$ for $\\vv v_1,\\ldots,\\vv v_k$ linearly independent eigenvectors of $A$. Then any $\\vv w \\in W$ can be written as\n",
    "$$\n",
    "\\vv w = c_1\\vv v_1 + \\cdots + c_k\\vv v_k\n",
    "$$\n",
    "for $c_1,\\ldots,c_k \\in \\mathbb{C}$. Then\n",
    "$$\n",
    "A \\vv w = A(c_1\\vv v_1 + \\cdots + c_k\\vv v_k) = c_1A\\vv v_1 + \\cdots + c_kA\\vv v_k = c_1\\lambda_1\\vv v_1 + \\cdots + c_k\\lambda_k\\vv v_k \\in \\text{span}\\{\\vv v_1,\\ldots,\\vv v_k\\} = W\n",
    "$$\n",
    "and hence $W$ is invariant under the map $\\vv x \\mapsto A\\vv x$. The challenge is to show the other direction, that if $W$ is invariant under $A$ then $W$ must be spanned by $k$ eigenvectors of $A$. We refer interested readers to proof of Thm 8.3 in ALA 8.4.\n",
    "\n",
    ":::{note}\n",
    "Some final comments before we see an example:\n",
    "1. If $A$ is a complex real matrix with all real eigenvalues, then the above tells us that all real invariant subspaces are spanned by eigenvectors of $A$.\n",
    "2. If $A$ is real and complete, and has complex conjugate eigenvectors $\\vv v_t = \\vv x \\pm i \\vv y$, then the real invariant subspaces are spanned by $\\text{Re}\\{\\vv v_t\\} = \\vv x$ and $\\text{Im}\\{\\vv v_t\\} = \\vv y$ using a similar argument as to the one we used to find real solutions to $ \\dot{\\vv x} = A\\vv x$ when $A$ had complex conjugate eigenvalues.\n",
    "3. A slightly modified argument can be applied to incomplete matrices using Jordan blocks and generalized eigenvectors; we can't cover these in this course, but if you're curious, you can check out ALA 8.6.\n",
    ":::"
   ]
  },
  {
   "cell_type": "markdown",
   "metadata": {},
   "source": [
    ":::{prf:example}\n",
    "Consider the rotation (permutation) matrix\n",
    "\n",
    "$$\n",
    "A = \\bm\n",
    "0 & 1 & 0 \\\\\n",
    "0 & 0 & 1 \\\\\n",
    "1 & 0 & 0\n",
    "\\em\n",
    "$$\n",
    "\n",
    "It has one real eigenvalue, $\\lambda_1 = 1$, and two complex conjugate eigenvalues, $\\lambda_2 = \\frac{1}{2} + \\frac{\\sqrt{3}}{2}i$ and $\\lambda_3 = \\frac{1}{2} - \\frac{\\sqrt{3}}{2}i$. The corresponding eigenvectors are:\n",
    "\n",
    "$$\n",
    "\\vv v_1 = \\bm 1 \\\\ 1 \\\\ 1 \\em, \\quad\n",
    "\\vv v_2 = \\bm -\\frac{1}{2}  \\\\ -\\frac{1}{2}  \\\\ 1 \\end{bmatrix} + \n",
    "i\\bm \\frac{\\sqrt{3}}{2} \\\\ -\\frac{\\sqrt{3}}{2} \\\\ 0\\em, \\quad\n",
    "\\vv v_3 = \\bm -\\frac{1}{2} \\\\ -\\frac{1}{2} \\\\ 1 \\em - i\\bm \\frac{\\sqrt{3}}{2} \\\\ -\\frac{\\sqrt{3}}{2} \\\\ 0\\em\n",
    "$$\n",
    "\n",
    "The complex invariant subspaces are spanned by $0, 1, 2$ or $3$ of $\\vv v_1$, $\\vv v_2$, or $\\vv v_3$. There is a single 1d real invariant subspace spanned by $\\vv v_1 = \\bm 1 \\\\ 1 \\\\ 1\\em$, and a single 2d real invariant subspace spanned by $\\text{Re}\\{\\vv v_2\\} = \\bm -\\frac{1}{2} \\\\ -\\frac{1}{2} \\\\ 1\\em$ and $\\text{Im}\\{\\vv v_2\\} = \\bm \\frac{\\sqrt{3}}{2} \\\\ -\\frac{\\sqrt{3}}{2} \\\\ 0 \\em$ which is the orthogonal complement to $\\vv v_1$. We can interpret $\\vv v_1$ as the axis of rotation, and $A$ acts as a 2d rotation on its orthogonal complement.\n",
    "\n",
    "An interactive 3d plot is given below that illustrate the orthogonal vectors ($\\vv v_2$ ($\\textcolor{red}{red}$) and $\\vv v_3$ ($\\textcolor{green}{green}$)) spanning the 2d invariant subspace (in $\\textcolor{cyan}{cyan}$) and the axis of rotation ($\\vv v_1$ ($\\textcolor{blue}{blue}$)).\n",
    ":::\n",
    "\n"
   ]
  },
  {
   "cell_type": "code",
   "execution_count": 18,
   "metadata": {},
   "outputs": [
    {
     "data": {
      "application/vnd.plotly.v1+json": {
       "config": {
        "plotlyServerURL": "https://plot.ly"
       },
       "data": [
        {
         "line": {
          "color": "red",
          "width": 8
         },
         "mode": "lines",
         "type": "scatter3d",
         "x": [
          0,
          -0.5
         ],
         "y": [
          0,
          -0.5
         ],
         "z": [
          0,
          1
         ]
        },
        {
         "line": {
          "color": "green",
          "width": 8
         },
         "mode": "lines",
         "type": "scatter3d",
         "x": [
          0,
          0.8660254037844386
         ],
         "y": [
          0,
          -0.8660254037844386
         ],
         "z": [
          0,
          0
         ]
        },
        {
         "line": {
          "color": "blue",
          "width": 8
         },
         "mode": "lines",
         "name": "axis",
         "type": "scatter3d",
         "x": [
          0,
          1
         ],
         "y": [
          0,
          1
         ],
         "z": [
          0,
          1
         ]
        },
        {
         "colorscale": [
          [
           0,
           "cyan"
          ],
          [
           1,
           "cyan"
          ]
         ],
         "opacity": 0.5,
         "showscale": false,
         "type": "surface",
         "x": [
          [
           -0.3660254037844386,
           -0.4771365148955497,
           -0.5882476260066608,
           -0.6993587371177719,
           -0.810469848228883,
           -0.9215809593399942,
           -1.0326920704511053,
           -1.1438031815622163,
           -1.2549142926733274,
           -1.3660254037844386
          ],
          [
           -0.1735753140545634,
           -0.2846864251656745,
           -0.3957975362767856,
           -0.5069086473878968,
           -0.6180197584990078,
           -0.729130869610119,
           -0.84024198072123,
           -0.9513530918323411,
           -1.0624642029434521,
           -1.1735753140545633
          ],
          [
           0.018874775675311872,
           -0.09223633543579923,
           -0.20334744654691034,
           -0.31445855765802144,
           -0.42556966876913255,
           -0.5366807798802438,
           -0.6477918909913547,
           -0.7589030021024659,
           -0.870014113213577,
           -0.9811252243246882
          ],
          [
           0.21132486540518708,
           0.10021375429407597,
           -0.010897356817035131,
           -0.12200846792814624,
           -0.23311957903925734,
           -0.3442306901503685,
           -0.45534180126147955,
           -0.5664529123725905,
           -0.6775640234837017,
           -0.7886751345948129
          ],
          [
           0.40377495513506234,
           0.29266384402395124,
           0.18155273291284013,
           0.07044162180172903,
           -0.04066948930938208,
           -0.15178060042049324,
           -0.2628917115316043,
           -0.37400282264271534,
           -0.4851139337538265,
           -0.5962250448649377
          ],
          [
           0.5962250448649377,
           0.48511393375382655,
           0.37400282264271545,
           0.26289171153160434,
           0.15178060042049324,
           0.04066948930938208,
           -0.07044162180172897,
           -0.18155273291284002,
           -0.2926638440239512,
           -0.40377495513506234
          ],
          [
           0.7886751345948129,
           0.6775640234837017,
           0.5664529123725905,
           0.4553418012614795,
           0.3442306901503684,
           0.23311957903925723,
           0.12200846792814618,
           0.010897356817035131,
           -0.10021375429407603,
           -0.2113248654051872
          ],
          [
           0.981125224324688,
           0.8700141132135768,
           0.7589030021024658,
           0.6477918909913547,
           0.5366807798802435,
           0.4255696687691324,
           0.31445855765802133,
           0.20334744654691028,
           0.09223633543579912,
           -0.01887477567531204
          ],
          [
           1.1735753140545633,
           1.0624642029434521,
           0.9513530918323411,
           0.84024198072123,
           0.7291308696101189,
           0.6180197584990077,
           0.5069086473878966,
           0.3957975362767856,
           0.28468642516567444,
           0.17357531405456328
          ],
          [
           1.3660254037844386,
           1.2549142926733274,
           1.1438031815622165,
           1.0326920704511053,
           0.9215809593399942,
           0.810469848228883,
           0.699358737117772,
           0.5882476260066609,
           0.47713651489554976,
           0.3660254037844386
          ]
         ],
         "y": [
          [
           1.3660254037844386,
           1.2549142926733274,
           1.1438031815622165,
           1.0326920704511053,
           0.9215809593399942,
           0.810469848228883,
           0.699358737117772,
           0.5882476260066609,
           0.47713651489554976,
           0.3660254037844386
          ],
          [
           1.1735753140545633,
           1.0624642029434523,
           0.9513530918323412,
           0.84024198072123,
           0.729130869610119,
           0.6180197584990078,
           0.5069086473878968,
           0.3957975362767857,
           0.28468642516567455,
           0.1735753140545634
          ],
          [
           0.9811252243246882,
           0.870014113213577,
           0.7589030021024659,
           0.6477918909913548,
           0.5366807798802438,
           0.42556966876913255,
           0.3144585576580215,
           0.20334744654691045,
           0.09223633543579929,
           -0.018874775675311872
          ],
          [
           0.7886751345948129,
           0.6775640234837018,
           0.5664529123725908,
           0.4553418012614796,
           0.3442306901503685,
           0.23311957903925734,
           0.12200846792814629,
           0.010897356817035242,
           -0.10021375429407592,
           -0.21132486540518708
          ],
          [
           0.5962250448649377,
           0.48511393375382655,
           0.37400282264271545,
           0.26289171153160434,
           0.15178060042049324,
           0.04066948930938208,
           -0.07044162180172897,
           -0.18155273291284002,
           -0.2926638440239512,
           -0.40377495513506234
          ],
          [
           0.40377495513506234,
           0.29266384402395124,
           0.18155273291284013,
           0.07044162180172903,
           -0.04066948930938208,
           -0.15178060042049324,
           -0.2628917115316043,
           -0.37400282264271534,
           -0.4851139337538265,
           -0.5962250448649377
          ],
          [
           0.2113248654051872,
           0.10021375429407609,
           -0.01089735681703502,
           -0.12200846792814612,
           -0.23311957903925723,
           -0.3442306901503684,
           -0.45534180126147944,
           -0.5664529123725905,
           -0.6775640234837017,
           -0.7886751345948129
          ],
          [
           0.01887477567531204,
           -0.09223633543579907,
           -0.20334744654691017,
           -0.3144585576580213,
           -0.4255696687691324,
           -0.5366807798802435,
           -0.6477918909913546,
           -0.7589030021024656,
           -0.8700141132135768,
           -0.981125224324688
          ],
          [
           -0.17357531405456328,
           -0.2846864251656744,
           -0.3957975362767855,
           -0.5069086473878965,
           -0.6180197584990077,
           -0.7291308696101189,
           -0.8402419807212299,
           -0.951353091832341,
           -1.0624642029434521,
           -1.1735753140545633
          ],
          [
           -0.3660254037844386,
           -0.4771365148955497,
           -0.5882476260066608,
           -0.6993587371177719,
           -0.810469848228883,
           -0.9215809593399942,
           -1.0326920704511053,
           -1.1438031815622163,
           -1.2549142926733274,
           -1.3660254037844386
          ]
         ],
         "z": [
          [
           -1,
           -0.7777777777777778,
           -0.5555555555555556,
           -0.33333333333333337,
           -0.11111111111111116,
           0.11111111111111116,
           0.33333333333333326,
           0.5555555555555554,
           0.7777777777777777,
           1
          ],
          [
           -1,
           -0.7777777777777778,
           -0.5555555555555556,
           -0.33333333333333337,
           -0.11111111111111116,
           0.11111111111111116,
           0.33333333333333326,
           0.5555555555555554,
           0.7777777777777777,
           1
          ],
          [
           -1,
           -0.7777777777777778,
           -0.5555555555555556,
           -0.33333333333333337,
           -0.11111111111111116,
           0.11111111111111116,
           0.33333333333333326,
           0.5555555555555554,
           0.7777777777777777,
           1
          ],
          [
           -1,
           -0.7777777777777778,
           -0.5555555555555556,
           -0.33333333333333337,
           -0.11111111111111116,
           0.11111111111111116,
           0.33333333333333326,
           0.5555555555555554,
           0.7777777777777777,
           1
          ],
          [
           -1,
           -0.7777777777777778,
           -0.5555555555555556,
           -0.33333333333333337,
           -0.11111111111111116,
           0.11111111111111116,
           0.33333333333333326,
           0.5555555555555554,
           0.7777777777777777,
           1
          ],
          [
           -1,
           -0.7777777777777778,
           -0.5555555555555556,
           -0.33333333333333337,
           -0.11111111111111116,
           0.11111111111111116,
           0.33333333333333326,
           0.5555555555555554,
           0.7777777777777777,
           1
          ],
          [
           -1,
           -0.7777777777777778,
           -0.5555555555555556,
           -0.33333333333333337,
           -0.11111111111111116,
           0.11111111111111116,
           0.33333333333333326,
           0.5555555555555554,
           0.7777777777777777,
           1
          ],
          [
           -1,
           -0.7777777777777778,
           -0.5555555555555556,
           -0.33333333333333337,
           -0.11111111111111116,
           0.11111111111111116,
           0.33333333333333326,
           0.5555555555555554,
           0.7777777777777777,
           1
          ],
          [
           -1,
           -0.7777777777777778,
           -0.5555555555555556,
           -0.33333333333333337,
           -0.11111111111111116,
           0.11111111111111116,
           0.33333333333333326,
           0.5555555555555554,
           0.7777777777777777,
           1
          ],
          [
           -1,
           -0.7777777777777778,
           -0.5555555555555556,
           -0.33333333333333337,
           -0.11111111111111116,
           0.11111111111111116,
           0.33333333333333326,
           0.5555555555555554,
           0.7777777777777777,
           1
          ]
         ]
        },
        {
         "anchor": "tail",
         "colorscale": [
          [
           0,
           "red"
          ],
          [
           1,
           "red"
          ]
         ],
         "showlegend": false,
         "showscale": false,
         "sizemode": "absolute",
         "sizeref": 0.3,
         "type": "cone",
         "u": [
          -0.5
         ],
         "v": [
          -0.5
         ],
         "w": [
          1
         ],
         "x": [
          -0.5
         ],
         "y": [
          -0.5
         ],
         "z": [
          1
         ]
        },
        {
         "anchor": "tail",
         "colorscale": [
          [
           0,
           "green"
          ],
          [
           1,
           "green"
          ]
         ],
         "showlegend": false,
         "showscale": false,
         "sizemode": "absolute",
         "sizeref": 0.3,
         "type": "cone",
         "u": [
          0.8660254037844386
         ],
         "v": [
          -0.8660254037844386
         ],
         "w": [
          0
         ],
         "x": [
          0.8660254037844386
         ],
         "y": [
          -0.8660254037844386
         ],
         "z": [
          0
         ]
        },
        {
         "anchor": "tail",
         "colorscale": [
          [
           0,
           "blue"
          ],
          [
           1,
           "blue"
          ]
         ],
         "showlegend": false,
         "showscale": false,
         "sizemode": "absolute",
         "sizeref": 0.3,
         "type": "cone",
         "u": [
          1
         ],
         "v": [
          1
         ],
         "w": [
          1
         ],
         "x": [
          1
         ],
         "y": [
          1
         ],
         "z": [
          1
         ]
        }
       ],
       "layout": {
        "height": 700,
        "scene": {
         "aspectmode": "cube",
         "aspectratio": {
          "x": 1,
          "y": 1,
          "z": 1
         },
         "camera": {
          "center": {
           "x": 0,
           "y": 0,
           "z": 0
          },
          "eye": {
           "x": 1.7101483790857743,
           "y": -1.0088933617420344,
           "z": 0.8631492953963149
          },
          "projection": {
           "type": "perspective"
          },
          "up": {
           "x": 0,
           "y": 0,
           "z": 1
          }
         },
         "xaxis": {
          "range": [
           -1.5,
           1.5
          ],
          "type": "linear"
         },
         "yaxis": {
          "range": [
           -1.5,
           1.5
          ],
          "type": "linear"
         },
         "zaxis": {
          "range": [
           -1.5,
           1.5
          ],
          "type": "linear"
         }
        },
        "template": {
         "data": {
          "bar": [
           {
            "error_x": {
             "color": "#2a3f5f"
            },
            "error_y": {
             "color": "#2a3f5f"
            },
            "marker": {
             "line": {
              "color": "#E5ECF6",
              "width": 0.5
             },
             "pattern": {
              "fillmode": "overlay",
              "size": 10,
              "solidity": 0.2
             }
            },
            "type": "bar"
           }
          ],
          "barpolar": [
           {
            "marker": {
             "line": {
              "color": "#E5ECF6",
              "width": 0.5
             },
             "pattern": {
              "fillmode": "overlay",
              "size": 10,
              "solidity": 0.2
             }
            },
            "type": "barpolar"
           }
          ],
          "carpet": [
           {
            "aaxis": {
             "endlinecolor": "#2a3f5f",
             "gridcolor": "white",
             "linecolor": "white",
             "minorgridcolor": "white",
             "startlinecolor": "#2a3f5f"
            },
            "baxis": {
             "endlinecolor": "#2a3f5f",
             "gridcolor": "white",
             "linecolor": "white",
             "minorgridcolor": "white",
             "startlinecolor": "#2a3f5f"
            },
            "type": "carpet"
           }
          ],
          "choropleth": [
           {
            "colorbar": {
             "outlinewidth": 0,
             "ticks": ""
            },
            "type": "choropleth"
           }
          ],
          "contour": [
           {
            "colorbar": {
             "outlinewidth": 0,
             "ticks": ""
            },
            "colorscale": [
             [
              0,
              "#0d0887"
             ],
             [
              0.1111111111111111,
              "#46039f"
             ],
             [
              0.2222222222222222,
              "#7201a8"
             ],
             [
              0.3333333333333333,
              "#9c179e"
             ],
             [
              0.4444444444444444,
              "#bd3786"
             ],
             [
              0.5555555555555556,
              "#d8576b"
             ],
             [
              0.6666666666666666,
              "#ed7953"
             ],
             [
              0.7777777777777778,
              "#fb9f3a"
             ],
             [
              0.8888888888888888,
              "#fdca26"
             ],
             [
              1,
              "#f0f921"
             ]
            ],
            "type": "contour"
           }
          ],
          "contourcarpet": [
           {
            "colorbar": {
             "outlinewidth": 0,
             "ticks": ""
            },
            "type": "contourcarpet"
           }
          ],
          "heatmap": [
           {
            "colorbar": {
             "outlinewidth": 0,
             "ticks": ""
            },
            "colorscale": [
             [
              0,
              "#0d0887"
             ],
             [
              0.1111111111111111,
              "#46039f"
             ],
             [
              0.2222222222222222,
              "#7201a8"
             ],
             [
              0.3333333333333333,
              "#9c179e"
             ],
             [
              0.4444444444444444,
              "#bd3786"
             ],
             [
              0.5555555555555556,
              "#d8576b"
             ],
             [
              0.6666666666666666,
              "#ed7953"
             ],
             [
              0.7777777777777778,
              "#fb9f3a"
             ],
             [
              0.8888888888888888,
              "#fdca26"
             ],
             [
              1,
              "#f0f921"
             ]
            ],
            "type": "heatmap"
           }
          ],
          "heatmapgl": [
           {
            "colorbar": {
             "outlinewidth": 0,
             "ticks": ""
            },
            "colorscale": [
             [
              0,
              "#0d0887"
             ],
             [
              0.1111111111111111,
              "#46039f"
             ],
             [
              0.2222222222222222,
              "#7201a8"
             ],
             [
              0.3333333333333333,
              "#9c179e"
             ],
             [
              0.4444444444444444,
              "#bd3786"
             ],
             [
              0.5555555555555556,
              "#d8576b"
             ],
             [
              0.6666666666666666,
              "#ed7953"
             ],
             [
              0.7777777777777778,
              "#fb9f3a"
             ],
             [
              0.8888888888888888,
              "#fdca26"
             ],
             [
              1,
              "#f0f921"
             ]
            ],
            "type": "heatmapgl"
           }
          ],
          "histogram": [
           {
            "marker": {
             "pattern": {
              "fillmode": "overlay",
              "size": 10,
              "solidity": 0.2
             }
            },
            "type": "histogram"
           }
          ],
          "histogram2d": [
           {
            "colorbar": {
             "outlinewidth": 0,
             "ticks": ""
            },
            "colorscale": [
             [
              0,
              "#0d0887"
             ],
             [
              0.1111111111111111,
              "#46039f"
             ],
             [
              0.2222222222222222,
              "#7201a8"
             ],
             [
              0.3333333333333333,
              "#9c179e"
             ],
             [
              0.4444444444444444,
              "#bd3786"
             ],
             [
              0.5555555555555556,
              "#d8576b"
             ],
             [
              0.6666666666666666,
              "#ed7953"
             ],
             [
              0.7777777777777778,
              "#fb9f3a"
             ],
             [
              0.8888888888888888,
              "#fdca26"
             ],
             [
              1,
              "#f0f921"
             ]
            ],
            "type": "histogram2d"
           }
          ],
          "histogram2dcontour": [
           {
            "colorbar": {
             "outlinewidth": 0,
             "ticks": ""
            },
            "colorscale": [
             [
              0,
              "#0d0887"
             ],
             [
              0.1111111111111111,
              "#46039f"
             ],
             [
              0.2222222222222222,
              "#7201a8"
             ],
             [
              0.3333333333333333,
              "#9c179e"
             ],
             [
              0.4444444444444444,
              "#bd3786"
             ],
             [
              0.5555555555555556,
              "#d8576b"
             ],
             [
              0.6666666666666666,
              "#ed7953"
             ],
             [
              0.7777777777777778,
              "#fb9f3a"
             ],
             [
              0.8888888888888888,
              "#fdca26"
             ],
             [
              1,
              "#f0f921"
             ]
            ],
            "type": "histogram2dcontour"
           }
          ],
          "mesh3d": [
           {
            "colorbar": {
             "outlinewidth": 0,
             "ticks": ""
            },
            "type": "mesh3d"
           }
          ],
          "parcoords": [
           {
            "line": {
             "colorbar": {
              "outlinewidth": 0,
              "ticks": ""
             }
            },
            "type": "parcoords"
           }
          ],
          "pie": [
           {
            "automargin": true,
            "type": "pie"
           }
          ],
          "scatter": [
           {
            "fillpattern": {
             "fillmode": "overlay",
             "size": 10,
             "solidity": 0.2
            },
            "type": "scatter"
           }
          ],
          "scatter3d": [
           {
            "line": {
             "colorbar": {
              "outlinewidth": 0,
              "ticks": ""
             }
            },
            "marker": {
             "colorbar": {
              "outlinewidth": 0,
              "ticks": ""
             }
            },
            "type": "scatter3d"
           }
          ],
          "scattercarpet": [
           {
            "marker": {
             "colorbar": {
              "outlinewidth": 0,
              "ticks": ""
             }
            },
            "type": "scattercarpet"
           }
          ],
          "scattergeo": [
           {
            "marker": {
             "colorbar": {
              "outlinewidth": 0,
              "ticks": ""
             }
            },
            "type": "scattergeo"
           }
          ],
          "scattergl": [
           {
            "marker": {
             "colorbar": {
              "outlinewidth": 0,
              "ticks": ""
             }
            },
            "type": "scattergl"
           }
          ],
          "scattermapbox": [
           {
            "marker": {
             "colorbar": {
              "outlinewidth": 0,
              "ticks": ""
             }
            },
            "type": "scattermapbox"
           }
          ],
          "scatterpolar": [
           {
            "marker": {
             "colorbar": {
              "outlinewidth": 0,
              "ticks": ""
             }
            },
            "type": "scatterpolar"
           }
          ],
          "scatterpolargl": [
           {
            "marker": {
             "colorbar": {
              "outlinewidth": 0,
              "ticks": ""
             }
            },
            "type": "scatterpolargl"
           }
          ],
          "scatterternary": [
           {
            "marker": {
             "colorbar": {
              "outlinewidth": 0,
              "ticks": ""
             }
            },
            "type": "scatterternary"
           }
          ],
          "surface": [
           {
            "colorbar": {
             "outlinewidth": 0,
             "ticks": ""
            },
            "colorscale": [
             [
              0,
              "#0d0887"
             ],
             [
              0.1111111111111111,
              "#46039f"
             ],
             [
              0.2222222222222222,
              "#7201a8"
             ],
             [
              0.3333333333333333,
              "#9c179e"
             ],
             [
              0.4444444444444444,
              "#bd3786"
             ],
             [
              0.5555555555555556,
              "#d8576b"
             ],
             [
              0.6666666666666666,
              "#ed7953"
             ],
             [
              0.7777777777777778,
              "#fb9f3a"
             ],
             [
              0.8888888888888888,
              "#fdca26"
             ],
             [
              1,
              "#f0f921"
             ]
            ],
            "type": "surface"
           }
          ],
          "table": [
           {
            "cells": {
             "fill": {
              "color": "#EBF0F8"
             },
             "line": {
              "color": "white"
             }
            },
            "header": {
             "fill": {
              "color": "#C8D4E3"
             },
             "line": {
              "color": "white"
             }
            },
            "type": "table"
           }
          ]
         },
         "layout": {
          "annotationdefaults": {
           "arrowcolor": "#2a3f5f",
           "arrowhead": 0,
           "arrowwidth": 1
          },
          "autotypenumbers": "strict",
          "coloraxis": {
           "colorbar": {
            "outlinewidth": 0,
            "ticks": ""
           }
          },
          "colorscale": {
           "diverging": [
            [
             0,
             "#8e0152"
            ],
            [
             0.1,
             "#c51b7d"
            ],
            [
             0.2,
             "#de77ae"
            ],
            [
             0.3,
             "#f1b6da"
            ],
            [
             0.4,
             "#fde0ef"
            ],
            [
             0.5,
             "#f7f7f7"
            ],
            [
             0.6,
             "#e6f5d0"
            ],
            [
             0.7,
             "#b8e186"
            ],
            [
             0.8,
             "#7fbc41"
            ],
            [
             0.9,
             "#4d9221"
            ],
            [
             1,
             "#276419"
            ]
           ],
           "sequential": [
            [
             0,
             "#0d0887"
            ],
            [
             0.1111111111111111,
             "#46039f"
            ],
            [
             0.2222222222222222,
             "#7201a8"
            ],
            [
             0.3333333333333333,
             "#9c179e"
            ],
            [
             0.4444444444444444,
             "#bd3786"
            ],
            [
             0.5555555555555556,
             "#d8576b"
            ],
            [
             0.6666666666666666,
             "#ed7953"
            ],
            [
             0.7777777777777778,
             "#fb9f3a"
            ],
            [
             0.8888888888888888,
             "#fdca26"
            ],
            [
             1,
             "#f0f921"
            ]
           ],
           "sequentialminus": [
            [
             0,
             "#0d0887"
            ],
            [
             0.1111111111111111,
             "#46039f"
            ],
            [
             0.2222222222222222,
             "#7201a8"
            ],
            [
             0.3333333333333333,
             "#9c179e"
            ],
            [
             0.4444444444444444,
             "#bd3786"
            ],
            [
             0.5555555555555556,
             "#d8576b"
            ],
            [
             0.6666666666666666,
             "#ed7953"
            ],
            [
             0.7777777777777778,
             "#fb9f3a"
            ],
            [
             0.8888888888888888,
             "#fdca26"
            ],
            [
             1,
             "#f0f921"
            ]
           ]
          },
          "colorway": [
           "#636efa",
           "#EF553B",
           "#00cc96",
           "#ab63fa",
           "#FFA15A",
           "#19d3f3",
           "#FF6692",
           "#B6E880",
           "#FF97FF",
           "#FECB52"
          ],
          "font": {
           "color": "#2a3f5f"
          },
          "geo": {
           "bgcolor": "white",
           "lakecolor": "white",
           "landcolor": "#E5ECF6",
           "showlakes": true,
           "showland": true,
           "subunitcolor": "white"
          },
          "hoverlabel": {
           "align": "left"
          },
          "hovermode": "closest",
          "mapbox": {
           "style": "light"
          },
          "paper_bgcolor": "white",
          "plot_bgcolor": "#E5ECF6",
          "polar": {
           "angularaxis": {
            "gridcolor": "white",
            "linecolor": "white",
            "ticks": ""
           },
           "bgcolor": "#E5ECF6",
           "radialaxis": {
            "gridcolor": "white",
            "linecolor": "white",
            "ticks": ""
           }
          },
          "scene": {
           "xaxis": {
            "backgroundcolor": "#E5ECF6",
            "gridcolor": "white",
            "gridwidth": 2,
            "linecolor": "white",
            "showbackground": true,
            "ticks": "",
            "zerolinecolor": "white"
           },
           "yaxis": {
            "backgroundcolor": "#E5ECF6",
            "gridcolor": "white",
            "gridwidth": 2,
            "linecolor": "white",
            "showbackground": true,
            "ticks": "",
            "zerolinecolor": "white"
           },
           "zaxis": {
            "backgroundcolor": "#E5ECF6",
            "gridcolor": "white",
            "gridwidth": 2,
            "linecolor": "white",
            "showbackground": true,
            "ticks": "",
            "zerolinecolor": "white"
           }
          },
          "shapedefaults": {
           "line": {
            "color": "#2a3f5f"
           }
          },
          "ternary": {
           "aaxis": {
            "gridcolor": "white",
            "linecolor": "white",
            "ticks": ""
           },
           "baxis": {
            "gridcolor": "white",
            "linecolor": "white",
            "ticks": ""
           },
           "bgcolor": "#E5ECF6",
           "caxis": {
            "gridcolor": "white",
            "linecolor": "white",
            "ticks": ""
           }
          },
          "title": {
           "x": 0.05
          },
          "xaxis": {
           "automargin": true,
           "gridcolor": "white",
           "linecolor": "white",
           "ticks": "",
           "title": {
            "standoff": 15
           },
           "zerolinecolor": "white",
           "zerolinewidth": 2
          },
          "yaxis": {
           "automargin": true,
           "gridcolor": "white",
           "linecolor": "white",
           "ticks": "",
           "title": {
            "standoff": 15
           },
           "zerolinecolor": "white",
           "zerolinewidth": 2
          }
         }
        },
        "width": 700
       }
      },
      "image/png": "[encoded data removed]",
      "text/html": [
       "<div>                            <div id=\"d57f4eed-2ec2-4161-9556-6c1f96ff934f\" class=\"plotly-graph-div\" style=\"height:700px; width:700px;\"></div>            <script type=\"text/javascript\">                require([\"plotly\"], function(Plotly) {                    window.PLOTLYENV=window.PLOTLYENV || {};                                    if (document.getElementById(\"d57f4eed-2ec2-4161-9556-6c1f96ff934f\")) {                    Plotly.newPlot(                        \"d57f4eed-2ec2-4161-9556-6c1f96ff934f\",                        [{\"line\":{\"color\":\"red\",\"width\":8},\"mode\":\"lines\",\"x\":[0,-0.5],\"y\":[0,-0.5],\"z\":[0,1.0],\"type\":\"scatter3d\"},{\"line\":{\"color\":\"green\",\"width\":8},\"mode\":\"lines\",\"x\":[0,0.8660254037844386],\"y\":[0,-0.8660254037844386],\"z\":[0,0.0],\"type\":\"scatter3d\"},{\"line\":{\"color\":\"blue\",\"width\":8},\"mode\":\"lines\",\"name\":\"axis\",\"x\":[0,1],\"y\":[0,1],\"z\":[0,1],\"type\":\"scatter3d\"},{\"colorscale\":[[0,\"cyan\"],[1,\"cyan\"]],\"opacity\":0.5,\"showscale\":false,\"x\":[[-0.3660254037844386,-0.4771365148955497,-0.5882476260066608,-0.6993587371177719,-0.810469848228883,-0.9215809593399942,-1.0326920704511053,-1.1438031815622163,-1.2549142926733274,-1.3660254037844386],[-0.1735753140545634,-0.2846864251656745,-0.3957975362767856,-0.5069086473878968,-0.6180197584990078,-0.729130869610119,-0.84024198072123,-0.9513530918323411,-1.0624642029434521,-1.1735753140545633],[0.018874775675311872,-0.09223633543579923,-0.20334744654691034,-0.31445855765802144,-0.42556966876913255,-0.5366807798802438,-0.6477918909913547,-0.7589030021024659,-0.870014113213577,-0.9811252243246882],[0.21132486540518708,0.10021375429407597,-0.010897356817035131,-0.12200846792814624,-0.23311957903925734,-0.3442306901503685,-0.45534180126147955,-0.5664529123725905,-0.6775640234837017,-0.7886751345948129],[0.40377495513506234,0.29266384402395124,0.18155273291284013,0.07044162180172903,-0.04066948930938208,-0.15178060042049324,-0.2628917115316043,-0.37400282264271534,-0.4851139337538265,-0.5962250448649377],[0.5962250448649377,0.48511393375382655,0.37400282264271545,0.26289171153160434,0.15178060042049324,0.04066948930938208,-0.07044162180172897,-0.18155273291284002,-0.2926638440239512,-0.40377495513506234],[0.7886751345948129,0.6775640234837017,0.5664529123725905,0.4553418012614795,0.3442306901503684,0.23311957903925723,0.12200846792814618,0.010897356817035131,-0.10021375429407603,-0.2113248654051872],[0.981125224324688,0.8700141132135768,0.7589030021024658,0.6477918909913547,0.5366807798802435,0.4255696687691324,0.31445855765802133,0.20334744654691028,0.09223633543579912,-0.01887477567531204],[1.1735753140545633,1.0624642029434521,0.9513530918323411,0.84024198072123,0.7291308696101189,0.6180197584990077,0.5069086473878966,0.3957975362767856,0.28468642516567444,0.17357531405456328],[1.3660254037844386,1.2549142926733274,1.1438031815622165,1.0326920704511053,0.9215809593399942,0.810469848228883,0.699358737117772,0.5882476260066609,0.47713651489554976,0.3660254037844386]],\"y\":[[1.3660254037844386,1.2549142926733274,1.1438031815622165,1.0326920704511053,0.9215809593399942,0.810469848228883,0.699358737117772,0.5882476260066609,0.47713651489554976,0.3660254037844386],[1.1735753140545633,1.0624642029434523,0.9513530918323412,0.84024198072123,0.729130869610119,0.6180197584990078,0.5069086473878968,0.3957975362767857,0.28468642516567455,0.1735753140545634],[0.9811252243246882,0.870014113213577,0.7589030021024659,0.6477918909913548,0.5366807798802438,0.42556966876913255,0.3144585576580215,0.20334744654691045,0.09223633543579929,-0.018874775675311872],[0.7886751345948129,0.6775640234837018,0.5664529123725908,0.4553418012614796,0.3442306901503685,0.23311957903925734,0.12200846792814629,0.010897356817035242,-0.10021375429407592,-0.21132486540518708],[0.5962250448649377,0.48511393375382655,0.37400282264271545,0.26289171153160434,0.15178060042049324,0.04066948930938208,-0.07044162180172897,-0.18155273291284002,-0.2926638440239512,-0.40377495513506234],[0.40377495513506234,0.29266384402395124,0.18155273291284013,0.07044162180172903,-0.04066948930938208,-0.15178060042049324,-0.2628917115316043,-0.37400282264271534,-0.4851139337538265,-0.5962250448649377],[0.2113248654051872,0.10021375429407609,-0.01089735681703502,-0.12200846792814612,-0.23311957903925723,-0.3442306901503684,-0.45534180126147944,-0.5664529123725905,-0.6775640234837017,-0.7886751345948129],[0.01887477567531204,-0.09223633543579907,-0.20334744654691017,-0.3144585576580213,-0.4255696687691324,-0.5366807798802435,-0.6477918909913546,-0.7589030021024656,-0.8700141132135768,-0.981125224324688],[-0.17357531405456328,-0.2846864251656744,-0.3957975362767855,-0.5069086473878965,-0.6180197584990077,-0.7291308696101189,-0.8402419807212299,-0.951353091832341,-1.0624642029434521,-1.1735753140545633],[-0.3660254037844386,-0.4771365148955497,-0.5882476260066608,-0.6993587371177719,-0.810469848228883,-0.9215809593399942,-1.0326920704511053,-1.1438031815622163,-1.2549142926733274,-1.3660254037844386]],\"z\":[[-1.0,-0.7777777777777778,-0.5555555555555556,-0.33333333333333337,-0.11111111111111116,0.11111111111111116,0.33333333333333326,0.5555555555555554,0.7777777777777777,1.0],[-1.0,-0.7777777777777778,-0.5555555555555556,-0.33333333333333337,-0.11111111111111116,0.11111111111111116,0.33333333333333326,0.5555555555555554,0.7777777777777777,1.0],[-1.0,-0.7777777777777778,-0.5555555555555556,-0.33333333333333337,-0.11111111111111116,0.11111111111111116,0.33333333333333326,0.5555555555555554,0.7777777777777777,1.0],[-1.0,-0.7777777777777778,-0.5555555555555556,-0.33333333333333337,-0.11111111111111116,0.11111111111111116,0.33333333333333326,0.5555555555555554,0.7777777777777777,1.0],[-1.0,-0.7777777777777778,-0.5555555555555556,-0.33333333333333337,-0.11111111111111116,0.11111111111111116,0.33333333333333326,0.5555555555555554,0.7777777777777777,1.0],[-1.0,-0.7777777777777778,-0.5555555555555556,-0.33333333333333337,-0.11111111111111116,0.11111111111111116,0.33333333333333326,0.5555555555555554,0.7777777777777777,1.0],[-1.0,-0.7777777777777778,-0.5555555555555556,-0.33333333333333337,-0.11111111111111116,0.11111111111111116,0.33333333333333326,0.5555555555555554,0.7777777777777777,1.0],[-1.0,-0.7777777777777778,-0.5555555555555556,-0.33333333333333337,-0.11111111111111116,0.11111111111111116,0.33333333333333326,0.5555555555555554,0.7777777777777777,1.0],[-1.0,-0.7777777777777778,-0.5555555555555556,-0.33333333333333337,-0.11111111111111116,0.11111111111111116,0.33333333333333326,0.5555555555555554,0.7777777777777777,1.0],[-1.0,-0.7777777777777778,-0.5555555555555556,-0.33333333333333337,-0.11111111111111116,0.11111111111111116,0.33333333333333326,0.5555555555555554,0.7777777777777777,1.0]],\"type\":\"surface\"},{\"anchor\":\"tail\",\"colorscale\":[[0,\"red\"],[1,\"red\"]],\"showlegend\":false,\"showscale\":false,\"sizemode\":\"absolute\",\"sizeref\":0.3,\"u\":[-0.5],\"v\":[-0.5],\"w\":[1.0],\"x\":[-0.5],\"y\":[-0.5],\"z\":[1.0],\"type\":\"cone\"},{\"anchor\":\"tail\",\"colorscale\":[[0,\"green\"],[1,\"green\"]],\"showlegend\":false,\"showscale\":false,\"sizemode\":\"absolute\",\"sizeref\":0.3,\"u\":[0.8660254037844386],\"v\":[-0.8660254037844386],\"w\":[0.0],\"x\":[0.8660254037844386],\"y\":[-0.8660254037844386],\"z\":[0.0],\"type\":\"cone\"},{\"anchor\":\"tail\",\"colorscale\":[[0,\"blue\"],[1,\"blue\"]],\"showlegend\":false,\"showscale\":false,\"sizemode\":\"absolute\",\"sizeref\":0.3,\"u\":[1],\"v\":[1],\"w\":[1],\"x\":[1],\"y\":[1],\"z\":[1],\"type\":\"cone\"}],                        {\"template\":{\"data\":{\"histogram2dcontour\":[{\"type\":\"histogram2dcontour\",\"colorbar\":{\"outlinewidth\":0,\"ticks\":\"\"},\"colorscale\":[[0.0,\"#0d0887\"],[0.1111111111111111,\"#46039f\"],[0.2222222222222222,\"#7201a8\"],[0.3333333333333333,\"#9c179e\"],[0.4444444444444444,\"#bd3786\"],[0.5555555555555556,\"#d8576b\"],[0.6666666666666666,\"#ed7953\"],[0.7777777777777778,\"#fb9f3a\"],[0.8888888888888888,\"#fdca26\"],[1.0,\"#f0f921\"]]}],\"choropleth\":[{\"type\":\"choropleth\",\"colorbar\":{\"outlinewidth\":0,\"ticks\":\"\"}}],\"histogram2d\":[{\"type\":\"histogram2d\",\"colorbar\":{\"outlinewidth\":0,\"ticks\":\"\"},\"colorscale\":[[0.0,\"#0d0887\"],[0.1111111111111111,\"#46039f\"],[0.2222222222222222,\"#7201a8\"],[0.3333333333333333,\"#9c179e\"],[0.4444444444444444,\"#bd3786\"],[0.5555555555555556,\"#d8576b\"],[0.6666666666666666,\"#ed7953\"],[0.7777777777777778,\"#fb9f3a\"],[0.8888888888888888,\"#fdca26\"],[1.0,\"#f0f921\"]]}],\"heatmap\":[{\"type\":\"heatmap\",\"colorbar\":{\"outlinewidth\":0,\"ticks\":\"\"},\"colorscale\":[[0.0,\"#0d0887\"],[0.1111111111111111,\"#46039f\"],[0.2222222222222222,\"#7201a8\"],[0.3333333333333333,\"#9c179e\"],[0.4444444444444444,\"#bd3786\"],[0.5555555555555556,\"#d8576b\"],[0.6666666666666666,\"#ed7953\"],[0.7777777777777778,\"#fb9f3a\"],[0.8888888888888888,\"#fdca26\"],[1.0,\"#f0f921\"]]}],\"heatmapgl\":[{\"type\":\"heatmapgl\",\"colorbar\":{\"outlinewidth\":0,\"ticks\":\"\"},\"colorscale\":[[0.0,\"#0d0887\"],[0.1111111111111111,\"#46039f\"],[0.2222222222222222,\"#7201a8\"],[0.3333333333333333,\"#9c179e\"],[0.4444444444444444,\"#bd3786\"],[0.5555555555555556,\"#d8576b\"],[0.6666666666666666,\"#ed7953\"],[0.7777777777777778,\"#fb9f3a\"],[0.8888888888888888,\"#fdca26\"],[1.0,\"#f0f921\"]]}],\"contourcarpet\":[{\"type\":\"contourcarpet\",\"colorbar\":{\"outlinewidth\":0,\"ticks\":\"\"}}],\"contour\":[{\"type\":\"contour\",\"colorbar\":{\"outlinewidth\":0,\"ticks\":\"\"},\"colorscale\":[[0.0,\"#0d0887\"],[0.1111111111111111,\"#46039f\"],[0.2222222222222222,\"#7201a8\"],[0.3333333333333333,\"#9c179e\"],[0.4444444444444444,\"#bd3786\"],[0.5555555555555556,\"#d8576b\"],[0.6666666666666666,\"#ed7953\"],[0.7777777777777778,\"#fb9f3a\"],[0.8888888888888888,\"#fdca26\"],[1.0,\"#f0f921\"]]}],\"surface\":[{\"type\":\"surface\",\"colorbar\":{\"outlinewidth\":0,\"ticks\":\"\"},\"colorscale\":[[0.0,\"#0d0887\"],[0.1111111111111111,\"#46039f\"],[0.2222222222222222,\"#7201a8\"],[0.3333333333333333,\"#9c179e\"],[0.4444444444444444,\"#bd3786\"],[0.5555555555555556,\"#d8576b\"],[0.6666666666666666,\"#ed7953\"],[0.7777777777777778,\"#fb9f3a\"],[0.8888888888888888,\"#fdca26\"],[1.0,\"#f0f921\"]]}],\"mesh3d\":[{\"type\":\"mesh3d\",\"colorbar\":{\"outlinewidth\":0,\"ticks\":\"\"}}],\"scatter\":[{\"fillpattern\":{\"fillmode\":\"overlay\",\"size\":10,\"solidity\":0.2},\"type\":\"scatter\"}],\"parcoords\":[{\"type\":\"parcoords\",\"line\":{\"colorbar\":{\"outlinewidth\":0,\"ticks\":\"\"}}}],\"scatterpolargl\":[{\"type\":\"scatterpolargl\",\"marker\":{\"colorbar\":{\"outlinewidth\":0,\"ticks\":\"\"}}}],\"bar\":[{\"error_x\":{\"color\":\"#2a3f5f\"},\"error_y\":{\"color\":\"#2a3f5f\"},\"marker\":{\"line\":{\"color\":\"#E5ECF6\",\"width\":0.5},\"pattern\":{\"fillmode\":\"overlay\",\"size\":10,\"solidity\":0.2}},\"type\":\"bar\"}],\"scattergeo\":[{\"type\":\"scattergeo\",\"marker\":{\"colorbar\":{\"outlinewidth\":0,\"ticks\":\"\"}}}],\"scatterpolar\":[{\"type\":\"scatterpolar\",\"marker\":{\"colorbar\":{\"outlinewidth\":0,\"ticks\":\"\"}}}],\"histogram\":[{\"marker\":{\"pattern\":{\"fillmode\":\"overlay\",\"size\":10,\"solidity\":0.2}},\"type\":\"histogram\"}],\"scattergl\":[{\"type\":\"scattergl\",\"marker\":{\"colorbar\":{\"outlinewidth\":0,\"ticks\":\"\"}}}],\"scatter3d\":[{\"type\":\"scatter3d\",\"line\":{\"colorbar\":{\"outlinewidth\":0,\"ticks\":\"\"}},\"marker\":{\"colorbar\":{\"outlinewidth\":0,\"ticks\":\"\"}}}],\"scattermapbox\":[{\"type\":\"scattermapbox\",\"marker\":{\"colorbar\":{\"outlinewidth\":0,\"ticks\":\"\"}}}],\"scatterternary\":[{\"type\":\"scatterternary\",\"marker\":{\"colorbar\":{\"outlinewidth\":0,\"ticks\":\"\"}}}],\"scattercarpet\":[{\"type\":\"scattercarpet\",\"marker\":{\"colorbar\":{\"outlinewidth\":0,\"ticks\":\"\"}}}],\"carpet\":[{\"aaxis\":{\"endlinecolor\":\"#2a3f5f\",\"gridcolor\":\"white\",\"linecolor\":\"white\",\"minorgridcolor\":\"white\",\"startlinecolor\":\"#2a3f5f\"},\"baxis\":{\"endlinecolor\":\"#2a3f5f\",\"gridcolor\":\"white\",\"linecolor\":\"white\",\"minorgridcolor\":\"white\",\"startlinecolor\":\"#2a3f5f\"},\"type\":\"carpet\"}],\"table\":[{\"cells\":{\"fill\":{\"color\":\"#EBF0F8\"},\"line\":{\"color\":\"white\"}},\"header\":{\"fill\":{\"color\":\"#C8D4E3\"},\"line\":{\"color\":\"white\"}},\"type\":\"table\"}],\"barpolar\":[{\"marker\":{\"line\":{\"color\":\"#E5ECF6\",\"width\":0.5},\"pattern\":{\"fillmode\":\"overlay\",\"size\":10,\"solidity\":0.2}},\"type\":\"barpolar\"}],\"pie\":[{\"automargin\":true,\"type\":\"pie\"}]},\"layout\":{\"autotypenumbers\":\"strict\",\"colorway\":[\"#636efa\",\"#EF553B\",\"#00cc96\",\"#ab63fa\",\"#FFA15A\",\"#19d3f3\",\"#FF6692\",\"#B6E880\",\"#FF97FF\",\"#FECB52\"],\"font\":{\"color\":\"#2a3f5f\"},\"hovermode\":\"closest\",\"hoverlabel\":{\"align\":\"left\"},\"paper_bgcolor\":\"white\",\"plot_bgcolor\":\"#E5ECF6\",\"polar\":{\"bgcolor\":\"#E5ECF6\",\"angularaxis\":{\"gridcolor\":\"white\",\"linecolor\":\"white\",\"ticks\":\"\"},\"radialaxis\":{\"gridcolor\":\"white\",\"linecolor\":\"white\",\"ticks\":\"\"}},\"ternary\":{\"bgcolor\":\"#E5ECF6\",\"aaxis\":{\"gridcolor\":\"white\",\"linecolor\":\"white\",\"ticks\":\"\"},\"baxis\":{\"gridcolor\":\"white\",\"linecolor\":\"white\",\"ticks\":\"\"},\"caxis\":{\"gridcolor\":\"white\",\"linecolor\":\"white\",\"ticks\":\"\"}},\"coloraxis\":{\"colorbar\":{\"outlinewidth\":0,\"ticks\":\"\"}},\"colorscale\":{\"sequential\":[[0.0,\"#0d0887\"],[0.1111111111111111,\"#46039f\"],[0.2222222222222222,\"#7201a8\"],[0.3333333333333333,\"#9c179e\"],[0.4444444444444444,\"#bd3786\"],[0.5555555555555556,\"#d8576b\"],[0.6666666666666666,\"#ed7953\"],[0.7777777777777778,\"#fb9f3a\"],[0.8888888888888888,\"#fdca26\"],[1.0,\"#f0f921\"]],\"sequentialminus\":[[0.0,\"#0d0887\"],[0.1111111111111111,\"#46039f\"],[0.2222222222222222,\"#7201a8\"],[0.3333333333333333,\"#9c179e\"],[0.4444444444444444,\"#bd3786\"],[0.5555555555555556,\"#d8576b\"],[0.6666666666666666,\"#ed7953\"],[0.7777777777777778,\"#fb9f3a\"],[0.8888888888888888,\"#fdca26\"],[1.0,\"#f0f921\"]],\"diverging\":[[0,\"#8e0152\"],[0.1,\"#c51b7d\"],[0.2,\"#de77ae\"],[0.3,\"#f1b6da\"],[0.4,\"#fde0ef\"],[0.5,\"#f7f7f7\"],[0.6,\"#e6f5d0\"],[0.7,\"#b8e186\"],[0.8,\"#7fbc41\"],[0.9,\"#4d9221\"],[1,\"#276419\"]]},\"xaxis\":{\"gridcolor\":\"white\",\"linecolor\":\"white\",\"ticks\":\"\",\"title\":{\"standoff\":15},\"zerolinecolor\":\"white\",\"automargin\":true,\"zerolinewidth\":2},\"yaxis\":{\"gridcolor\":\"white\",\"linecolor\":\"white\",\"ticks\":\"\",\"title\":{\"standoff\":15},\"zerolinecolor\":\"white\",\"automargin\":true,\"zerolinewidth\":2},\"scene\":{\"xaxis\":{\"backgroundcolor\":\"#E5ECF6\",\"gridcolor\":\"white\",\"linecolor\":\"white\",\"showbackground\":true,\"ticks\":\"\",\"zerolinecolor\":\"white\",\"gridwidth\":2},\"yaxis\":{\"backgroundcolor\":\"#E5ECF6\",\"gridcolor\":\"white\",\"linecolor\":\"white\",\"showbackground\":true,\"ticks\":\"\",\"zerolinecolor\":\"white\",\"gridwidth\":2},\"zaxis\":{\"backgroundcolor\":\"#E5ECF6\",\"gridcolor\":\"white\",\"linecolor\":\"white\",\"showbackground\":true,\"ticks\":\"\",\"zerolinecolor\":\"white\",\"gridwidth\":2}},\"shapedefaults\":{\"line\":{\"color\":\"#2a3f5f\"}},\"annotationdefaults\":{\"arrowcolor\":\"#2a3f5f\",\"arrowhead\":0,\"arrowwidth\":1},\"geo\":{\"bgcolor\":\"white\",\"landcolor\":\"#E5ECF6\",\"subunitcolor\":\"white\",\"showland\":true,\"showlakes\":true,\"lakecolor\":\"white\"},\"title\":{\"x\":0.05},\"mapbox\":{\"style\":\"light\"}}},\"scene\":{\"xaxis\":{\"range\":[-1.5,1.5]},\"yaxis\":{\"range\":[-1.5,1.5]},\"zaxis\":{\"range\":[-1.5,1.5]},\"aspectmode\":\"cube\"},\"width\":700,\"height\":700},                        {\"responsive\": true}                    ).then(function(){\n",
       "                            \n",
       "var gd = document.getElementById('d57f4eed-2ec2-4161-9556-6c1f96ff934f');\n",
       "var x = new MutationObserver(function (mutations, observer) {{\n",
       "        var display = window.getComputedStyle(gd).display;\n",
       "        if (!display || display === 'none') {{\n",
       "            console.log([gd, 'removed!']);\n",
       "            Plotly.purge(gd);\n",
       "            observer.disconnect();\n",
       "        }}\n",
       "}});\n",
       "\n",
       "// Listen for the removal of the full notebook cells\n",
       "var notebookContainer = gd.closest('#notebook-container');\n",
       "if (notebookContainer) {{\n",
       "    x.observe(notebookContainer, {childList: true});\n",
       "}}\n",
       "\n",
       "// Listen for the clearing of the current output cell\n",
       "var outputEl = gd.closest('.output');\n",
       "if (outputEl) {{\n",
       "    x.observe(outputEl, {childList: true});\n",
       "}}\n",
       "\n",
       "                        })                };                });            </script>        </div>"
      ]
     },
     "metadata": {},
     "output_type": "display_data"
    }
   ],
   "source": [
    "## Install Plotly\n",
    "\n",
    "import numpy as np\n",
    "import plotly.graph_objects as go\n",
    "import ipywidgets as widgets\n",
    "from IPython.display import display\n",
    "\n",
    "## Define the orthogonal vectors and the axis of rotation\n",
    "\n",
    "# Orthogonal vectors\n",
    "v1 = np.array([-1/2, -1/2, 1]) # v2 in the exercise\n",
    "v2 = np.array([np.sqrt(3)/2, -np.sqrt(3)/2, 0]) # v3 in the exercise\n",
    "\n",
    "axis = np.array([1, 1, 1]) # axis of rotation: # v1 in the exercise\n",
    "\n",
    "# Define the plane\n",
    "u = np.linspace(-1, 1, 10)\n",
    "v = np.linspace(-1, 1, 10)\n",
    "U, V = np.meshgrid(u, v)\n",
    "X = U * v1[0] + V * v2[0]\n",
    "Y = U * v1[1] + V * v2[1]\n",
    "Z = U * v1[2] + V * v2[2]\n",
    "\n",
    "# Create the 3D plot\n",
    "fig = go.Figure()\n",
    "\n",
    "# Add vectors to the plot without markers\n",
    "fig.add_trace(go.Scatter3d(x=[0, v1[0]], y=[0, v1[1]], z=[0, v1[2]],\n",
    "                            mode='lines', line=dict(color='red', width=8)))\n",
    "fig.add_trace(go.Scatter3d(x=[0, v2[0]], y=[0, v2[1]], z=[0, v2[2]],\n",
    "                            mode='lines', line=dict(color='green', width=8)))\n",
    "fig.add_trace(go.Scatter3d(x=[0, axis[0]], y=[0, axis[1]], z=[0, axis[2]],\n",
    "                            mode='lines', name='axis', line=dict(color='blue', width=8)))\n",
    "\n",
    "# Add the plane\n",
    "fig.add_trace(go.Surface(x=X, y=Y, z=Z, colorscale=[[0, 'cyan'], [1, 'cyan']], opacity=0.5, showscale=False))\n",
    "\n",
    "# Add arrowheads (cones) at the end of the vectors\n",
    "fig.add_trace(go.Cone(x=[v1[0]], y=[v1[1]], z=[v1[2]],\n",
    "                      u=[v1[0]], v=[v1[1]], w=[v1[2]],\n",
    "                      colorscale=[[0, 'red'], [1, 'red']], sizemode='absolute', sizeref=0.3, anchor=\"tail\", showscale=False, showlegend=False))\n",
    "fig.add_trace(go.Cone(x=[v2[0]], y=[v2[1]], z=[v2[2]],\n",
    "                      u=[v2[0]], v=[v2[1]], w=[v2[2]],\n",
    "                      colorscale=[[0, 'green'], [1, 'green']], sizemode='absolute', sizeref=0.3, anchor=\"tail\", showscale=False, showlegend=False))\n",
    "fig.add_trace(go.Cone(x=[axis[0]], y=[axis[1]], z=[axis[2]],\n",
    "                      u=[axis[0]], v=[axis[1]], w=[axis[2]],\n",
    "                      colorscale=[[0, 'blue'], [1, 'blue']], sizemode='absolute', sizeref=0.3, anchor=\"tail\", showscale=False, showlegend=False))\n",
    "\n",
    "# Set the layout\n",
    "fig.update_layout(scene=dict(\n",
    "                    xaxis=dict(range=[-1.5, 1.5]),\n",
    "                    yaxis=dict(range=[-1.5, 1.5]),\n",
    "                    zaxis=dict(range=[-1.5, 1.5]),\n",
    "                    aspectmode='cube'),\n",
    "                  width=700, height=700)"
   ]
  },
  {
   "cell_type": "markdown",
   "metadata": {},
   "source": [
    "## Invariant Subspaces and Linear Dynamical Systems\n",
    "\n",
    "Here we give a very brief preview of the role of invariant subspaces in dynamical systems. You will see this in much more detail in ESE 2100.\n",
    "\n",
    "We call a subset $S \\subset \\mathbb{R}^n$ _invariant for $\\dot{\\vv x} = Ax$_ if, whenever $\\vv x(0) = \\vv b \\in S$ then the solution $\\vv x(t) \\in S$ for all $t \\geq 0$. It turns out, invariant subspaces of $A$ precisely characterize these subsets:\n",
    "\n",
    "::::{prf:proposition}\n",
    ":label: invariant_prop\n",
    "If $S \\subset \\mathbb{R}^n$ is an invariant subspace of $A$, then it is invariant under $\\dot{\\vv x} = Ax$.\n",
    "\n",
    ":::{prf:proof} Proof of [](#invariant_prop)\n",
    ":label: proof-invariant_prop\n",
    ":class: dropdown\n",
    "\n",
    "The proof follows from our solution $\\vv x(t) = e^{At}\\vv x(0) = e^{At}\\vv b$. Using ([MPS](./083-Matrix_exponential.ipynb#MPS)), we have:\n",
    "\n",
    "\\begin{equation}\n",
    "\\label{prop_eqn_1}\n",
    "\\vv x(t) = e^{At}\\vv b = \\sum_{k=0}^{\\infty} \\frac{t^k}{k!} A^k \\vv b. \n",
    "\\end{equation}\n",
    "\n",
    "But if $\\vv b \\in S$, then $A\\vv b \\in S$, $A^2\\vv b \\in S$, and in general $A^k\\vv b \\in S$ for any $k \\geq 0$. Since every term in [](#prop_eqn_1) belongs to $S$, then so does their (infinite) sum$^{1}$, hence $x(t) \\in S$.\n",
    "\n",
    "\n",
    "$^{1}$ This is because a subspace is a _closed set_, and so we are allowed to take infinite sums.\n",
    ":::\n",
    "::::\n",
    "\n"
   ]
  },
  {
   "cell_type": "markdown",
   "metadata": {},
   "source": [
    "We will focus on the case of complete matrices $A$ with real eigenvalues and eigenvectors; extensions to the general case are similar, and rely on using Jordan blocks and taking Real/Imaginary parts of complex eigenvectors.\n",
    "\n",
    ":::{prf:definition} Invariant Subspaces of Complete Matrices\n",
    ":label: inv_sub_complete_mat_defn\n",
    "Suppose $A \\in \\mathbb{R}^{n \\times n}$ is complete with real eigenvalues/eigenvectors $(\\lambda_1, \\vv v_1), \\ldots, (\\lambda_n, \\vv v_n)$. Let's split the eigenvectors according to whether $\\lambda_i < 0$, $\\lambda_i = 0$, $\\lambda_i > 0$, and define the following invariant subspaces:\n",
    "\n",
    "1. The _stable subspace_ $S \\subset \\mathbb{R}^n$ spanned by $\\vv v_i$ such that $\\lambda_i < 0$\n",
    "2. The _center subspace_ $C \\subset \\mathbb{R}^n$ spanned by $\\vv v_i$ such that $\\lambda_i = 0$\n",
    "3. The _unstable subspace_ $U \\subset \\mathbb{R}^n$ spanned by $\\vv v_i$ such that $\\lambda_i > 0$\n",
    ":::\n",
    "\n",
    "[These subspaces](#inv_sub_complete_mat_defn) are important, as they describe the long-term behavior of solutions with initial conditions within them. Before elucidating this observation, we make the following comments:\n",
    ":::{note}\n",
    "1. If there are no eigenvalues of the specified type, we set the corresponding subspace to $\\{\\vv 0\\}$.\n",
    "2. $S \\cap C = S \\cap U = C \\cap U = \\{\\vv 0\\}$, i.e., their pairwise intersections are trivial.\n",
    "3. $S + C + U = \\mathbb{R}^n$, i.e., any vector $\\vv v \\in \\mathbb{R}^n$ can be uniquely written as a sum $\\vv v = \\vv s + \\vv c + \\vv u$ with $\\vv s \\in S$, $\\vv c \\in C$, $\\vv u \\in U$.\n",
    ":::\n",
    "\n",
    "Remembering that to each eigenvalue/vector pair $(\\lambda_i, \\vv v_i)$ we can associate an eigenfunction $\\vv x_i(t) = e^{\\lambda_i t}\\vv v_i$, we can characterize the following long-term behavior of solutions to $\\dot{\\vv x} = A\\vv x$:\n",
    "\n"
   ]
  },
  {
   "attachments": {},
   "cell_type": "markdown",
   "metadata": {},
   "source": [
    ":::{prf:theorem}\n",
    ":label: inv_sub_complete_mat_thm\n",
    "Let $A \\in \\mathbb{R}^{n \\times n}$ be a complete matrix with real eigenvalues/eigenvectors. Let $\\vv 0 \\neq \\vv b \\in \\mathbb{R}^n$ and $\\vv x(t)$ be a solution to $\\dot{\\vv x} = A\\vv x$, $\\vv x(0) = \\vv b$. Then, $\\vv b$, and hence $\\vv x(t)$, are in:\n",
    "1. The stable subspace $S$ if and only if $\\|\\vv x(t)\\| \\to 0$ as $t \\to \\infty$\n",
    "2. The center subspace $C$ if and only if $\\vv x(t) = \\vv b$ for all $t \\in \\mathbb{R}$\n",
    "3. The unstable subspace $U$ if and only if $\\|\\vv x(t)\\| \\to \\infty$ as $t \\to \\infty$\n",
    ":::\n",
    "\n",
    "[This theorem](#inv_sub_complete_mat_thm) tells us from what subsets of $\\mathbb{R}^n$ we should pick initial conditions $\\vv x(0) = \\vv b$ if we want our solutions to decay to zero (stable), not move (center), or blow up to infinity (unstable). This has very important applications in analyzing the behavior of dynamical systems, which we'll explore in the case study.\n",
    "\n",
    ":::{prf:example}\n",
    ":label: eg_1\n",
    "\n",
    "The matrix $A = \\begin{bmatrix} -2 & 1 & 0 \\\\ 1 & -1 & 1 \\\\ 0 & 1 & -2 \\end{bmatrix}$ has eigenvalue/vector pairs\n",
    "\n",
    "$$\n",
    "\\lambda_1 = 0, \\vv v_1 = \\begin{bmatrix} 1 \\\\ 2 \\\\ 1 \\end{bmatrix}, \\quad \n",
    "\\lambda_2 = -2, \\vv v_2 = \\begin{bmatrix} -1 \\\\ 0 \\\\ 1 \\end{bmatrix}, \\quad\n",
    "\\lambda_3 = -3,\\vv  v_3 = \\begin{bmatrix} 1 \\\\ -1 \\\\ 1 \\end{bmatrix}.\n",
    "$$\n",
    "\n",
    "Thus the stable subspace is spanned by $\\vv v_2$ and $\\vv v_3$, whose nonzero solutions tend to $\\vv 0$ as $t \\to \\infty$ (exponentially quickly); the center subspace is the line spanned by $\\vv v_1$, all of whose solutions are constant. In this case, no eigenvalues are positive and hence the unstable subspace is trivial: $U = \\{\\vv 0\\}$.\n",
    ":::\n",
    "\n"
   ]
  },
  {
   "cell_type": "markdown",
   "metadata": {},
   "source": [
    "[![Binder](https://mybinder.org/badge_logo.svg)](https://mybinder.org/v2/gh/nikolaimatni/ese-2030/HEAD?labpath=/06_Ch_7_Dynamics/084-Invariant_Sub.ipynb)"
   ]
  },
  {
   "cell_type": "code",
   "execution_count": null,
   "metadata": {},
   "outputs": [],
   "source": []
  }
 ],
 "metadata": {
  "kernelspec": {
   "display_name": "Python 3 (ipykernel)",
   "language": "python",
   "name": "python3"
  },
  "language_info": {
   "codemirror_mode": {
    "name": "ipython",
    "version": 3
   },
   "file_extension": ".py",
   "mimetype": "text/x-python",
   "name": "python",
   "nbconvert_exporter": "python",
   "pygments_lexer": "ipython3",
   "version": "3.8.19"
  }
 },
 "nbformat": 4,
 "nbformat_minor": 4
}
