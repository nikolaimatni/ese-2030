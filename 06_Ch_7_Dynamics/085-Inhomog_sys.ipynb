{
 "cells": [
  {
   "cell_type": "markdown",
   "metadata": {},
   "source": [
    "---\n",
    "title: 7.5 Inhomogeneous Systems\n",
    "subject: Dynamics\n",
    "subtitle: Matrix exponential solves the initial value problem\n",
    "short_title: 7.5 Inhomogeneous Systems\n",
    "authors:\n",
    "  - name: Nikolai Matni\n",
    "    affiliations:\n",
    "      - Dept. of Electrical and Systems Engineering\n",
    "      - University of Pennsylvania\n",
    "    email: nmatni@seas.upenn.edu\n",
    "license: CC-BY-4.0\n",
    "keywords: \n",
    "math:\n",
    "  '\\vv': '\\mathbf{#1}'\n",
    "  '\\bm': '\\begin{bmatrix}'\n",
    "  '\\em': '\\end{bmatrix}'\n",
    "  '\\R': '\\mathbb{R}'\n",
    "---"
   ]
  },
  {
   "cell_type": "markdown",
   "metadata": {},
   "source": [
    "[![Binder](https://mybinder.org/badge_logo.svg)](https://mybinder.org/v2/gh/nikolaimatni/ese-2030/HEAD?labpath=/06_Ch_7_Dynamics/085-Inhomog_sys.ipynb)\n",
    "\n",
    "{doc}`Lecture notes <../lecture_notes/Lecture 14 - Invariant Subspaces, Inhomogeneous Systems, and Applications to Mechanical Systems.pdf>`"
   ]
  },
  {
   "cell_type": "markdown",
   "metadata": {},
   "source": [
    "## Reading\n",
    "\n",
    "Material related to this page, as well as additional exercises, can be found in ALA 10.4 and ALA 10.6.\n",
    "\n",
    "## Learning Objectives\n",
    "\n",
    "By the end of this page, you should know:\n",
    "- the equation of an inhomogeneous system\n",
    "- the solution of a scalar inhomogeneous system\n",
    "- the solution of a vector inhomogeneous system"
   ]
  },
  {
   "cell_type": "markdown",
   "metadata": {},
   "source": [
    "## Definition\n",
    "\n",
    "Many systems of interest can be modeled by first-order _inhomogeneous_ linear systems of ordinary differential equations of the form:\n",
    "\n",
    "\\begin{equation}\n",
    "\\label{sys}\n",
    "\\dot{\\vv x} = A\\vv x + \\vv f, \\quad (\\text{SYS})\n",
    "\\end{equation}\n",
    "\n",
    "where $A \\in \\mathbb{R}^{n \\times n}$, $\\vv x(t) \\in \\mathbb{R}^n$ is the solution, and $\\vv f(t) \\in \\mathbb{R}^n$ is a known vector-valued function of $t$ acting as an external force on the system.\n",
    "\n",
    "## Solution for the Scalar\n",
    "\n",
    "We rely on [our work](../01_Ch_2_Vector_Spaces_and_Bases/035-kernel_image.ipynb#soln_thm) on general linear systems to know that the solution to ([SYS](#sys)) will have the general form given by the superposition:\n",
    "\n",
    "$$\n",
    "\\vv x(t) = \\vv x^*(t) + \\vv z(t),\n",
    "$$\n",
    "\n",
    "where $\\vv x^*(t)$ is a particular solution representing a response to the forcing, and $\\vv z(t)$ is a solution to the corresponding homogeneous system $\\dot{\\vv z} = A\\vv z$.\n",
    "\n",
    "Since we already know that $\\vv z(t) = e^{At}\\vv z(0)$, all that's left to work out is the particular solution $\\vv x^*(t)$ in response to the forcing $\\vv f(t)$.\n",
    "\n",
    "We'll start, as before, by recalling the scalar case. To solve $\\dot{ x} = a x + f$, we set $x(t) = e^{at}v(t)$, where $v(t)$ is a function to be determined. Differentiating, we compute\n",
    "\n",
    "$$\n",
    "\\dot{x} = ae^{at}v(t) + e^{at}\\dot{v} = ax + e^{at}\\dot{v},\n",
    "$$\n",
    "\n",
    "from which we conclude $x(t)$ satisfies $\\dot{x} = ax + f$ if and only if $\\dot{v} = e^{-ta}f$, i.e., \n",
    "if and only if $v(t) = \\int_{t_0}^t e^{-\\tau a}f(\\tau)d\\tau + v(t_0)$, where $v(0) = e^{-t_0a}x(t_0)$.\n",
    "\n",
    "## Solution for the Vector\n",
    "\n",
    "Perhaps unsurprisingly, we can extend this method to the vector setting via the matrix exponential.\n",
    "\n",
    "We replace our initial guess with $\\vv x(t) = e^{At}\\vv v(t)$, where $\\vv v(t)$ is a vector-valued function to be determined. We compute the derivative $\\dot{\\vv x}$ as:\n",
    "\n",
    "$$\n",
    "\\dot{\\vv x} = \\frac{d}{dt}(e^{At}\\vv v) = \\frac{d}{dt}(e^{At})\\vv v + e^{At}\\frac{d\\vv v}{dt} = Ae^{At}\\vv v + e^{At}\\dot{\\vv v} = A\\vv x + e^{At}\\dot{\\vv v}\n",
    "$$\n",
    "\n",
    "from which we conclude that $\\dot{\\vv v} = e^{-At}\\vv f$. We can integrate both sides to obtain, via the [Fundamental Theorem of Calculus](https://en.wikipedia.org/wiki/Fundamental_theorem_of_calculus#Corollary), that:\n",
    "\n",
    "$$\n",
    "\\vv v(t) = \\vv v(t_0) + \\int_{t_0}^t e^{-A \\tau}f(\\tau)d\\tau, \\quad \\text{where } \\vv v(t_0) = e^{-t_0A}x(t_0)\n",
    "$$\n",
    "\n",
    "This is the last piece we needed to write the general solution to the inhomogeneous initial value problem.\n",
    "\n",
    ":::{prf:theorem}\n",
    ":label: inhom_soln_thm\n",
    "The solution to the initial value problem\n",
    "\\begin{equation}\n",
    "\\label{inhom_soln_eqn}\n",
    "\\dot{\\vv x} = A\\vv x + \\vv f, \\quad \\vv x(t_0) = \\vv b \\quad \\text{is} \\quad \\vv x(t) = e^{(t-t_0)A}\\vv b + \\int_{t_0}^t e^{(t-\\tau)A}f(\\tau)d\\tau\n",
    "\\end{equation}\n",
    ":::\n"
   ]
  },
  {
   "cell_type": "markdown",
   "metadata": {},
   "source": [
    "\n",
    "\n",
    "**TO DO** Please transcribe Example 10.36, but replace u with x for notation, and compute $e^{At}$ via diagonalization. Make sure to highlight $f(t) = \\begin{bmatrix} 0 \\\\ e^t \\end{bmatrix}$\n"
   ]
  },
  {
   "cell_type": "markdown",
   "metadata": {},
   "source": [
    "[![Binder](https://mybinder.org/badge_logo.svg)](https://mybinder.org/v2/gh/nikolaimatni/ese-2030/HEAD?labpath=/06_Ch_7_Dynamics/085-Inhomog_sys.ipynb)"
   ]
  },
  {
   "cell_type": "code",
   "execution_count": null,
   "metadata": {},
   "outputs": [],
   "source": []
  }
 ],
 "metadata": {
  "kernelspec": {
   "display_name": "Python 3 (ipykernel)",
   "language": "python",
   "name": "python3"
  },
  "language_info": {
   "codemirror_mode": {
    "name": "ipython",
    "version": 3
   },
   "file_extension": ".py",
   "mimetype": "text/x-python",
   "name": "python",
   "nbconvert_exporter": "python",
   "pygments_lexer": "ipython3",
   "version": "3.8.19"
  }
 },
 "nbformat": 4,
 "nbformat_minor": 4
}
