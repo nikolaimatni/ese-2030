{
 "cells": [
  {
   "cell_type": "markdown",
   "id": "74ede85e-6606-4cb7-b31a-03987b708ebd",
   "metadata": {},
   "source": [
    "---\n",
    "title: \"10.X Case Study: Recommender Systems\"\n",
    "subject: Singular Value Decomposition Applications\n",
    "subtitle: Collaborative Filtering with SVD\n",
    "short_title: \"10.X Recommender Systems\"\n",
    "authors:\n",
    "  - name: Nikolai Matni\n",
    "    affiliations:\n",
    "      - Dept. of Electrical and Systems Engineering\n",
    "      - University of Pennsylvania\n",
    "    email: nmatni@seas.upenn.edu\n",
    "license: CC-BY-4.0\n",
    "keywords: nodes, edges, Kirchoff`s law\n",
    "math:\n",
    "  '\\vv': '\\mathbf{#1}'\n",
    "  '\\bm': '\\begin{bmatrix}'\n",
    "  '\\em': '\\end{bmatrix}'\n",
    "  '\\R': '\\mathbb{R}'\n",
    "---"
   ]
  },
  {
   "cell_type": "markdown",
   "id": "7ec41545-6544-46c0-b962-3e45a227dce8",
   "metadata": {},
   "source": [
    "[![Binder](https://mybinder.org/badge_logo.svg)](https://mybinder.org/v2/gh/nikolaimatni/ese-2030/HEAD?labpath=/09_Ch_10_Singular_Value_Decomposition/114-recommender_systems.ipynb)\n",
    "\n",
    "\n",
    "## Learning Objectives\n",
    "\n",
    "By the end of this page, you should know:\n",
    "- the definition of a recommender system based off of collaborative filtering\n",
    "- how to express collaborative filtering as a matrix completion problem\n",
    "- one approach to solve the matrix completion via the singular value decompositon"
   ]
  },
  {
   "cell_type": "markdown",
   "id": "a7845f11-9712-405c-9209-9257643b1ce6",
   "metadata": {},
   "source": [
    "## Types of Recommender System\n",
    "Recommender systems have become a vital part of our digital lives, guiding us towards products, services, and content we might like. Generally speaking, recommender systems are algorithms designed to suggest relevant items to users. These systems are used in various domains such as e-commerce, streaming services, and social media. They enhance user experience by filtering vast amounts of information to deliver personalized content. There are two main categories of recommender systms:\n",
    "\n",
    "* **Content-Based Filtering**: Content-based filtering recommends items to users by analyzing the features of items they have previously liked, matching similar items based on those attributes.\n",
    "* **Collaborative Filtering**: Collaborative filtering recommends items to users by identifying patterns and similarities in user behavior and preferences, leveraging the collective data from multiple users to make personalized suggestions.\n",
    "\n",
    "``` {image} content_based_filtering.webp\n",
    "```\n",
    "``` {image} collaborative_filtering.webp\n",
    "```"
   ]
  },
  {
   "cell_type": "markdown",
   "id": "53a74408-8118-4ca8-9ff7-5b46d61004b4",
   "metadata": {},
   "source": [
    "## Movie Recommendations\n",
    "The tools that we have learned in this class are used in the design of both types of recommender system. In this case study, we will focus on collaborative filtering, where the singular value decomposition plays a critical roll. To start off with, let's download a dataset consisting of movie ratings from various users."
   ]
  },
  {
   "cell_type": "code",
   "execution_count": 3,
   "id": "566a7d60-6cd8-4700-9966-c821c0f11c5b",
   "metadata": {},
   "outputs": [
    {
     "name": "stdout",
     "output_type": "stream",
     "text": [
      "File Name                                             Modified             Size\n",
      "ml-100k/                                       2016-01-29 14:26:28            0\n",
      "ml-100k/allbut.pl                              2000-07-19 16:09:28          716\n",
      "ml-100k/mku.sh                                 2000-07-19 16:09:28          643\n",
      "ml-100k/README                                 2016-01-29 14:26:28         6750\n",
      "ml-100k/u.data                                 2000-07-19 16:09:30      1979173\n",
      "ml-100k/u.genre                                2000-07-19 16:09:30          202\n",
      "ml-100k/u.info                                 2000-07-19 16:09:30           36\n",
      "ml-100k/u.item                                 2000-07-19 16:09:30       236344\n",
      "ml-100k/u.occupation                           2000-07-19 16:09:30          193\n",
      "ml-100k/u.user                                 2000-07-19 16:09:30        22628\n",
      "ml-100k/u1.base                                2001-03-08 12:33:08      1586544\n",
      "ml-100k/u1.test                                2001-03-08 12:32:56       392629\n",
      "ml-100k/u2.base                                2001-03-08 12:33:24      1583948\n",
      "ml-100k/u2.test                                2001-03-08 12:33:12       395225\n",
      "ml-100k/u3.base                                2001-03-08 12:33:38      1582546\n",
      "ml-100k/u3.test                                2001-03-08 12:33:26       396627\n",
      "ml-100k/u4.base                                2001-03-08 12:33:52      1581878\n",
      "ml-100k/u4.test                                2001-03-08 12:33:40       397295\n",
      "ml-100k/u5.base                                2001-03-08 12:34:04      1581776\n",
      "ml-100k/u5.test                                2001-03-08 12:33:54       397397\n",
      "ml-100k/ua.base                                2001-03-08 12:34:18      1792501\n",
      "ml-100k/ua.test                                2001-03-08 12:34:18       186672\n",
      "ml-100k/ub.base                                2001-03-08 12:34:34      1792476\n",
      "ml-100k/ub.test                                2001-03-08 12:34:36       186697\n",
      "Extracting all the files now...\n",
      "Done!\n"
     ]
    }
   ],
   "source": [
    "import urllib.request\n",
    "from zipfile import ZipFile \n",
    "import pandas as pd\n",
    "import numpy as np\n",
    "\n",
    "urllib.request.urlretrieve(\"https://files.grouplens.org/datasets/movielens/ml-100k.zip\", \"data.zip\")\n",
    "\n",
    "file_name = \"data.zip\"\n",
    "with ZipFile(file_name, 'r') as z: \n",
    "\t# printing all the contents of the zip file \n",
    "\tz.printdir() \n",
    "\n",
    "\t# extracting all the files \n",
    "\tprint('Extracting all the files now...') \n",
    "\tz.extractall() \n",
    "\tprint('Done!') \n",
    "\n",
    "ratings_df = pd.read_table('ml-100k/u.data', header=None, sep=r'\\s+').drop(columns=3).rename(columns={0: \"users\", 1: \"movies\", 2: \"ratings\"})\n",
    "movie_info = pd.read_table('ml-100k/u.item', header=None, sep='|', encoding=\"iso-8859-1\")[[0,1]].rename(columns={0:\"movies\", 1:\"movie titles\"})\n",
    "movie_dict = dict(zip(list(movie_info['movies']), list(movie_info['movie titles'])))\n",
    "ratings_df['movie_names'] = ratings_df['movies'].apply(lambda x: movie_dict[x])"
   ]
  },
  {
   "cell_type": "markdown",
   "id": "aee77f28-e785-43c8-b62b-a1b3811748eb",
   "metadata": {},
   "source": [
    "We loaded a dataframe that the ratings info from a collection of users. "
   ]
  },
  {
   "cell_type": "code",
   "execution_count": 5,
   "id": "515c4de7-f795-4b29-9f30-028fb1e0a976",
   "metadata": {
    "scrolled": true
   },
   "outputs": [
    {
     "data": {
      "text/html": [
       "<div>\n",
       "<style scoped>\n",
       "    .dataframe tbody tr th:only-of-type {\n",
       "        vertical-align: middle;\n",
       "    }\n",
       "\n",
       "    .dataframe tbody tr th {\n",
       "        vertical-align: top;\n",
       "    }\n",
       "\n",
       "    .dataframe thead th {\n",
       "        text-align: right;\n",
       "    }\n",
       "</style>\n",
       "<table border=\"1\" class=\"dataframe\">\n",
       "  <thead>\n",
       "    <tr style=\"text-align: right;\">\n",
       "      <th></th>\n",
       "      <th>users</th>\n",
       "      <th>movies</th>\n",
       "      <th>ratings</th>\n",
       "      <th>movie_names</th>\n",
       "    </tr>\n",
       "  </thead>\n",
       "  <tbody>\n",
       "    <tr>\n",
       "      <th>0</th>\n",
       "      <td>196</td>\n",
       "      <td>242</td>\n",
       "      <td>3</td>\n",
       "      <td>Kolya (1996)</td>\n",
       "    </tr>\n",
       "    <tr>\n",
       "      <th>1</th>\n",
       "      <td>186</td>\n",
       "      <td>302</td>\n",
       "      <td>3</td>\n",
       "      <td>L.A. Confidential (1997)</td>\n",
       "    </tr>\n",
       "    <tr>\n",
       "      <th>2</th>\n",
       "      <td>22</td>\n",
       "      <td>377</td>\n",
       "      <td>1</td>\n",
       "      <td>Heavyweights (1994)</td>\n",
       "    </tr>\n",
       "    <tr>\n",
       "      <th>3</th>\n",
       "      <td>244</td>\n",
       "      <td>51</td>\n",
       "      <td>2</td>\n",
       "      <td>Legends of the Fall (1994)</td>\n",
       "    </tr>\n",
       "    <tr>\n",
       "      <th>4</th>\n",
       "      <td>166</td>\n",
       "      <td>346</td>\n",
       "      <td>1</td>\n",
       "      <td>Jackie Brown (1997)</td>\n",
       "    </tr>\n",
       "  </tbody>\n",
       "</table>\n",
       "</div>"
      ],
      "text/plain": [
       "   users  movies  ratings                 movie_names\n",
       "0    196     242        3                Kolya (1996)\n",
       "1    186     302        3    L.A. Confidential (1997)\n",
       "2     22     377        1         Heavyweights (1994)\n",
       "3    244      51        2  Legends of the Fall (1994)\n",
       "4    166     346        1         Jackie Brown (1997)"
      ]
     },
     "execution_count": 5,
     "metadata": {},
     "output_type": "execute_result"
    }
   ],
   "source": [
    "ratings_df.head()"
   ]
  },
  {
   "cell_type": "markdown",
   "id": "056d0062-c33a-43ba-a562-434b90872b8a",
   "metadata": {},
   "source": [
    "Our dataset now consists only of the movie titles, the user id, and the user rating. Below, we'll look at the number of unique movies, the number of users, the range of the ratings, and the total number of entries in our dataset."
   ]
  },
  {
   "cell_type": "code",
   "execution_count": 6,
   "id": "6111ed85-7cf0-4f47-aa0a-70577240ae5b",
   "metadata": {},
   "outputs": [
    {
     "name": "stdout",
     "output_type": "stream",
     "text": [
      "Number of movies:  1682\n",
      "Number of users:  943\n",
      "Minimum rating:  1  Maximum rating:  5\n",
      "Number of data points:  100000\n"
     ]
    }
   ],
   "source": [
    "print('Number of movies: ', ratings_df['movies'].nunique())\n",
    "print('Number of users: ', ratings_df['users'].nunique())\n",
    "print('Minimum rating: ', np.min(ratings_df['ratings']), ' Maximum rating: ',  np.max(ratings_df['ratings']))\n",
    "print('Number of data points: ', len(ratings_df))"
   ]
  },
  {
   "cell_type": "markdown",
   "id": "cd65063d-2acd-4c46-aa5a-3b4346f37a20",
   "metadata": {},
   "source": [
    "Since there are $100000$ datapoints, and $943$ users, it means that we have reviews for about $80$ movies per user on average. This means that on average there are over $1500$ movies that haven't been watched by any given user. Our goal is to help each user to select which of these movies to watch next! \n",
    "\n",
    "Our first step in doing so will be to arrange the dataset into a matrix, and the users are the rows, and the movies are the columns. For every movie that has been reviewed by a user, we will fill the corresponding entry in the matrix with the ratings given by the user. \n",
    "\n",
    "We first construct our matrix, called \"ratings_matrix\". All entries will be initialized to zero. Then we will iterate through the dataset, and for every (movie, user) pair for which we have a rating, we will add that rating to our matrix. "
   ]
  },
  {
   "cell_type": "code",
   "execution_count": 7,
   "id": "78857296-242f-4556-8230-a773f6ac57ff",
   "metadata": {},
   "outputs": [
    {
     "name": "stdout",
     "output_type": "stream",
     "text": [
      "[[5. 3. 4. ... 0. 0. 0.]\n",
      " [4. 0. 0. ... 0. 0. 0.]\n",
      " [0. 0. 0. ... 0. 0. 0.]\n",
      " ...\n",
      " [5. 0. 0. ... 0. 0. 0.]\n",
      " [0. 0. 0. ... 0. 0. 0.]\n",
      " [0. 5. 0. ... 0. 0. 0.]]\n"
     ]
    }
   ],
   "source": [
    "ratings_matrix = np.zeros((ratings_df['users'].nunique(), ratings_df['movies'].nunique()))\n",
    "for i in range(100000):\n",
    "    ratings_matrix[ratings_df['users'][i]-1, ratings_df['movies'][i]-1] = ratings_df['ratings'][i]\n",
    "\n",
    "print(ratings_matrix)"
   ]
  },
  {
   "cell_type": "markdown",
   "id": "cad427b5-dd68-4a90-8a12-b760482156cc",
   "metadata": {},
   "source": [
    "As the minimum rating was $1.0$, all $0.0$ entries are correspond to (user, movie) pairs where no rating was available in our dataset. Our first step to recommend movies to users will be to *impute*, or fill in, the missing entries. \n",
    "\n",
    "Without additional assumptions about the data, the imputation of this data can be quite random. Therefore, the standard assumption imposed for collaborative recommender systems is the rankings matrix is of rank $k < \\min\\{\\# \\mathrm{Users}, \\# \\mathrm{Movies}\\}$. \n",
    "\n",
    "```{image} ratings_svd.webp\n",
    ":width: 800px\n",
    ":align: center\n",
    "```\n",
    "\n",
    "This assumption suggests that if we apply an singular value decomposition to the ratings matrix, there will be relatively few large singular values. Therefore, using the patterns just in the data that is present in the ratings matrix, we may be able to guess values for entries that are missing. Generally, this problem is referred to as low-rank matrix completion. In this case study, we will take a rather simple approach consisting of three steps:\n",
    "\n",
    "* Fill in the missing entries with some crude guess\n",
    "* Take the singular value decomposition, and truncate all but $k$ singular values.\n",
    "* Construct an estimate for the ratings matrix using the truncated singular vectors and values.\n",
    "\n",
    "There are many ways to fill in the missing entries. One option would be to assign the missing entries to have the average rating over all of the entries that are present. Another option would be to assume that users give fairly similar ratings to all movies, and assign missing entries in each row with the average of the existing entries in each row. Alternatively, we could assume that good movies are appreciated by all users, and assign missing entries in each column with the average of the existing entries in the column. We will stick with the last option for the remainder of this case study, but you are encouraged to try the other possibilities and see how the results change if you are curious!\n",
    "\n",
    "Let's see what this matrix looks like below. "
   ]
  },
  {
   "cell_type": "code",
   "execution_count": 8,
   "id": "4faaf811-c67e-440f-b7cf-43374df4165e",
   "metadata": {},
   "outputs": [
    {
     "name": "stdout",
     "output_type": "stream",
     "text": [
      "[[5.         3.         4.         ... 2.         3.         3.        ]\n",
      " [4.         3.20610687 3.03333333 ... 2.         3.         3.        ]\n",
      " [3.87831858 3.20610687 3.03333333 ... 2.         3.         3.        ]\n",
      " ...\n",
      " [5.         3.20610687 3.03333333 ... 2.         3.         3.        ]\n",
      " [3.87831858 3.20610687 3.03333333 ... 2.         3.         3.        ]\n",
      " [3.87831858 5.         3.03333333 ... 2.         3.         3.        ]]\n"
     ]
    }
   ],
   "source": [
    "for i in range(ratings_matrix.shape[1]):\n",
    "    ratings_matrix[:,i][ratings_matrix[:,i] < 1.0] = np.mean(ratings_matrix[:,i][ratings_matrix[:,i] >= 1.0])\n",
    "\n",
    "print(ratings_matrix)"
   ]
  },
  {
   "cell_type": "markdown",
   "id": "f8655510-5547-4f21-9ceb-847b53d10095",
   "metadata": {},
   "source": [
    "We now see that there are no longer zero entries in the ratings matrix. All missing values have been imputed with a crude guess. Let's now move on to the second step: taking the SVD of the ratings matrix. "
   ]
  },
  {
   "cell_type": "code",
   "execution_count": 9,
   "id": "2a2ca162-9fc4-49fb-ba43-9efa1c589a1e",
   "metadata": {},
   "outputs": [
    {
     "name": "stdout",
     "output_type": "stream",
     "text": [
      "recovery error:  5.231814981243588e-12\n"
     ]
    }
   ],
   "source": [
    "U, Sigma, Vt = np.linalg.svd(ratings_matrix, full_matrices=False)\n",
    "print('recovery error: ', np.max(np.abs(ratings_matrix - U@np.diag(Sigma)@Vt)))"
   ]
  },
  {
   "cell_type": "markdown",
   "id": "17434a9d-675d-4e01-bdb2-b86047a8dd2f",
   "metadata": {},
   "source": [
    "Let's see how the singular values decay by plotting them on a log scale. "
   ]
  },
  {
   "cell_type": "code",
   "execution_count": 10,
   "id": "acfd5788-c775-44d3-bc0a-4b0c8faa5e1a",
   "metadata": {},
   "outputs": [
    {
     "data": {
      "image/png": "[encoded data removed]",
      "text/plain": [
       "<Figure size 640x480 with 1 Axes>"
      ]
     },
     "metadata": {},
     "output_type": "display_data"
    }
   ],
   "source": [
    "import matplotlib.pyplot as plt\n",
    "plt.plot(Sigma)\n",
    "plt.yscale('log')"
   ]
  },
  {
   "cell_type": "markdown",
   "id": "582312d3-6ea4-4fcb-bb9b-36e949bb3e60",
   "metadata": {},
   "source": [
    "The entries quickly decay in importance after about the first hundred. Let's try keeping $100$ singular values for the reconstruction."
   ]
  },
  {
   "cell_type": "code",
   "execution_count": 11,
   "id": "2d51cc67-cc14-4ffa-9bec-55ae3b6eea45",
   "metadata": {},
   "outputs": [],
   "source": [
    "r = 100\n",
    "reconstruction = U[:,:r]@np.diag(Sigma[:r])@Vt[:r]"
   ]
  },
  {
   "cell_type": "code",
   "execution_count": 12,
   "id": "ba7e7cbd-e39c-4763-a9a2-d8e1d0e49e4d",
   "metadata": {},
   "outputs": [
    {
     "name": "stdout",
     "output_type": "stream",
     "text": [
      "[[4.57855584 3.36739444 4.07027843 ... 2.00518534 3.00777801 3.00777801]\n",
      " [3.95700992 3.16199831 2.9810728  ... 1.99404691 2.99107036 2.99107036]\n",
      " [4.07989561 3.21074972 3.07965009 ... 2.00740203 3.01110305 3.01110305]\n",
      " ...\n",
      " [4.58211541 3.20162489 3.14587845 ... 1.99745256 2.99617884 2.99617884]\n",
      " [4.19707872 3.10547995 2.8626482  ... 2.00342195 3.00513293 3.00513293]\n",
      " [3.59635832 4.06925238 3.01920191 ... 2.00957772 3.01436658 3.01436658]]\n"
     ]
    }
   ],
   "source": [
    "print(reconstruction)"
   ]
  },
  {
   "cell_type": "markdown",
   "id": "316a01d9-2af2-4a5c-8b61-5ba38059fdd1",
   "metadata": {},
   "source": [
    "The result looks quite similar to the crudely imputed matrix from earlier, but with some small deviations. Let's use the result to recommend movies to a user. To start, we'll examine the hisotry of ratings by user zero. "
   ]
  },
  {
   "cell_type": "code",
   "execution_count": 21,
   "id": "0035b947-1c7c-43e7-9e1d-830ef3f682a0",
   "metadata": {},
   "outputs": [
    {
     "name": "stdout",
     "output_type": "stream",
     "text": [
      "       users  movies  ratings                         movie_names\n",
      "18       291    1042        4                   Just Cause (1995)\n",
      "23       291     118        2                      Twister (1996)\n",
      "84       291     144        5                     Die Hard (1988)\n",
      "448      291      80        4         Hot Shots! Part Deux (1993)\n",
      "756      291     686        5             Perfect World, A (1993)\n",
      "...      ...     ...      ...                                 ...\n",
      "96563    291     562        4      Quick and the Dead, The (1995)\n",
      "97186    291     833        3                  Bulletproof (1996)\n",
      "98202    291    1047        2                 Multiplicity (1996)\n",
      "98524    291     508        5  People vs. Larry Flynt, The (1996)\n",
      "99473    291     573        4               Body Snatchers (1993)\n",
      "\n",
      "[296 rows x 4 columns]\n"
     ]
    }
   ],
   "source": [
    "user = ratings_df['users'][23]\n",
    "user_history = ratings_df.loc[ratings_df['users']==user]\n",
    "print(user_history)"
   ]
  },
  {
   "cell_type": "markdown",
   "id": "b01330d3-351d-4381-80a0-98ec20ea6e42",
   "metadata": {},
   "source": [
    "Now let's look what our recommender system suggests. To recover the recommendations, we first make a python dictionary mapping the movie index back into the movie name. "
   ]
  },
  {
   "cell_type": "markdown",
   "id": "caf4f458-4bea-4125-8965-d8217bd250b7",
   "metadata": {},
   "source": [
    "The recommendations we make to the user will now be the entries in the user's row of the reconstruction matrix with the highest score. Let's print out $20$ recommendations for user zero below. Along with each recommendation, we'll check whether the user has already watched that movie. "
   ]
  },
  {
   "cell_type": "code",
   "execution_count": 22,
   "id": "3d8815bc-d578-4584-9cc5-cf23bdf610e0",
   "metadata": {},
   "outputs": [
    {
     "name": "stdout",
     "output_type": "stream",
     "text": [
      "Movie suggestion:  They Made Me a Criminal (1939) already watched? :  False\n",
      "Movie suggestion:  Someone Else's America (1995) already watched? :  False\n",
      "Movie suggestion:  Marlene Dietrich: Shadow and Light (1996)  already watched? :  False\n",
      "Movie suggestion:  Entertaining Angels: The Dorothy Day Story (1996) already watched? :  False\n",
      "Movie suggestion:  Prefontaine (1997) already watched? :  False\n",
      "Movie suggestion:  Star Kid (1997) already watched? :  False\n",
      "Movie suggestion:  Great Day in Harlem, A (1994) already watched? :  False\n",
      "Movie suggestion:  Scream (1996) already watched? :  True\n",
      "Movie suggestion:  Liar Liar (1997) already watched? :  True\n",
      "Movie suggestion:  Die Hard (1988) already watched? :  True\n",
      "Movie suggestion:  Kingpin (1996) already watched? :  True\n",
      "Movie suggestion:  Bound (1996) already watched? :  True\n",
      "Movie suggestion:  Reservoir Dogs (1992) already watched? :  True\n",
      "Movie suggestion:  Willy Wonka and the Chocolate Factory (1971) already watched? :  True\n",
      "Movie suggestion:  Rock, The (1996) already watched? :  True\n",
      "Movie suggestion:  Pulp Fiction (1994) already watched? :  True\n",
      "Movie suggestion:  Return of the Jedi (1983) already watched? :  True\n",
      "Movie suggestion:  Silence of the Lambs, The (1991) already watched? :  True\n",
      "Movie suggestion:  Dead Man Walking (1995) already watched? :  True\n",
      "Movie suggestion:  Fargo (1996) already watched? :  True\n"
     ]
    }
   ],
   "source": [
    "best_movies = np.argsort(reconstruction[user-1])[-20:] + 1\n",
    "for movie in best_movies:\n",
    "    print('Movie suggestion: ', movie_dict[movie], 'already watched? : ', movie in list(user_history['movies']))"
   ]
  },
  {
   "cell_type": "markdown",
   "id": "daebda9e-af75-4e00-bc19-1c2dc31f2430",
   "metadata": {},
   "source": [
    " We have successfully recommended movies to the user! Some of them have already been watched, some of them are new. Unfortunately, it is impossible to know the effectiveness of our recommendation system unless the user watches some of the recommended movies, and tells us whether they enjoyed the movie or not. \n",
    "\n",
    "Even within this simple SVD based approach for developing a recommender system, there are many options that we can choose as engineers to tune the performance of the system. The two most critical are 1) the way in which the crude initial imputation is performed, and 2) the rank of the ratings matrix that we should assume. "
   ]
  },
  {
   "cell_type": "markdown",
   "id": "d45f99ee-ab7a-4d72-b31f-abe576a6dd6c",
   "metadata": {},
   "source": [
    "[![Binder](https://mybinder.org/badge_logo.svg)](https://mybinder.org/v2/gh/nikolaimatni/ese-2030/HEAD?labpath=/09_Ch_10_Singular_Value_Decomposition/114-recommender_systems.ipynb)\n"
   ]
  }
 ],
 "metadata": {
  "kernelspec": {
   "display_name": "Python 3 (ipykernel)",
   "language": "python",
   "name": "python3"
  },
  "language_info": {
   "codemirror_mode": {
    "name": "ipython",
    "version": 3
   },
   "file_extension": ".py",
   "mimetype": "text/x-python",
   "name": "python",
   "nbconvert_exporter": "python",
   "pygments_lexer": "ipython3",
   "version": "3.12.4"
  }
 },
 "nbformat": 4,
 "nbformat_minor": 5
}
