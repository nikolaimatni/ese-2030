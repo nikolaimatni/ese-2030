{
 "cells": [
  {
   "cell_type": "markdown",
   "metadata": {},
   "source": [
    "---\n",
    "title: 5.3 Linear Systems\n",
    "subject: Linearity\n",
    "subtitle: general linear systems as linear functions\n",
    "short_title: 5.3 Linear Systems\n",
    "authors:\n",
    "  - name: Nikolai Matni\n",
    "    affiliations:\n",
    "      - Dept. of Electrical and Systems Engineering\n",
    "      - University of Pennsylvania\n",
    "    email: nmatni@seas.upenn.edu\n",
    "license: CC-BY-4.0\n",
    "keywords: linear systems, \n",
    "math:\n",
    "  '\\vv': '\\mathbf{#1}'\n",
    "  '\\bm': '\\begin{bmatrix}'\n",
    "  '\\em': '\\end{bmatrix}'\n",
    "  '\\R': '\\mathbb{R}'\n",
    "---"
   ]
  },
  {
   "cell_type": "markdown",
   "metadata": {},
   "source": [
    "[![Binder](https://mybinder.org/badge_logo.svg)](https://mybinder.org/v2/gh/nikolaimatni/ese-2030/HEAD?labpath=/04_Ch_5_Linearity/063-Linear_systems.ipynb)\n",
    "\n",
    "{doc}`Lecture notes <../lecture_notes/Lecture 10 - Linearity, Linear Functions, Transformations, and Operators.pdf>`"
   ]
  },
  {
   "cell_type": "markdown",
   "metadata": {},
   "source": [
    "## Reading\n",
    "\n",
    "Material related to this page, as well as additional exercises, can be found in ALA 7.4.\n",
    "\n",
    "## Learning Objectives\n",
    "\n",
    "By the end of this page, you should know:\n",
    "- "
   ]
  },
  {
   "cell_type": "markdown",
   "metadata": {},
   "source": [
    "## Linear Systems\n",
    "\n",
    ":::{prf:definition}\n",
    ":label: linear_sys_def\n",
    "Just as we could define linear systems of equations by writing $A \\vv x=\\vv b$, so too can we define general linear systems of the form\n",
    "\\begin{equation}\n",
    "\\label{sys_defn_eqn}\n",
    "L(\\vv u) = \\vv f\n",
    "\\end{equation}\n",
    "in which $L: U \\to V$ is a linear function between vector spaces, $\\vv f \\in V$ is an element of the _codomain_, while the solution $\\vv u \\in U$ belongs to the domain.\n",
    ":::\n",
    "\n",
    "We recover our familiar matrix-vector linear system $A\\vv u = \\vv f$ if $U = \\mathbb{R}^n$ and $V = \\mathbb{R}^m$, and $L(\\vv u) = A\\vv u$. However, we can express much more interesting problems in this framework.\n",
    "\n",
    ":::{prf:example}\n",
    ":label: init_value_eg\n",
    "Consider a typical initial value problem\n",
    "\n",
    "$$\n",
    "u'' + u' - 2u = f(t), \\quad u(0) = 1, \\quad u'(0) = -1\n",
    "$$\n",
    "\n",
    "for some unknown scalar function $u(t)$. First, we rewrite each equation in terms of [derivative](./062-Linear_transforms.ipynb#derivative_eg) operators and [evaluation](./062-Linear_transforms.ipynb#evaluation_eg) operators:\n",
    "\n",
    "$$\n",
    "L_1(u) &= u'' + u' - 2u = D^2(u) + D(u) - 2u = (D^2 + D - 2)(u) = f(t) \\\\\n",
    "L_2(u) &= u(0) = E_0(u) = 1 \\\\\n",
    "L_3(u) &= u'(0) = E_0(D(u)) = -1\n",
    "$$\n",
    "\n",
    "If we then define the linear operator $M(u)$ and RHS $\\vv f$ as\n",
    "\n",
    "\\begin{equation}\n",
    "\\label{init_val_eqn}\n",
    "M(u) = \\begin{bmatrix} L_1(u) \\\\ L_2(u) \\\\ L_3(u) \\end{bmatrix} \\quad \\text{and} \\quad \\vv f = \\begin{bmatrix} f(t) \\\\ 1 \\\\ -1 \\end{bmatrix}\n",
    "\\end{equation}\n",
    "\n",
    "we can pose the initial value problem as a linear system $M(u) = \\vv f$. In [](#init_val_eqn), what are the domain $U$ and codomain $V$ of the operator $M: U \\to V$?\n",
    ":::\n",
    "\n",
    "The reason for introducing this extra layer of abstraction is that it lets us port over ideas from systems of linear equations. For example, the [superposition principle](../01_Ch_2_Vector_Spaces_and_Bases/035-kernel_image.ipynb#super_thm) holds here too!"
   ]
  },
  {
   "cell_type": "markdown",
   "metadata": {},
   "source": [
    "We'll focus on solutions to homogeneous linear systems now, but if you're interested, Section 7.4 of ALA covers the general setting. The superposition principle here says that if a homogeneous linear system $L(\\vv z) = \\vv 0$, for $L: U \\to V$ a linear function, with two solutions $\\vv z_1$ and $\\vv z_2$ satisfying $L(\\vv z_1) = \\vv 0$ and $L(\\vv z_2) = \\vv 0$, then **any** linear combination $c\\vv z_1 + d\\vv z_2$ is also a solution. This follows immediately from the linearity of $L$:\n",
    "$$\n",
    "L(c\\vv z_1 + d\\vv z_2) = cL(\\vv z_1) + dL(\\vv z_2) = c\\vv 0 + d\\vv 0 = 0.\n",
    "$$\n",
    "\n",
    ":::{note}\n",
    "In general, we have that if $\\vv z_1, \\ldots, \\vv z_k$ are all solutions to $L(\\vv z) = 0$, then so is any linear combination $c_1\\vv z_1 + \\cdots + c_k\\vv z_k$. This shows that the _kernel_\n",
    "\n",
    "$$\n",
    "\\text{Ker} L = \\{ \\vv z \\in U \\mid L(\\vv z) = \\vv 0 \\} \\subset U\n",
    "$$\n",
    "\n",
    "forms a subspace of the domain space $U$.\n",
    ":::\n",
    "\n",
    ":::{prf:example}\n",
    ":label: 2nd_diff_eg\n",
    "Consider the $2^{nd}$ order linear differential operator\n",
    "\n",
    "$$\n",
    "L = D^2 - 2D - 3\n",
    "$$\n",
    "\n",
    "which maps a function $u(t)$ to the function\n",
    "\n",
    "$$\n",
    "L(u) &= (D^2 - 2D - 3)(u) = D^2u - 2Du - 3u \\\\\n",
    "&= u'' - 2u' - 3u.\n",
    "$$\n",
    "\n",
    "The associated homogeneous system then encodes a homogeneous, linear, constant coefficient $2^{nd}$ order differential equation:\n",
    "\n",
    "\\begin{equation}\n",
    "\\label{ODE_eqn}\n",
    "L(u) = u'' - 2u' - 3u = 0. \\quad (\\text{ODE})\n",
    "\\end{equation}\n",
    "\n",
    "Therefore if we can characterize the kernel of $L$, we will have a general solution to [this ODE](#ODE_eqn).\n",
    "\n",
    "Using techniques you would have seen in Math 1400, you can check that two linearly independent solutions (within the domain $C^2[0,1]$) to ([ODE](#ODE_eqn)) are\n",
    "\n",
    "$$\n",
    "u_1(t) = e^{3t} \\quad \\text{and} \\quad u_2(t) = e^{-t}.\n",
    "$$\n",
    "\n",
    "According to the superposition principle, every linear combination\n",
    "\n",
    "\\begin{equation}\n",
    "\\label{ODE_soln}\n",
    "u(t) = c_1u_1(t) + c_2u_2(t) = c_1e^{3t} + c_2e^{-t}\n",
    "\\end{equation}\n",
    "\n",
    "is also a solution (try some values of $c_1$ and $c_2$ and check!). In fact, we can show that dim Ker$L = 2$, and so any solution to ([ODE](#ODE_eqn)) takes the form [](#ODE_soln)."
   ]
  },
  {
   "cell_type": "markdown",
   "metadata": {},
   "source": [
    "[![Binder](https://mybinder.org/badge_logo.svg)](https://mybinder.org/v2/gh/nikolaimatni/ese-2030/HEAD?labpath=/04_Ch_5_Linearity/063-Linear_systems.ipynb)"
   ]
  },
  {
   "cell_type": "code",
   "execution_count": null,
   "metadata": {},
   "outputs": [],
   "source": []
  }
 ],
 "metadata": {
  "kernelspec": {
   "display_name": "Python 3 (ipykernel)",
   "language": "python",
   "name": "python3"
  },
  "language_info": {
   "codemirror_mode": {
    "name": "ipython",
    "version": 3
   },
   "file_extension": ".py",
   "mimetype": "text/x-python",
   "name": "python",
   "nbconvert_exporter": "python",
   "pygments_lexer": "ipython3",
   "version": "3.8.19"
  }
 },
 "nbformat": 4,
 "nbformat_minor": 4
}
