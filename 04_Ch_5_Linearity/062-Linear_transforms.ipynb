{
 "cells": [
  {
   "cell_type": "markdown",
   "metadata": {},
   "source": [
    "---\n",
    "title: 5.2 Linear and Affine Transformations\n",
    "subject: Linearity\n",
    "subtitle: mapping to itself\n",
    "short_title: 5.2 Linear and Affine Transformations\n",
    "authors:\n",
    "  - name: Nikolai Matni\n",
    "    affiliations:\n",
    "      - Dept. of Electrical and Systems Engineering\n",
    "      - University of Pennsylvania\n",
    "    email: nmatni@seas.upenn.edu\n",
    "license: CC-BY-4.0\n",
    "keywords: linear transformations, affine transformations, isometry\n",
    "math:\n",
    "  '\\vv': '\\mathbf{#1}'\n",
    "  '\\bm': '\\begin{bmatrix}'\n",
    "  '\\em': '\\end{bmatrix}'\n",
    "  '\\R': '\\mathbb{R}'\n",
    "---"
   ]
  },
  {
   "cell_type": "markdown",
   "metadata": {},
   "source": [
    "[![Binder](https://mybinder.org/badge_logo.svg)](https://mybinder.org/v2/gh/nikolaimatni/ese-2030/HEAD?labpath=/04_Ch_5_Linearity/062-Linear_transforms.ipynb)\n",
    "\n",
    "{doc}`Lecture notes <../lecture_notes/Lecture 10 - Linearity, Linear Functions, Transformations, and Operators.pdf>`"
   ]
  },
  {
   "cell_type": "markdown",
   "metadata": {},
   "source": [
    "## Reading\n",
    "\n",
    "Material related to this page, as well as additional exercises, can be found in ALA 7.2 and 7.3.\n",
    "\n",
    "## Learning Objectives\n",
    "\n",
    "By the end of this page, you should know:\n",
    "- linear transformations and some examples\n",
    "- affine transformations\n",
    "- the transformation that preserves distance (isometry)"
   ]
  },
  {
   "cell_type": "markdown",
   "metadata": {},
   "source": [
    "## Eucledian Linear Transformation\n",
    "\n",
    "Functions that map $\\mathbb{R}^n \\to \\mathbb{R}^n$ are called _liner transformations_. They are special cases of the more general linear transformations we saw in the previous section, but have a very nice geometric interpretation that help build intuition. In the tables below, we present some common trarsformatious of $\\mathbb{R}^2$, visualize their effect, and give their matrix representations.\n",
    "\n",
    ":::{figure}../figures/06-reflections.jpg\n",
    ":label:reflections\n",
    ":alt:Reflections\n",
    ":width: 400px\n",
    ":align: center\n",
    ":::\n",
    "\n",
    ":::{figure}../figures/06-contr_shear.jpg\n",
    ":label:contr_shear\n",
    ":alt:Contractions, Expansions and Shears\n",
    ":width: 400px\n",
    ":align: center\n",
    ":::\n",
    "\n",
    ":::{figure}../figures/06-proj.jpg\n",
    ":label:proj\n",
    ":alt:Projections\n",
    ":width: 400px\n",
    ":align: center\n",
    ":::"
   ]
  },
  {
   "cell_type": "markdown",
   "metadata": {},
   "source": [
    "## Affine Transformations\n",
    "\n",
    "You will notice that _translations_ are conspicuously missing from the examples we have seen so far. That’s because they are NOT linear functions! Rather, they are an\n",
    "example of slightly more general class of _affine maps_.\n",
    "\n",
    ":::{prf:definition}\n",
    ":label: affine_defn\n",
    "We call a function $F : \\mathbb{R}^n \\to \\mathbb{R}^m$ of the form\n",
    "$$\n",
    "F(\\vv x) = A\\vv x + \\vv b,\n",
    "$$\n",
    "where $A \\in \\mathbb{R}^{m \\times n}$ and $\\vv b \\in \\mathbb{R}^m$ an _affine function_. If $m = n$, then $F$ defines an _affine transformation_.\n",
    ":::\n",
    "\n",
    "For example, a translation that translates a vector $\\vv x$ can be written as $F (\\vv x) = \\vv x + \\vv b$, where $\\vv b$ is the translation.\n",
    "\n",
    ":::{prf:example}\n",
    "A perhaps more interesting example is the affine transformation\n",
    "$$\n",
    "F(x, y) = \\bm 0 & −1\\\\ \n",
    "1 & 0 \\em \\bm x \\\\ y \\em + \\bm 1 \\\\ -2 \\em =\n",
    "\\bm\n",
    "-y +  1 \\\\ x - 2 \\em\n",
    "$$\n",
    "which has the effect of first rotating a vector $90^o$ counter clockwise about the origin, and then translating the vector by $(1, −2)$.\n",
    "\n",
    ":::::{note} INTUITION\n",
    "You should think of linear functions as defining \"lines through the origin\" wheres affine functions define \"lines with an offset\". This intuition on $\\mathbb{R}^2$ is illustrated below.\n",
    "\n",
    ":::{figure}../figures/06-linear_lines.jpg\n",
    ":label:linear_lines\n",
    ":alt:Linear Lines\n",
    ":width: 200px\n",
    ":align: center\n",
    ":::\n",
    "\n",
    ":::{figure}../figures/06-affine_lines.jpg\n",
    ":label:affine_lines\n",
    ":alt:Affine Lines\n",
    ":width: 200px\n",
    ":align: center\n",
    ":::\n",
    "\n",
    ":::::"
   ]
  },
  {
   "cell_type": "markdown",
   "metadata": {},
   "source": [
    "## Isometry\n",
    "\n",
    "A key property of _rigid motions (translations, rotations, reflections)_, which are ubiquitous in robotics, mechanics, and computer graphics, is that they are _distance preserving_. Informally, a transformation that preserves distance is known as an _isometry_. In the context of Euclidean spaces, this means that applying the linear transformation $A \\vv x$ to a vector $\\vv x$ does not change its norm, i.e., $\\|A \\vv x\\| = \\|\\vv x\\|$. \n",
    "\n",
    "We've argued informally that rotations and reflections are length-preserving. Let's now make this precise.\n",
    "\n",
    "::::{prf:theorem}\n",
    ":label: iso_thm\n",
    "A linear transformation $L(\\vv x) = Q\\vv x$ defines an isometry of $\\mathbb{R}^n$ if and only if $Q$ is an orthogonal matrix.\n",
    "\n",
    ":::{prf:proof} Proof of [](#iso_thm)\n",
    ":label: proof-iso_thm\n",
    ":class: dropdown\n",
    "For $L(\\vv x) = Q\\vv x$ to be an isometry, we require $\\|Q\\vv x\\| = \\|\\vv x\\|$. But\n",
    "$$\n",
    "\\|Q \\vv x\\|^2 = \\langle Q \\vv x, Q \\vv x \\rangle = \\vv x^T Q^T Q \\vv x \\quad \\text{and} \\quad \\|\\vv x\\|^2 = \\vv x^T \\vv x\n",
    "$$\n",
    "So that $\\|Q \\vv x\\| = \\|\\vv x\\|$ if and only if $\\vv x^T Q^T Q \\vv x = \\vv x^T \\vv x$ for all $\\vv x \\in \\mathbb{R}^n$. This is the case if and only if $Q^T Q = I$, which is the definition of an orthogonal matrix.\n",
    ":::\n",
    "::::\n",
    "\n",
    ":::{note} Affine isometry\n",
    "When characterizing affine isometries, we need to work with distance between points, rather than length. Recall the distance function $\\text{dist}(\\vv x, \\vv y) = \\|\\vv x - \\vv y\\|$. Then $L$ is an affine isometry if $\\text{dist}(L(\\vv x), L(\\vv y)) = \\text{dist}(\\vv x, \\vv y)$, i.e., if $\\|L(\\vv x) - L(\\vv y)\\| = \\|\\vv x - \\vv y\\|$ for all $\\vv x,\\vv y \\in \\mathbb{R}^n$.\n",
    ":::\n",
    "\n",
    "To see that the translation $T(\\vv x) = \\vv x + \\vv b$ satisfies this definition, note that\n",
    "$$\n",
    "\\text{dist}(T(\\vv x), T(\\vv y)) &= \\|T(\\vv x) - T(\\vv y)\\| = \\|(\\vv x+ \\vv b) - (\\vv y+ \\vv b)\\| \\\\\n",
    "&= \\|\\vv x - \\vv y\\| = \\text{dist}(\\vv x,\\vv y).\n",
    "$$\n",
    "\n"
   ]
  },
  {
   "cell_type": "markdown",
   "metadata": {},
   "source": [
    "## TO DO: Rviz/pybullet, move a camera and robotic arm around"
   ]
  },
  {
   "cell_type": "markdown",
   "metadata": {},
   "source": [
    "## Linear Operators and Linear Systems (Optional Advanced Material)\n",
    "\n",
    "Here we briefly highlight the generality of the machinery we've developed so far by dipping our toes into the world of linear operators. A linear operator is a linear transformation mapping between function spaces.\n",
    "\n",
    "We'll look at one particular class of linear operators, called _differential operators_, as they lie at the heart of differential equations, which we will be studying next.\n",
    "\n",
    "We will work with the following function spaces:\n",
    "1. $C^0[0,1]$, the space of continuous functions defined on the interval $[0,1]$; and\n",
    "2. $C^1[0,1]$, the space of continuously differentiable functions over the interval $[0,1]$\n",
    "\n",
    ":::{prf:example}\n",
    ":label: derivative_eg\n",
    "The _derivative operator_ $D(f) = f'$ defines a linear operator $D: C^1[0,1] \\to C^0[0,1]$. To see that this is the case, recall that\n",
    "\n",
    "$$\n",
    "D(cf + dg) = (cf + dg)' = cf' + dg' = cD(f) + dD(g)\n",
    "$$\n",
    "\n",
    "for any $f, g \\in C^1[0,1]$ and $c,d \\in \\mathbb{R}$.\n",
    "\n",
    "Just as with previous examples of linear maps, we can compose derivative operators to get higher order derivatives. For example,\n",
    "\n",
    "$$\n",
    "D \\circ D(f) = D(D(f)) = D(f') = f''\n",
    "$$\n",
    "\n",
    "is the $2^{nd}$ order derivative, commonly denoted $D^2(f)$.\n",
    ":::\n",
    "\n",
    ":::{prf:example}\n",
    ":label:evaluation_eg\n",
    "Another useful example of a linear operator is the _evaluation operator_, which evaluates a function $f$ at a point $x$. For example, $E_0(f) = f(0)$ evaluates $f(x)$ at $x=0$. You should convince yourself that $E_x(f) = f(x)$ is a linear operator, by confirming that $E_x(cf + dg) = (cf + dg)(x) = cf(x) + dg(x) = cE_x(f) + dE_x(g)$ for any point $x$, functions $f$ and $g$, and scalars $c,d \\in \\mathbb{R}$.\n",
    ":::"
   ]
  },
  {
   "cell_type": "markdown",
   "metadata": {},
   "source": [
    "[![Binder](https://mybinder.org/badge_logo.svg)](https://mybinder.org/v2/gh/nikolaimatni/ese-2030/HEAD?labpath=/04_Ch_5_Linearity/062-Linear_transforms.ipynb)"
   ]
  },
  {
   "cell_type": "code",
   "execution_count": null,
   "metadata": {},
   "outputs": [],
   "source": []
  }
 ],
 "metadata": {
  "kernelspec": {
   "display_name": "Python 3 (ipykernel)",
   "language": "python",
   "name": "python3"
  },
  "language_info": {
   "codemirror_mode": {
    "name": "ipython",
    "version": 3
   },
   "file_extension": ".py",
   "mimetype": "text/x-python",
   "name": "python",
   "nbconvert_exporter": "python",
   "pygments_lexer": "ipython3",
   "version": "3.8.19"
  }
 },
 "nbformat": 4,
 "nbformat_minor": 4
}
