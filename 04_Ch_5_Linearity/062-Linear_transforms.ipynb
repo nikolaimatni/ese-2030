{
 "cells": [
  {
   "cell_type": "markdown",
   "metadata": {},
   "source": [
    "---\n",
    "title: 5.2 Linear and Affine Transformations\n",
    "subject: Linearity\n",
    "subtitle: mapping to itself\n",
    "short_title: 5.2 Linear and Affine Transformations\n",
    "authors:\n",
    "  - name: Nikolai Matni\n",
    "    affiliations:\n",
    "      - Dept. of Electrical and Systems Engineering\n",
    "      - University of Pennsylvania\n",
    "    email: nmatni@seas.upenn.edu\n",
    "license: CC-BY-4.0\n",
    "keywords: linear transformations, affine transformations\n",
    "math:\n",
    "  '\\vv': '\\mathbf{#1}'\n",
    "  '\\bm': '\\begin{bmatrix}'\n",
    "  '\\em': '\\end{bmatrix}'\n",
    "  '\\R': '\\mathbb{R}'\n",
    "---"
   ]
  },
  {
   "cell_type": "markdown",
   "metadata": {},
   "source": [
    "[![Binder](https://mybinder.org/badge_logo.svg)](https://mybinder.org/v2/gh/nikolaimatni/ese-2030/HEAD?labpath=/04_Ch_5_Linearity/062-Linear_transforms.ipynb)\n",
    "\n",
    "{doc}`Lecture notes <../lecture_notes/Lecture 10 - Linearity, Linear Functions, Transformations, and Operators.pdf>`"
   ]
  },
  {
   "cell_type": "markdown",
   "metadata": {},
   "source": [
    "## Reading\n",
    "\n",
    "Material related to this page, as well as additional exercises, can be found in ALA 7.2 and 7.3.\n",
    "\n",
    "## Learning Objectives\n",
    "\n",
    "By the end of this page, you should know:\n",
    "- linear transformations and some examples"
   ]
  },
  {
   "cell_type": "markdown",
   "metadata": {},
   "source": [
    "## Eucledian Linear Transformation\n",
    "\n",
    "Functions that map $\\mathbb{R}^n \\to \\mathbb{R}^n$ are called _liner transformations_. They are special cases of the more general linear transformations we saw in the previous section, but have a very nice geometric interpretation that help build intuition. In the tables below, we present some common trarsformatious of $\\mathbb{R}^2$, visualize their effect, and give their matrix representations.\n",
    "\n",
    ":::{figure}../figures/06-reflections.jpg\n",
    ":label:reflections\n",
    ":alt:Reflections\n",
    ":width: 400px\n",
    ":align: center\n",
    ":::\n",
    "\n",
    ":::{figure}../figures/06-contr_shear.jpg\n",
    ":label:contr_shear\n",
    ":alt:Contractions, Expansions and Shears\n",
    ":width: 400px\n",
    ":align: center\n",
    ":::\n",
    "\n",
    ":::{figure}../figures/06-proj.jpg\n",
    ":label:proj\n",
    ":alt:Projections\n",
    ":width: 400px\n",
    ":align: center\n",
    ":::"
   ]
  },
  {
   "cell_type": "markdown",
   "metadata": {},
   "source": [
    "## Affine Transformations\n",
    "\n",
    "You will notice that _translations_ are conspicuously missing from the examples we have seen so far. That’s because they are NOT linear functions! Rather, they are an\n",
    "example of slightly more general class of _affine maps_.\n",
    "\n",
    "Specifically, we call a function $F : \\mathb{R}^n \\to \\mathbb{R}^m$ of the form\n",
    "$$\n",
    "F(\\vv x) = A\\vv x + \\vv b,\n",
    "$$\n",
    "where $A \\in \\mathbb{R}^{m \\times n}$ and $\\vv b \\in \\mathbb{R}^m$ an _affine function_. If $m = n$, then $F$ defines an _affine transformation_. \n",
    "\n",
    "For example, a translation that translates a vector $\\vv x$ can be written as $F (\\vv x) = \\vv x + \\vv b$, where $\\vv b$ is the translation.\n",
    "\n",
    ":::{prf:example}\n",
    "A perhaps more interesting example is the affine transformation\n",
    "$$\n",
    "F(x, y) = \\bm 0 & −1\\\\ \n",
    "1 \\\\ 0 \\em \\bm x \\\\ y \\em + \\bm 1 \\\\ -2 \\em =\n",
    "\\bm\n",
    "-y +  1 \\\\ x - 2 \\em\n",
    "$$\n",
    "which has the effect of first rotating a vector $90^o$ counter clockwise about the origin, and then translating the vector by $(1, −2)$.\n",
    "\n",
    ":::::{note} INTUITION\n",
    "You should think of linear functions as defining \"lines through the origin\" wheres affine functions define \"lines with an offset\". This intuition on $\\mathbb{R}^2$ is illustrated below.\n",
    "\n",
    ":::{figure}../figures/06-linear_lines.jpg\n",
    ":label:linear_lines\n",
    ":alt:Linear Lines\n",
    ":width: 200px\n",
    ":align: center\n",
    ":::\n",
    "\n",
    ":::{figure}../figures/06-affine_lines.jpg\n",
    ":label:affine_lines\n",
    ":alt:Affine Lines\n",
    ":width: 200px\n",
    ":align: center\n",
    ":::\n",
    "\n",
    ":::::"
   ]
  },
  {
   "cell_type": "markdown",
   "metadata": {},
   "source": [
    "[![Binder](https://mybinder.org/badge_logo.svg)](https://mybinder.org/v2/gh/nikolaimatni/ese-2030/HEAD?labpath=/04_Ch_5_Linearity/062-Linear_transforms.ipynb)"
   ]
  },
  {
   "cell_type": "code",
   "execution_count": null,
   "metadata": {},
   "outputs": [],
   "source": []
  }
 ],
 "metadata": {
  "kernelspec": {
   "display_name": "Python 3 (ipykernel)",
   "language": "python",
   "name": "python3"
  },
  "language_info": {
   "codemirror_mode": {
    "name": "ipython",
    "version": 3
   },
   "file_extension": ".py",
   "mimetype": "text/x-python",
   "name": "python",
   "nbconvert_exporter": "python",
   "pygments_lexer": "ipython3",
   "version": "3.8.19"
  }
 },
 "nbformat": 4,
 "nbformat_minor": 4
}
