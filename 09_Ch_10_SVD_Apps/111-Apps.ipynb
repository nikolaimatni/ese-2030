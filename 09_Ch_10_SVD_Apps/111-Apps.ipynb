{
 "cells": [
  {
   "cell_type": "markdown",
   "metadata": {},
   "source": [
    "---\n",
    "title: 10.1 Applications\n",
    "subject:  SVD\n",
    "subtitle: \n",
    "short_title: 10.1 Applications\n",
    "authors:\n",
    "  - name: Nikolai Matni\n",
    "    affiliations:\n",
    "      - Dept. of Electrical and Systems Engineering\n",
    "      - University of Pennsylvania\n",
    "    email: nmatni@seas.upenn.edu\n",
    "license: CC-BY-4.0\n",
    "keywords: \n",
    "math:\n",
    "  '\\vv': '\\mathbf{#1}'\n",
    "  '\\bm': '\\begin{bmatrix}'\n",
    "  '\\em': '\\end{bmatrix}'\n",
    "  '\\R': '\\mathbb{R}'\n",
    "---"
   ]
  },
  {
   "cell_type": "markdown",
   "metadata": {},
   "source": [
    "[![Binder](https://mybinder.org/badge_logo.svg)](https://mybinder.org/v2/gh/nikolaimatni/ese-2030/HEAD?labpath=/08_Ch_9_Symmetric_Matrices/102-Apps.ipynb)\n",
    "\n",
    "{doc}`Lecture notes <../lecture_notes/Lecture 17 - Introduction to Graph Theory and Consensus Protocols.pdf>`"
   ]
  },
  {
   "cell_type": "markdown",
   "metadata": {},
   "source": [
    "## Reading\n",
    "\n",
    "Material related to this page, as well as additional exercises, can be\n",
    "\n",
    "## Learning Objectives\n",
    "\n",
    "By the end of this page, you should know:\n",
    "- "
   ]
  },
  {
   "cell_type": "markdown",
   "metadata": {},
   "source": [
    "\\section*{Warmup}\n",
    "\n",
    "The diagonalization theorems we've seen for complete and symmetric matrices have played a role in many interesting applications. Unfortunately, not all matrices can be diagonalized. As we've seen before, if $A$ is not square, even a factorization makes no sense. If $A$ is not square, fortunately a factorization $A = P \\Delta Q^T$ is possible for any matrix $A$. A special factorization of this type, called the singular value decomposition, is one of the most useful and widely applicable matrix factorizations in linear algebra.\n",
    "\n",
    "The singular value decomposition is based on the following key points of matrix diagonalization which we'll show can be captured in general rectangular matrices:\n",
    "\n",
    "\\textcolor{magenta}{Key observation: The absolute values of the eigenvalues of a symmetric matrix $A$ measure the amounts that $A$ stretches or shrinks certain vectors (the eigenvectors). If $Ax = \\lambda x$ and $\\|x\\| = 1$, then}\n",
    "\n",
    "\\[\n",
    "\\|Ax\\| = \\lambda \\|x\\| = |\\lambda| \\|x\\| = |\\lambda|.\n",
    "\\]\n",
    "\n",
    "\\textcolor{magenta}{If $\\lambda_1$ is the eigenvalue with the greatest magnitude, i.e., if $|\\lambda_1| \\geq |\\lambda_i|$ for $i=1,\\ldots,n$, then a corresponding unit eigenvector $v_1$ identifies the direction in which stretching is greatest. That is, the length of $Ax$ is maximized when $x = v_1$, and $\\|Av_1\\| = |\\lambda_1|$.}\n",
    "\n",
    "This description is reminiscent of the optimization principle we saw for characterizing eigenvalues of symmetric matrices, albeit with a focus on maximizing length $\\|Ax\\|$ rather than the quadratic form $x^T A x$. What we'll see next is that this description of $v_1$ and $|\\lambda_1|$ has an analogue for rectangular matrices that will lead to the singular value decomposition.\n",
    "\n",
    "Example: The matrix $A = \\begin{bmatrix} 4 & 11 & 14 \\\\ 8 & 7 & -2 \\end{bmatrix}$ defines a linear map $x \\mapsto Ax$ from $\\mathbb{R}^3$ to $\\mathbb{R}^2$. If we consider the effects of this map on the unit sphere $\\{x \\in \\mathbb{R}^3 \\mid \\|x\\| = 1\\}$, we observe that multiplication by $A$ transforms this sphere in $\\mathbb{R}^3$ into an ellipse in $\\mathbb{R}^2$:\n",
    "\n",
    "\\begin{center}\n",
    "\\includegraphics[width=0.8\\textwidth]{figure1.png}\n",
    "\\captionof{figure}{A transformation from $\\mathbb{R}^3$ to $\\mathbb{R}^2$.}\n",
    "\\end{center}"
   ]
  },
  {
   "cell_type": "markdown",
   "metadata": {},
   "source": [
    "[![Binder](https://mybinder.org/badge_logo.svg)](https://mybinder.org/v2/gh/nikolaimatni/ese-2030/HEAD?labpath=/08_Ch_9_Symmetric_Matrices/102-Apps.ipynb)"
   ]
  }
 ],
 "metadata": {
  "kernelspec": {
   "display_name": "Python 3 (ipykernel)",
   "language": "python",
   "name": "python3"
  },
  "language_info": {
   "codemirror_mode": {
    "name": "ipython",
    "version": 3
   },
   "file_extension": ".py",
   "mimetype": "text/x-python",
   "name": "python",
   "nbconvert_exporter": "python",
   "pygments_lexer": "ipython3",
   "version": "3.8.19"
  }
 },
 "nbformat": 4,
 "nbformat_minor": 4
}
