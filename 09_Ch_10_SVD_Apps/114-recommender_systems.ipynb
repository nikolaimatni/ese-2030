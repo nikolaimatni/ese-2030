{
 "cells": [
  {
   "cell_type": "markdown",
   "id": "74ede85e-6606-4cb7-b31a-03987b708ebd",
   "metadata": {},
   "source": [
    "---\n",
    "title: \"10.X Case Study: Recommender Systems\"\n",
    "subject: Singular Value Decomposition Applications\n",
    "subtitle: Collaborative Filtering with SVD\n",
    "short_title: \"10.X Recommender Systems\"\n",
    "authors:\n",
    "  - name: Nikolai Matni\n",
    "    affiliations:\n",
    "      - Dept. of Electrical and Systems Engineering\n",
    "      - University of Pennsylvania\n",
    "    email: nmatni@seas.upenn.edu\n",
    "license: CC-BY-4.0\n",
    "keywords: nodes, edges, Kirchoff`s law\n",
    "math:\n",
    "  '\\vv': '\\mathbf{#1}'\n",
    "  '\\bm': '\\begin{bmatrix}'\n",
    "  '\\em': '\\end{bmatrix}'\n",
    "  '\\R': '\\mathbb{R}'\n",
    "---"
   ]
  },
  {
   "cell_type": "markdown",
   "id": "a7845f11-9712-405c-9209-9257643b1ce6",
   "metadata": {},
   "source": [
    "Recommender systems have become a vital part of our digital lives, guiding us towards products, services, and content we might like. Generally speaking, recommender systems are algorithms designed to suggest relevant items to users. These systems are used in various domains such as e-commerce, streaming services, and social media. They enhance user experience by filtering vast amounts of information to deliver personalized content. There are two main categories of recommender systms:\n",
    "\n",
    "* **Content-Based Filtering**: Content-based filtering recommends items to users by analyzing the features of items they have previously liked, matching similar items based on those attributes.\n",
    "* **Collaborative Filtering**: Collaborative filtering recommends items to users by identifying patterns and similarities in user behavior and preferences, leveraging the collective data from multiple users to make personalized suggestions.\n",
    "\n",
    "``` {image} content_based_filtering.webp\n",
    "```\n",
    "``` {image} collaborative_filtering.webp\n",
    "```"
   ]
  },
  {
   "cell_type": "markdown",
   "id": "53a74408-8118-4ca8-9ff7-5b46d61004b4",
   "metadata": {},
   "source": [
    "The tools that we have learned in this class are used in the design of both types of recommender system. In this case study, we will focus on collaborative filtering, where the singular value decomposition plays a critical roll. To start off with, let's download a dataset consisting of movie ratings from various users."
   ]
  },
  {
   "cell_type": "code",
   "execution_count": 1,
   "id": "566a7d60-6cd8-4700-9966-c821c0f11c5b",
   "metadata": {},
   "outputs": [],
   "source": [
    "import tensorflow_datasets as tfds\n",
    "import pandas as pd\n",
    "import numpy as np\n",
    "from tqdm import tqdm\n",
    "\n",
    "data = tfds.load('movielens/100k-ratings')"
   ]
  },
  {
   "cell_type": "markdown",
   "id": "aee77f28-e785-43c8-b62b-a1b3811748eb",
   "metadata": {},
   "source": [
    "We will now convert the dataset into a pandas  dataframe consisting only of the movie titles, the user rating, and the user ID. "
   ]
  },
  {
   "cell_type": "code",
   "execution_count": 3,
   "id": "55cf4755-8895-4118-af70-755145bd96b3",
   "metadata": {},
   "outputs": [
    {
     "name": "stderr",
     "output_type": "stream",
     "text": [
      "2024-08-08 08:23:47.118471: W tensorflow/core/kernels/data/cache_dataset_ops.cc:913] The calling iterator did not fully read the dataset being cached. In order to avoid unexpected truncation of the dataset, the partially cached contents of the dataset  will be discarded. This can happen if you have an input pipeline similar to `dataset.cache().take(k).repeat()`. You should use `dataset.take(k).cache().repeat()` instead.\n"
     ]
    }
   ],
   "source": [
    "ratings_list = []\n",
    "for i, example in enumerate(tfds.as_numpy(data['train'])):\n",
    "    if i == 80000:\n",
    "        break\n",
    "    ratings_list.append(example)\n",
    "    \n",
    "# Convert the list to a pandas DataFrame\n",
    "ratings_df = pd.DataFrame(ratings_list, columns=['movie_title', 'user_rating', 'user_id'])"
   ]
  },
  {
   "cell_type": "markdown",
   "id": "72e2baf3-d6fb-4ff1-9e78-731657fa5d59",
   "metadata": {},
   "source": [
    "Let's check out the dataset and see what it entails. We can print out the first five entries of the dataframe using the command ratings_df.head()"
   ]
  },
  {
   "cell_type": "code",
   "execution_count": 4,
   "id": "4615e1e8-39ef-48bd-a562-60b65f005902",
   "metadata": {},
   "outputs": [
    {
     "data": {
      "text/html": [
       "<div>\n",
       "<style scoped>\n",
       "    .dataframe tbody tr th:only-of-type {\n",
       "        vertical-align: middle;\n",
       "    }\n",
       "\n",
       "    .dataframe tbody tr th {\n",
       "        vertical-align: top;\n",
       "    }\n",
       "\n",
       "    .dataframe thead th {\n",
       "        text-align: right;\n",
       "    }\n",
       "</style>\n",
       "<table border=\"1\" class=\"dataframe\">\n",
       "  <thead>\n",
       "    <tr style=\"text-align: right;\">\n",
       "      <th></th>\n",
       "      <th>movie_title</th>\n",
       "      <th>user_rating</th>\n",
       "      <th>user_id</th>\n",
       "    </tr>\n",
       "  </thead>\n",
       "  <tbody>\n",
       "    <tr>\n",
       "      <th>0</th>\n",
       "      <td>b\"One Flew Over the Cuckoo's Nest (1975)\"</td>\n",
       "      <td>4.0</td>\n",
       "      <td>b'138'</td>\n",
       "    </tr>\n",
       "    <tr>\n",
       "      <th>1</th>\n",
       "      <td>b'Strictly Ballroom (1992)'</td>\n",
       "      <td>2.0</td>\n",
       "      <td>b'92'</td>\n",
       "    </tr>\n",
       "    <tr>\n",
       "      <th>2</th>\n",
       "      <td>b'Very Brady Sequel, A (1996)'</td>\n",
       "      <td>4.0</td>\n",
       "      <td>b'301'</td>\n",
       "    </tr>\n",
       "    <tr>\n",
       "      <th>3</th>\n",
       "      <td>b'Pulp Fiction (1994)'</td>\n",
       "      <td>4.0</td>\n",
       "      <td>b'60'</td>\n",
       "    </tr>\n",
       "    <tr>\n",
       "      <th>4</th>\n",
       "      <td>b'Scream 2 (1997)'</td>\n",
       "      <td>3.0</td>\n",
       "      <td>b'197'</td>\n",
       "    </tr>\n",
       "  </tbody>\n",
       "</table>\n",
       "</div>"
      ],
      "text/plain": [
       "                                 movie_title  user_rating user_id\n",
       "0  b\"One Flew Over the Cuckoo's Nest (1975)\"          4.0  b'138'\n",
       "1                b'Strictly Ballroom (1992)'          2.0   b'92'\n",
       "2             b'Very Brady Sequel, A (1996)'          4.0  b'301'\n",
       "3                     b'Pulp Fiction (1994)'          4.0   b'60'\n",
       "4                         b'Scream 2 (1997)'          3.0  b'197'"
      ]
     },
     "execution_count": 4,
     "metadata": {},
     "output_type": "execute_result"
    }
   ],
   "source": [
    "ratings_df.head()"
   ]
  },
  {
   "cell_type": "markdown",
   "id": "056d0062-c33a-43ba-a562-434b90872b8a",
   "metadata": {},
   "source": [
    "Our dataset now consists only of the movie titles, the user id, and the user rating. Below, we'll look at the number of unique movies, the number of users, the range of the ratings, and the total number of entries in our dataset."
   ]
  },
  {
   "cell_type": "code",
   "execution_count": 6,
   "id": "6111ed85-7cf0-4f47-aa0a-70577240ae5b",
   "metadata": {},
   "outputs": [
    {
     "name": "stdout",
     "output_type": "stream",
     "text": [
      "Number of movies:  1627\n",
      "Number of users:  943\n",
      "Minimum rating:  1.0  Maximum rating:  5.0\n",
      "Number of data points:  80000\n"
     ]
    }
   ],
   "source": [
    "print('Number of movies: ', ratings_df['movie_title'].nunique())\n",
    "print('Number of users: ', ratings_df['user_id'].nunique())\n",
    "print('Minimum rating: ', np.min(ratings_df['user_rating']), ' Maximum rating: ',  np.max(ratings_df['user_rating']))\n",
    "print('Number of data points: ', len(ratings_df))"
   ]
  },
  {
   "cell_type": "markdown",
   "id": "cd65063d-2acd-4c46-aa5a-3b4346f37a20",
   "metadata": {},
   "source": [
    "Since there are $80000$ datapoints, and $943$ users, it means that we have reviews for about $80$ movies per user on average. This means that on average there are over $1500$ movies that haven't been watched by any given user. Our goal is to help each user to select which of these movies to watch next! \n",
    "\n",
    "Our first step in doing so will be to arrange the dataset into a matrix, and the users are the rows, and the movies are the columns. For every movie that has been reviewed by a user, we will fill the corresponding entry in the matrix with the ratings given by the user. To construct this matrix, we will define two python dictionaries. One will map the title of the movie into an array index, while the other will map the user id to an array index. "
   ]
  },
  {
   "cell_type": "code",
   "execution_count": 10,
   "id": "b4a61bd0-75bf-41f3-827a-77d080a44cd0",
   "metadata": {},
   "outputs": [],
   "source": [
    "movie_dict = dict(zip(list(ratings_df['movie_title'].unique()), range(ratings_df['movie_title'].nunique())))\n",
    "user_dict = dict(zip(list(ratings_df['user_id'].unique()), range(ratings_df['user_id'].nunique())))"
   ]
  },
  {
   "cell_type": "markdown",
   "id": "f3f376ea-556c-458a-ab25-56037e4a5461",
   "metadata": {},
   "source": [
    "Given these dictionaries, we will construct our matrix, called \"ratings_matrix\". All entries will be initialized to zero. Then we will iterate through the dataset, and for every (movie, user) pair for which we have a rating, we will add that rating to our matrix. "
   ]
  },
  {
   "cell_type": "code",
   "execution_count": 25,
   "id": "78857296-242f-4556-8230-a773f6ac57ff",
   "metadata": {},
   "outputs": [
    {
     "name": "stderr",
     "output_type": "stream",
     "text": [
      "/var/folders/4_/_wdy2jwx40q500zgz9zr76dh0000gn/T/ipykernel_87465/1989417239.py:3: FutureWarning: Series.__getitem__ treating keys as positions is deprecated. In a future version, integer keys will always be treated as labels (consistent with DataFrame behavior). To access a value by position, use `ser.iloc[pos]`\n",
      "  ratings_matrix[user_dict[entry[2]], movie_dict[entry[0]]] = entry[1]\n"
     ]
    },
    {
     "name": "stdout",
     "output_type": "stream",
     "text": [
      "[[4. 0. 0. ... 0. 0. 0.]\n",
      " [0. 2. 2. ... 0. 0. 0.]\n",
      " [5. 0. 4. ... 0. 0. 0.]\n",
      " ...\n",
      " [0. 0. 4. ... 0. 0. 0.]\n",
      " [0. 0. 0. ... 0. 0. 0.]\n",
      " [0. 0. 0. ... 0. 0. 0.]]\n"
     ]
    }
   ],
   "source": [
    "ratings_matrix = np.zeros((ratings_df['user_id'].nunique(), ratings_df['movie_title'].nunique()))\n",
    "for i, entry in ratings_df.iterrows():\n",
    "    ratings_matrix[user_dict[entry[2]], movie_dict[entry[0]]] = entry[1]\n",
    "\n",
    "print(ratings_matrix)"
   ]
  },
  {
   "cell_type": "markdown",
   "id": "cad427b5-dd68-4a90-8a12-b760482156cc",
   "metadata": {},
   "source": [
    "As the minimum rating was $1.0$, all $0.0$ entries are correspond to (user, movie) pairs where no rating was available in our dataset. Our first step to recommend movies to users will be to *impute*, or fill in, the missing entries. \n",
    "\n",
    "Without additional assumptions about the data, the imputation of this data can be quite random. Therefore, the standard assumption imposed for collaborative recommender systems is the rankings matrix is of rank $k < \\min\\{\\# \\mathrm{Users}, \\# \\mathrm{Movies}\\}$. \n",
    "\n",
    "```{image} ratings_svd.webp\n",
    ":width: 800px\n",
    ":align: center\n",
    "```\n",
    "\n",
    "This assumption suggests that if we apply an singular value decomposition to the ratings matrix, there will be relatively few large singular values. Therefore, using the patterns just in the data that is present in the ratings matrix, we may be able to guess values for entries that are missing. Generally, this problem is referred to as low-rank matrix completion. In this case study, we will take a rather simple approach consisting of three steps:\n",
    "\n",
    "* Fill in the missing entries with some crude guess\n",
    "* Take the singular value decomposition, and truncate all but $k$ singular values.\n",
    "* Construct an estimate for the ratings matrix using the truncated singular vectors and values.\n",
    "\n",
    "There are many ways to fill in the missing entries. One option would be to assign the missing entries to have the average rating over all of the entries that are present. Another option would be to assume that users give fairly similar ratings to all movies, and assign missing entries in each row with the average of the existing entries in each row. Alternatively, we could assume that good movies are appreciated by all users, and assign missing entries in each column with the average of the existing entries in the column. We will stick with the last option for the remainder of this case study, but you are encouraged to try the other possibilities and see how the results change if you are curious!\n",
    "\n",
    "Let's see what this matrix looks like below. "
   ]
  },
  {
   "cell_type": "code",
   "execution_count": 26,
   "id": "4faaf811-c67e-440f-b7cf-43374df4165e",
   "metadata": {},
   "outputs": [
    {
     "name": "stdout",
     "output_type": "stream",
     "text": [
      "[[4.         4.0617284  2.37681159 ... 1.         1.         1.        ]\n",
      " [4.23474178 2.         2.         ... 1.         1.         1.        ]\n",
      " [5.         4.0617284  4.         ... 1.         1.         1.        ]\n",
      " ...\n",
      " [4.23474178 4.0617284  4.         ... 1.         1.         1.        ]\n",
      " [4.23474178 4.0617284  2.37681159 ... 1.         1.         1.        ]\n",
      " [4.23474178 4.0617284  2.37681159 ... 1.         1.         1.        ]]\n"
     ]
    }
   ],
   "source": [
    "for i in range(ratings_matrix.shape[1]):\n",
    "    ratings_matrix[:,i][ratings_matrix[:,i] < 1.0] = np.mean(ratings_matrix[:,i][ratings_matrix[:,i] >= 1.0])\n",
    "\n",
    "print(ratings_matrix)"
   ]
  },
  {
   "cell_type": "markdown",
   "id": "f8655510-5547-4f21-9ceb-847b53d10095",
   "metadata": {},
   "source": [
    "We now see that there are no longer zero entries in the ratings matrix. All missing values have been imputed with a crude guess. Let's now move on to the second step: taking the SVD of the ratings matrix. "
   ]
  },
  {
   "cell_type": "code",
   "execution_count": 27,
   "id": "2a2ca162-9fc4-49fb-ba43-9efa1c589a1e",
   "metadata": {},
   "outputs": [
    {
     "name": "stdout",
     "output_type": "stream",
     "text": [
      "recovery error:  2.134292742539401e-12\n"
     ]
    }
   ],
   "source": [
    "U, Sigma, Vt = np.linalg.svd(ratings_matrix, full_matrices=False)\n",
    "print('recovery error: ', np.max(np.abs(ratings_matrix - U@np.diag(Sigma)@Vt)))"
   ]
  },
  {
   "cell_type": "markdown",
   "id": "17434a9d-675d-4e01-bdb2-b86047a8dd2f",
   "metadata": {},
   "source": [
    "Let's see how the singular values decay by plotting them on a log scale. "
   ]
  },
  {
   "cell_type": "code",
   "execution_count": 28,
   "id": "acfd5788-c775-44d3-bc0a-4b0c8faa5e1a",
   "metadata": {},
   "outputs": [
    {
     "data": {
      "image/png": "[encoded data removed]",
      "text/plain": [
       "<Figure size 640x480 with 1 Axes>"
      ]
     },
     "metadata": {},
     "output_type": "display_data"
    }
   ],
   "source": [
    "import matplotlib.pyplot as plt\n",
    "plt.plot(Sigma)\n",
    "plt.yscale('log')"
   ]
  },
  {
   "cell_type": "markdown",
   "id": "582312d3-6ea4-4fcb-bb9b-36e949bb3e60",
   "metadata": {},
   "source": [
    "The entries quickly decay in importance after about the first hundred. Let's try keeping $100$ singular values for the reconstruction."
   ]
  },
  {
   "cell_type": "code",
   "execution_count": 40,
   "id": "2d51cc67-cc14-4ffa-9bec-55ae3b6eea45",
   "metadata": {},
   "outputs": [],
   "source": [
    "r = 100\n",
    "reconstruction = U[:,:r]@np.diag(Sigma[:r])@Vt[:r]"
   ]
  },
  {
   "cell_type": "code",
   "execution_count": 41,
   "id": "ba7e7cbd-e39c-4763-a9a2-d8e1d0e49e4d",
   "metadata": {},
   "outputs": [
    {
     "name": "stdout",
     "output_type": "stream",
     "text": [
      "[[4.30188457 4.0090725  2.38765634 ... 1.00137405 1.00137405 1.00137405]\n",
      " [4.12879791 3.40236143 2.03622834 ... 0.99963559 0.99963559 0.99963559]\n",
      " [4.78020309 4.04954832 3.49195111 ... 0.9983499  0.9983499  0.9983499 ]\n",
      " ...\n",
      " [4.07071835 4.0316504  2.49982589 ... 1.00136601 1.00136601 1.00136601]\n",
      " [4.30863531 4.09684949 2.43570969 ... 0.99893943 0.99893943 0.99893943]\n",
      " [4.10838972 4.04962656 2.36482362 ... 1.00232516 1.00232516 1.00232516]]\n"
     ]
    }
   ],
   "source": [
    "print(reconstruction)"
   ]
  },
  {
   "cell_type": "markdown",
   "id": "316a01d9-2af2-4a5c-8b61-5ba38059fdd1",
   "metadata": {},
   "source": [
    "The result looks quite similar to the crudely imputed matrix from earlier, but with some small deviations. Let's use the result to recommend movies to a user. To start, we'll examine the hisotry of ratings by user zero. "
   ]
  },
  {
   "cell_type": "code",
   "execution_count": 42,
   "id": "0035b947-1c7c-43e7-9e1d-830ef3f682a0",
   "metadata": {},
   "outputs": [
    {
     "name": "stdout",
     "output_type": "stream",
     "text": [
      "                                             movie_title  user_rating user_id\n",
      "0              b\"One Flew Over the Cuckoo's Nest (1975)\"          4.0  b'138'\n",
      "4515        b'Butch Cassidy and the Sundance Kid (1969)'          5.0  b'138'\n",
      "5177                                     b'Giant (1956)'          4.0  b'138'\n",
      "5264                          b'Mighty Aphrodite (1995)'          4.0  b'138'\n",
      "10557                       b'This Is Spinal Tap (1984)'          4.0  b'138'\n",
      "13204                                   b'Psycho (1960)'          4.0  b'138'\n",
      "19632                       b'Gone with the Wind (1939)'          4.0  b'138'\n",
      "22277  b'Dr. Strangelove or: How I Learned to Stop Wo...          5.0  b'138'\n",
      "24479                        b'Cold Comfort Farm (1995)'          2.0  b'138'\n",
      "25339                               b'Casablanca (1942)'          5.0  b'138'\n",
      "30185        b'Treasure of the Sierra Madre, The (1948)'          5.0  b'138'\n",
      "30400                   b'Brothers McMullen, The (1995)'          5.0  b'138'\n",
      "30719                                  b'M*A*S*H (1970)'          4.0  b'138'\n",
      "31116                 b'Star Trek: First Contact (1996)'          4.0  b'138'\n",
      "35269                                b'Rock, The (1996)'          4.0  b'138'\n",
      "35568                                 b'Swingers (1996)'          3.0  b'138'\n",
      "35768             b'Truth About Cats & Dogs, The (1996)'          4.0  b'138'\n",
      "39541                 b'Long Kiss Goodnight, The (1996)'          4.0  b'138'\n",
      "39571                   b'Independence Day (ID4) (1996)'          4.0  b'138'\n",
      "40251                                   b'Ransom (1996)'          4.0  b'138'\n",
      "40850    b'Willy Wonka and the Chocolate Factory (1971)'          4.0  b'138'\n",
      "46288                                b'Big Night (1996)'          5.0  b'138'\n",
      "46545                  b'Godfather: Part II, The (1974)'          5.0  b'138'\n",
      "47827                               b'Annie Hall (1977)'          5.0  b'138'\n",
      "47882                        b\"Miller's Crossing (1990)\"          4.0  b'138'\n",
      "50291                           b'Third Man, The (1949)'          5.0  b'138'\n",
      "50595                               b'Sting, The (1973)'          5.0  b'138'\n",
      "51756                        b'Somewhere in Time (1980)'          4.0  b'138'\n",
      "54025                    b\"It's a Wonderful Life (1946)\"          4.0  b'138'\n",
      "59230                       b\"Mr. Holland's Opus (1995)\"          4.0  b'138'\n",
      "59848                              b'Postino, Il (1994)'          3.0  b'138'\n",
      "60038                      b'Eat Drink Man Woman (1994)'          5.0  b'138'\n",
      "64323                         b\"Schindler's List (1993)\"          5.0  b'138'\n",
      "64609                      b'Usual Suspects, The (1995)'          5.0  b'138'\n",
      "66360                            b'Roman Holiday (1953)'          3.0  b'138'\n",
      "66928                           b'Secrets & Lies (1996)'          4.0  b'138'\n",
      "67713                                b'Toy Story (1995)'          4.0  b'138'\n",
      "69118                              b'Rear Window (1954)'          4.0  b'138'\n",
      "70362                b'Silence of the Lambs, The (1991)'          5.0  b'138'\n",
      "71962                            b'Thin Man, The (1934)'          4.0  b'138'\n",
      "76314                      b'Maltese Falcon, The (1941)'          4.0  b'138'\n",
      "76901                             b'My Left Foot (1989)'          4.0  b'138'\n",
      "77801                             b'Pulp Fiction (1994)'          5.0  b'138'\n",
      "77947                    b'American in Paris, An (1951)'          4.0  b'138'\n",
      "79825                               b'GoodFellas (1990)'          4.0  b'138'\n"
     ]
    }
   ],
   "source": [
    "user = ratings_df['user_id'][0]\n",
    "user_history = ratings_df.loc[ratings_df['user_id']==user]\n",
    "print(user_history)"
   ]
  },
  {
   "cell_type": "markdown",
   "id": "b01330d3-351d-4381-80a0-98ec20ea6e42",
   "metadata": {},
   "source": [
    "Now let's look what our recommender system suggests. To recover the recommendations, we first make a python dictionary mapping the movie index back into the movie name. "
   ]
  },
  {
   "cell_type": "code",
   "execution_count": 43,
   "id": "f53d374f-d247-4e4d-ba3c-ecade7182c84",
   "metadata": {},
   "outputs": [],
   "source": [
    "movie_dict_reversed = dict(zip(range(ratings_df['movie_title'].nunique()), list(ratings_df['movie_title'].unique())))"
   ]
  },
  {
   "cell_type": "markdown",
   "id": "caf4f458-4bea-4125-8965-d8217bd250b7",
   "metadata": {},
   "source": [
    "The recommendations we make to the user will now be the entries in the user's row of the reconstruction matrix with the highest score. Let's print out $20$ recommendations for user zero below. Along with each recommendation, we'll check whether the user has already watched that movie. "
   ]
  },
  {
   "cell_type": "code",
   "execution_count": 44,
   "id": "3d8815bc-d578-4584-9cc5-cf23bdf610e0",
   "metadata": {},
   "outputs": [
    {
     "name": "stdout",
     "output_type": "stream",
     "text": [
      "Movie suggestion:  b'Wallace & Gromit: The Best of Aardman Animation (1996)' already watched? :  False\n",
      "Movie suggestion:  b'Close Shave, A (1995)' already watched? :  False\n",
      "Movie suggestion:  b'Silence of the Lambs, The (1991)' already watched? :  True\n",
      "Movie suggestion:  b'World of Apu, The (Apur Sansar) (1959)' already watched? :  False\n",
      "Movie suggestion:  b'Pather Panchali (1955)' already watched? :  False\n",
      "Movie suggestion:  b'Pulp Fiction (1994)' already watched? :  True\n",
      "Movie suggestion:  b'Marlene Dietrich: Shadow and Light (1996) ' already watched? :  False\n",
      "Movie suggestion:  b'Saint of Fort Washington, The (1993)' already watched? :  False\n",
      "Movie suggestion:  b'Visitors, The (Visiteurs, Les) (1993)' already watched? :  False\n",
      "Movie suggestion:  b'Great Day in Harlem, A (1994)' already watched? :  False\n",
      "Movie suggestion:  b'Aiqing wansui (1994)' already watched? :  False\n",
      "Movie suggestion:  b'Prefontaine (1997)' already watched? :  False\n",
      "Movie suggestion:  b'Angel Baby (1995)' already watched? :  False\n",
      "Movie suggestion:  b'Star Kid (1997)' already watched? :  False\n",
      "Movie suggestion:  b'They Made Me a Criminal (1939)' already watched? :  False\n",
      "Movie suggestion:  b'Santa with Muscles (1996)' already watched? :  False\n",
      "Movie suggestion:  b\"Someone Else's America (1995)\" already watched? :  False\n",
      "Movie suggestion:  b'Delta of Venus (1994)' already watched? :  False\n",
      "Movie suggestion:  b'Maya Lin: A Strong Clear Vision (1994)' already watched? :  False\n",
      "Movie suggestion:  b'Quiet Room, The (1996)' already watched? :  False\n"
     ]
    }
   ],
   "source": [
    "best_movies = np.argsort(reconstruction[user_dict[user]])[-20:]\n",
    "for movie in best_movies:\n",
    "    print('Movie suggestion: ', movie_dict_reversed[movie], 'already watched? : ', movie_dict_reversed[movie] in list(user_history['movie_title']))"
   ]
  },
  {
   "cell_type": "markdown",
   "id": "daebda9e-af75-4e00-bc19-1c2dc31f2430",
   "metadata": {},
   "source": [
    " We have successfully recommended movies to the user! Some of them have already been watched, some of them are new. Unfortunately, it is impossible to know the effectiveness of our recommendation system unless the user watches some of the recommended movies, and tells us whether they enjoyed the movie or not. \n",
    "\n",
    "Even within this simple SVD based approach for developing a recommender system, there are many options that we can choose as engineers to tune the performance of the system. The two most critical are 1) the way in which the crude initial imputation is performed, and 2) the rank of the ratings matrix that we should assume. "
   ]
  }
 ],
 "metadata": {
  "kernelspec": {
   "display_name": "Python 3 (ipykernel)",
   "language": "python",
   "name": "python3"
  },
  "language_info": {
   "codemirror_mode": {
    "name": "ipython",
    "version": 3
   },
   "file_extension": ".py",
   "mimetype": "text/x-python",
   "name": "python",
   "nbconvert_exporter": "python",
   "pygments_lexer": "ipython3",
   "version": "3.12.4"
  }
 },
 "nbformat": 4,
 "nbformat_minor": 5
}
